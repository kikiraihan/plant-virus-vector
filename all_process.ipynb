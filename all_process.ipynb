{
 "cells": [
  {
   "cell_type": "code",
   "execution_count": 1,
   "metadata": {},
   "outputs": [
    {
     "name": "stderr",
     "output_type": "stream",
     "text": [
      "/var/folders/b9/v73gyxys1djbgjy3c8c3cfwm0000gn/T/ipykernel_5496/2962911591.py:71: UserWarning:\n",
      "\n",
      "This pattern is interpreted as a regular expression, and has match groups. To actually get the groups, use str.extract.\n",
      "\n",
      "/var/folders/b9/v73gyxys1djbgjy3c8c3cfwm0000gn/T/ipykernel_5496/2962911591.py:72: UserWarning:\n",
      "\n",
      "This pattern is interpreted as a regular expression, and has match groups. To actually get the groups, use str.extract.\n",
      "\n"
     ]
    },
    {
     "name": "stdout",
     "output_type": "stream",
     "text": [
      "keyword virus utama:  ('Cucumovirus', 'genus', 'NCBI:12304')\n",
      "10 Nacna NCBI:1341303\n",
      "Nacna NCBI:1341303 --> Tomato aspermy virus NCBI:12315\n",
      "1\n",
      "=================\n",
      "66 Crocidosema aporema NCBI:581467\n",
      "0\n",
      "=================\n",
      "71 Chrysodeixis chalcites NCBI:749652\n",
      "0\n",
      "=================\n",
      "72 Autographa gamma NCBI:254363\n",
      "0\n",
      "=================\n",
      "73 Diabrotica speciosa NCBI:133126\n",
      "0\n",
      "=================\n",
      "74 Spodoptera litura NCBI:69820\n",
      "0\n",
      "=================\n",
      "75 Spodoptera littoralis NCBI:7109\n",
      "0\n",
      "=================\n",
      "77 Helicoverpa armigera NCBI:29058\n",
      "0\n",
      "=================\n",
      "222 Peru NCBI:1634180\n",
      "0\n",
      "=================\n",
      "351 Heteronemia NCBI:629302\n",
      "0\n",
      "=================\n",
      "731 Macrosiphum euphorbiae NCBI:13131\n",
      "0\n",
      "=================\n",
      "737 Neoleucinodes elegantalis NCBI:1511177\n",
      "0\n",
      "=================\n",
      "740 Epiphyas postvittana NCBI:65032\n",
      "0\n",
      "=================\n",
      "950 America NCBI:34667\n",
      "0\n",
      "=================\n",
      "980 Adoxophyes orana NCBI:480707\n",
      "0\n",
      "=================\n",
      "1059 Darna pallivitta NCBI:704458\n",
      "0\n",
      "=================\n",
      "1063 Metamasius hemipterus NCBI:206458\n",
      "0\n",
      "=================\n",
      "1124 Thaumatotibia leucotreta NCBI:7139\n",
      "0\n",
      "=================\n",
      "1125 Chlorophorus annularis NCBI:2586298\n",
      "0\n",
      "=================\n",
      "1194 Sosa NCBI:7516\n",
      "0\n",
      "=================\n",
      "1213 Campion NCBI:1548265\n",
      "0\n",
      "=================\n",
      "1287 Chilo partellus NCBI:236792\n",
      "0\n",
      "=================\n",
      "1289 Chilo suppressalis NCBI:168631\n",
      "0\n",
      "=================\n",
      "1290 Laodelphax striatella NCBI:195883\n",
      "0\n",
      "=================\n",
      "1291 Bacillus NCBI:55087\n",
      "0\n",
      "=================\n",
      "1294 Heteronychus arator NCBI:295550\n",
      "0\n",
      "=================\n"
     ]
    },
    {
     "name": "stderr",
     "output_type": "stream",
     "text": [
      "OMP: Info #276: omp_set_nested routine deprecated, please use omp_set_max_active_levels instead.\n"
     ]
    },
    {
     "data": {
      "application/vnd.plotly.v1+json": {
       "config": {
        "plotlyServerURL": "https://plot.ly"
       },
       "data": [
        {
         "hovertemplate": "<b>%{hovertext}</b><br><br>feature-vector-1=%{x}<br>feature-vector-2=%{y}<br>text=%{text}<extra></extra>",
         "hovertext": [
          "Nacna",
          "Crocidosema aporema",
          "Chrysodeixis chalcites",
          "Autographa gamma",
          "Diabrotica speciosa",
          "Spodoptera litura",
          "Spodoptera littoralis",
          "Helicoverpa armigera",
          "Peru",
          "Heteronemia",
          "Macrosiphum euphorbiae",
          "Neoleucinodes elegantalis",
          "Epiphyas postvittana",
          "America",
          "Adoxophyes orana",
          "Darna pallivitta",
          "Metamasius hemipterus",
          "Thaumatotibia leucotreta",
          "Chlorophorus annularis",
          "Sosa",
          "Campion",
          "Chilo partellus",
          "Chilo suppressalis",
          "Laodelphax striatella",
          "Bacillus",
          "Heteronychus arator",
          "#TITIK_VEKTOR_ACUAN"
         ],
         "legendgroup": "",
         "marker": {
          "color": "#636efa",
          "symbol": "circle"
         },
         "mode": "markers+text",
         "name": "",
         "showlegend": false,
         "text": [
          "Noctuidae",
          "Tortricidae",
          "Noctuidae",
          "Noctuidae",
          "Chrysomelidae",
          "Noctuidae",
          "Noctuidae",
          "Noctuidae",
          "Phalangopsidae",
          "Heteronemiidae",
          "Aphididae",
          "Crambidae",
          "Tortricidae",
          "Cerambycidae",
          "Tortricidae",
          "Limacodidae",
          "Curculionidae",
          "Tortricidae",
          "Cerambycidae",
          "Neuroptera^family",
          "Mantispidae",
          "Crambidae",
          "Crambidae",
          "Delphacidae",
          "Bacillidae",
          "Scarabaeidae",
          "#TITIK_VEKTOR_ACUAN"
         ],
         "textposition": "top center",
         "type": "scatter",
         "x": [
          -1.353670358657837,
          0.5403399467468262,
          -1.253860592842102,
          -0.6536725163459778,
          1.5863027572631836,
          -1.1770291328430176,
          -1.6332606077194214,
          -0.7963724136352539,
          1.1247669458389282,
          1.4536123275756836,
          0.46624645590782166,
          -0.9441642165184021,
          -0.4359191358089447,
          1.9703783988952637,
          0.1633041948080063,
          0.8297235369682312,
          1.6486258506774902,
          -0.08823742717504501,
          1.1095412969589233,
          -0.38804247975349426,
          -0.06974759697914124,
          -1.2460155487060547,
          -1.5585484504699707,
          -0.030745485797524452,
          1.1941308975219727,
          1.5459115505218506,
          0.565353274345398
         ],
         "xaxis": "x",
         "y": [
          -4.676313400268555,
          -5.172056198120117,
          -4.0470194816589355,
          -4.043536186218262,
          -4.072716236114502,
          -5.353336811065674,
          -5.33093786239624,
          -4.4691901206970215,
          -4.8748555183410645,
          -5.692654609680176,
          -3.9735798835754395,
          -6.357531547546387,
          -5.842412948608398,
          -3.462242364883423,
          -5.988022804260254,
          -5.463791847229004,
          -3.131887674331665,
          -5.597337245941162,
          -3.2178237438201904,
          -5.004410743713379,
          -5.037474632263184,
          -5.875769138336182,
          -6.164092063903809,
          -4.03716516494751,
          -6.036186695098877,
          -3.47983980178833,
          -4.352004051208496
         ],
         "yaxis": "y"
        }
       ],
       "layout": {
        "height": 650,
        "legend": {
         "tracegroupgap": 0
        },
        "margin": {
         "t": 60
        },
        "template": {
         "data": {
          "bar": [
           {
            "error_x": {
             "color": "#2a3f5f"
            },
            "error_y": {
             "color": "#2a3f5f"
            },
            "marker": {
             "line": {
              "color": "#E5ECF6",
              "width": 0.5
             }
            },
            "type": "bar"
           }
          ],
          "barpolar": [
           {
            "marker": {
             "line": {
              "color": "#E5ECF6",
              "width": 0.5
             }
            },
            "type": "barpolar"
           }
          ],
          "carpet": [
           {
            "aaxis": {
             "endlinecolor": "#2a3f5f",
             "gridcolor": "white",
             "linecolor": "white",
             "minorgridcolor": "white",
             "startlinecolor": "#2a3f5f"
            },
            "baxis": {
             "endlinecolor": "#2a3f5f",
             "gridcolor": "white",
             "linecolor": "white",
             "minorgridcolor": "white",
             "startlinecolor": "#2a3f5f"
            },
            "type": "carpet"
           }
          ],
          "choropleth": [
           {
            "colorbar": {
             "outlinewidth": 0,
             "ticks": ""
            },
            "type": "choropleth"
           }
          ],
          "contour": [
           {
            "colorbar": {
             "outlinewidth": 0,
             "ticks": ""
            },
            "colorscale": [
             [
              0,
              "#0d0887"
             ],
             [
              0.1111111111111111,
              "#46039f"
             ],
             [
              0.2222222222222222,
              "#7201a8"
             ],
             [
              0.3333333333333333,
              "#9c179e"
             ],
             [
              0.4444444444444444,
              "#bd3786"
             ],
             [
              0.5555555555555556,
              "#d8576b"
             ],
             [
              0.6666666666666666,
              "#ed7953"
             ],
             [
              0.7777777777777778,
              "#fb9f3a"
             ],
             [
              0.8888888888888888,
              "#fdca26"
             ],
             [
              1,
              "#f0f921"
             ]
            ],
            "type": "contour"
           }
          ],
          "contourcarpet": [
           {
            "colorbar": {
             "outlinewidth": 0,
             "ticks": ""
            },
            "type": "contourcarpet"
           }
          ],
          "heatmap": [
           {
            "colorbar": {
             "outlinewidth": 0,
             "ticks": ""
            },
            "colorscale": [
             [
              0,
              "#0d0887"
             ],
             [
              0.1111111111111111,
              "#46039f"
             ],
             [
              0.2222222222222222,
              "#7201a8"
             ],
             [
              0.3333333333333333,
              "#9c179e"
             ],
             [
              0.4444444444444444,
              "#bd3786"
             ],
             [
              0.5555555555555556,
              "#d8576b"
             ],
             [
              0.6666666666666666,
              "#ed7953"
             ],
             [
              0.7777777777777778,
              "#fb9f3a"
             ],
             [
              0.8888888888888888,
              "#fdca26"
             ],
             [
              1,
              "#f0f921"
             ]
            ],
            "type": "heatmap"
           }
          ],
          "heatmapgl": [
           {
            "colorbar": {
             "outlinewidth": 0,
             "ticks": ""
            },
            "colorscale": [
             [
              0,
              "#0d0887"
             ],
             [
              0.1111111111111111,
              "#46039f"
             ],
             [
              0.2222222222222222,
              "#7201a8"
             ],
             [
              0.3333333333333333,
              "#9c179e"
             ],
             [
              0.4444444444444444,
              "#bd3786"
             ],
             [
              0.5555555555555556,
              "#d8576b"
             ],
             [
              0.6666666666666666,
              "#ed7953"
             ],
             [
              0.7777777777777778,
              "#fb9f3a"
             ],
             [
              0.8888888888888888,
              "#fdca26"
             ],
             [
              1,
              "#f0f921"
             ]
            ],
            "type": "heatmapgl"
           }
          ],
          "histogram": [
           {
            "marker": {
             "colorbar": {
              "outlinewidth": 0,
              "ticks": ""
             }
            },
            "type": "histogram"
           }
          ],
          "histogram2d": [
           {
            "colorbar": {
             "outlinewidth": 0,
             "ticks": ""
            },
            "colorscale": [
             [
              0,
              "#0d0887"
             ],
             [
              0.1111111111111111,
              "#46039f"
             ],
             [
              0.2222222222222222,
              "#7201a8"
             ],
             [
              0.3333333333333333,
              "#9c179e"
             ],
             [
              0.4444444444444444,
              "#bd3786"
             ],
             [
              0.5555555555555556,
              "#d8576b"
             ],
             [
              0.6666666666666666,
              "#ed7953"
             ],
             [
              0.7777777777777778,
              "#fb9f3a"
             ],
             [
              0.8888888888888888,
              "#fdca26"
             ],
             [
              1,
              "#f0f921"
             ]
            ],
            "type": "histogram2d"
           }
          ],
          "histogram2dcontour": [
           {
            "colorbar": {
             "outlinewidth": 0,
             "ticks": ""
            },
            "colorscale": [
             [
              0,
              "#0d0887"
             ],
             [
              0.1111111111111111,
              "#46039f"
             ],
             [
              0.2222222222222222,
              "#7201a8"
             ],
             [
              0.3333333333333333,
              "#9c179e"
             ],
             [
              0.4444444444444444,
              "#bd3786"
             ],
             [
              0.5555555555555556,
              "#d8576b"
             ],
             [
              0.6666666666666666,
              "#ed7953"
             ],
             [
              0.7777777777777778,
              "#fb9f3a"
             ],
             [
              0.8888888888888888,
              "#fdca26"
             ],
             [
              1,
              "#f0f921"
             ]
            ],
            "type": "histogram2dcontour"
           }
          ],
          "mesh3d": [
           {
            "colorbar": {
             "outlinewidth": 0,
             "ticks": ""
            },
            "type": "mesh3d"
           }
          ],
          "parcoords": [
           {
            "line": {
             "colorbar": {
              "outlinewidth": 0,
              "ticks": ""
             }
            },
            "type": "parcoords"
           }
          ],
          "pie": [
           {
            "automargin": true,
            "type": "pie"
           }
          ],
          "scatter": [
           {
            "marker": {
             "colorbar": {
              "outlinewidth": 0,
              "ticks": ""
             }
            },
            "type": "scatter"
           }
          ],
          "scatter3d": [
           {
            "line": {
             "colorbar": {
              "outlinewidth": 0,
              "ticks": ""
             }
            },
            "marker": {
             "colorbar": {
              "outlinewidth": 0,
              "ticks": ""
             }
            },
            "type": "scatter3d"
           }
          ],
          "scattercarpet": [
           {
            "marker": {
             "colorbar": {
              "outlinewidth": 0,
              "ticks": ""
             }
            },
            "type": "scattercarpet"
           }
          ],
          "scattergeo": [
           {
            "marker": {
             "colorbar": {
              "outlinewidth": 0,
              "ticks": ""
             }
            },
            "type": "scattergeo"
           }
          ],
          "scattergl": [
           {
            "marker": {
             "colorbar": {
              "outlinewidth": 0,
              "ticks": ""
             }
            },
            "type": "scattergl"
           }
          ],
          "scattermapbox": [
           {
            "marker": {
             "colorbar": {
              "outlinewidth": 0,
              "ticks": ""
             }
            },
            "type": "scattermapbox"
           }
          ],
          "scatterpolar": [
           {
            "marker": {
             "colorbar": {
              "outlinewidth": 0,
              "ticks": ""
             }
            },
            "type": "scatterpolar"
           }
          ],
          "scatterpolargl": [
           {
            "marker": {
             "colorbar": {
              "outlinewidth": 0,
              "ticks": ""
             }
            },
            "type": "scatterpolargl"
           }
          ],
          "scatterternary": [
           {
            "marker": {
             "colorbar": {
              "outlinewidth": 0,
              "ticks": ""
             }
            },
            "type": "scatterternary"
           }
          ],
          "surface": [
           {
            "colorbar": {
             "outlinewidth": 0,
             "ticks": ""
            },
            "colorscale": [
             [
              0,
              "#0d0887"
             ],
             [
              0.1111111111111111,
              "#46039f"
             ],
             [
              0.2222222222222222,
              "#7201a8"
             ],
             [
              0.3333333333333333,
              "#9c179e"
             ],
             [
              0.4444444444444444,
              "#bd3786"
             ],
             [
              0.5555555555555556,
              "#d8576b"
             ],
             [
              0.6666666666666666,
              "#ed7953"
             ],
             [
              0.7777777777777778,
              "#fb9f3a"
             ],
             [
              0.8888888888888888,
              "#fdca26"
             ],
             [
              1,
              "#f0f921"
             ]
            ],
            "type": "surface"
           }
          ],
          "table": [
           {
            "cells": {
             "fill": {
              "color": "#EBF0F8"
             },
             "line": {
              "color": "white"
             }
            },
            "header": {
             "fill": {
              "color": "#C8D4E3"
             },
             "line": {
              "color": "white"
             }
            },
            "type": "table"
           }
          ]
         },
         "layout": {
          "annotationdefaults": {
           "arrowcolor": "#2a3f5f",
           "arrowhead": 0,
           "arrowwidth": 1
          },
          "coloraxis": {
           "colorbar": {
            "outlinewidth": 0,
            "ticks": ""
           }
          },
          "colorscale": {
           "diverging": [
            [
             0,
             "#8e0152"
            ],
            [
             0.1,
             "#c51b7d"
            ],
            [
             0.2,
             "#de77ae"
            ],
            [
             0.3,
             "#f1b6da"
            ],
            [
             0.4,
             "#fde0ef"
            ],
            [
             0.5,
             "#f7f7f7"
            ],
            [
             0.6,
             "#e6f5d0"
            ],
            [
             0.7,
             "#b8e186"
            ],
            [
             0.8,
             "#7fbc41"
            ],
            [
             0.9,
             "#4d9221"
            ],
            [
             1,
             "#276419"
            ]
           ],
           "sequential": [
            [
             0,
             "#0d0887"
            ],
            [
             0.1111111111111111,
             "#46039f"
            ],
            [
             0.2222222222222222,
             "#7201a8"
            ],
            [
             0.3333333333333333,
             "#9c179e"
            ],
            [
             0.4444444444444444,
             "#bd3786"
            ],
            [
             0.5555555555555556,
             "#d8576b"
            ],
            [
             0.6666666666666666,
             "#ed7953"
            ],
            [
             0.7777777777777778,
             "#fb9f3a"
            ],
            [
             0.8888888888888888,
             "#fdca26"
            ],
            [
             1,
             "#f0f921"
            ]
           ],
           "sequentialminus": [
            [
             0,
             "#0d0887"
            ],
            [
             0.1111111111111111,
             "#46039f"
            ],
            [
             0.2222222222222222,
             "#7201a8"
            ],
            [
             0.3333333333333333,
             "#9c179e"
            ],
            [
             0.4444444444444444,
             "#bd3786"
            ],
            [
             0.5555555555555556,
             "#d8576b"
            ],
            [
             0.6666666666666666,
             "#ed7953"
            ],
            [
             0.7777777777777778,
             "#fb9f3a"
            ],
            [
             0.8888888888888888,
             "#fdca26"
            ],
            [
             1,
             "#f0f921"
            ]
           ]
          },
          "colorway": [
           "#636efa",
           "#EF553B",
           "#00cc96",
           "#ab63fa",
           "#FFA15A",
           "#19d3f3",
           "#FF6692",
           "#B6E880",
           "#FF97FF",
           "#FECB52"
          ],
          "font": {
           "color": "#2a3f5f"
          },
          "geo": {
           "bgcolor": "white",
           "lakecolor": "white",
           "landcolor": "#E5ECF6",
           "showlakes": true,
           "showland": true,
           "subunitcolor": "white"
          },
          "hoverlabel": {
           "align": "left"
          },
          "hovermode": "closest",
          "mapbox": {
           "style": "light"
          },
          "paper_bgcolor": "white",
          "plot_bgcolor": "#E5ECF6",
          "polar": {
           "angularaxis": {
            "gridcolor": "white",
            "linecolor": "white",
            "ticks": ""
           },
           "bgcolor": "#E5ECF6",
           "radialaxis": {
            "gridcolor": "white",
            "linecolor": "white",
            "ticks": ""
           }
          },
          "scene": {
           "xaxis": {
            "backgroundcolor": "#E5ECF6",
            "gridcolor": "white",
            "gridwidth": 2,
            "linecolor": "white",
            "showbackground": true,
            "ticks": "",
            "zerolinecolor": "white"
           },
           "yaxis": {
            "backgroundcolor": "#E5ECF6",
            "gridcolor": "white",
            "gridwidth": 2,
            "linecolor": "white",
            "showbackground": true,
            "ticks": "",
            "zerolinecolor": "white"
           },
           "zaxis": {
            "backgroundcolor": "#E5ECF6",
            "gridcolor": "white",
            "gridwidth": 2,
            "linecolor": "white",
            "showbackground": true,
            "ticks": "",
            "zerolinecolor": "white"
           }
          },
          "shapedefaults": {
           "line": {
            "color": "#2a3f5f"
           }
          },
          "ternary": {
           "aaxis": {
            "gridcolor": "white",
            "linecolor": "white",
            "ticks": ""
           },
           "baxis": {
            "gridcolor": "white",
            "linecolor": "white",
            "ticks": ""
           },
           "bgcolor": "#E5ECF6",
           "caxis": {
            "gridcolor": "white",
            "linecolor": "white",
            "ticks": ""
           }
          },
          "title": {
           "x": 0.05
          },
          "xaxis": {
           "automargin": true,
           "gridcolor": "white",
           "linecolor": "white",
           "ticks": "",
           "title": {
            "standoff": 15
           },
           "zerolinecolor": "white",
           "zerolinewidth": 2
          },
          "yaxis": {
           "automargin": true,
           "gridcolor": "white",
           "linecolor": "white",
           "ticks": "",
           "title": {
            "standoff": 15
           },
           "zerolinecolor": "white",
           "zerolinewidth": 2
          }
         }
        },
        "title": {
         "text": "reduced word2vec visualization"
        },
        "xaxis": {
         "anchor": "y",
         "domain": [
          0,
          1
         ],
         "title": {
          "text": "feature-vector-1"
         }
        },
        "yaxis": {
         "anchor": "x",
         "domain": [
          0,
          1
         ],
         "title": {
          "text": "feature-vector-2"
         }
        }
       }
      }
     },
     "metadata": {},
     "output_type": "display_data"
    },
    {
     "name": "stdout",
     "output_type": "stream",
     "text": [
      "Myzus -> 1cucu\n",
      "acuan  {'genus': 'NCBI:13163_Myzus', 'famili': 'NCBI:27482_Aphididae', 'ordo': 'NCBI:7524_Hemiptera'}\n",
      "hasil  {'genus': 'NCBI:13130_Macrosiphum', 'famili': 'NCBI:27482_Aphididae', 'ordo': 'NCBI:7524_Hemiptera'}\n",
      "ordo True\n",
      "famili True\n",
      "genus False\n",
      "0.6666666666666666\n"
     ]
    },
    {
     "name": "stderr",
     "output_type": "stream",
     "text": [
      "/var/folders/b9/v73gyxys1djbgjy3c8c3cfwm0000gn/T/ipykernel_5496/2962911591.py:71: UserWarning:\n",
      "\n",
      "This pattern is interpreted as a regular expression, and has match groups. To actually get the groups, use str.extract.\n",
      "\n",
      "/var/folders/b9/v73gyxys1djbgjy3c8c3cfwm0000gn/T/ipykernel_5496/2962911591.py:72: UserWarning:\n",
      "\n",
      "This pattern is interpreted as a regular expression, and has match groups. To actually get the groups, use str.extract.\n",
      "\n"
     ]
    },
    {
     "name": "stdout",
     "output_type": "stream",
     "text": [
      "keyword virus utama:  ('Crinivirus', 'genus', 'NCBI:67753')\n",
      "90 Spodoptera litura NCBI:69820\n",
      "0\n",
      "=================\n",
      "91 Spodoptera littoralis NCBI:7109\n",
      "0\n",
      "=================\n",
      "315 Macrosiphum euphorbiae NCBI:13131\n",
      "0\n",
      "=================\n",
      "316 Myzus persicae NCBI:13164\n",
      "0\n",
      "=================\n",
      "558 Neoleucinodes elegantalis NCBI:1511177\n",
      "0\n",
      "=================\n",
      "561 Chrysodeixis chalcites NCBI:749652\n",
      "0\n",
      "=================\n",
      "562 Autographa gamma NCBI:254363\n",
      "0\n",
      "=================\n",
      "563 Epiphyas postvittana NCBI:65032\n",
      "0\n",
      "=================\n",
      "564 Helicoverpa armigera NCBI:29058\n",
      "0\n",
      "=================\n",
      "758 Diabrotica speciosa NCBI:133126\n",
      "0\n",
      "=================\n"
     ]
    },
    {
     "name": "stderr",
     "output_type": "stream",
     "text": [
      "/Users/mohzulkiflikatili/miniconda3/envs/thesis/lib/python3.8/site-packages/umap/umap_.py:2344: UserWarning:\n",
      "\n",
      "n_neighbors is larger than the dataset size; truncating to X.shape[0] - 1\n",
      "\n"
     ]
    },
    {
     "data": {
      "application/vnd.plotly.v1+json": {
       "config": {
        "plotlyServerURL": "https://plot.ly"
       },
       "data": [
        {
         "hovertemplate": "<b>%{hovertext}</b><br><br>feature-vector-1=%{x}<br>feature-vector-2=%{y}<br>text=%{text}<extra></extra>",
         "hovertext": [
          "Spodoptera litura",
          "Spodoptera littoralis",
          "Macrosiphum euphorbiae",
          "Myzus persicae",
          "Neoleucinodes elegantalis",
          "Chrysodeixis chalcites",
          "Autographa gamma",
          "Epiphyas postvittana",
          "Helicoverpa armigera",
          "Diabrotica speciosa",
          "#TITIK_VEKTOR_ACUAN"
         ],
         "legendgroup": "",
         "marker": {
          "color": "#636efa",
          "symbol": "circle"
         },
         "mode": "markers+text",
         "name": "",
         "showlegend": false,
         "text": [
          "Noctuidae",
          "Noctuidae",
          "Aphididae",
          "Aphididae",
          "Crambidae",
          "Noctuidae",
          "Noctuidae",
          "Tortricidae",
          "Noctuidae",
          "Chrysomelidae",
          "#TITIK_VEKTOR_ACUAN"
         ],
         "textposition": "top center",
         "type": "scatter",
         "x": [
          14.130522727966309,
          13.768610000610352,
          13.968376159667969,
          14.54522705078125,
          14.617179870605469,
          13.884231567382812,
          14.454973220825195,
          15.210116386413574,
          14.668281555175781,
          13.686234474182129,
          14.259145736694336
         ],
         "xaxis": "x",
         "y": [
          -3.445495367050171,
          -2.922873020172119,
          0.181669220328331,
          0.4647226929664612,
          -0.3165058195590973,
          -1.8796533346176147,
          -2.756319999694824,
          -0.07403213530778885,
          -1.8962101936340332,
          -0.6159890294075012,
          -0.8781347274780273
         ],
         "yaxis": "y"
        }
       ],
       "layout": {
        "height": 650,
        "legend": {
         "tracegroupgap": 0
        },
        "margin": {
         "t": 60
        },
        "template": {
         "data": {
          "bar": [
           {
            "error_x": {
             "color": "#2a3f5f"
            },
            "error_y": {
             "color": "#2a3f5f"
            },
            "marker": {
             "line": {
              "color": "#E5ECF6",
              "width": 0.5
             }
            },
            "type": "bar"
           }
          ],
          "barpolar": [
           {
            "marker": {
             "line": {
              "color": "#E5ECF6",
              "width": 0.5
             }
            },
            "type": "barpolar"
           }
          ],
          "carpet": [
           {
            "aaxis": {
             "endlinecolor": "#2a3f5f",
             "gridcolor": "white",
             "linecolor": "white",
             "minorgridcolor": "white",
             "startlinecolor": "#2a3f5f"
            },
            "baxis": {
             "endlinecolor": "#2a3f5f",
             "gridcolor": "white",
             "linecolor": "white",
             "minorgridcolor": "white",
             "startlinecolor": "#2a3f5f"
            },
            "type": "carpet"
           }
          ],
          "choropleth": [
           {
            "colorbar": {
             "outlinewidth": 0,
             "ticks": ""
            },
            "type": "choropleth"
           }
          ],
          "contour": [
           {
            "colorbar": {
             "outlinewidth": 0,
             "ticks": ""
            },
            "colorscale": [
             [
              0,
              "#0d0887"
             ],
             [
              0.1111111111111111,
              "#46039f"
             ],
             [
              0.2222222222222222,
              "#7201a8"
             ],
             [
              0.3333333333333333,
              "#9c179e"
             ],
             [
              0.4444444444444444,
              "#bd3786"
             ],
             [
              0.5555555555555556,
              "#d8576b"
             ],
             [
              0.6666666666666666,
              "#ed7953"
             ],
             [
              0.7777777777777778,
              "#fb9f3a"
             ],
             [
              0.8888888888888888,
              "#fdca26"
             ],
             [
              1,
              "#f0f921"
             ]
            ],
            "type": "contour"
           }
          ],
          "contourcarpet": [
           {
            "colorbar": {
             "outlinewidth": 0,
             "ticks": ""
            },
            "type": "contourcarpet"
           }
          ],
          "heatmap": [
           {
            "colorbar": {
             "outlinewidth": 0,
             "ticks": ""
            },
            "colorscale": [
             [
              0,
              "#0d0887"
             ],
             [
              0.1111111111111111,
              "#46039f"
             ],
             [
              0.2222222222222222,
              "#7201a8"
             ],
             [
              0.3333333333333333,
              "#9c179e"
             ],
             [
              0.4444444444444444,
              "#bd3786"
             ],
             [
              0.5555555555555556,
              "#d8576b"
             ],
             [
              0.6666666666666666,
              "#ed7953"
             ],
             [
              0.7777777777777778,
              "#fb9f3a"
             ],
             [
              0.8888888888888888,
              "#fdca26"
             ],
             [
              1,
              "#f0f921"
             ]
            ],
            "type": "heatmap"
           }
          ],
          "heatmapgl": [
           {
            "colorbar": {
             "outlinewidth": 0,
             "ticks": ""
            },
            "colorscale": [
             [
              0,
              "#0d0887"
             ],
             [
              0.1111111111111111,
              "#46039f"
             ],
             [
              0.2222222222222222,
              "#7201a8"
             ],
             [
              0.3333333333333333,
              "#9c179e"
             ],
             [
              0.4444444444444444,
              "#bd3786"
             ],
             [
              0.5555555555555556,
              "#d8576b"
             ],
             [
              0.6666666666666666,
              "#ed7953"
             ],
             [
              0.7777777777777778,
              "#fb9f3a"
             ],
             [
              0.8888888888888888,
              "#fdca26"
             ],
             [
              1,
              "#f0f921"
             ]
            ],
            "type": "heatmapgl"
           }
          ],
          "histogram": [
           {
            "marker": {
             "colorbar": {
              "outlinewidth": 0,
              "ticks": ""
             }
            },
            "type": "histogram"
           }
          ],
          "histogram2d": [
           {
            "colorbar": {
             "outlinewidth": 0,
             "ticks": ""
            },
            "colorscale": [
             [
              0,
              "#0d0887"
             ],
             [
              0.1111111111111111,
              "#46039f"
             ],
             [
              0.2222222222222222,
              "#7201a8"
             ],
             [
              0.3333333333333333,
              "#9c179e"
             ],
             [
              0.4444444444444444,
              "#bd3786"
             ],
             [
              0.5555555555555556,
              "#d8576b"
             ],
             [
              0.6666666666666666,
              "#ed7953"
             ],
             [
              0.7777777777777778,
              "#fb9f3a"
             ],
             [
              0.8888888888888888,
              "#fdca26"
             ],
             [
              1,
              "#f0f921"
             ]
            ],
            "type": "histogram2d"
           }
          ],
          "histogram2dcontour": [
           {
            "colorbar": {
             "outlinewidth": 0,
             "ticks": ""
            },
            "colorscale": [
             [
              0,
              "#0d0887"
             ],
             [
              0.1111111111111111,
              "#46039f"
             ],
             [
              0.2222222222222222,
              "#7201a8"
             ],
             [
              0.3333333333333333,
              "#9c179e"
             ],
             [
              0.4444444444444444,
              "#bd3786"
             ],
             [
              0.5555555555555556,
              "#d8576b"
             ],
             [
              0.6666666666666666,
              "#ed7953"
             ],
             [
              0.7777777777777778,
              "#fb9f3a"
             ],
             [
              0.8888888888888888,
              "#fdca26"
             ],
             [
              1,
              "#f0f921"
             ]
            ],
            "type": "histogram2dcontour"
           }
          ],
          "mesh3d": [
           {
            "colorbar": {
             "outlinewidth": 0,
             "ticks": ""
            },
            "type": "mesh3d"
           }
          ],
          "parcoords": [
           {
            "line": {
             "colorbar": {
              "outlinewidth": 0,
              "ticks": ""
             }
            },
            "type": "parcoords"
           }
          ],
          "pie": [
           {
            "automargin": true,
            "type": "pie"
           }
          ],
          "scatter": [
           {
            "marker": {
             "colorbar": {
              "outlinewidth": 0,
              "ticks": ""
             }
            },
            "type": "scatter"
           }
          ],
          "scatter3d": [
           {
            "line": {
             "colorbar": {
              "outlinewidth": 0,
              "ticks": ""
             }
            },
            "marker": {
             "colorbar": {
              "outlinewidth": 0,
              "ticks": ""
             }
            },
            "type": "scatter3d"
           }
          ],
          "scattercarpet": [
           {
            "marker": {
             "colorbar": {
              "outlinewidth": 0,
              "ticks": ""
             }
            },
            "type": "scattercarpet"
           }
          ],
          "scattergeo": [
           {
            "marker": {
             "colorbar": {
              "outlinewidth": 0,
              "ticks": ""
             }
            },
            "type": "scattergeo"
           }
          ],
          "scattergl": [
           {
            "marker": {
             "colorbar": {
              "outlinewidth": 0,
              "ticks": ""
             }
            },
            "type": "scattergl"
           }
          ],
          "scattermapbox": [
           {
            "marker": {
             "colorbar": {
              "outlinewidth": 0,
              "ticks": ""
             }
            },
            "type": "scattermapbox"
           }
          ],
          "scatterpolar": [
           {
            "marker": {
             "colorbar": {
              "outlinewidth": 0,
              "ticks": ""
             }
            },
            "type": "scatterpolar"
           }
          ],
          "scatterpolargl": [
           {
            "marker": {
             "colorbar": {
              "outlinewidth": 0,
              "ticks": ""
             }
            },
            "type": "scatterpolargl"
           }
          ],
          "scatterternary": [
           {
            "marker": {
             "colorbar": {
              "outlinewidth": 0,
              "ticks": ""
             }
            },
            "type": "scatterternary"
           }
          ],
          "surface": [
           {
            "colorbar": {
             "outlinewidth": 0,
             "ticks": ""
            },
            "colorscale": [
             [
              0,
              "#0d0887"
             ],
             [
              0.1111111111111111,
              "#46039f"
             ],
             [
              0.2222222222222222,
              "#7201a8"
             ],
             [
              0.3333333333333333,
              "#9c179e"
             ],
             [
              0.4444444444444444,
              "#bd3786"
             ],
             [
              0.5555555555555556,
              "#d8576b"
             ],
             [
              0.6666666666666666,
              "#ed7953"
             ],
             [
              0.7777777777777778,
              "#fb9f3a"
             ],
             [
              0.8888888888888888,
              "#fdca26"
             ],
             [
              1,
              "#f0f921"
             ]
            ],
            "type": "surface"
           }
          ],
          "table": [
           {
            "cells": {
             "fill": {
              "color": "#EBF0F8"
             },
             "line": {
              "color": "white"
             }
            },
            "header": {
             "fill": {
              "color": "#C8D4E3"
             },
             "line": {
              "color": "white"
             }
            },
            "type": "table"
           }
          ]
         },
         "layout": {
          "annotationdefaults": {
           "arrowcolor": "#2a3f5f",
           "arrowhead": 0,
           "arrowwidth": 1
          },
          "coloraxis": {
           "colorbar": {
            "outlinewidth": 0,
            "ticks": ""
           }
          },
          "colorscale": {
           "diverging": [
            [
             0,
             "#8e0152"
            ],
            [
             0.1,
             "#c51b7d"
            ],
            [
             0.2,
             "#de77ae"
            ],
            [
             0.3,
             "#f1b6da"
            ],
            [
             0.4,
             "#fde0ef"
            ],
            [
             0.5,
             "#f7f7f7"
            ],
            [
             0.6,
             "#e6f5d0"
            ],
            [
             0.7,
             "#b8e186"
            ],
            [
             0.8,
             "#7fbc41"
            ],
            [
             0.9,
             "#4d9221"
            ],
            [
             1,
             "#276419"
            ]
           ],
           "sequential": [
            [
             0,
             "#0d0887"
            ],
            [
             0.1111111111111111,
             "#46039f"
            ],
            [
             0.2222222222222222,
             "#7201a8"
            ],
            [
             0.3333333333333333,
             "#9c179e"
            ],
            [
             0.4444444444444444,
             "#bd3786"
            ],
            [
             0.5555555555555556,
             "#d8576b"
            ],
            [
             0.6666666666666666,
             "#ed7953"
            ],
            [
             0.7777777777777778,
             "#fb9f3a"
            ],
            [
             0.8888888888888888,
             "#fdca26"
            ],
            [
             1,
             "#f0f921"
            ]
           ],
           "sequentialminus": [
            [
             0,
             "#0d0887"
            ],
            [
             0.1111111111111111,
             "#46039f"
            ],
            [
             0.2222222222222222,
             "#7201a8"
            ],
            [
             0.3333333333333333,
             "#9c179e"
            ],
            [
             0.4444444444444444,
             "#bd3786"
            ],
            [
             0.5555555555555556,
             "#d8576b"
            ],
            [
             0.6666666666666666,
             "#ed7953"
            ],
            [
             0.7777777777777778,
             "#fb9f3a"
            ],
            [
             0.8888888888888888,
             "#fdca26"
            ],
            [
             1,
             "#f0f921"
            ]
           ]
          },
          "colorway": [
           "#636efa",
           "#EF553B",
           "#00cc96",
           "#ab63fa",
           "#FFA15A",
           "#19d3f3",
           "#FF6692",
           "#B6E880",
           "#FF97FF",
           "#FECB52"
          ],
          "font": {
           "color": "#2a3f5f"
          },
          "geo": {
           "bgcolor": "white",
           "lakecolor": "white",
           "landcolor": "#E5ECF6",
           "showlakes": true,
           "showland": true,
           "subunitcolor": "white"
          },
          "hoverlabel": {
           "align": "left"
          },
          "hovermode": "closest",
          "mapbox": {
           "style": "light"
          },
          "paper_bgcolor": "white",
          "plot_bgcolor": "#E5ECF6",
          "polar": {
           "angularaxis": {
            "gridcolor": "white",
            "linecolor": "white",
            "ticks": ""
           },
           "bgcolor": "#E5ECF6",
           "radialaxis": {
            "gridcolor": "white",
            "linecolor": "white",
            "ticks": ""
           }
          },
          "scene": {
           "xaxis": {
            "backgroundcolor": "#E5ECF6",
            "gridcolor": "white",
            "gridwidth": 2,
            "linecolor": "white",
            "showbackground": true,
            "ticks": "",
            "zerolinecolor": "white"
           },
           "yaxis": {
            "backgroundcolor": "#E5ECF6",
            "gridcolor": "white",
            "gridwidth": 2,
            "linecolor": "white",
            "showbackground": true,
            "ticks": "",
            "zerolinecolor": "white"
           },
           "zaxis": {
            "backgroundcolor": "#E5ECF6",
            "gridcolor": "white",
            "gridwidth": 2,
            "linecolor": "white",
            "showbackground": true,
            "ticks": "",
            "zerolinecolor": "white"
           }
          },
          "shapedefaults": {
           "line": {
            "color": "#2a3f5f"
           }
          },
          "ternary": {
           "aaxis": {
            "gridcolor": "white",
            "linecolor": "white",
            "ticks": ""
           },
           "baxis": {
            "gridcolor": "white",
            "linecolor": "white",
            "ticks": ""
           },
           "bgcolor": "#E5ECF6",
           "caxis": {
            "gridcolor": "white",
            "linecolor": "white",
            "ticks": ""
           }
          },
          "title": {
           "x": 0.05
          },
          "xaxis": {
           "automargin": true,
           "gridcolor": "white",
           "linecolor": "white",
           "ticks": "",
           "title": {
            "standoff": 15
           },
           "zerolinecolor": "white",
           "zerolinewidth": 2
          },
          "yaxis": {
           "automargin": true,
           "gridcolor": "white",
           "linecolor": "white",
           "ticks": "",
           "title": {
            "standoff": 15
           },
           "zerolinecolor": "white",
           "zerolinewidth": 2
          }
         }
        },
        "title": {
         "text": "reduced word2vec visualization"
        },
        "xaxis": {
         "anchor": "y",
         "domain": [
          0,
          1
         ],
         "title": {
          "text": "feature-vector-1"
         }
        },
        "yaxis": {
         "anchor": "x",
         "domain": [
          0,
          1
         ],
         "title": {
          "text": "feature-vector-2"
         }
        }
       }
      }
     },
     "metadata": {},
     "output_type": "display_data"
    },
    {
     "name": "stdout",
     "output_type": "stream",
     "text": [
      "Bemisia -> 2cri\n",
      "acuan  {'genus': 'NCBI:7037_Bemisia', 'famili': 'NCBI:7036_Aleyrodidae', 'ordo': 'NCBI:7524_Hemiptera'}\n",
      "hasil  {'genus': 'NCBI:50385_Diabrotica', 'famili': 'NCBI:27439_Chrysomelidae', 'ordo': 'NCBI:7041_Coleoptera'}\n",
      "ordo False\n",
      "famili False\n",
      "genus False\n",
      "0.0\n"
     ]
    },
    {
     "name": "stderr",
     "output_type": "stream",
     "text": [
      "/var/folders/b9/v73gyxys1djbgjy3c8c3cfwm0000gn/T/ipykernel_5496/2962911591.py:71: UserWarning:\n",
      "\n",
      "This pattern is interpreted as a regular expression, and has match groups. To actually get the groups, use str.extract.\n",
      "\n",
      "/var/folders/b9/v73gyxys1djbgjy3c8c3cfwm0000gn/T/ipykernel_5496/2962911591.py:72: UserWarning:\n",
      "\n",
      "This pattern is interpreted as a regular expression, and has match groups. To actually get the groups, use str.extract.\n",
      "\n"
     ]
    },
    {
     "name": "stdout",
     "output_type": "stream",
     "text": [
      "keyword virus utama:  ('Waikavirus', 'genus', 'NCBI:12050')\n",
      "35 Thaumatotibia leucotreta NCBI:7139\n",
      "0\n",
      "=================\n",
      "36 Chlorophorus annularis NCBI:2586298\n",
      "0\n",
      "=================\n",
      "106 Sosa NCBI:7516\n",
      "0\n",
      "=================\n",
      "140 Campion NCBI:1548265\n",
      "0\n",
      "=================\n",
      "230 Chilo partellus NCBI:236792\n",
      "0\n",
      "=================\n",
      "232 Chilo suppressalis NCBI:168631\n",
      "0\n",
      "=================\n",
      "233 Laodelphax striatella NCBI:195883\n",
      "0\n",
      "=================\n",
      "234 Bacillus NCBI:55087\n",
      "0\n",
      "=================\n",
      "237 Autographa gamma NCBI:254363\n",
      "0\n",
      "=================\n",
      "238 Diabrotica speciosa NCBI:133126\n",
      "0\n",
      "=================\n",
      "239 Spodoptera litura NCBI:69820\n",
      "0\n",
      "=================\n",
      "240 Spodoptera littoralis NCBI:7109\n",
      "0\n",
      "=================\n",
      "241 Heteronychus arator NCBI:295550\n",
      "0\n",
      "=================\n",
      "253 Helicoverpa armigera NCBI:29058\n",
      "0\n",
      "=================\n"
     ]
    },
    {
     "name": "stderr",
     "output_type": "stream",
     "text": [
      "/Users/mohzulkiflikatili/miniconda3/envs/thesis/lib/python3.8/site-packages/umap/umap_.py:2344: UserWarning:\n",
      "\n",
      "n_neighbors is larger than the dataset size; truncating to X.shape[0] - 1\n",
      "\n"
     ]
    },
    {
     "data": {
      "application/vnd.plotly.v1+json": {
       "config": {
        "plotlyServerURL": "https://plot.ly"
       },
       "data": [
        {
         "hovertemplate": "<b>%{hovertext}</b><br><br>feature-vector-1=%{x}<br>feature-vector-2=%{y}<br>text=%{text}<extra></extra>",
         "hovertext": [
          "Thaumatotibia leucotreta",
          "Chlorophorus annularis",
          "Sosa",
          "Campion",
          "Chilo partellus",
          "Chilo suppressalis",
          "Laodelphax striatella",
          "Bacillus",
          "Autographa gamma",
          "Diabrotica speciosa",
          "Spodoptera litura",
          "Spodoptera littoralis",
          "Heteronychus arator",
          "Helicoverpa armigera",
          "#TITIK_VEKTOR_ACUAN"
         ],
         "legendgroup": "",
         "marker": {
          "color": "#636efa",
          "symbol": "circle"
         },
         "mode": "markers+text",
         "name": "",
         "showlegend": false,
         "text": [
          "Tortricidae",
          "Cerambycidae",
          "Neuroptera^family",
          "Mantispidae",
          "Crambidae",
          "Crambidae",
          "Delphacidae",
          "Bacillidae",
          "Noctuidae",
          "Chrysomelidae",
          "Noctuidae",
          "Noctuidae",
          "Scarabaeidae",
          "Noctuidae",
          "#TITIK_VEKTOR_ACUAN"
         ],
         "textposition": "top center",
         "type": "scatter",
         "x": [
          0.7600245475769043,
          0.910004734992981,
          2.188812732696533,
          1.5153452157974243,
          -1.1128795146942139,
          -0.6788527965545654,
          2.446622610092163,
          1.9017106294631958,
          -0.1258605420589447,
          1.878218650817871,
          -0.5666074752807617,
          -1.0815848112106323,
          1.0416738986968994,
          -0.06858338415622711,
          2.590376138687134
         ],
         "xaxis": "x",
         "y": [
          19.458234786987305,
          20.681718826293945,
          19.644807815551758,
          20.62205696105957,
          17.25230598449707,
          16.752647399902344,
          20.705774307250977,
          21.040748596191406,
          16.88819122314453,
          20.117984771728516,
          17.449411392211914,
          16.556005477905273,
          19.990203857421875,
          17.558156967163086,
          20.152624130249023
         ],
         "yaxis": "y"
        }
       ],
       "layout": {
        "height": 650,
        "legend": {
         "tracegroupgap": 0
        },
        "margin": {
         "t": 60
        },
        "template": {
         "data": {
          "bar": [
           {
            "error_x": {
             "color": "#2a3f5f"
            },
            "error_y": {
             "color": "#2a3f5f"
            },
            "marker": {
             "line": {
              "color": "#E5ECF6",
              "width": 0.5
             }
            },
            "type": "bar"
           }
          ],
          "barpolar": [
           {
            "marker": {
             "line": {
              "color": "#E5ECF6",
              "width": 0.5
             }
            },
            "type": "barpolar"
           }
          ],
          "carpet": [
           {
            "aaxis": {
             "endlinecolor": "#2a3f5f",
             "gridcolor": "white",
             "linecolor": "white",
             "minorgridcolor": "white",
             "startlinecolor": "#2a3f5f"
            },
            "baxis": {
             "endlinecolor": "#2a3f5f",
             "gridcolor": "white",
             "linecolor": "white",
             "minorgridcolor": "white",
             "startlinecolor": "#2a3f5f"
            },
            "type": "carpet"
           }
          ],
          "choropleth": [
           {
            "colorbar": {
             "outlinewidth": 0,
             "ticks": ""
            },
            "type": "choropleth"
           }
          ],
          "contour": [
           {
            "colorbar": {
             "outlinewidth": 0,
             "ticks": ""
            },
            "colorscale": [
             [
              0,
              "#0d0887"
             ],
             [
              0.1111111111111111,
              "#46039f"
             ],
             [
              0.2222222222222222,
              "#7201a8"
             ],
             [
              0.3333333333333333,
              "#9c179e"
             ],
             [
              0.4444444444444444,
              "#bd3786"
             ],
             [
              0.5555555555555556,
              "#d8576b"
             ],
             [
              0.6666666666666666,
              "#ed7953"
             ],
             [
              0.7777777777777778,
              "#fb9f3a"
             ],
             [
              0.8888888888888888,
              "#fdca26"
             ],
             [
              1,
              "#f0f921"
             ]
            ],
            "type": "contour"
           }
          ],
          "contourcarpet": [
           {
            "colorbar": {
             "outlinewidth": 0,
             "ticks": ""
            },
            "type": "contourcarpet"
           }
          ],
          "heatmap": [
           {
            "colorbar": {
             "outlinewidth": 0,
             "ticks": ""
            },
            "colorscale": [
             [
              0,
              "#0d0887"
             ],
             [
              0.1111111111111111,
              "#46039f"
             ],
             [
              0.2222222222222222,
              "#7201a8"
             ],
             [
              0.3333333333333333,
              "#9c179e"
             ],
             [
              0.4444444444444444,
              "#bd3786"
             ],
             [
              0.5555555555555556,
              "#d8576b"
             ],
             [
              0.6666666666666666,
              "#ed7953"
             ],
             [
              0.7777777777777778,
              "#fb9f3a"
             ],
             [
              0.8888888888888888,
              "#fdca26"
             ],
             [
              1,
              "#f0f921"
             ]
            ],
            "type": "heatmap"
           }
          ],
          "heatmapgl": [
           {
            "colorbar": {
             "outlinewidth": 0,
             "ticks": ""
            },
            "colorscale": [
             [
              0,
              "#0d0887"
             ],
             [
              0.1111111111111111,
              "#46039f"
             ],
             [
              0.2222222222222222,
              "#7201a8"
             ],
             [
              0.3333333333333333,
              "#9c179e"
             ],
             [
              0.4444444444444444,
              "#bd3786"
             ],
             [
              0.5555555555555556,
              "#d8576b"
             ],
             [
              0.6666666666666666,
              "#ed7953"
             ],
             [
              0.7777777777777778,
              "#fb9f3a"
             ],
             [
              0.8888888888888888,
              "#fdca26"
             ],
             [
              1,
              "#f0f921"
             ]
            ],
            "type": "heatmapgl"
           }
          ],
          "histogram": [
           {
            "marker": {
             "colorbar": {
              "outlinewidth": 0,
              "ticks": ""
             }
            },
            "type": "histogram"
           }
          ],
          "histogram2d": [
           {
            "colorbar": {
             "outlinewidth": 0,
             "ticks": ""
            },
            "colorscale": [
             [
              0,
              "#0d0887"
             ],
             [
              0.1111111111111111,
              "#46039f"
             ],
             [
              0.2222222222222222,
              "#7201a8"
             ],
             [
              0.3333333333333333,
              "#9c179e"
             ],
             [
              0.4444444444444444,
              "#bd3786"
             ],
             [
              0.5555555555555556,
              "#d8576b"
             ],
             [
              0.6666666666666666,
              "#ed7953"
             ],
             [
              0.7777777777777778,
              "#fb9f3a"
             ],
             [
              0.8888888888888888,
              "#fdca26"
             ],
             [
              1,
              "#f0f921"
             ]
            ],
            "type": "histogram2d"
           }
          ],
          "histogram2dcontour": [
           {
            "colorbar": {
             "outlinewidth": 0,
             "ticks": ""
            },
            "colorscale": [
             [
              0,
              "#0d0887"
             ],
             [
              0.1111111111111111,
              "#46039f"
             ],
             [
              0.2222222222222222,
              "#7201a8"
             ],
             [
              0.3333333333333333,
              "#9c179e"
             ],
             [
              0.4444444444444444,
              "#bd3786"
             ],
             [
              0.5555555555555556,
              "#d8576b"
             ],
             [
              0.6666666666666666,
              "#ed7953"
             ],
             [
              0.7777777777777778,
              "#fb9f3a"
             ],
             [
              0.8888888888888888,
              "#fdca26"
             ],
             [
              1,
              "#f0f921"
             ]
            ],
            "type": "histogram2dcontour"
           }
          ],
          "mesh3d": [
           {
            "colorbar": {
             "outlinewidth": 0,
             "ticks": ""
            },
            "type": "mesh3d"
           }
          ],
          "parcoords": [
           {
            "line": {
             "colorbar": {
              "outlinewidth": 0,
              "ticks": ""
             }
            },
            "type": "parcoords"
           }
          ],
          "pie": [
           {
            "automargin": true,
            "type": "pie"
           }
          ],
          "scatter": [
           {
            "marker": {
             "colorbar": {
              "outlinewidth": 0,
              "ticks": ""
             }
            },
            "type": "scatter"
           }
          ],
          "scatter3d": [
           {
            "line": {
             "colorbar": {
              "outlinewidth": 0,
              "ticks": ""
             }
            },
            "marker": {
             "colorbar": {
              "outlinewidth": 0,
              "ticks": ""
             }
            },
            "type": "scatter3d"
           }
          ],
          "scattercarpet": [
           {
            "marker": {
             "colorbar": {
              "outlinewidth": 0,
              "ticks": ""
             }
            },
            "type": "scattercarpet"
           }
          ],
          "scattergeo": [
           {
            "marker": {
             "colorbar": {
              "outlinewidth": 0,
              "ticks": ""
             }
            },
            "type": "scattergeo"
           }
          ],
          "scattergl": [
           {
            "marker": {
             "colorbar": {
              "outlinewidth": 0,
              "ticks": ""
             }
            },
            "type": "scattergl"
           }
          ],
          "scattermapbox": [
           {
            "marker": {
             "colorbar": {
              "outlinewidth": 0,
              "ticks": ""
             }
            },
            "type": "scattermapbox"
           }
          ],
          "scatterpolar": [
           {
            "marker": {
             "colorbar": {
              "outlinewidth": 0,
              "ticks": ""
             }
            },
            "type": "scatterpolar"
           }
          ],
          "scatterpolargl": [
           {
            "marker": {
             "colorbar": {
              "outlinewidth": 0,
              "ticks": ""
             }
            },
            "type": "scatterpolargl"
           }
          ],
          "scatterternary": [
           {
            "marker": {
             "colorbar": {
              "outlinewidth": 0,
              "ticks": ""
             }
            },
            "type": "scatterternary"
           }
          ],
          "surface": [
           {
            "colorbar": {
             "outlinewidth": 0,
             "ticks": ""
            },
            "colorscale": [
             [
              0,
              "#0d0887"
             ],
             [
              0.1111111111111111,
              "#46039f"
             ],
             [
              0.2222222222222222,
              "#7201a8"
             ],
             [
              0.3333333333333333,
              "#9c179e"
             ],
             [
              0.4444444444444444,
              "#bd3786"
             ],
             [
              0.5555555555555556,
              "#d8576b"
             ],
             [
              0.6666666666666666,
              "#ed7953"
             ],
             [
              0.7777777777777778,
              "#fb9f3a"
             ],
             [
              0.8888888888888888,
              "#fdca26"
             ],
             [
              1,
              "#f0f921"
             ]
            ],
            "type": "surface"
           }
          ],
          "table": [
           {
            "cells": {
             "fill": {
              "color": "#EBF0F8"
             },
             "line": {
              "color": "white"
             }
            },
            "header": {
             "fill": {
              "color": "#C8D4E3"
             },
             "line": {
              "color": "white"
             }
            },
            "type": "table"
           }
          ]
         },
         "layout": {
          "annotationdefaults": {
           "arrowcolor": "#2a3f5f",
           "arrowhead": 0,
           "arrowwidth": 1
          },
          "coloraxis": {
           "colorbar": {
            "outlinewidth": 0,
            "ticks": ""
           }
          },
          "colorscale": {
           "diverging": [
            [
             0,
             "#8e0152"
            ],
            [
             0.1,
             "#c51b7d"
            ],
            [
             0.2,
             "#de77ae"
            ],
            [
             0.3,
             "#f1b6da"
            ],
            [
             0.4,
             "#fde0ef"
            ],
            [
             0.5,
             "#f7f7f7"
            ],
            [
             0.6,
             "#e6f5d0"
            ],
            [
             0.7,
             "#b8e186"
            ],
            [
             0.8,
             "#7fbc41"
            ],
            [
             0.9,
             "#4d9221"
            ],
            [
             1,
             "#276419"
            ]
           ],
           "sequential": [
            [
             0,
             "#0d0887"
            ],
            [
             0.1111111111111111,
             "#46039f"
            ],
            [
             0.2222222222222222,
             "#7201a8"
            ],
            [
             0.3333333333333333,
             "#9c179e"
            ],
            [
             0.4444444444444444,
             "#bd3786"
            ],
            [
             0.5555555555555556,
             "#d8576b"
            ],
            [
             0.6666666666666666,
             "#ed7953"
            ],
            [
             0.7777777777777778,
             "#fb9f3a"
            ],
            [
             0.8888888888888888,
             "#fdca26"
            ],
            [
             1,
             "#f0f921"
            ]
           ],
           "sequentialminus": [
            [
             0,
             "#0d0887"
            ],
            [
             0.1111111111111111,
             "#46039f"
            ],
            [
             0.2222222222222222,
             "#7201a8"
            ],
            [
             0.3333333333333333,
             "#9c179e"
            ],
            [
             0.4444444444444444,
             "#bd3786"
            ],
            [
             0.5555555555555556,
             "#d8576b"
            ],
            [
             0.6666666666666666,
             "#ed7953"
            ],
            [
             0.7777777777777778,
             "#fb9f3a"
            ],
            [
             0.8888888888888888,
             "#fdca26"
            ],
            [
             1,
             "#f0f921"
            ]
           ]
          },
          "colorway": [
           "#636efa",
           "#EF553B",
           "#00cc96",
           "#ab63fa",
           "#FFA15A",
           "#19d3f3",
           "#FF6692",
           "#B6E880",
           "#FF97FF",
           "#FECB52"
          ],
          "font": {
           "color": "#2a3f5f"
          },
          "geo": {
           "bgcolor": "white",
           "lakecolor": "white",
           "landcolor": "#E5ECF6",
           "showlakes": true,
           "showland": true,
           "subunitcolor": "white"
          },
          "hoverlabel": {
           "align": "left"
          },
          "hovermode": "closest",
          "mapbox": {
           "style": "light"
          },
          "paper_bgcolor": "white",
          "plot_bgcolor": "#E5ECF6",
          "polar": {
           "angularaxis": {
            "gridcolor": "white",
            "linecolor": "white",
            "ticks": ""
           },
           "bgcolor": "#E5ECF6",
           "radialaxis": {
            "gridcolor": "white",
            "linecolor": "white",
            "ticks": ""
           }
          },
          "scene": {
           "xaxis": {
            "backgroundcolor": "#E5ECF6",
            "gridcolor": "white",
            "gridwidth": 2,
            "linecolor": "white",
            "showbackground": true,
            "ticks": "",
            "zerolinecolor": "white"
           },
           "yaxis": {
            "backgroundcolor": "#E5ECF6",
            "gridcolor": "white",
            "gridwidth": 2,
            "linecolor": "white",
            "showbackground": true,
            "ticks": "",
            "zerolinecolor": "white"
           },
           "zaxis": {
            "backgroundcolor": "#E5ECF6",
            "gridcolor": "white",
            "gridwidth": 2,
            "linecolor": "white",
            "showbackground": true,
            "ticks": "",
            "zerolinecolor": "white"
           }
          },
          "shapedefaults": {
           "line": {
            "color": "#2a3f5f"
           }
          },
          "ternary": {
           "aaxis": {
            "gridcolor": "white",
            "linecolor": "white",
            "ticks": ""
           },
           "baxis": {
            "gridcolor": "white",
            "linecolor": "white",
            "ticks": ""
           },
           "bgcolor": "#E5ECF6",
           "caxis": {
            "gridcolor": "white",
            "linecolor": "white",
            "ticks": ""
           }
          },
          "title": {
           "x": 0.05
          },
          "xaxis": {
           "automargin": true,
           "gridcolor": "white",
           "linecolor": "white",
           "ticks": "",
           "title": {
            "standoff": 15
           },
           "zerolinecolor": "white",
           "zerolinewidth": 2
          },
          "yaxis": {
           "automargin": true,
           "gridcolor": "white",
           "linecolor": "white",
           "ticks": "",
           "title": {
            "standoff": 15
           },
           "zerolinecolor": "white",
           "zerolinewidth": 2
          }
         }
        },
        "title": {
         "text": "reduced word2vec visualization"
        },
        "xaxis": {
         "anchor": "y",
         "domain": [
          0,
          1
         ],
         "title": {
          "text": "feature-vector-1"
         }
        },
        "yaxis": {
         "anchor": "x",
         "domain": [
          0,
          1
         ],
         "title": {
          "text": "feature-vector-2"
         }
        }
       }
      }
     },
     "metadata": {},
     "output_type": "display_data"
    },
    {
     "name": "stdout",
     "output_type": "stream",
     "text": [
      "Graminella -> 3wai\n",
      "acuan  {'genus': 'NCBI:30125_Graminella <bugs>', 'famili': 'NCBI:30102_Cicadellidae', 'ordo': 'NCBI:7524_Hemiptera'}\n",
      "hasil  {'genus': 'NCBI:195882_Laodelphax', 'famili': 'NCBI:33362_Delphacidae', 'ordo': 'NCBI:7524_Hemiptera'}\n",
      "ordo True\n",
      "famili False\n",
      "genus False\n",
      "0.3333333333333333\n"
     ]
    },
    {
     "name": "stderr",
     "output_type": "stream",
     "text": [
      "/var/folders/b9/v73gyxys1djbgjy3c8c3cfwm0000gn/T/ipykernel_5496/2962911591.py:71: UserWarning:\n",
      "\n",
      "This pattern is interpreted as a regular expression, and has match groups. To actually get the groups, use str.extract.\n",
      "\n",
      "/var/folders/b9/v73gyxys1djbgjy3c8c3cfwm0000gn/T/ipykernel_5496/2962911591.py:72: UserWarning:\n",
      "\n",
      "This pattern is interpreted as a regular expression, and has match groups. To actually get the groups, use str.extract.\n",
      "\n"
     ]
    },
    {
     "name": "stdout",
     "output_type": "stream",
     "text": [
      "keyword virus utama:  ('Begomovirus', 'genus', 'NCBI:10814')\n",
      "19 Aleyrodoidea NCBI:33377\n",
      "Aleyrodoidea NCBI:33377 --> Whitefly VEM 1 begomovirus NCBI:1032481\n",
      "Aleyrodoidea NCBI:33377 --> Whitefly VEM 2 begomovirus NCBI:1032482\n",
      "2\n",
      "=================\n",
      "20 Aleyrodidae NCBI:7036\n",
      "Aleyrodidae NCBI:7036 --> Whitefly VEM 1 begomovirus NCBI:1032481\n",
      "Aleyrodidae NCBI:7036 --> Whitefly VEM 2 begomovirus NCBI:1032482\n",
      "2\n",
      "=================\n",
      "293 Spodoptera litura NCBI:69820\n",
      "0\n",
      "=================\n",
      "294 Spodoptera littoralis NCBI:7109\n",
      "0\n",
      "=================\n",
      "387 Thaumatotibia leucotreta NCBI:7139\n",
      "0\n",
      "=================\n",
      "388 Chlorophorus annularis NCBI:2586298\n",
      "0\n",
      "=================\n",
      "400 Conogethes punctiferalis NCBI:1133088\n",
      "0\n",
      "=================\n",
      "401 Pectinophora gossypiella NCBI:13191\n",
      "0\n",
      "=================\n",
      "403 Oxycarenus hyalinipennis NCBI:1149918\n",
      "0\n",
      "=================\n",
      "404 Autographa gamma NCBI:254363\n",
      "0\n",
      "=================\n",
      "405 Anthonomus grandis NCBI:7043\n",
      "0\n",
      "=================\n",
      "409 Helicoverpa armigera NCBI:29058\n",
      "0\n",
      "=================\n",
      "410 Amrasca biguttula NCBI:30102\n",
      "0\n",
      "=================\n",
      "411 Adelphocoris NCBI:236345\n",
      "0\n",
      "=================\n",
      "412 Lygus NCBI:30084\n",
      "0\n",
      "=================\n",
      "510 Peru NCBI:1634180\n",
      "0\n",
      "=================\n",
      "529 Heteronemia NCBI:629302\n",
      "0\n",
      "=================\n",
      "618 Crocidosema aporema NCBI:581467\n",
      "0\n",
      "=================\n",
      "622 Chrysodeixis chalcites NCBI:749652\n",
      "0\n",
      "=================\n",
      "623 Diabrotica speciosa NCBI:133126\n",
      "0\n",
      "=================\n",
      "795 Macrosiphum euphorbiae NCBI:13131\n",
      "0\n",
      "=================\n",
      "796 Myzus persicae NCBI:13164\n",
      "0\n",
      "=================\n",
      "994 Neoleucinodes elegantalis NCBI:1511177\n",
      "0\n",
      "=================\n",
      "995 Epiphyas postvittana NCBI:65032\n",
      "0\n",
      "=================\n",
      "1041 Tecia solanivora NCBI:396680\n",
      "0\n",
      "=================\n",
      "1042 Heteronychus arator NCBI:295550\n",
      "0\n",
      "=================\n",
      "1062 Bactericera cockerelli NCBI:290155\n",
      "0\n",
      "=================\n",
      "1232 Mamestra brassicae NCBI:55057\n",
      "0\n",
      "=================\n",
      "1233 Autographa californica NCBI:572729\n",
      "0\n",
      "=================\n",
      "1283 Bactrocera zonata NCBI:137042\n",
      "0\n",
      "=================\n",
      "1605 Lithium NCBI:253718\n",
      "0\n",
      "=================\n",
      "1773 Heterocampa cubana NCBI:214162\n",
      "0\n",
      "=================\n",
      "1776 Bemisia tabaci NCBI:7038\n",
      "Bemisia tabaci NCBI:7038 --> Sida golden mosaic virus - whitefly VEM Citra Florida NCBI:1032477\n",
      "1\n",
      "=================\n"
     ]
    },
    {
     "data": {
      "application/vnd.plotly.v1+json": {
       "config": {
        "plotlyServerURL": "https://plot.ly"
       },
       "data": [
        {
         "hovertemplate": "<b>%{hovertext}</b><br><br>feature-vector-1=%{x}<br>feature-vector-2=%{y}<br>text=%{text}<extra></extra>",
         "hovertext": [
          "Aleyrodoidea",
          "Aleyrodidae",
          "Spodoptera litura",
          "Spodoptera littoralis",
          "Thaumatotibia leucotreta",
          "Chlorophorus annularis",
          "Conogethes punctiferalis",
          "Pectinophora gossypiella",
          "Oxycarenus hyalinipennis",
          "Autographa gamma",
          "Anthonomus grandis",
          "Helicoverpa armigera",
          "Amrasca biguttula",
          "Adelphocoris",
          "Lygus",
          "Peru",
          "Heteronemia",
          "Crocidosema aporema",
          "Chrysodeixis chalcites",
          "Diabrotica speciosa",
          "Macrosiphum euphorbiae",
          "Myzus persicae",
          "Neoleucinodes elegantalis",
          "Epiphyas postvittana",
          "Tecia solanivora",
          "Heteronychus arator",
          "Bactericera cockerelli",
          "Mamestra brassicae",
          "Autographa californica",
          "Bactrocera zonata",
          "Lithium",
          "Heterocampa cubana",
          "Bemisia tabaci",
          "#TITIK_VEKTOR_ACUAN"
         ],
         "legendgroup": "",
         "marker": {
          "color": "#636efa",
          "symbol": "circle"
         },
         "mode": "markers+text",
         "name": "",
         "showlegend": false,
         "text": [
          "Hemiptera^family",
          "Aleyrodidae",
          "Noctuidae",
          "Noctuidae",
          "Tortricidae",
          "Cerambycidae",
          "Crambidae",
          "Gelechiidae",
          "Oxycarenidae",
          "Noctuidae",
          "Curculionidae",
          "Noctuidae",
          "Cicadellidae",
          "Miridae",
          "Miridae",
          "Phalangopsidae",
          "Heteronemiidae",
          "Tortricidae",
          "Noctuidae",
          "Chrysomelidae",
          "Aphididae",
          "Aphididae",
          "Crambidae",
          "Tortricidae",
          "Gelechiidae",
          "Scarabaeidae",
          "Triozidae",
          "Noctuidae",
          "Noctuidae",
          "Tephritidae",
          "Crabronidae",
          "Notodontidae",
          "Aleyrodidae",
          "#TITIK_VEKTOR_ACUAN"
         ],
         "textposition": "top center",
         "type": "scatter",
         "x": [
          5.685014724731445,
          6.825104713439941,
          5.435329437255859,
          5.574400901794434,
          6.063503742218018,
          5.325455188751221,
          6.5987443923950195,
          6.508050441741943,
          6.061990737915039,
          5.147505760192871,
          4.991580963134766,
          5.863264560699463,
          6.039713382720947,
          6.359068870544434,
          6.209889888763428,
          5.263998031616211,
          4.8606061935424805,
          6.331172943115234,
          6.1963043212890625,
          5.482633113861084,
          6.777190208435059,
          6.996487140655518,
          5.92680549621582,
          5.733559608459473,
          6.126646518707275,
          4.911806583404541,
          5.72142219543457,
          5.448674201965332,
          5.890203952789307,
          4.901708126068115,
          4.650618553161621,
          5.246166229248047,
          6.986616134643555,
          7.112513065338135
         ],
         "xaxis": "x",
         "y": [
          -1.7659287452697754,
          1.108789086341858,
          2.0699377059936523,
          2.4875242710113525,
          0.9330211877822876,
          -2.4847402572631836,
          -0.05574702098965645,
          0.33515670895576477,
          -2.438150405883789,
          2.8235816955566406,
          -2.750950813293457,
          1.8813384771347046,
          -1.5102894306182861,
          -0.6944211721420288,
          -0.8756155967712402,
          -3.5854108333587646,
          -3.504269599914551,
          0.7557175755500793,
          2.4422786235809326,
          -2.8605566024780273,
          -0.9852673411369324,
          -0.5709308385848999,
          -0.09650019556283951,
          0.6697056293487549,
          0.13822723925113678,
          -2.299389600753784,
          -2.2031569480895996,
          2.6046743392944336,
          2.304287910461426,
          -3.3039159774780273,
          -3.366741895675659,
          -2.0689239501953125,
          0.40550696849823,
          0.8184249997138977
         ],
         "yaxis": "y"
        }
       ],
       "layout": {
        "height": 650,
        "legend": {
         "tracegroupgap": 0
        },
        "margin": {
         "t": 60
        },
        "template": {
         "data": {
          "bar": [
           {
            "error_x": {
             "color": "#2a3f5f"
            },
            "error_y": {
             "color": "#2a3f5f"
            },
            "marker": {
             "line": {
              "color": "#E5ECF6",
              "width": 0.5
             }
            },
            "type": "bar"
           }
          ],
          "barpolar": [
           {
            "marker": {
             "line": {
              "color": "#E5ECF6",
              "width": 0.5
             }
            },
            "type": "barpolar"
           }
          ],
          "carpet": [
           {
            "aaxis": {
             "endlinecolor": "#2a3f5f",
             "gridcolor": "white",
             "linecolor": "white",
             "minorgridcolor": "white",
             "startlinecolor": "#2a3f5f"
            },
            "baxis": {
             "endlinecolor": "#2a3f5f",
             "gridcolor": "white",
             "linecolor": "white",
             "minorgridcolor": "white",
             "startlinecolor": "#2a3f5f"
            },
            "type": "carpet"
           }
          ],
          "choropleth": [
           {
            "colorbar": {
             "outlinewidth": 0,
             "ticks": ""
            },
            "type": "choropleth"
           }
          ],
          "contour": [
           {
            "colorbar": {
             "outlinewidth": 0,
             "ticks": ""
            },
            "colorscale": [
             [
              0,
              "#0d0887"
             ],
             [
              0.1111111111111111,
              "#46039f"
             ],
             [
              0.2222222222222222,
              "#7201a8"
             ],
             [
              0.3333333333333333,
              "#9c179e"
             ],
             [
              0.4444444444444444,
              "#bd3786"
             ],
             [
              0.5555555555555556,
              "#d8576b"
             ],
             [
              0.6666666666666666,
              "#ed7953"
             ],
             [
              0.7777777777777778,
              "#fb9f3a"
             ],
             [
              0.8888888888888888,
              "#fdca26"
             ],
             [
              1,
              "#f0f921"
             ]
            ],
            "type": "contour"
           }
          ],
          "contourcarpet": [
           {
            "colorbar": {
             "outlinewidth": 0,
             "ticks": ""
            },
            "type": "contourcarpet"
           }
          ],
          "heatmap": [
           {
            "colorbar": {
             "outlinewidth": 0,
             "ticks": ""
            },
            "colorscale": [
             [
              0,
              "#0d0887"
             ],
             [
              0.1111111111111111,
              "#46039f"
             ],
             [
              0.2222222222222222,
              "#7201a8"
             ],
             [
              0.3333333333333333,
              "#9c179e"
             ],
             [
              0.4444444444444444,
              "#bd3786"
             ],
             [
              0.5555555555555556,
              "#d8576b"
             ],
             [
              0.6666666666666666,
              "#ed7953"
             ],
             [
              0.7777777777777778,
              "#fb9f3a"
             ],
             [
              0.8888888888888888,
              "#fdca26"
             ],
             [
              1,
              "#f0f921"
             ]
            ],
            "type": "heatmap"
           }
          ],
          "heatmapgl": [
           {
            "colorbar": {
             "outlinewidth": 0,
             "ticks": ""
            },
            "colorscale": [
             [
              0,
              "#0d0887"
             ],
             [
              0.1111111111111111,
              "#46039f"
             ],
             [
              0.2222222222222222,
              "#7201a8"
             ],
             [
              0.3333333333333333,
              "#9c179e"
             ],
             [
              0.4444444444444444,
              "#bd3786"
             ],
             [
              0.5555555555555556,
              "#d8576b"
             ],
             [
              0.6666666666666666,
              "#ed7953"
             ],
             [
              0.7777777777777778,
              "#fb9f3a"
             ],
             [
              0.8888888888888888,
              "#fdca26"
             ],
             [
              1,
              "#f0f921"
             ]
            ],
            "type": "heatmapgl"
           }
          ],
          "histogram": [
           {
            "marker": {
             "colorbar": {
              "outlinewidth": 0,
              "ticks": ""
             }
            },
            "type": "histogram"
           }
          ],
          "histogram2d": [
           {
            "colorbar": {
             "outlinewidth": 0,
             "ticks": ""
            },
            "colorscale": [
             [
              0,
              "#0d0887"
             ],
             [
              0.1111111111111111,
              "#46039f"
             ],
             [
              0.2222222222222222,
              "#7201a8"
             ],
             [
              0.3333333333333333,
              "#9c179e"
             ],
             [
              0.4444444444444444,
              "#bd3786"
             ],
             [
              0.5555555555555556,
              "#d8576b"
             ],
             [
              0.6666666666666666,
              "#ed7953"
             ],
             [
              0.7777777777777778,
              "#fb9f3a"
             ],
             [
              0.8888888888888888,
              "#fdca26"
             ],
             [
              1,
              "#f0f921"
             ]
            ],
            "type": "histogram2d"
           }
          ],
          "histogram2dcontour": [
           {
            "colorbar": {
             "outlinewidth": 0,
             "ticks": ""
            },
            "colorscale": [
             [
              0,
              "#0d0887"
             ],
             [
              0.1111111111111111,
              "#46039f"
             ],
             [
              0.2222222222222222,
              "#7201a8"
             ],
             [
              0.3333333333333333,
              "#9c179e"
             ],
             [
              0.4444444444444444,
              "#bd3786"
             ],
             [
              0.5555555555555556,
              "#d8576b"
             ],
             [
              0.6666666666666666,
              "#ed7953"
             ],
             [
              0.7777777777777778,
              "#fb9f3a"
             ],
             [
              0.8888888888888888,
              "#fdca26"
             ],
             [
              1,
              "#f0f921"
             ]
            ],
            "type": "histogram2dcontour"
           }
          ],
          "mesh3d": [
           {
            "colorbar": {
             "outlinewidth": 0,
             "ticks": ""
            },
            "type": "mesh3d"
           }
          ],
          "parcoords": [
           {
            "line": {
             "colorbar": {
              "outlinewidth": 0,
              "ticks": ""
             }
            },
            "type": "parcoords"
           }
          ],
          "pie": [
           {
            "automargin": true,
            "type": "pie"
           }
          ],
          "scatter": [
           {
            "marker": {
             "colorbar": {
              "outlinewidth": 0,
              "ticks": ""
             }
            },
            "type": "scatter"
           }
          ],
          "scatter3d": [
           {
            "line": {
             "colorbar": {
              "outlinewidth": 0,
              "ticks": ""
             }
            },
            "marker": {
             "colorbar": {
              "outlinewidth": 0,
              "ticks": ""
             }
            },
            "type": "scatter3d"
           }
          ],
          "scattercarpet": [
           {
            "marker": {
             "colorbar": {
              "outlinewidth": 0,
              "ticks": ""
             }
            },
            "type": "scattercarpet"
           }
          ],
          "scattergeo": [
           {
            "marker": {
             "colorbar": {
              "outlinewidth": 0,
              "ticks": ""
             }
            },
            "type": "scattergeo"
           }
          ],
          "scattergl": [
           {
            "marker": {
             "colorbar": {
              "outlinewidth": 0,
              "ticks": ""
             }
            },
            "type": "scattergl"
           }
          ],
          "scattermapbox": [
           {
            "marker": {
             "colorbar": {
              "outlinewidth": 0,
              "ticks": ""
             }
            },
            "type": "scattermapbox"
           }
          ],
          "scatterpolar": [
           {
            "marker": {
             "colorbar": {
              "outlinewidth": 0,
              "ticks": ""
             }
            },
            "type": "scatterpolar"
           }
          ],
          "scatterpolargl": [
           {
            "marker": {
             "colorbar": {
              "outlinewidth": 0,
              "ticks": ""
             }
            },
            "type": "scatterpolargl"
           }
          ],
          "scatterternary": [
           {
            "marker": {
             "colorbar": {
              "outlinewidth": 0,
              "ticks": ""
             }
            },
            "type": "scatterternary"
           }
          ],
          "surface": [
           {
            "colorbar": {
             "outlinewidth": 0,
             "ticks": ""
            },
            "colorscale": [
             [
              0,
              "#0d0887"
             ],
             [
              0.1111111111111111,
              "#46039f"
             ],
             [
              0.2222222222222222,
              "#7201a8"
             ],
             [
              0.3333333333333333,
              "#9c179e"
             ],
             [
              0.4444444444444444,
              "#bd3786"
             ],
             [
              0.5555555555555556,
              "#d8576b"
             ],
             [
              0.6666666666666666,
              "#ed7953"
             ],
             [
              0.7777777777777778,
              "#fb9f3a"
             ],
             [
              0.8888888888888888,
              "#fdca26"
             ],
             [
              1,
              "#f0f921"
             ]
            ],
            "type": "surface"
           }
          ],
          "table": [
           {
            "cells": {
             "fill": {
              "color": "#EBF0F8"
             },
             "line": {
              "color": "white"
             }
            },
            "header": {
             "fill": {
              "color": "#C8D4E3"
             },
             "line": {
              "color": "white"
             }
            },
            "type": "table"
           }
          ]
         },
         "layout": {
          "annotationdefaults": {
           "arrowcolor": "#2a3f5f",
           "arrowhead": 0,
           "arrowwidth": 1
          },
          "coloraxis": {
           "colorbar": {
            "outlinewidth": 0,
            "ticks": ""
           }
          },
          "colorscale": {
           "diverging": [
            [
             0,
             "#8e0152"
            ],
            [
             0.1,
             "#c51b7d"
            ],
            [
             0.2,
             "#de77ae"
            ],
            [
             0.3,
             "#f1b6da"
            ],
            [
             0.4,
             "#fde0ef"
            ],
            [
             0.5,
             "#f7f7f7"
            ],
            [
             0.6,
             "#e6f5d0"
            ],
            [
             0.7,
             "#b8e186"
            ],
            [
             0.8,
             "#7fbc41"
            ],
            [
             0.9,
             "#4d9221"
            ],
            [
             1,
             "#276419"
            ]
           ],
           "sequential": [
            [
             0,
             "#0d0887"
            ],
            [
             0.1111111111111111,
             "#46039f"
            ],
            [
             0.2222222222222222,
             "#7201a8"
            ],
            [
             0.3333333333333333,
             "#9c179e"
            ],
            [
             0.4444444444444444,
             "#bd3786"
            ],
            [
             0.5555555555555556,
             "#d8576b"
            ],
            [
             0.6666666666666666,
             "#ed7953"
            ],
            [
             0.7777777777777778,
             "#fb9f3a"
            ],
            [
             0.8888888888888888,
             "#fdca26"
            ],
            [
             1,
             "#f0f921"
            ]
           ],
           "sequentialminus": [
            [
             0,
             "#0d0887"
            ],
            [
             0.1111111111111111,
             "#46039f"
            ],
            [
             0.2222222222222222,
             "#7201a8"
            ],
            [
             0.3333333333333333,
             "#9c179e"
            ],
            [
             0.4444444444444444,
             "#bd3786"
            ],
            [
             0.5555555555555556,
             "#d8576b"
            ],
            [
             0.6666666666666666,
             "#ed7953"
            ],
            [
             0.7777777777777778,
             "#fb9f3a"
            ],
            [
             0.8888888888888888,
             "#fdca26"
            ],
            [
             1,
             "#f0f921"
            ]
           ]
          },
          "colorway": [
           "#636efa",
           "#EF553B",
           "#00cc96",
           "#ab63fa",
           "#FFA15A",
           "#19d3f3",
           "#FF6692",
           "#B6E880",
           "#FF97FF",
           "#FECB52"
          ],
          "font": {
           "color": "#2a3f5f"
          },
          "geo": {
           "bgcolor": "white",
           "lakecolor": "white",
           "landcolor": "#E5ECF6",
           "showlakes": true,
           "showland": true,
           "subunitcolor": "white"
          },
          "hoverlabel": {
           "align": "left"
          },
          "hovermode": "closest",
          "mapbox": {
           "style": "light"
          },
          "paper_bgcolor": "white",
          "plot_bgcolor": "#E5ECF6",
          "polar": {
           "angularaxis": {
            "gridcolor": "white",
            "linecolor": "white",
            "ticks": ""
           },
           "bgcolor": "#E5ECF6",
           "radialaxis": {
            "gridcolor": "white",
            "linecolor": "white",
            "ticks": ""
           }
          },
          "scene": {
           "xaxis": {
            "backgroundcolor": "#E5ECF6",
            "gridcolor": "white",
            "gridwidth": 2,
            "linecolor": "white",
            "showbackground": true,
            "ticks": "",
            "zerolinecolor": "white"
           },
           "yaxis": {
            "backgroundcolor": "#E5ECF6",
            "gridcolor": "white",
            "gridwidth": 2,
            "linecolor": "white",
            "showbackground": true,
            "ticks": "",
            "zerolinecolor": "white"
           },
           "zaxis": {
            "backgroundcolor": "#E5ECF6",
            "gridcolor": "white",
            "gridwidth": 2,
            "linecolor": "white",
            "showbackground": true,
            "ticks": "",
            "zerolinecolor": "white"
           }
          },
          "shapedefaults": {
           "line": {
            "color": "#2a3f5f"
           }
          },
          "ternary": {
           "aaxis": {
            "gridcolor": "white",
            "linecolor": "white",
            "ticks": ""
           },
           "baxis": {
            "gridcolor": "white",
            "linecolor": "white",
            "ticks": ""
           },
           "bgcolor": "#E5ECF6",
           "caxis": {
            "gridcolor": "white",
            "linecolor": "white",
            "ticks": ""
           }
          },
          "title": {
           "x": 0.05
          },
          "xaxis": {
           "automargin": true,
           "gridcolor": "white",
           "linecolor": "white",
           "ticks": "",
           "title": {
            "standoff": 15
           },
           "zerolinecolor": "white",
           "zerolinewidth": 2
          },
          "yaxis": {
           "automargin": true,
           "gridcolor": "white",
           "linecolor": "white",
           "ticks": "",
           "title": {
            "standoff": 15
           },
           "zerolinecolor": "white",
           "zerolinewidth": 2
          }
         }
        },
        "title": {
         "text": "reduced word2vec visualization"
        },
        "xaxis": {
         "anchor": "y",
         "domain": [
          0,
          1
         ],
         "title": {
          "text": "feature-vector-1"
         }
        },
        "yaxis": {
         "anchor": "x",
         "domain": [
          0,
          1
         ],
         "title": {
          "text": "feature-vector-2"
         }
        }
       }
      }
     },
     "metadata": {},
     "output_type": "display_data"
    },
    {
     "name": "stdout",
     "output_type": "stream",
     "text": [
      "Aleyrodidae -> begomovirus_22_mei\n",
      "acuan  {'famili': 'NCBI:7036_Aleyrodidae', 'ordo': 'NCBI:7524_Hemiptera'}\n",
      "hasil  {'famili': 'NCBI:7036_Aleyrodidae', 'ordo': 'NCBI:7524_Hemiptera'}\n",
      "ordo True\n",
      "famili True\n",
      "1.0\n"
     ]
    },
    {
     "name": "stderr",
     "output_type": "stream",
     "text": [
      "/var/folders/b9/v73gyxys1djbgjy3c8c3cfwm0000gn/T/ipykernel_5496/2962911591.py:71: UserWarning:\n",
      "\n",
      "This pattern is interpreted as a regular expression, and has match groups. To actually get the groups, use str.extract.\n",
      "\n",
      "/var/folders/b9/v73gyxys1djbgjy3c8c3cfwm0000gn/T/ipykernel_5496/2962911591.py:72: UserWarning:\n",
      "\n",
      "This pattern is interpreted as a regular expression, and has match groups. To actually get the groups, use str.extract.\n",
      "\n"
     ]
    },
    {
     "name": "stdout",
     "output_type": "stream",
     "text": [
      "keyword virus utama:  ('Polerovirus', 'genus', 'NCBI:119164')\n",
      "87 Amrasca biguttula NCBI:30102\n",
      "0\n",
      "=================\n",
      "88 Lygus NCBI:30084\n",
      "0\n",
      "=================\n",
      "89 Adelphocoris NCBI:236345\n",
      "0\n",
      "=================\n",
      "163 Peru NCBI:1634180\n",
      "0\n",
      "=================\n",
      "312 Autographa gamma NCBI:254363\n",
      "0\n",
      "=================\n",
      "313 Spodoptera litura NCBI:69820\n",
      "0\n",
      "=================\n",
      "489 Spodoptera littoralis NCBI:7109\n",
      "0\n",
      "=================\n",
      "490 Pieris brassicae NCBI:7116\n",
      "0\n",
      "=================\n",
      "491 Mamestra brassicae NCBI:55057\n",
      "0\n",
      "=================\n",
      "492 Helicoverpa armigera NCBI:29058\n",
      "0\n",
      "=================\n",
      "622 Laodelphax striatella NCBI:195883\n",
      "0\n",
      "=================\n",
      "627 Heteronychus arator NCBI:295550\n",
      "0\n",
      "=================\n",
      "663 Diabrotica speciosa NCBI:133126\n",
      "0\n",
      "=================\n",
      "676 Heteronemia NCBI:629302\n",
      "0\n",
      "=================\n",
      "778 Crocidosema aporema NCBI:581467\n",
      "0\n",
      "=================\n",
      "785 Chrysodeixis chalcites NCBI:749652\n",
      "0\n",
      "=================\n",
      "1061 Macrosiphum euphorbiae NCBI:13131\n",
      "0\n",
      "=================\n",
      "1064 Neoleucinodes elegantalis NCBI:1511177\n",
      "0\n",
      "=================\n",
      "1065 Epiphyas postvittana NCBI:65032\n",
      "0\n",
      "=================\n",
      "1102 Thaumatotibia leucotreta NCBI:7139\n",
      "0\n",
      "=================\n",
      "1103 Chlorophorus annularis NCBI:2586298\n",
      "0\n",
      "=================\n",
      "1175 Sosa NCBI:7516\n",
      "0\n",
      "=================\n",
      "1195 Campion NCBI:1548265\n",
      "0\n",
      "=================\n",
      "1257 Chilo partellus NCBI:236792\n",
      "0\n",
      "=================\n",
      "1259 Chilo suppressalis NCBI:168631\n",
      "0\n",
      "=================\n",
      "1260 Bacillus NCBI:55087\n",
      "0\n",
      "=================\n",
      "1307 Tecia solanivora NCBI:396680\n",
      "0\n",
      "=================\n",
      "1317 Bactericera cockerelli NCBI:290155\n",
      "0\n",
      "=================\n",
      "1401 Rhopalosiphum rufiabdominalis NCBI:273650\n",
      "0\n",
      "=================\n",
      "1402 Rhopalosiphum padi NCBI:40932\n",
      "Rhopalosiphum padi NCBI:40932 --> Cereal yellow dwarf virus RPS NCBI:228582\n",
      "1\n",
      "=================\n",
      "1403 Schizaphis graminum NCBI:13262\n",
      "Schizaphis graminum NCBI:13262 --> Cereal yellow dwarf virus RPV NCBI:2170100\n",
      "1\n",
      "=================\n"
     ]
    },
    {
     "data": {
      "application/vnd.plotly.v1+json": {
       "config": {
        "plotlyServerURL": "https://plot.ly"
       },
       "data": [
        {
         "hovertemplate": "<b>%{hovertext}</b><br><br>feature-vector-1=%{x}<br>feature-vector-2=%{y}<br>text=%{text}<extra></extra>",
         "hovertext": [
          "Amrasca biguttula",
          "Lygus",
          "Adelphocoris",
          "Peru",
          "Autographa gamma",
          "Spodoptera litura",
          "Spodoptera littoralis",
          "Pieris brassicae",
          "Mamestra brassicae",
          "Helicoverpa armigera",
          "Laodelphax striatella",
          "Heteronychus arator",
          "Diabrotica speciosa",
          "Heteronemia",
          "Crocidosema aporema",
          "Chrysodeixis chalcites",
          "Macrosiphum euphorbiae",
          "Neoleucinodes elegantalis",
          "Epiphyas postvittana",
          "Thaumatotibia leucotreta",
          "Chlorophorus annularis",
          "Sosa",
          "Campion",
          "Chilo partellus",
          "Chilo suppressalis",
          "Bacillus",
          "Tecia solanivora",
          "Bactericera cockerelli",
          "Rhopalosiphum rufiabdominalis",
          "Rhopalosiphum padi",
          "Schizaphis graminum",
          "#TITIK_VEKTOR_ACUAN"
         ],
         "legendgroup": "",
         "marker": {
          "color": "#636efa",
          "symbol": "circle"
         },
         "mode": "markers+text",
         "name": "",
         "showlegend": false,
         "text": [
          "Cicadellidae",
          "Miridae",
          "Miridae",
          "Phalangopsidae",
          "Noctuidae",
          "Noctuidae",
          "Noctuidae",
          "Pieridae",
          "Noctuidae",
          "Noctuidae",
          "Delphacidae",
          "Scarabaeidae",
          "Chrysomelidae",
          "Heteronemiidae",
          "Tortricidae",
          "Noctuidae",
          "Aphididae",
          "Crambidae",
          "Tortricidae",
          "Tortricidae",
          "Cerambycidae",
          "Neuroptera^family",
          "Mantispidae",
          "Crambidae",
          "Crambidae",
          "Bacillidae",
          "Gelechiidae",
          "Triozidae",
          "Aphididae",
          "Aphididae",
          "Aphididae",
          "#TITIK_VEKTOR_ACUAN"
         ],
         "textposition": "top center",
         "type": "scatter",
         "x": [
          17.11052703857422,
          16.372406005859375,
          16.700647354125977,
          14.193467140197754,
          13.81953239440918,
          14.787591934204102,
          15.317720413208008,
          14.211591720581055,
          14.62810230255127,
          14.747363090515137,
          17.444473266601562,
          15.096972465515137,
          15.444494247436523,
          15.059577941894531,
          14.08565902709961,
          15.264216423034668,
          17.15971565246582,
          14.14306354522705,
          13.721384048461914,
          14.626588821411133,
          15.556044578552246,
          13.174554824829102,
          13.464847564697266,
          14.038208961486816,
          14.365557670593262,
          15.427618980407715,
          13.683450698852539,
          16.831602096557617,
          16.592981338500977,
          16.23274803161621,
          16.703182220458984,
          16.31565284729004
         ],
         "xaxis": "x",
         "y": [
          12.526387214660645,
          10.750906944274902,
          10.949294090270996,
          10.61532211303711,
          10.345029830932617,
          9.775455474853516,
          10.553934097290039,
          9.935664176940918,
          10.320572853088379,
          10.705310821533203,
          12.120128631591797,
          12.35522747039795,
          11.99012279510498,
          11.104433059692383,
          12.565092086791992,
          10.002824783325195,
          11.498574256896973,
          11.357464790344238,
          11.48554801940918,
          11.622052192687988,
          12.391156196594238,
          11.915552139282227,
          12.194310188293457,
          11.73332691192627,
          11.932840347290039,
          11.180190086364746,
          10.777002334594727,
          12.010634422302246,
          11.53784465789795,
          11.46251392364502,
          11.905990600585938,
          12.235464096069336
         ],
         "yaxis": "y"
        }
       ],
       "layout": {
        "height": 650,
        "legend": {
         "tracegroupgap": 0
        },
        "margin": {
         "t": 60
        },
        "template": {
         "data": {
          "bar": [
           {
            "error_x": {
             "color": "#2a3f5f"
            },
            "error_y": {
             "color": "#2a3f5f"
            },
            "marker": {
             "line": {
              "color": "#E5ECF6",
              "width": 0.5
             }
            },
            "type": "bar"
           }
          ],
          "barpolar": [
           {
            "marker": {
             "line": {
              "color": "#E5ECF6",
              "width": 0.5
             }
            },
            "type": "barpolar"
           }
          ],
          "carpet": [
           {
            "aaxis": {
             "endlinecolor": "#2a3f5f",
             "gridcolor": "white",
             "linecolor": "white",
             "minorgridcolor": "white",
             "startlinecolor": "#2a3f5f"
            },
            "baxis": {
             "endlinecolor": "#2a3f5f",
             "gridcolor": "white",
             "linecolor": "white",
             "minorgridcolor": "white",
             "startlinecolor": "#2a3f5f"
            },
            "type": "carpet"
           }
          ],
          "choropleth": [
           {
            "colorbar": {
             "outlinewidth": 0,
             "ticks": ""
            },
            "type": "choropleth"
           }
          ],
          "contour": [
           {
            "colorbar": {
             "outlinewidth": 0,
             "ticks": ""
            },
            "colorscale": [
             [
              0,
              "#0d0887"
             ],
             [
              0.1111111111111111,
              "#46039f"
             ],
             [
              0.2222222222222222,
              "#7201a8"
             ],
             [
              0.3333333333333333,
              "#9c179e"
             ],
             [
              0.4444444444444444,
              "#bd3786"
             ],
             [
              0.5555555555555556,
              "#d8576b"
             ],
             [
              0.6666666666666666,
              "#ed7953"
             ],
             [
              0.7777777777777778,
              "#fb9f3a"
             ],
             [
              0.8888888888888888,
              "#fdca26"
             ],
             [
              1,
              "#f0f921"
             ]
            ],
            "type": "contour"
           }
          ],
          "contourcarpet": [
           {
            "colorbar": {
             "outlinewidth": 0,
             "ticks": ""
            },
            "type": "contourcarpet"
           }
          ],
          "heatmap": [
           {
            "colorbar": {
             "outlinewidth": 0,
             "ticks": ""
            },
            "colorscale": [
             [
              0,
              "#0d0887"
             ],
             [
              0.1111111111111111,
              "#46039f"
             ],
             [
              0.2222222222222222,
              "#7201a8"
             ],
             [
              0.3333333333333333,
              "#9c179e"
             ],
             [
              0.4444444444444444,
              "#bd3786"
             ],
             [
              0.5555555555555556,
              "#d8576b"
             ],
             [
              0.6666666666666666,
              "#ed7953"
             ],
             [
              0.7777777777777778,
              "#fb9f3a"
             ],
             [
              0.8888888888888888,
              "#fdca26"
             ],
             [
              1,
              "#f0f921"
             ]
            ],
            "type": "heatmap"
           }
          ],
          "heatmapgl": [
           {
            "colorbar": {
             "outlinewidth": 0,
             "ticks": ""
            },
            "colorscale": [
             [
              0,
              "#0d0887"
             ],
             [
              0.1111111111111111,
              "#46039f"
             ],
             [
              0.2222222222222222,
              "#7201a8"
             ],
             [
              0.3333333333333333,
              "#9c179e"
             ],
             [
              0.4444444444444444,
              "#bd3786"
             ],
             [
              0.5555555555555556,
              "#d8576b"
             ],
             [
              0.6666666666666666,
              "#ed7953"
             ],
             [
              0.7777777777777778,
              "#fb9f3a"
             ],
             [
              0.8888888888888888,
              "#fdca26"
             ],
             [
              1,
              "#f0f921"
             ]
            ],
            "type": "heatmapgl"
           }
          ],
          "histogram": [
           {
            "marker": {
             "colorbar": {
              "outlinewidth": 0,
              "ticks": ""
             }
            },
            "type": "histogram"
           }
          ],
          "histogram2d": [
           {
            "colorbar": {
             "outlinewidth": 0,
             "ticks": ""
            },
            "colorscale": [
             [
              0,
              "#0d0887"
             ],
             [
              0.1111111111111111,
              "#46039f"
             ],
             [
              0.2222222222222222,
              "#7201a8"
             ],
             [
              0.3333333333333333,
              "#9c179e"
             ],
             [
              0.4444444444444444,
              "#bd3786"
             ],
             [
              0.5555555555555556,
              "#d8576b"
             ],
             [
              0.6666666666666666,
              "#ed7953"
             ],
             [
              0.7777777777777778,
              "#fb9f3a"
             ],
             [
              0.8888888888888888,
              "#fdca26"
             ],
             [
              1,
              "#f0f921"
             ]
            ],
            "type": "histogram2d"
           }
          ],
          "histogram2dcontour": [
           {
            "colorbar": {
             "outlinewidth": 0,
             "ticks": ""
            },
            "colorscale": [
             [
              0,
              "#0d0887"
             ],
             [
              0.1111111111111111,
              "#46039f"
             ],
             [
              0.2222222222222222,
              "#7201a8"
             ],
             [
              0.3333333333333333,
              "#9c179e"
             ],
             [
              0.4444444444444444,
              "#bd3786"
             ],
             [
              0.5555555555555556,
              "#d8576b"
             ],
             [
              0.6666666666666666,
              "#ed7953"
             ],
             [
              0.7777777777777778,
              "#fb9f3a"
             ],
             [
              0.8888888888888888,
              "#fdca26"
             ],
             [
              1,
              "#f0f921"
             ]
            ],
            "type": "histogram2dcontour"
           }
          ],
          "mesh3d": [
           {
            "colorbar": {
             "outlinewidth": 0,
             "ticks": ""
            },
            "type": "mesh3d"
           }
          ],
          "parcoords": [
           {
            "line": {
             "colorbar": {
              "outlinewidth": 0,
              "ticks": ""
             }
            },
            "type": "parcoords"
           }
          ],
          "pie": [
           {
            "automargin": true,
            "type": "pie"
           }
          ],
          "scatter": [
           {
            "marker": {
             "colorbar": {
              "outlinewidth": 0,
              "ticks": ""
             }
            },
            "type": "scatter"
           }
          ],
          "scatter3d": [
           {
            "line": {
             "colorbar": {
              "outlinewidth": 0,
              "ticks": ""
             }
            },
            "marker": {
             "colorbar": {
              "outlinewidth": 0,
              "ticks": ""
             }
            },
            "type": "scatter3d"
           }
          ],
          "scattercarpet": [
           {
            "marker": {
             "colorbar": {
              "outlinewidth": 0,
              "ticks": ""
             }
            },
            "type": "scattercarpet"
           }
          ],
          "scattergeo": [
           {
            "marker": {
             "colorbar": {
              "outlinewidth": 0,
              "ticks": ""
             }
            },
            "type": "scattergeo"
           }
          ],
          "scattergl": [
           {
            "marker": {
             "colorbar": {
              "outlinewidth": 0,
              "ticks": ""
             }
            },
            "type": "scattergl"
           }
          ],
          "scattermapbox": [
           {
            "marker": {
             "colorbar": {
              "outlinewidth": 0,
              "ticks": ""
             }
            },
            "type": "scattermapbox"
           }
          ],
          "scatterpolar": [
           {
            "marker": {
             "colorbar": {
              "outlinewidth": 0,
              "ticks": ""
             }
            },
            "type": "scatterpolar"
           }
          ],
          "scatterpolargl": [
           {
            "marker": {
             "colorbar": {
              "outlinewidth": 0,
              "ticks": ""
             }
            },
            "type": "scatterpolargl"
           }
          ],
          "scatterternary": [
           {
            "marker": {
             "colorbar": {
              "outlinewidth": 0,
              "ticks": ""
             }
            },
            "type": "scatterternary"
           }
          ],
          "surface": [
           {
            "colorbar": {
             "outlinewidth": 0,
             "ticks": ""
            },
            "colorscale": [
             [
              0,
              "#0d0887"
             ],
             [
              0.1111111111111111,
              "#46039f"
             ],
             [
              0.2222222222222222,
              "#7201a8"
             ],
             [
              0.3333333333333333,
              "#9c179e"
             ],
             [
              0.4444444444444444,
              "#bd3786"
             ],
             [
              0.5555555555555556,
              "#d8576b"
             ],
             [
              0.6666666666666666,
              "#ed7953"
             ],
             [
              0.7777777777777778,
              "#fb9f3a"
             ],
             [
              0.8888888888888888,
              "#fdca26"
             ],
             [
              1,
              "#f0f921"
             ]
            ],
            "type": "surface"
           }
          ],
          "table": [
           {
            "cells": {
             "fill": {
              "color": "#EBF0F8"
             },
             "line": {
              "color": "white"
             }
            },
            "header": {
             "fill": {
              "color": "#C8D4E3"
             },
             "line": {
              "color": "white"
             }
            },
            "type": "table"
           }
          ]
         },
         "layout": {
          "annotationdefaults": {
           "arrowcolor": "#2a3f5f",
           "arrowhead": 0,
           "arrowwidth": 1
          },
          "coloraxis": {
           "colorbar": {
            "outlinewidth": 0,
            "ticks": ""
           }
          },
          "colorscale": {
           "diverging": [
            [
             0,
             "#8e0152"
            ],
            [
             0.1,
             "#c51b7d"
            ],
            [
             0.2,
             "#de77ae"
            ],
            [
             0.3,
             "#f1b6da"
            ],
            [
             0.4,
             "#fde0ef"
            ],
            [
             0.5,
             "#f7f7f7"
            ],
            [
             0.6,
             "#e6f5d0"
            ],
            [
             0.7,
             "#b8e186"
            ],
            [
             0.8,
             "#7fbc41"
            ],
            [
             0.9,
             "#4d9221"
            ],
            [
             1,
             "#276419"
            ]
           ],
           "sequential": [
            [
             0,
             "#0d0887"
            ],
            [
             0.1111111111111111,
             "#46039f"
            ],
            [
             0.2222222222222222,
             "#7201a8"
            ],
            [
             0.3333333333333333,
             "#9c179e"
            ],
            [
             0.4444444444444444,
             "#bd3786"
            ],
            [
             0.5555555555555556,
             "#d8576b"
            ],
            [
             0.6666666666666666,
             "#ed7953"
            ],
            [
             0.7777777777777778,
             "#fb9f3a"
            ],
            [
             0.8888888888888888,
             "#fdca26"
            ],
            [
             1,
             "#f0f921"
            ]
           ],
           "sequentialminus": [
            [
             0,
             "#0d0887"
            ],
            [
             0.1111111111111111,
             "#46039f"
            ],
            [
             0.2222222222222222,
             "#7201a8"
            ],
            [
             0.3333333333333333,
             "#9c179e"
            ],
            [
             0.4444444444444444,
             "#bd3786"
            ],
            [
             0.5555555555555556,
             "#d8576b"
            ],
            [
             0.6666666666666666,
             "#ed7953"
            ],
            [
             0.7777777777777778,
             "#fb9f3a"
            ],
            [
             0.8888888888888888,
             "#fdca26"
            ],
            [
             1,
             "#f0f921"
            ]
           ]
          },
          "colorway": [
           "#636efa",
           "#EF553B",
           "#00cc96",
           "#ab63fa",
           "#FFA15A",
           "#19d3f3",
           "#FF6692",
           "#B6E880",
           "#FF97FF",
           "#FECB52"
          ],
          "font": {
           "color": "#2a3f5f"
          },
          "geo": {
           "bgcolor": "white",
           "lakecolor": "white",
           "landcolor": "#E5ECF6",
           "showlakes": true,
           "showland": true,
           "subunitcolor": "white"
          },
          "hoverlabel": {
           "align": "left"
          },
          "hovermode": "closest",
          "mapbox": {
           "style": "light"
          },
          "paper_bgcolor": "white",
          "plot_bgcolor": "#E5ECF6",
          "polar": {
           "angularaxis": {
            "gridcolor": "white",
            "linecolor": "white",
            "ticks": ""
           },
           "bgcolor": "#E5ECF6",
           "radialaxis": {
            "gridcolor": "white",
            "linecolor": "white",
            "ticks": ""
           }
          },
          "scene": {
           "xaxis": {
            "backgroundcolor": "#E5ECF6",
            "gridcolor": "white",
            "gridwidth": 2,
            "linecolor": "white",
            "showbackground": true,
            "ticks": "",
            "zerolinecolor": "white"
           },
           "yaxis": {
            "backgroundcolor": "#E5ECF6",
            "gridcolor": "white",
            "gridwidth": 2,
            "linecolor": "white",
            "showbackground": true,
            "ticks": "",
            "zerolinecolor": "white"
           },
           "zaxis": {
            "backgroundcolor": "#E5ECF6",
            "gridcolor": "white",
            "gridwidth": 2,
            "linecolor": "white",
            "showbackground": true,
            "ticks": "",
            "zerolinecolor": "white"
           }
          },
          "shapedefaults": {
           "line": {
            "color": "#2a3f5f"
           }
          },
          "ternary": {
           "aaxis": {
            "gridcolor": "white",
            "linecolor": "white",
            "ticks": ""
           },
           "baxis": {
            "gridcolor": "white",
            "linecolor": "white",
            "ticks": ""
           },
           "bgcolor": "#E5ECF6",
           "caxis": {
            "gridcolor": "white",
            "linecolor": "white",
            "ticks": ""
           }
          },
          "title": {
           "x": 0.05
          },
          "xaxis": {
           "automargin": true,
           "gridcolor": "white",
           "linecolor": "white",
           "ticks": "",
           "title": {
            "standoff": 15
           },
           "zerolinecolor": "white",
           "zerolinewidth": 2
          },
          "yaxis": {
           "automargin": true,
           "gridcolor": "white",
           "linecolor": "white",
           "ticks": "",
           "title": {
            "standoff": 15
           },
           "zerolinecolor": "white",
           "zerolinewidth": 2
          }
         }
        },
        "title": {
         "text": "reduced word2vec visualization"
        },
        "xaxis": {
         "anchor": "y",
         "domain": [
          0,
          1
         ],
         "title": {
          "text": "feature-vector-1"
         }
        },
        "yaxis": {
         "anchor": "x",
         "domain": [
          0,
          1
         ],
         "title": {
          "text": "feature-vector-2"
         }
        }
       }
      }
     },
     "metadata": {},
     "output_type": "display_data"
    },
    {
     "name": "stdout",
     "output_type": "stream",
     "text": [
      "Schizaphis -> 5pol\n",
      "acuan  {'genus': 'NCBI:13261_Schizaphis', 'famili': 'NCBI:27482_Aphididae', 'ordo': 'NCBI:7524_Hemiptera'}\n",
      "hasil  {'genus': 'NCBI:13261_Schizaphis', 'famili': 'NCBI:27482_Aphididae', 'ordo': 'NCBI:7524_Hemiptera'}\n",
      "ordo True\n",
      "famili True\n",
      "genus True\n",
      "1.0\n"
     ]
    },
    {
     "name": "stderr",
     "output_type": "stream",
     "text": [
      "/var/folders/b9/v73gyxys1djbgjy3c8c3cfwm0000gn/T/ipykernel_5496/2962911591.py:71: UserWarning:\n",
      "\n",
      "This pattern is interpreted as a regular expression, and has match groups. To actually get the groups, use str.extract.\n",
      "\n",
      "/var/folders/b9/v73gyxys1djbgjy3c8c3cfwm0000gn/T/ipykernel_5496/2962911591.py:72: UserWarning:\n",
      "\n",
      "This pattern is interpreted as a regular expression, and has match groups. To actually get the groups, use str.extract.\n",
      "\n"
     ]
    },
    {
     "name": "stdout",
     "output_type": "stream",
     "text": [
      "keyword virus utama:  ('Polerovirus', 'genus', 'NCBI:119164')\n",
      "87 Amrasca biguttula NCBI:30102\n",
      "0\n",
      "=================\n",
      "88 Lygus NCBI:30084\n",
      "0\n",
      "=================\n",
      "89 Adelphocoris NCBI:236345\n",
      "0\n",
      "=================\n",
      "163 Peru NCBI:1634180\n",
      "0\n",
      "=================\n",
      "312 Autographa gamma NCBI:254363\n",
      "0\n",
      "=================\n",
      "313 Spodoptera litura NCBI:69820\n",
      "0\n",
      "=================\n",
      "489 Spodoptera littoralis NCBI:7109\n",
      "0\n",
      "=================\n",
      "490 Pieris brassicae NCBI:7116\n",
      "0\n",
      "=================\n",
      "491 Mamestra brassicae NCBI:55057\n",
      "0\n",
      "=================\n",
      "492 Helicoverpa armigera NCBI:29058\n",
      "0\n",
      "=================\n",
      "622 Laodelphax striatella NCBI:195883\n",
      "0\n",
      "=================\n",
      "627 Heteronychus arator NCBI:295550\n",
      "0\n",
      "=================\n",
      "663 Diabrotica speciosa NCBI:133126\n",
      "0\n",
      "=================\n",
      "676 Heteronemia NCBI:629302\n",
      "0\n",
      "=================\n",
      "778 Crocidosema aporema NCBI:581467\n",
      "0\n",
      "=================\n",
      "785 Chrysodeixis chalcites NCBI:749652\n",
      "0\n",
      "=================\n",
      "1061 Macrosiphum euphorbiae NCBI:13131\n",
      "0\n",
      "=================\n",
      "1064 Neoleucinodes elegantalis NCBI:1511177\n",
      "0\n",
      "=================\n",
      "1065 Epiphyas postvittana NCBI:65032\n",
      "0\n",
      "=================\n",
      "1102 Thaumatotibia leucotreta NCBI:7139\n",
      "0\n",
      "=================\n",
      "1103 Chlorophorus annularis NCBI:2586298\n",
      "0\n",
      "=================\n",
      "1175 Sosa NCBI:7516\n",
      "0\n",
      "=================\n",
      "1195 Campion NCBI:1548265\n",
      "0\n",
      "=================\n",
      "1257 Chilo partellus NCBI:236792\n",
      "0\n",
      "=================\n",
      "1259 Chilo suppressalis NCBI:168631\n",
      "0\n",
      "=================\n",
      "1260 Bacillus NCBI:55087\n",
      "0\n",
      "=================\n",
      "1307 Tecia solanivora NCBI:396680\n",
      "0\n",
      "=================\n",
      "1317 Bactericera cockerelli NCBI:290155\n",
      "0\n",
      "=================\n",
      "1401 Rhopalosiphum rufiabdominalis NCBI:273650\n",
      "0\n",
      "=================\n",
      "1402 Rhopalosiphum padi NCBI:40932\n",
      "Rhopalosiphum padi NCBI:40932 --> Cereal yellow dwarf virus RPS NCBI:228582\n",
      "1\n",
      "=================\n",
      "1403 Schizaphis graminum NCBI:13262\n",
      "Schizaphis graminum NCBI:13262 --> Cereal yellow dwarf virus RPV NCBI:2170100\n",
      "1\n",
      "=================\n"
     ]
    },
    {
     "data": {
      "application/vnd.plotly.v1+json": {
       "config": {
        "plotlyServerURL": "https://plot.ly"
       },
       "data": [
        {
         "hovertemplate": "<b>%{hovertext}</b><br><br>feature-vector-1=%{x}<br>feature-vector-2=%{y}<br>text=%{text}<extra></extra>",
         "hovertext": [
          "Amrasca biguttula",
          "Lygus",
          "Adelphocoris",
          "Peru",
          "Autographa gamma",
          "Spodoptera litura",
          "Spodoptera littoralis",
          "Pieris brassicae",
          "Mamestra brassicae",
          "Helicoverpa armigera",
          "Laodelphax striatella",
          "Heteronychus arator",
          "Diabrotica speciosa",
          "Heteronemia",
          "Crocidosema aporema",
          "Chrysodeixis chalcites",
          "Macrosiphum euphorbiae",
          "Neoleucinodes elegantalis",
          "Epiphyas postvittana",
          "Thaumatotibia leucotreta",
          "Chlorophorus annularis",
          "Sosa",
          "Campion",
          "Chilo partellus",
          "Chilo suppressalis",
          "Bacillus",
          "Tecia solanivora",
          "Bactericera cockerelli",
          "Rhopalosiphum rufiabdominalis",
          "Rhopalosiphum padi",
          "Schizaphis graminum",
          "#TITIK_VEKTOR_ACUAN"
         ],
         "legendgroup": "",
         "marker": {
          "color": "#636efa",
          "symbol": "circle"
         },
         "mode": "markers+text",
         "name": "",
         "showlegend": false,
         "text": [
          "Cicadellidae",
          "Miridae",
          "Miridae",
          "Phalangopsidae",
          "Noctuidae",
          "Noctuidae",
          "Noctuidae",
          "Pieridae",
          "Noctuidae",
          "Noctuidae",
          "Delphacidae",
          "Scarabaeidae",
          "Chrysomelidae",
          "Heteronemiidae",
          "Tortricidae",
          "Noctuidae",
          "Aphididae",
          "Crambidae",
          "Tortricidae",
          "Tortricidae",
          "Cerambycidae",
          "Neuroptera^family",
          "Mantispidae",
          "Crambidae",
          "Crambidae",
          "Bacillidae",
          "Gelechiidae",
          "Triozidae",
          "Aphididae",
          "Aphididae",
          "Aphididae",
          "#TITIK_VEKTOR_ACUAN"
         ],
         "textposition": "top center",
         "type": "scatter",
         "x": [
          18.773767471313477,
          18.923297882080078,
          19.404922485351562,
          22.508914947509766,
          23.058164596557617,
          21.25278663635254,
          21.425477981567383,
          22.83979034423828,
          21.680274963378906,
          21.634918212890625,
          19.42352867126465,
          19.42945671081543,
          19.81383514404297,
          21.29257583618164,
          22.096923828125,
          22.21803092956543,
          19.949630737304688,
          21.862476348876953,
          22.00452995300293,
          22.679994583129883,
          19.873271942138672,
          20.68806266784668,
          20.429468154907227,
          22.248931884765625,
          22.01453971862793,
          21.394657135009766,
          22.540035247802734,
          19.054147720336914,
          20.38702964782715,
          20.266935348510742,
          19.33837890625,
          19.755352020263672
         ],
         "xaxis": "x",
         "y": [
          -4.68456506729126,
          -3.7263667583465576,
          -4.3203229904174805,
          -3.3772099018096924,
          -1.6427563428878784,
          -1.543272614479065,
          -2.1814863681793213,
          -1.9344266653060913,
          -1.2525100708007812,
          -1.7278504371643066,
          -5.311985015869141,
          -3.22218656539917,
          -3.4526796340942383,
          -3.4444398880004883,
          -3.6562118530273438,
          -1.6786572933197021,
          -4.425349712371826,
          -2.1318342685699463,
          -3.1118319034576416,
          -3.0491561889648438,
          -3.786029815673828,
          -2.063995599746704,
          -2.2945258617401123,
          -2.565760374069214,
          -2.247606039047241,
          -3.020433187484741,
          -1.3410128355026245,
          -4.187037944793701,
          -4.443002223968506,
          -4.861316680908203,
          -4.975930213928223,
          -4.831312656402588
         ],
         "yaxis": "y"
        }
       ],
       "layout": {
        "height": 650,
        "legend": {
         "tracegroupgap": 0
        },
        "margin": {
         "t": 60
        },
        "template": {
         "data": {
          "bar": [
           {
            "error_x": {
             "color": "#2a3f5f"
            },
            "error_y": {
             "color": "#2a3f5f"
            },
            "marker": {
             "line": {
              "color": "#E5ECF6",
              "width": 0.5
             }
            },
            "type": "bar"
           }
          ],
          "barpolar": [
           {
            "marker": {
             "line": {
              "color": "#E5ECF6",
              "width": 0.5
             }
            },
            "type": "barpolar"
           }
          ],
          "carpet": [
           {
            "aaxis": {
             "endlinecolor": "#2a3f5f",
             "gridcolor": "white",
             "linecolor": "white",
             "minorgridcolor": "white",
             "startlinecolor": "#2a3f5f"
            },
            "baxis": {
             "endlinecolor": "#2a3f5f",
             "gridcolor": "white",
             "linecolor": "white",
             "minorgridcolor": "white",
             "startlinecolor": "#2a3f5f"
            },
            "type": "carpet"
           }
          ],
          "choropleth": [
           {
            "colorbar": {
             "outlinewidth": 0,
             "ticks": ""
            },
            "type": "choropleth"
           }
          ],
          "contour": [
           {
            "colorbar": {
             "outlinewidth": 0,
             "ticks": ""
            },
            "colorscale": [
             [
              0,
              "#0d0887"
             ],
             [
              0.1111111111111111,
              "#46039f"
             ],
             [
              0.2222222222222222,
              "#7201a8"
             ],
             [
              0.3333333333333333,
              "#9c179e"
             ],
             [
              0.4444444444444444,
              "#bd3786"
             ],
             [
              0.5555555555555556,
              "#d8576b"
             ],
             [
              0.6666666666666666,
              "#ed7953"
             ],
             [
              0.7777777777777778,
              "#fb9f3a"
             ],
             [
              0.8888888888888888,
              "#fdca26"
             ],
             [
              1,
              "#f0f921"
             ]
            ],
            "type": "contour"
           }
          ],
          "contourcarpet": [
           {
            "colorbar": {
             "outlinewidth": 0,
             "ticks": ""
            },
            "type": "contourcarpet"
           }
          ],
          "heatmap": [
           {
            "colorbar": {
             "outlinewidth": 0,
             "ticks": ""
            },
            "colorscale": [
             [
              0,
              "#0d0887"
             ],
             [
              0.1111111111111111,
              "#46039f"
             ],
             [
              0.2222222222222222,
              "#7201a8"
             ],
             [
              0.3333333333333333,
              "#9c179e"
             ],
             [
              0.4444444444444444,
              "#bd3786"
             ],
             [
              0.5555555555555556,
              "#d8576b"
             ],
             [
              0.6666666666666666,
              "#ed7953"
             ],
             [
              0.7777777777777778,
              "#fb9f3a"
             ],
             [
              0.8888888888888888,
              "#fdca26"
             ],
             [
              1,
              "#f0f921"
             ]
            ],
            "type": "heatmap"
           }
          ],
          "heatmapgl": [
           {
            "colorbar": {
             "outlinewidth": 0,
             "ticks": ""
            },
            "colorscale": [
             [
              0,
              "#0d0887"
             ],
             [
              0.1111111111111111,
              "#46039f"
             ],
             [
              0.2222222222222222,
              "#7201a8"
             ],
             [
              0.3333333333333333,
              "#9c179e"
             ],
             [
              0.4444444444444444,
              "#bd3786"
             ],
             [
              0.5555555555555556,
              "#d8576b"
             ],
             [
              0.6666666666666666,
              "#ed7953"
             ],
             [
              0.7777777777777778,
              "#fb9f3a"
             ],
             [
              0.8888888888888888,
              "#fdca26"
             ],
             [
              1,
              "#f0f921"
             ]
            ],
            "type": "heatmapgl"
           }
          ],
          "histogram": [
           {
            "marker": {
             "colorbar": {
              "outlinewidth": 0,
              "ticks": ""
             }
            },
            "type": "histogram"
           }
          ],
          "histogram2d": [
           {
            "colorbar": {
             "outlinewidth": 0,
             "ticks": ""
            },
            "colorscale": [
             [
              0,
              "#0d0887"
             ],
             [
              0.1111111111111111,
              "#46039f"
             ],
             [
              0.2222222222222222,
              "#7201a8"
             ],
             [
              0.3333333333333333,
              "#9c179e"
             ],
             [
              0.4444444444444444,
              "#bd3786"
             ],
             [
              0.5555555555555556,
              "#d8576b"
             ],
             [
              0.6666666666666666,
              "#ed7953"
             ],
             [
              0.7777777777777778,
              "#fb9f3a"
             ],
             [
              0.8888888888888888,
              "#fdca26"
             ],
             [
              1,
              "#f0f921"
             ]
            ],
            "type": "histogram2d"
           }
          ],
          "histogram2dcontour": [
           {
            "colorbar": {
             "outlinewidth": 0,
             "ticks": ""
            },
            "colorscale": [
             [
              0,
              "#0d0887"
             ],
             [
              0.1111111111111111,
              "#46039f"
             ],
             [
              0.2222222222222222,
              "#7201a8"
             ],
             [
              0.3333333333333333,
              "#9c179e"
             ],
             [
              0.4444444444444444,
              "#bd3786"
             ],
             [
              0.5555555555555556,
              "#d8576b"
             ],
             [
              0.6666666666666666,
              "#ed7953"
             ],
             [
              0.7777777777777778,
              "#fb9f3a"
             ],
             [
              0.8888888888888888,
              "#fdca26"
             ],
             [
              1,
              "#f0f921"
             ]
            ],
            "type": "histogram2dcontour"
           }
          ],
          "mesh3d": [
           {
            "colorbar": {
             "outlinewidth": 0,
             "ticks": ""
            },
            "type": "mesh3d"
           }
          ],
          "parcoords": [
           {
            "line": {
             "colorbar": {
              "outlinewidth": 0,
              "ticks": ""
             }
            },
            "type": "parcoords"
           }
          ],
          "pie": [
           {
            "automargin": true,
            "type": "pie"
           }
          ],
          "scatter": [
           {
            "marker": {
             "colorbar": {
              "outlinewidth": 0,
              "ticks": ""
             }
            },
            "type": "scatter"
           }
          ],
          "scatter3d": [
           {
            "line": {
             "colorbar": {
              "outlinewidth": 0,
              "ticks": ""
             }
            },
            "marker": {
             "colorbar": {
              "outlinewidth": 0,
              "ticks": ""
             }
            },
            "type": "scatter3d"
           }
          ],
          "scattercarpet": [
           {
            "marker": {
             "colorbar": {
              "outlinewidth": 0,
              "ticks": ""
             }
            },
            "type": "scattercarpet"
           }
          ],
          "scattergeo": [
           {
            "marker": {
             "colorbar": {
              "outlinewidth": 0,
              "ticks": ""
             }
            },
            "type": "scattergeo"
           }
          ],
          "scattergl": [
           {
            "marker": {
             "colorbar": {
              "outlinewidth": 0,
              "ticks": ""
             }
            },
            "type": "scattergl"
           }
          ],
          "scattermapbox": [
           {
            "marker": {
             "colorbar": {
              "outlinewidth": 0,
              "ticks": ""
             }
            },
            "type": "scattermapbox"
           }
          ],
          "scatterpolar": [
           {
            "marker": {
             "colorbar": {
              "outlinewidth": 0,
              "ticks": ""
             }
            },
            "type": "scatterpolar"
           }
          ],
          "scatterpolargl": [
           {
            "marker": {
             "colorbar": {
              "outlinewidth": 0,
              "ticks": ""
             }
            },
            "type": "scatterpolargl"
           }
          ],
          "scatterternary": [
           {
            "marker": {
             "colorbar": {
              "outlinewidth": 0,
              "ticks": ""
             }
            },
            "type": "scatterternary"
           }
          ],
          "surface": [
           {
            "colorbar": {
             "outlinewidth": 0,
             "ticks": ""
            },
            "colorscale": [
             [
              0,
              "#0d0887"
             ],
             [
              0.1111111111111111,
              "#46039f"
             ],
             [
              0.2222222222222222,
              "#7201a8"
             ],
             [
              0.3333333333333333,
              "#9c179e"
             ],
             [
              0.4444444444444444,
              "#bd3786"
             ],
             [
              0.5555555555555556,
              "#d8576b"
             ],
             [
              0.6666666666666666,
              "#ed7953"
             ],
             [
              0.7777777777777778,
              "#fb9f3a"
             ],
             [
              0.8888888888888888,
              "#fdca26"
             ],
             [
              1,
              "#f0f921"
             ]
            ],
            "type": "surface"
           }
          ],
          "table": [
           {
            "cells": {
             "fill": {
              "color": "#EBF0F8"
             },
             "line": {
              "color": "white"
             }
            },
            "header": {
             "fill": {
              "color": "#C8D4E3"
             },
             "line": {
              "color": "white"
             }
            },
            "type": "table"
           }
          ]
         },
         "layout": {
          "annotationdefaults": {
           "arrowcolor": "#2a3f5f",
           "arrowhead": 0,
           "arrowwidth": 1
          },
          "coloraxis": {
           "colorbar": {
            "outlinewidth": 0,
            "ticks": ""
           }
          },
          "colorscale": {
           "diverging": [
            [
             0,
             "#8e0152"
            ],
            [
             0.1,
             "#c51b7d"
            ],
            [
             0.2,
             "#de77ae"
            ],
            [
             0.3,
             "#f1b6da"
            ],
            [
             0.4,
             "#fde0ef"
            ],
            [
             0.5,
             "#f7f7f7"
            ],
            [
             0.6,
             "#e6f5d0"
            ],
            [
             0.7,
             "#b8e186"
            ],
            [
             0.8,
             "#7fbc41"
            ],
            [
             0.9,
             "#4d9221"
            ],
            [
             1,
             "#276419"
            ]
           ],
           "sequential": [
            [
             0,
             "#0d0887"
            ],
            [
             0.1111111111111111,
             "#46039f"
            ],
            [
             0.2222222222222222,
             "#7201a8"
            ],
            [
             0.3333333333333333,
             "#9c179e"
            ],
            [
             0.4444444444444444,
             "#bd3786"
            ],
            [
             0.5555555555555556,
             "#d8576b"
            ],
            [
             0.6666666666666666,
             "#ed7953"
            ],
            [
             0.7777777777777778,
             "#fb9f3a"
            ],
            [
             0.8888888888888888,
             "#fdca26"
            ],
            [
             1,
             "#f0f921"
            ]
           ],
           "sequentialminus": [
            [
             0,
             "#0d0887"
            ],
            [
             0.1111111111111111,
             "#46039f"
            ],
            [
             0.2222222222222222,
             "#7201a8"
            ],
            [
             0.3333333333333333,
             "#9c179e"
            ],
            [
             0.4444444444444444,
             "#bd3786"
            ],
            [
             0.5555555555555556,
             "#d8576b"
            ],
            [
             0.6666666666666666,
             "#ed7953"
            ],
            [
             0.7777777777777778,
             "#fb9f3a"
            ],
            [
             0.8888888888888888,
             "#fdca26"
            ],
            [
             1,
             "#f0f921"
            ]
           ]
          },
          "colorway": [
           "#636efa",
           "#EF553B",
           "#00cc96",
           "#ab63fa",
           "#FFA15A",
           "#19d3f3",
           "#FF6692",
           "#B6E880",
           "#FF97FF",
           "#FECB52"
          ],
          "font": {
           "color": "#2a3f5f"
          },
          "geo": {
           "bgcolor": "white",
           "lakecolor": "white",
           "landcolor": "#E5ECF6",
           "showlakes": true,
           "showland": true,
           "subunitcolor": "white"
          },
          "hoverlabel": {
           "align": "left"
          },
          "hovermode": "closest",
          "mapbox": {
           "style": "light"
          },
          "paper_bgcolor": "white",
          "plot_bgcolor": "#E5ECF6",
          "polar": {
           "angularaxis": {
            "gridcolor": "white",
            "linecolor": "white",
            "ticks": ""
           },
           "bgcolor": "#E5ECF6",
           "radialaxis": {
            "gridcolor": "white",
            "linecolor": "white",
            "ticks": ""
           }
          },
          "scene": {
           "xaxis": {
            "backgroundcolor": "#E5ECF6",
            "gridcolor": "white",
            "gridwidth": 2,
            "linecolor": "white",
            "showbackground": true,
            "ticks": "",
            "zerolinecolor": "white"
           },
           "yaxis": {
            "backgroundcolor": "#E5ECF6",
            "gridcolor": "white",
            "gridwidth": 2,
            "linecolor": "white",
            "showbackground": true,
            "ticks": "",
            "zerolinecolor": "white"
           },
           "zaxis": {
            "backgroundcolor": "#E5ECF6",
            "gridcolor": "white",
            "gridwidth": 2,
            "linecolor": "white",
            "showbackground": true,
            "ticks": "",
            "zerolinecolor": "white"
           }
          },
          "shapedefaults": {
           "line": {
            "color": "#2a3f5f"
           }
          },
          "ternary": {
           "aaxis": {
            "gridcolor": "white",
            "linecolor": "white",
            "ticks": ""
           },
           "baxis": {
            "gridcolor": "white",
            "linecolor": "white",
            "ticks": ""
           },
           "bgcolor": "#E5ECF6",
           "caxis": {
            "gridcolor": "white",
            "linecolor": "white",
            "ticks": ""
           }
          },
          "title": {
           "x": 0.05
          },
          "xaxis": {
           "automargin": true,
           "gridcolor": "white",
           "linecolor": "white",
           "ticks": "",
           "title": {
            "standoff": 15
           },
           "zerolinecolor": "white",
           "zerolinewidth": 2
          },
          "yaxis": {
           "automargin": true,
           "gridcolor": "white",
           "linecolor": "white",
           "ticks": "",
           "title": {
            "standoff": 15
           },
           "zerolinecolor": "white",
           "zerolinewidth": 2
          }
         }
        },
        "title": {
         "text": "reduced word2vec visualization"
        },
        "xaxis": {
         "anchor": "y",
         "domain": [
          0,
          1
         ],
         "title": {
          "text": "feature-vector-1"
         }
        },
        "yaxis": {
         "anchor": "x",
         "domain": [
          0,
          1
         ],
         "title": {
          "text": "feature-vector-2"
         }
        }
       }
      }
     },
     "metadata": {},
     "output_type": "display_data"
    },
    {
     "name": "stdout",
     "output_type": "stream",
     "text": [
      "Myzus -> +12pol\n",
      "acuan  {'genus': 'NCBI:13163_Myzus', 'famili': 'NCBI:27482_Aphididae', 'ordo': 'NCBI:7524_Hemiptera'}\n",
      "hasil  {'genus': 'NCBI:13261_Schizaphis', 'famili': 'NCBI:27482_Aphididae', 'ordo': 'NCBI:7524_Hemiptera'}\n",
      "ordo True\n",
      "famili True\n",
      "genus False\n",
      "0.6666666666666666\n"
     ]
    },
    {
     "name": "stderr",
     "output_type": "stream",
     "text": [
      "/var/folders/b9/v73gyxys1djbgjy3c8c3cfwm0000gn/T/ipykernel_5496/2962911591.py:71: UserWarning:\n",
      "\n",
      "This pattern is interpreted as a regular expression, and has match groups. To actually get the groups, use str.extract.\n",
      "\n",
      "/var/folders/b9/v73gyxys1djbgjy3c8c3cfwm0000gn/T/ipykernel_5496/2962911591.py:72: UserWarning:\n",
      "\n",
      "This pattern is interpreted as a regular expression, and has match groups. To actually get the groups, use str.extract.\n",
      "\n"
     ]
    },
    {
     "name": "stdout",
     "output_type": "stream",
     "text": [
      "keyword virus utama:  ('Orthotospovirus', 'genus', 'NCBI:2560196')\n",
      "2 Frankliniella occidentalis NCBI:133901\n",
      "Frankliniella occidentalis NCBI:133901 --> Tomato spotted wilt orthotospovirus NCBI:1933298\n",
      "1\n",
      "=================\n",
      "3 Thrips tabaci NCBI:161014\n",
      "Thrips tabaci NCBI:161014 --> Tomato spotted wilt orthotospovirus NCBI:1933298\n",
      "1\n",
      "=================\n",
      "4 Scirtothrips dorsalis NCBI:163899\n",
      "Scirtothrips dorsalis NCBI:163899 --> Tomato spotted wilt orthotospovirus NCBI:1933298\n",
      "1\n",
      "=================\n",
      "49 Iris NCBI:444649\n",
      "0\n",
      "=================\n",
      "368 Macrosiphum euphorbiae NCBI:13131\n",
      "0\n",
      "=================\n",
      "732 Neoleucinodes elegantalis NCBI:1511177\n",
      "0\n",
      "=================\n",
      "742 Chrysodeixis chalcites NCBI:749652\n",
      "0\n",
      "=================\n",
      "743 Silver Y NCBI:254363\n",
      "0\n",
      "=================\n",
      "744 Spodoptera litura NCBI:69820\n",
      "0\n",
      "=================\n",
      "745 Light brown apple moth NCBI:65032\n",
      "0\n",
      "=================\n",
      "746 Spodoptera littoralis NCBI:7109\n",
      "0\n",
      "=================\n",
      "752 Helicoverpa armigera NCBI:29058\n",
      "0\n",
      "=================\n",
      "1331 Myzus persicae NCBI:13164\n",
      "0\n",
      "=================\n",
      "1846 Heteronemia NCBI:629302\n",
      "0\n",
      "=================\n",
      "3332 Diabrotica speciosa NCBI:133126\n",
      "0\n",
      "=================\n",
      "3459 Crocidosema NCBI:581467\n",
      "0\n",
      "=================\n",
      "4417 Tecia solanivora NCBI:396680\n",
      "0\n",
      "=================\n",
      "4425 Heteronychus arator NCBI:295550\n",
      "0\n",
      "=================\n",
      "4577 Bactericera cockerelli NCBI:290155\n",
      "0\n",
      "=================\n",
      "5585 Phalangopsidae NCBI:1634180\n",
      "0\n",
      "=================\n"
     ]
    },
    {
     "data": {
      "application/vnd.plotly.v1+json": {
       "config": {
        "plotlyServerURL": "https://plot.ly"
       },
       "data": [
        {
         "hovertemplate": "<b>%{hovertext}</b><br><br>feature-vector-1=%{x}<br>feature-vector-2=%{y}<br>text=%{text}<extra></extra>",
         "hovertext": [
          "Frankliniella occidentalis",
          "Thrips tabaci",
          "Scirtothrips dorsalis",
          "Iris",
          "Macrosiphum euphorbiae",
          "Neoleucinodes elegantalis",
          "Chrysodeixis chalcites",
          "Silver Y",
          "Spodoptera litura",
          "Light brown apple moth",
          "Spodoptera littoralis",
          "Helicoverpa armigera",
          "Myzus persicae",
          "Heteronemia",
          "Diabrotica speciosa",
          "Crocidosema",
          "Tecia solanivora",
          "Heteronychus arator",
          "Bactericera cockerelli",
          "Phalangopsidae",
          "#TITIK_VEKTOR_ACUAN"
         ],
         "legendgroup": "",
         "marker": {
          "color": "#636efa",
          "symbol": "circle"
         },
         "mode": "markers+text",
         "name": "",
         "showlegend": false,
         "text": [
          "Thripidae",
          "Thripidae",
          "Thripidae",
          "Eremiaphilidae",
          "Aphididae",
          "Crambidae",
          "Noctuidae",
          "Noctuidae",
          "Noctuidae",
          "Tortricidae",
          "Noctuidae",
          "Noctuidae",
          "Aphididae",
          "Heteronemiidae",
          "Chrysomelidae",
          "Tortricidae",
          "Gelechiidae",
          "Scarabaeidae",
          "Triozidae",
          "Phalangopsidae",
          "#TITIK_VEKTOR_ACUAN"
         ],
         "textposition": "top center",
         "type": "scatter",
         "x": [
          5.903598308563232,
          4.899127006530762,
          5.361171722412109,
          3.6352579593658447,
          4.937551021575928,
          5.41977071762085,
          6.898690700531006,
          6.535626411437988,
          6.208835601806641,
          6.0642571449279785,
          6.433103084564209,
          6.003166675567627,
          5.262057304382324,
          4.126495361328125,
          4.693471431732178,
          6.472527503967285,
          5.051766395568848,
          4.61671257019043,
          3.824397325515747,
          4.096426010131836,
          5.554438591003418
         ],
         "xaxis": "x",
         "y": [
          13.947662353515625,
          14.531003952026367,
          14.867805480957031,
          17.05349349975586,
          16.17275619506836,
          17.1961727142334,
          14.929854393005371,
          15.229205131530762,
          14.656953811645508,
          16.134620666503906,
          14.162165641784668,
          15.330733299255371,
          15.683403968811035,
          17.871694564819336,
          17.286741256713867,
          15.790203094482422,
          16.832178115844727,
          17.85114860534668,
          17.567140579223633,
          17.00477409362793,
          14.27547836303711
         ],
         "yaxis": "y"
        }
       ],
       "layout": {
        "height": 650,
        "legend": {
         "tracegroupgap": 0
        },
        "margin": {
         "t": 60
        },
        "template": {
         "data": {
          "bar": [
           {
            "error_x": {
             "color": "#2a3f5f"
            },
            "error_y": {
             "color": "#2a3f5f"
            },
            "marker": {
             "line": {
              "color": "#E5ECF6",
              "width": 0.5
             }
            },
            "type": "bar"
           }
          ],
          "barpolar": [
           {
            "marker": {
             "line": {
              "color": "#E5ECF6",
              "width": 0.5
             }
            },
            "type": "barpolar"
           }
          ],
          "carpet": [
           {
            "aaxis": {
             "endlinecolor": "#2a3f5f",
             "gridcolor": "white",
             "linecolor": "white",
             "minorgridcolor": "white",
             "startlinecolor": "#2a3f5f"
            },
            "baxis": {
             "endlinecolor": "#2a3f5f",
             "gridcolor": "white",
             "linecolor": "white",
             "minorgridcolor": "white",
             "startlinecolor": "#2a3f5f"
            },
            "type": "carpet"
           }
          ],
          "choropleth": [
           {
            "colorbar": {
             "outlinewidth": 0,
             "ticks": ""
            },
            "type": "choropleth"
           }
          ],
          "contour": [
           {
            "colorbar": {
             "outlinewidth": 0,
             "ticks": ""
            },
            "colorscale": [
             [
              0,
              "#0d0887"
             ],
             [
              0.1111111111111111,
              "#46039f"
             ],
             [
              0.2222222222222222,
              "#7201a8"
             ],
             [
              0.3333333333333333,
              "#9c179e"
             ],
             [
              0.4444444444444444,
              "#bd3786"
             ],
             [
              0.5555555555555556,
              "#d8576b"
             ],
             [
              0.6666666666666666,
              "#ed7953"
             ],
             [
              0.7777777777777778,
              "#fb9f3a"
             ],
             [
              0.8888888888888888,
              "#fdca26"
             ],
             [
              1,
              "#f0f921"
             ]
            ],
            "type": "contour"
           }
          ],
          "contourcarpet": [
           {
            "colorbar": {
             "outlinewidth": 0,
             "ticks": ""
            },
            "type": "contourcarpet"
           }
          ],
          "heatmap": [
           {
            "colorbar": {
             "outlinewidth": 0,
             "ticks": ""
            },
            "colorscale": [
             [
              0,
              "#0d0887"
             ],
             [
              0.1111111111111111,
              "#46039f"
             ],
             [
              0.2222222222222222,
              "#7201a8"
             ],
             [
              0.3333333333333333,
              "#9c179e"
             ],
             [
              0.4444444444444444,
              "#bd3786"
             ],
             [
              0.5555555555555556,
              "#d8576b"
             ],
             [
              0.6666666666666666,
              "#ed7953"
             ],
             [
              0.7777777777777778,
              "#fb9f3a"
             ],
             [
              0.8888888888888888,
              "#fdca26"
             ],
             [
              1,
              "#f0f921"
             ]
            ],
            "type": "heatmap"
           }
          ],
          "heatmapgl": [
           {
            "colorbar": {
             "outlinewidth": 0,
             "ticks": ""
            },
            "colorscale": [
             [
              0,
              "#0d0887"
             ],
             [
              0.1111111111111111,
              "#46039f"
             ],
             [
              0.2222222222222222,
              "#7201a8"
             ],
             [
              0.3333333333333333,
              "#9c179e"
             ],
             [
              0.4444444444444444,
              "#bd3786"
             ],
             [
              0.5555555555555556,
              "#d8576b"
             ],
             [
              0.6666666666666666,
              "#ed7953"
             ],
             [
              0.7777777777777778,
              "#fb9f3a"
             ],
             [
              0.8888888888888888,
              "#fdca26"
             ],
             [
              1,
              "#f0f921"
             ]
            ],
            "type": "heatmapgl"
           }
          ],
          "histogram": [
           {
            "marker": {
             "colorbar": {
              "outlinewidth": 0,
              "ticks": ""
             }
            },
            "type": "histogram"
           }
          ],
          "histogram2d": [
           {
            "colorbar": {
             "outlinewidth": 0,
             "ticks": ""
            },
            "colorscale": [
             [
              0,
              "#0d0887"
             ],
             [
              0.1111111111111111,
              "#46039f"
             ],
             [
              0.2222222222222222,
              "#7201a8"
             ],
             [
              0.3333333333333333,
              "#9c179e"
             ],
             [
              0.4444444444444444,
              "#bd3786"
             ],
             [
              0.5555555555555556,
              "#d8576b"
             ],
             [
              0.6666666666666666,
              "#ed7953"
             ],
             [
              0.7777777777777778,
              "#fb9f3a"
             ],
             [
              0.8888888888888888,
              "#fdca26"
             ],
             [
              1,
              "#f0f921"
             ]
            ],
            "type": "histogram2d"
           }
          ],
          "histogram2dcontour": [
           {
            "colorbar": {
             "outlinewidth": 0,
             "ticks": ""
            },
            "colorscale": [
             [
              0,
              "#0d0887"
             ],
             [
              0.1111111111111111,
              "#46039f"
             ],
             [
              0.2222222222222222,
              "#7201a8"
             ],
             [
              0.3333333333333333,
              "#9c179e"
             ],
             [
              0.4444444444444444,
              "#bd3786"
             ],
             [
              0.5555555555555556,
              "#d8576b"
             ],
             [
              0.6666666666666666,
              "#ed7953"
             ],
             [
              0.7777777777777778,
              "#fb9f3a"
             ],
             [
              0.8888888888888888,
              "#fdca26"
             ],
             [
              1,
              "#f0f921"
             ]
            ],
            "type": "histogram2dcontour"
           }
          ],
          "mesh3d": [
           {
            "colorbar": {
             "outlinewidth": 0,
             "ticks": ""
            },
            "type": "mesh3d"
           }
          ],
          "parcoords": [
           {
            "line": {
             "colorbar": {
              "outlinewidth": 0,
              "ticks": ""
             }
            },
            "type": "parcoords"
           }
          ],
          "pie": [
           {
            "automargin": true,
            "type": "pie"
           }
          ],
          "scatter": [
           {
            "marker": {
             "colorbar": {
              "outlinewidth": 0,
              "ticks": ""
             }
            },
            "type": "scatter"
           }
          ],
          "scatter3d": [
           {
            "line": {
             "colorbar": {
              "outlinewidth": 0,
              "ticks": ""
             }
            },
            "marker": {
             "colorbar": {
              "outlinewidth": 0,
              "ticks": ""
             }
            },
            "type": "scatter3d"
           }
          ],
          "scattercarpet": [
           {
            "marker": {
             "colorbar": {
              "outlinewidth": 0,
              "ticks": ""
             }
            },
            "type": "scattercarpet"
           }
          ],
          "scattergeo": [
           {
            "marker": {
             "colorbar": {
              "outlinewidth": 0,
              "ticks": ""
             }
            },
            "type": "scattergeo"
           }
          ],
          "scattergl": [
           {
            "marker": {
             "colorbar": {
              "outlinewidth": 0,
              "ticks": ""
             }
            },
            "type": "scattergl"
           }
          ],
          "scattermapbox": [
           {
            "marker": {
             "colorbar": {
              "outlinewidth": 0,
              "ticks": ""
             }
            },
            "type": "scattermapbox"
           }
          ],
          "scatterpolar": [
           {
            "marker": {
             "colorbar": {
              "outlinewidth": 0,
              "ticks": ""
             }
            },
            "type": "scatterpolar"
           }
          ],
          "scatterpolargl": [
           {
            "marker": {
             "colorbar": {
              "outlinewidth": 0,
              "ticks": ""
             }
            },
            "type": "scatterpolargl"
           }
          ],
          "scatterternary": [
           {
            "marker": {
             "colorbar": {
              "outlinewidth": 0,
              "ticks": ""
             }
            },
            "type": "scatterternary"
           }
          ],
          "surface": [
           {
            "colorbar": {
             "outlinewidth": 0,
             "ticks": ""
            },
            "colorscale": [
             [
              0,
              "#0d0887"
             ],
             [
              0.1111111111111111,
              "#46039f"
             ],
             [
              0.2222222222222222,
              "#7201a8"
             ],
             [
              0.3333333333333333,
              "#9c179e"
             ],
             [
              0.4444444444444444,
              "#bd3786"
             ],
             [
              0.5555555555555556,
              "#d8576b"
             ],
             [
              0.6666666666666666,
              "#ed7953"
             ],
             [
              0.7777777777777778,
              "#fb9f3a"
             ],
             [
              0.8888888888888888,
              "#fdca26"
             ],
             [
              1,
              "#f0f921"
             ]
            ],
            "type": "surface"
           }
          ],
          "table": [
           {
            "cells": {
             "fill": {
              "color": "#EBF0F8"
             },
             "line": {
              "color": "white"
             }
            },
            "header": {
             "fill": {
              "color": "#C8D4E3"
             },
             "line": {
              "color": "white"
             }
            },
            "type": "table"
           }
          ]
         },
         "layout": {
          "annotationdefaults": {
           "arrowcolor": "#2a3f5f",
           "arrowhead": 0,
           "arrowwidth": 1
          },
          "coloraxis": {
           "colorbar": {
            "outlinewidth": 0,
            "ticks": ""
           }
          },
          "colorscale": {
           "diverging": [
            [
             0,
             "#8e0152"
            ],
            [
             0.1,
             "#c51b7d"
            ],
            [
             0.2,
             "#de77ae"
            ],
            [
             0.3,
             "#f1b6da"
            ],
            [
             0.4,
             "#fde0ef"
            ],
            [
             0.5,
             "#f7f7f7"
            ],
            [
             0.6,
             "#e6f5d0"
            ],
            [
             0.7,
             "#b8e186"
            ],
            [
             0.8,
             "#7fbc41"
            ],
            [
             0.9,
             "#4d9221"
            ],
            [
             1,
             "#276419"
            ]
           ],
           "sequential": [
            [
             0,
             "#0d0887"
            ],
            [
             0.1111111111111111,
             "#46039f"
            ],
            [
             0.2222222222222222,
             "#7201a8"
            ],
            [
             0.3333333333333333,
             "#9c179e"
            ],
            [
             0.4444444444444444,
             "#bd3786"
            ],
            [
             0.5555555555555556,
             "#d8576b"
            ],
            [
             0.6666666666666666,
             "#ed7953"
            ],
            [
             0.7777777777777778,
             "#fb9f3a"
            ],
            [
             0.8888888888888888,
             "#fdca26"
            ],
            [
             1,
             "#f0f921"
            ]
           ],
           "sequentialminus": [
            [
             0,
             "#0d0887"
            ],
            [
             0.1111111111111111,
             "#46039f"
            ],
            [
             0.2222222222222222,
             "#7201a8"
            ],
            [
             0.3333333333333333,
             "#9c179e"
            ],
            [
             0.4444444444444444,
             "#bd3786"
            ],
            [
             0.5555555555555556,
             "#d8576b"
            ],
            [
             0.6666666666666666,
             "#ed7953"
            ],
            [
             0.7777777777777778,
             "#fb9f3a"
            ],
            [
             0.8888888888888888,
             "#fdca26"
            ],
            [
             1,
             "#f0f921"
            ]
           ]
          },
          "colorway": [
           "#636efa",
           "#EF553B",
           "#00cc96",
           "#ab63fa",
           "#FFA15A",
           "#19d3f3",
           "#FF6692",
           "#B6E880",
           "#FF97FF",
           "#FECB52"
          ],
          "font": {
           "color": "#2a3f5f"
          },
          "geo": {
           "bgcolor": "white",
           "lakecolor": "white",
           "landcolor": "#E5ECF6",
           "showlakes": true,
           "showland": true,
           "subunitcolor": "white"
          },
          "hoverlabel": {
           "align": "left"
          },
          "hovermode": "closest",
          "mapbox": {
           "style": "light"
          },
          "paper_bgcolor": "white",
          "plot_bgcolor": "#E5ECF6",
          "polar": {
           "angularaxis": {
            "gridcolor": "white",
            "linecolor": "white",
            "ticks": ""
           },
           "bgcolor": "#E5ECF6",
           "radialaxis": {
            "gridcolor": "white",
            "linecolor": "white",
            "ticks": ""
           }
          },
          "scene": {
           "xaxis": {
            "backgroundcolor": "#E5ECF6",
            "gridcolor": "white",
            "gridwidth": 2,
            "linecolor": "white",
            "showbackground": true,
            "ticks": "",
            "zerolinecolor": "white"
           },
           "yaxis": {
            "backgroundcolor": "#E5ECF6",
            "gridcolor": "white",
            "gridwidth": 2,
            "linecolor": "white",
            "showbackground": true,
            "ticks": "",
            "zerolinecolor": "white"
           },
           "zaxis": {
            "backgroundcolor": "#E5ECF6",
            "gridcolor": "white",
            "gridwidth": 2,
            "linecolor": "white",
            "showbackground": true,
            "ticks": "",
            "zerolinecolor": "white"
           }
          },
          "shapedefaults": {
           "line": {
            "color": "#2a3f5f"
           }
          },
          "ternary": {
           "aaxis": {
            "gridcolor": "white",
            "linecolor": "white",
            "ticks": ""
           },
           "baxis": {
            "gridcolor": "white",
            "linecolor": "white",
            "ticks": ""
           },
           "bgcolor": "#E5ECF6",
           "caxis": {
            "gridcolor": "white",
            "linecolor": "white",
            "ticks": ""
           }
          },
          "title": {
           "x": 0.05
          },
          "xaxis": {
           "automargin": true,
           "gridcolor": "white",
           "linecolor": "white",
           "ticks": "",
           "title": {
            "standoff": 15
           },
           "zerolinecolor": "white",
           "zerolinewidth": 2
          },
          "yaxis": {
           "automargin": true,
           "gridcolor": "white",
           "linecolor": "white",
           "ticks": "",
           "title": {
            "standoff": 15
           },
           "zerolinecolor": "white",
           "zerolinewidth": 2
          }
         }
        },
        "title": {
         "text": "reduced word2vec visualization"
        },
        "xaxis": {
         "anchor": "y",
         "domain": [
          0,
          1
         ],
         "title": {
          "text": "feature-vector-1"
         }
        },
        "yaxis": {
         "anchor": "x",
         "domain": [
          0,
          1
         ],
         "title": {
          "text": "feature-vector-2"
         }
        }
       }
      }
     },
     "metadata": {},
     "output_type": "display_data"
    },
    {
     "name": "stdout",
     "output_type": "stream",
     "text": [
      "Frankliniella -> 7ort\n",
      "acuan  {'genus': 'NCBI:45059_Frankliniella', 'famili': 'NCBI:45053_Thripidae', 'ordo': 'NCBI:30262_Thysanoptera'}\n",
      "hasil  {'genus': 'NCBI:45059_Frankliniella', 'famili': 'NCBI:45053_Thripidae', 'ordo': 'NCBI:30262_Thysanoptera'}\n",
      "ordo True\n",
      "famili True\n",
      "genus True\n",
      "1.0\n"
     ]
    },
    {
     "name": "stderr",
     "output_type": "stream",
     "text": [
      "/var/folders/b9/v73gyxys1djbgjy3c8c3cfwm0000gn/T/ipykernel_5496/2962911591.py:71: UserWarning:\n",
      "\n",
      "This pattern is interpreted as a regular expression, and has match groups. To actually get the groups, use str.extract.\n",
      "\n",
      "/var/folders/b9/v73gyxys1djbgjy3c8c3cfwm0000gn/T/ipykernel_5496/2962911591.py:72: UserWarning:\n",
      "\n",
      "This pattern is interpreted as a regular expression, and has match groups. To actually get the groups, use str.extract.\n",
      "\n"
     ]
    },
    {
     "name": "stdout",
     "output_type": "stream",
     "text": [
      "keyword virus utama:  ('Orthotospovirus', 'genus', 'NCBI:2560196')\n",
      "22 Frankliniella occidentalis NCBI:133901\n",
      "Frankliniella occidentalis NCBI:133901 --> Tomato spotted wilt orthotospovirus NCBI:1933298\n",
      "1\n",
      "=================\n",
      "23 Scirtothrips dorsalis NCBI:163899\n",
      "Scirtothrips dorsalis NCBI:163899 --> Tomato spotted wilt orthotospovirus NCBI:1933298\n",
      "1\n",
      "=================\n",
      "137 Crocidosema aporema NCBI:581467\n",
      "0\n",
      "=================\n",
      "144 Chrysodeixis chalcites NCBI:749652\n",
      "0\n",
      "=================\n",
      "145 Autographa gamma NCBI:254363\n",
      "0\n",
      "=================\n",
      "146 Diabrotica speciosa NCBI:133126\n",
      "0\n",
      "=================\n",
      "147 Spodoptera litura NCBI:69820\n",
      "0\n",
      "=================\n",
      "148 Spodoptera littoralis NCBI:7109\n",
      "0\n",
      "=================\n",
      "150 Helicoverpa armigera NCBI:29058\n",
      "0\n",
      "=================\n",
      "500 Macrosiphum euphorbiae NCBI:13131\n",
      "0\n",
      "=================\n",
      "506 Neoleucinodes elegantalis NCBI:1511177\n",
      "0\n",
      "=================\n",
      "507 Epiphyas postvittana NCBI:65032\n",
      "0\n",
      "=================\n",
      "537 Tecia solanivora NCBI:396680\n",
      "0\n",
      "=================\n",
      "538 Heteronychus arator NCBI:295550\n",
      "0\n",
      "=================\n",
      "546 Bactericera cockerelli NCBI:290155\n",
      "0\n",
      "=================\n",
      "718 Myzus persicae NCBI:13164\n",
      "0\n",
      "=================\n",
      "757 Heteronemia NCBI:629302\n",
      "0\n",
      "=================\n",
      "1184 Peru NCBI:1634180\n",
      "0\n",
      "=================\n",
      "1273 Thrips tabaci NCBI:161014\n",
      "Thrips tabaci NCBI:161014 --> Tomato spotted wilt orthotospovirus NCBI:1933298\n",
      "1\n",
      "=================\n",
      "1274 Myzus (Nectarosiphon) persicae NCBI:13163\n",
      "0\n",
      "=================\n",
      "1275 Iris NCBI:444649\n",
      "Iris NCBI:444649 --> Iris yellow spot virus NCBI:60456\n",
      "1\n",
      "=================\n",
      "1277 Orchamoplatus citri NCBI:7036\n",
      "0\n",
      "=================\n",
      "1284 Macrosiphum (Macrosiphum) euphorbiae NCBI:13130\n",
      "0\n",
      "=================\n"
     ]
    },
    {
     "data": {
      "application/vnd.plotly.v1+json": {
       "config": {
        "plotlyServerURL": "https://plot.ly"
       },
       "data": [
        {
         "hovertemplate": "<b>%{hovertext}</b><br><br>feature-vector-1=%{x}<br>feature-vector-2=%{y}<br>text=%{text}<extra></extra>",
         "hovertext": [
          "Frankliniella occidentalis",
          "Scirtothrips dorsalis",
          "Crocidosema aporema",
          "Chrysodeixis chalcites",
          "Autographa gamma",
          "Diabrotica speciosa",
          "Spodoptera litura",
          "Spodoptera littoralis",
          "Helicoverpa armigera",
          "Macrosiphum euphorbiae",
          "Neoleucinodes elegantalis",
          "Epiphyas postvittana",
          "Tecia solanivora",
          "Heteronychus arator",
          "Bactericera cockerelli",
          "Myzus persicae",
          "Heteronemia",
          "Peru",
          "Thrips tabaci",
          "Myzus (Nectarosiphon) persicae",
          "Iris",
          "Orchamoplatus citri",
          "Macrosiphum (Macrosiphum) euphorbiae",
          "#TITIK_VEKTOR_ACUAN"
         ],
         "legendgroup": "",
         "marker": {
          "color": "#636efa",
          "symbol": "circle"
         },
         "mode": "markers+text",
         "name": "",
         "showlegend": false,
         "text": [
          "Thripidae",
          "Thripidae",
          "Tortricidae",
          "Noctuidae",
          "Noctuidae",
          "Chrysomelidae",
          "Noctuidae",
          "Noctuidae",
          "Noctuidae",
          "Aphididae",
          "Crambidae",
          "Tortricidae",
          "Gelechiidae",
          "Scarabaeidae",
          "Triozidae",
          "Aphididae",
          "Heteronemiidae",
          "Phalangopsidae",
          "Thripidae",
          "Aphididae",
          "Eremiaphilidae",
          "Aleyrodidae",
          "Aphididae",
          "#TITIK_VEKTOR_ACUAN"
         ],
         "textposition": "top center",
         "type": "scatter",
         "x": [
          2.3257102966308594,
          2.5561275482177734,
          2.293156147003174,
          3.341578722000122,
          2.8501694202423096,
          3.062588930130005,
          3.5087738037109375,
          3.4654898643493652,
          2.956064462661743,
          2.0523712635040283,
          2.4733619689941406,
          3.5521230697631836,
          3.685635566711426,
          2.824155807495117,
          2.713982343673706,
          2.9761717319488525,
          3.771207571029663,
          3.7990894317626953,
          2.356452703475952,
          2.263195037841797,
          3.4525022506713867,
          1.972910761833191,
          1.6049911975860596,
          1.8802516460418701
         ],
         "xaxis": "x",
         "y": [
          12.96215534210205,
          12.53187084197998,
          16.075687408447266,
          15.522665023803711,
          17.411226272583008,
          12.496079444885254,
          16.38568115234375,
          17.07155990600586,
          16.986204147338867,
          12.292911529541016,
          16.660661697387695,
          17.45717430114746,
          15.922727584838867,
          12.0174560546875,
          15.630440711975098,
          16.38275909423828,
          13.466018676757812,
          12.94747257232666,
          13.517990112304688,
          14.265340805053711,
          13.22775936126709,
          13.624859809875488,
          13.405119895935059,
          12.904674530029297
         ],
         "yaxis": "y"
        }
       ],
       "layout": {
        "height": 650,
        "legend": {
         "tracegroupgap": 0
        },
        "margin": {
         "t": 60
        },
        "template": {
         "data": {
          "bar": [
           {
            "error_x": {
             "color": "#2a3f5f"
            },
            "error_y": {
             "color": "#2a3f5f"
            },
            "marker": {
             "line": {
              "color": "#E5ECF6",
              "width": 0.5
             }
            },
            "type": "bar"
           }
          ],
          "barpolar": [
           {
            "marker": {
             "line": {
              "color": "#E5ECF6",
              "width": 0.5
             }
            },
            "type": "barpolar"
           }
          ],
          "carpet": [
           {
            "aaxis": {
             "endlinecolor": "#2a3f5f",
             "gridcolor": "white",
             "linecolor": "white",
             "minorgridcolor": "white",
             "startlinecolor": "#2a3f5f"
            },
            "baxis": {
             "endlinecolor": "#2a3f5f",
             "gridcolor": "white",
             "linecolor": "white",
             "minorgridcolor": "white",
             "startlinecolor": "#2a3f5f"
            },
            "type": "carpet"
           }
          ],
          "choropleth": [
           {
            "colorbar": {
             "outlinewidth": 0,
             "ticks": ""
            },
            "type": "choropleth"
           }
          ],
          "contour": [
           {
            "colorbar": {
             "outlinewidth": 0,
             "ticks": ""
            },
            "colorscale": [
             [
              0,
              "#0d0887"
             ],
             [
              0.1111111111111111,
              "#46039f"
             ],
             [
              0.2222222222222222,
              "#7201a8"
             ],
             [
              0.3333333333333333,
              "#9c179e"
             ],
             [
              0.4444444444444444,
              "#bd3786"
             ],
             [
              0.5555555555555556,
              "#d8576b"
             ],
             [
              0.6666666666666666,
              "#ed7953"
             ],
             [
              0.7777777777777778,
              "#fb9f3a"
             ],
             [
              0.8888888888888888,
              "#fdca26"
             ],
             [
              1,
              "#f0f921"
             ]
            ],
            "type": "contour"
           }
          ],
          "contourcarpet": [
           {
            "colorbar": {
             "outlinewidth": 0,
             "ticks": ""
            },
            "type": "contourcarpet"
           }
          ],
          "heatmap": [
           {
            "colorbar": {
             "outlinewidth": 0,
             "ticks": ""
            },
            "colorscale": [
             [
              0,
              "#0d0887"
             ],
             [
              0.1111111111111111,
              "#46039f"
             ],
             [
              0.2222222222222222,
              "#7201a8"
             ],
             [
              0.3333333333333333,
              "#9c179e"
             ],
             [
              0.4444444444444444,
              "#bd3786"
             ],
             [
              0.5555555555555556,
              "#d8576b"
             ],
             [
              0.6666666666666666,
              "#ed7953"
             ],
             [
              0.7777777777777778,
              "#fb9f3a"
             ],
             [
              0.8888888888888888,
              "#fdca26"
             ],
             [
              1,
              "#f0f921"
             ]
            ],
            "type": "heatmap"
           }
          ],
          "heatmapgl": [
           {
            "colorbar": {
             "outlinewidth": 0,
             "ticks": ""
            },
            "colorscale": [
             [
              0,
              "#0d0887"
             ],
             [
              0.1111111111111111,
              "#46039f"
             ],
             [
              0.2222222222222222,
              "#7201a8"
             ],
             [
              0.3333333333333333,
              "#9c179e"
             ],
             [
              0.4444444444444444,
              "#bd3786"
             ],
             [
              0.5555555555555556,
              "#d8576b"
             ],
             [
              0.6666666666666666,
              "#ed7953"
             ],
             [
              0.7777777777777778,
              "#fb9f3a"
             ],
             [
              0.8888888888888888,
              "#fdca26"
             ],
             [
              1,
              "#f0f921"
             ]
            ],
            "type": "heatmapgl"
           }
          ],
          "histogram": [
           {
            "marker": {
             "colorbar": {
              "outlinewidth": 0,
              "ticks": ""
             }
            },
            "type": "histogram"
           }
          ],
          "histogram2d": [
           {
            "colorbar": {
             "outlinewidth": 0,
             "ticks": ""
            },
            "colorscale": [
             [
              0,
              "#0d0887"
             ],
             [
              0.1111111111111111,
              "#46039f"
             ],
             [
              0.2222222222222222,
              "#7201a8"
             ],
             [
              0.3333333333333333,
              "#9c179e"
             ],
             [
              0.4444444444444444,
              "#bd3786"
             ],
             [
              0.5555555555555556,
              "#d8576b"
             ],
             [
              0.6666666666666666,
              "#ed7953"
             ],
             [
              0.7777777777777778,
              "#fb9f3a"
             ],
             [
              0.8888888888888888,
              "#fdca26"
             ],
             [
              1,
              "#f0f921"
             ]
            ],
            "type": "histogram2d"
           }
          ],
          "histogram2dcontour": [
           {
            "colorbar": {
             "outlinewidth": 0,
             "ticks": ""
            },
            "colorscale": [
             [
              0,
              "#0d0887"
             ],
             [
              0.1111111111111111,
              "#46039f"
             ],
             [
              0.2222222222222222,
              "#7201a8"
             ],
             [
              0.3333333333333333,
              "#9c179e"
             ],
             [
              0.4444444444444444,
              "#bd3786"
             ],
             [
              0.5555555555555556,
              "#d8576b"
             ],
             [
              0.6666666666666666,
              "#ed7953"
             ],
             [
              0.7777777777777778,
              "#fb9f3a"
             ],
             [
              0.8888888888888888,
              "#fdca26"
             ],
             [
              1,
              "#f0f921"
             ]
            ],
            "type": "histogram2dcontour"
           }
          ],
          "mesh3d": [
           {
            "colorbar": {
             "outlinewidth": 0,
             "ticks": ""
            },
            "type": "mesh3d"
           }
          ],
          "parcoords": [
           {
            "line": {
             "colorbar": {
              "outlinewidth": 0,
              "ticks": ""
             }
            },
            "type": "parcoords"
           }
          ],
          "pie": [
           {
            "automargin": true,
            "type": "pie"
           }
          ],
          "scatter": [
           {
            "marker": {
             "colorbar": {
              "outlinewidth": 0,
              "ticks": ""
             }
            },
            "type": "scatter"
           }
          ],
          "scatter3d": [
           {
            "line": {
             "colorbar": {
              "outlinewidth": 0,
              "ticks": ""
             }
            },
            "marker": {
             "colorbar": {
              "outlinewidth": 0,
              "ticks": ""
             }
            },
            "type": "scatter3d"
           }
          ],
          "scattercarpet": [
           {
            "marker": {
             "colorbar": {
              "outlinewidth": 0,
              "ticks": ""
             }
            },
            "type": "scattercarpet"
           }
          ],
          "scattergeo": [
           {
            "marker": {
             "colorbar": {
              "outlinewidth": 0,
              "ticks": ""
             }
            },
            "type": "scattergeo"
           }
          ],
          "scattergl": [
           {
            "marker": {
             "colorbar": {
              "outlinewidth": 0,
              "ticks": ""
             }
            },
            "type": "scattergl"
           }
          ],
          "scattermapbox": [
           {
            "marker": {
             "colorbar": {
              "outlinewidth": 0,
              "ticks": ""
             }
            },
            "type": "scattermapbox"
           }
          ],
          "scatterpolar": [
           {
            "marker": {
             "colorbar": {
              "outlinewidth": 0,
              "ticks": ""
             }
            },
            "type": "scatterpolar"
           }
          ],
          "scatterpolargl": [
           {
            "marker": {
             "colorbar": {
              "outlinewidth": 0,
              "ticks": ""
             }
            },
            "type": "scatterpolargl"
           }
          ],
          "scatterternary": [
           {
            "marker": {
             "colorbar": {
              "outlinewidth": 0,
              "ticks": ""
             }
            },
            "type": "scatterternary"
           }
          ],
          "surface": [
           {
            "colorbar": {
             "outlinewidth": 0,
             "ticks": ""
            },
            "colorscale": [
             [
              0,
              "#0d0887"
             ],
             [
              0.1111111111111111,
              "#46039f"
             ],
             [
              0.2222222222222222,
              "#7201a8"
             ],
             [
              0.3333333333333333,
              "#9c179e"
             ],
             [
              0.4444444444444444,
              "#bd3786"
             ],
             [
              0.5555555555555556,
              "#d8576b"
             ],
             [
              0.6666666666666666,
              "#ed7953"
             ],
             [
              0.7777777777777778,
              "#fb9f3a"
             ],
             [
              0.8888888888888888,
              "#fdca26"
             ],
             [
              1,
              "#f0f921"
             ]
            ],
            "type": "surface"
           }
          ],
          "table": [
           {
            "cells": {
             "fill": {
              "color": "#EBF0F8"
             },
             "line": {
              "color": "white"
             }
            },
            "header": {
             "fill": {
              "color": "#C8D4E3"
             },
             "line": {
              "color": "white"
             }
            },
            "type": "table"
           }
          ]
         },
         "layout": {
          "annotationdefaults": {
           "arrowcolor": "#2a3f5f",
           "arrowhead": 0,
           "arrowwidth": 1
          },
          "coloraxis": {
           "colorbar": {
            "outlinewidth": 0,
            "ticks": ""
           }
          },
          "colorscale": {
           "diverging": [
            [
             0,
             "#8e0152"
            ],
            [
             0.1,
             "#c51b7d"
            ],
            [
             0.2,
             "#de77ae"
            ],
            [
             0.3,
             "#f1b6da"
            ],
            [
             0.4,
             "#fde0ef"
            ],
            [
             0.5,
             "#f7f7f7"
            ],
            [
             0.6,
             "#e6f5d0"
            ],
            [
             0.7,
             "#b8e186"
            ],
            [
             0.8,
             "#7fbc41"
            ],
            [
             0.9,
             "#4d9221"
            ],
            [
             1,
             "#276419"
            ]
           ],
           "sequential": [
            [
             0,
             "#0d0887"
            ],
            [
             0.1111111111111111,
             "#46039f"
            ],
            [
             0.2222222222222222,
             "#7201a8"
            ],
            [
             0.3333333333333333,
             "#9c179e"
            ],
            [
             0.4444444444444444,
             "#bd3786"
            ],
            [
             0.5555555555555556,
             "#d8576b"
            ],
            [
             0.6666666666666666,
             "#ed7953"
            ],
            [
             0.7777777777777778,
             "#fb9f3a"
            ],
            [
             0.8888888888888888,
             "#fdca26"
            ],
            [
             1,
             "#f0f921"
            ]
           ],
           "sequentialminus": [
            [
             0,
             "#0d0887"
            ],
            [
             0.1111111111111111,
             "#46039f"
            ],
            [
             0.2222222222222222,
             "#7201a8"
            ],
            [
             0.3333333333333333,
             "#9c179e"
            ],
            [
             0.4444444444444444,
             "#bd3786"
            ],
            [
             0.5555555555555556,
             "#d8576b"
            ],
            [
             0.6666666666666666,
             "#ed7953"
            ],
            [
             0.7777777777777778,
             "#fb9f3a"
            ],
            [
             0.8888888888888888,
             "#fdca26"
            ],
            [
             1,
             "#f0f921"
            ]
           ]
          },
          "colorway": [
           "#636efa",
           "#EF553B",
           "#00cc96",
           "#ab63fa",
           "#FFA15A",
           "#19d3f3",
           "#FF6692",
           "#B6E880",
           "#FF97FF",
           "#FECB52"
          ],
          "font": {
           "color": "#2a3f5f"
          },
          "geo": {
           "bgcolor": "white",
           "lakecolor": "white",
           "landcolor": "#E5ECF6",
           "showlakes": true,
           "showland": true,
           "subunitcolor": "white"
          },
          "hoverlabel": {
           "align": "left"
          },
          "hovermode": "closest",
          "mapbox": {
           "style": "light"
          },
          "paper_bgcolor": "white",
          "plot_bgcolor": "#E5ECF6",
          "polar": {
           "angularaxis": {
            "gridcolor": "white",
            "linecolor": "white",
            "ticks": ""
           },
           "bgcolor": "#E5ECF6",
           "radialaxis": {
            "gridcolor": "white",
            "linecolor": "white",
            "ticks": ""
           }
          },
          "scene": {
           "xaxis": {
            "backgroundcolor": "#E5ECF6",
            "gridcolor": "white",
            "gridwidth": 2,
            "linecolor": "white",
            "showbackground": true,
            "ticks": "",
            "zerolinecolor": "white"
           },
           "yaxis": {
            "backgroundcolor": "#E5ECF6",
            "gridcolor": "white",
            "gridwidth": 2,
            "linecolor": "white",
            "showbackground": true,
            "ticks": "",
            "zerolinecolor": "white"
           },
           "zaxis": {
            "backgroundcolor": "#E5ECF6",
            "gridcolor": "white",
            "gridwidth": 2,
            "linecolor": "white",
            "showbackground": true,
            "ticks": "",
            "zerolinecolor": "white"
           }
          },
          "shapedefaults": {
           "line": {
            "color": "#2a3f5f"
           }
          },
          "ternary": {
           "aaxis": {
            "gridcolor": "white",
            "linecolor": "white",
            "ticks": ""
           },
           "baxis": {
            "gridcolor": "white",
            "linecolor": "white",
            "ticks": ""
           },
           "bgcolor": "#E5ECF6",
           "caxis": {
            "gridcolor": "white",
            "linecolor": "white",
            "ticks": ""
           }
          },
          "title": {
           "x": 0.05
          },
          "xaxis": {
           "automargin": true,
           "gridcolor": "white",
           "linecolor": "white",
           "ticks": "",
           "title": {
            "standoff": 15
           },
           "zerolinecolor": "white",
           "zerolinewidth": 2
          },
          "yaxis": {
           "automargin": true,
           "gridcolor": "white",
           "linecolor": "white",
           "ticks": "",
           "title": {
            "standoff": 15
           },
           "zerolinecolor": "white",
           "zerolinewidth": 2
          }
         }
        },
        "title": {
         "text": "reduced word2vec visualization"
        },
        "xaxis": {
         "anchor": "y",
         "domain": [
          0,
          1
         ],
         "title": {
          "text": "feature-vector-1"
         }
        },
        "yaxis": {
         "anchor": "x",
         "domain": [
          0,
          1
         ],
         "title": {
          "text": "feature-vector-2"
         }
        }
       }
      }
     },
     "metadata": {},
     "output_type": "display_data"
    },
    {
     "name": "stdout",
     "output_type": "stream",
     "text": [
      "Thrips -> 8capchlo\n",
      "acuan  {'ordo': 'NCBI:30262_Thysanoptera'}\n",
      "hasil  {'ordo': 'NCBI:30262_Thysanoptera'}\n",
      "ordo True\n",
      "1.0\n"
     ]
    },
    {
     "name": "stderr",
     "output_type": "stream",
     "text": [
      "/var/folders/b9/v73gyxys1djbgjy3c8c3cfwm0000gn/T/ipykernel_5496/2962911591.py:71: UserWarning:\n",
      "\n",
      "This pattern is interpreted as a regular expression, and has match groups. To actually get the groups, use str.extract.\n",
      "\n",
      "/var/folders/b9/v73gyxys1djbgjy3c8c3cfwm0000gn/T/ipykernel_5496/2962911591.py:72: UserWarning:\n",
      "\n",
      "This pattern is interpreted as a regular expression, and has match groups. To actually get the groups, use str.extract.\n",
      "\n"
     ]
    },
    {
     "name": "stdout",
     "output_type": "stream",
     "text": [
      "keyword virus utama:  ('Potyvirus', 'genus', 'NCBI:12195')\n",
      "131 Nacna NCBI:1341303\n",
      "Nacna NCBI:1341303 --> Gloriosa stripe mosaic virus NCBI:12201\n",
      "Nacna NCBI:1341303 --> Canna yellow streak virus NCBI:433462\n",
      "2\n",
      "=================\n",
      "258 Phytomyza gymnostoma NCBI:132616\n",
      "0\n",
      "=================\n",
      "392 Spodoptera littoralis NCBI:7109\n",
      "0\n",
      "=================\n",
      "393 Spodoptera litura NCBI:69820\n",
      "0\n",
      "=================\n",
      "404 Stigmina NCBI:421394\n",
      "0\n",
      "=================\n",
      "408 Heteronemia NCBI:629302\n",
      "0\n",
      "=================\n",
      "443 Thaumatotibia leucotreta NCBI:7139\n",
      "0\n",
      "=================\n",
      "444 Ceroplastes japonicus NCBI:1182649\n",
      "0\n",
      "=================\n",
      "450 Adoxophyes orana NCBI:480707\n",
      "0\n",
      "=================\n",
      "451 Grapholita funebrana NCBI:568174\n",
      "0\n",
      "=================\n",
      "453 Epiphyas postvittana NCBI:65032\n",
      "0\n",
      "=================\n",
      "493 Argyresthia pruniella NCBI:572726\n",
      "0\n",
      "=================\n",
      "494 Rhagoletis cerasi NCBI:43399\n",
      "0\n",
      "=================\n",
      "495 Trichoferus campestris NCBI:351093\n",
      "0\n",
      "=================\n",
      "496 Leucoptera malifoliella NCBI:753488\n",
      "0\n",
      "=================\n",
      "552 Crocidosema aporema NCBI:581467\n",
      "0\n",
      "=================\n",
      "557 Chrysodeixis chalcites NCBI:749652\n",
      "0\n",
      "=================\n",
      "558 Autographa gamma NCBI:254363\n",
      "0\n",
      "=================\n",
      "559 Diabrotica speciosa NCBI:133126\n",
      "0\n",
      "=================\n",
      "561 Helicoverpa armigera NCBI:29058\n",
      "0\n",
      "=================\n",
      "684 Chlorophorus annularis NCBI:2586298\n",
      "0\n",
      "=================\n",
      "688 Metamasius hemipterus NCBI:206458\n",
      "0\n",
      "=================\n",
      "689 Calandra obscura NCBI:7041\n",
      "0\n",
      "=================\n",
      "690 Rhynchophorus palmarum NCBI:93127\n",
      "0\n",
      "=================\n",
      "793 Sosa NCBI:7516\n",
      "0\n",
      "=================\n",
      "805 Campion NCBI:1548265\n",
      "0\n",
      "=================\n",
      "869 Chilo partellus NCBI:236792\n",
      "0\n",
      "=================\n",
      "870 Chilo suppressalis NCBI:168631\n",
      "0\n",
      "=================\n",
      "871 Laodelphax striatella NCBI:195883\n",
      "0\n",
      "=================\n",
      "872 Bacillus NCBI:55087\n",
      "0\n",
      "=================\n",
      "875 Heteronychus arator NCBI:295550\n",
      "0\n",
      "=================\n",
      "889 Conogethes punctiferalis NCBI:1133088\n",
      "0\n",
      "=================\n",
      "912 Bacillus NCBI:55086\n",
      "0\n",
      "=================\n",
      "946 Bactrocera zonata NCBI:137042\n",
      "0\n",
      "=================\n",
      "1073 Peru NCBI:1634180\n",
      "0\n",
      "=================\n",
      "1327 Pieris brassicae NCBI:7116\n",
      "0\n",
      "=================\n",
      "1328 Mamestra brassicae NCBI:55057\n",
      "0\n",
      "=================\n",
      "1530 Macrosiphum euphorbiae NCBI:13131\n",
      "0\n",
      "=================\n",
      "1531 Myzus persicae NCBI:13164\n",
      "0\n",
      "=================\n",
      "1645 Lymantria dispar asiatica NCBI:871304\n",
      "0\n",
      "=================\n",
      "1646 Aeolesthes sarta NCBI:1158783\n",
      "0\n",
      "=================\n",
      "1647 Neocerambyx raddei NCBI:2690390\n",
      "0\n",
      "=================\n",
      "1649 Tremex fuscicornis NCBI:1142927\n",
      "0\n",
      "=================\n",
      "1650 Trypodendron domesticum NCBI:105210\n",
      "0\n",
      "=================\n",
      "1651 Scolytus intricatus NCBI:878976\n",
      "0\n",
      "=================\n",
      "1652 Agrilus biguttatus NCBI:324823\n",
      "0\n",
      "=================\n",
      "1656 Agrilus NCBI:195164\n",
      "0\n",
      "=================\n",
      "1658 Platypus quercivorus NCBI:122836\n",
      "0\n",
      "=================\n",
      "1659 Lymantria NCBI:13122\n",
      "0\n",
      "=================\n",
      "1660 Tortrix viridana NCBI:311327\n",
      "0\n",
      "=================\n",
      "1661 Thaumetopoea processionea NCBI:499230\n",
      "0\n",
      "=================\n",
      "1695 Stenoma catenifer NCBI:1921420\n",
      "0\n",
      "=================\n",
      "1696 Cryptoblabes gnidiella NCBI:1546127\n",
      "0\n",
      "=================\n",
      "1700 Xyleborus glabratus NCBI:105119\n",
      "0\n",
      "=================\n",
      "1762 Eurybia NCBI:124358\n",
      "0\n",
      "=================\n",
      "2097 Neoleucinodes elegantalis NCBI:1511177\n",
      "0\n",
      "=================\n",
      "2136 Tecia solanivora NCBI:396680\n",
      "0\n",
      "=================\n",
      "2146 Bactericera cockerelli NCBI:290155\n",
      "0\n",
      "=================\n",
      "2431 Thrips tabaci NCBI:161014\n",
      "0\n",
      "=================\n",
      "2432 Myzus (Nectarosiphon) persicae NCBI:13163\n",
      "0\n",
      "=================\n",
      "2433 Iris NCBI:444649\n",
      "Iris NCBI:444649 --> Iris severe mosaic virus NCBI:32620\n",
      "Iris NCBI:444649 --> Iris mild mosaic virus NCBI:206392\n",
      "2\n",
      "=================\n",
      "2435 Orchamoplatus citri NCBI:7036\n",
      "0\n",
      "=================\n",
      "2442 Macrosiphum (Macrosiphum) euphorbiae NCBI:13130\n",
      "0\n",
      "=================\n"
     ]
    },
    {
     "data": {
      "application/vnd.plotly.v1+json": {
       "config": {
        "plotlyServerURL": "https://plot.ly"
       },
       "data": [
        {
         "hovertemplate": "<b>%{hovertext}</b><br><br>feature-vector-1=%{x}<br>feature-vector-2=%{y}<br>text=%{text}<extra></extra>",
         "hovertext": [
          "Nacna",
          "Phytomyza gymnostoma",
          "Spodoptera littoralis",
          "Spodoptera litura",
          "Stigmina",
          "Heteronemia",
          "Thaumatotibia leucotreta",
          "Ceroplastes japonicus",
          "Adoxophyes orana",
          "Grapholita funebrana",
          "Epiphyas postvittana",
          "Argyresthia pruniella",
          "Rhagoletis cerasi",
          "Trichoferus campestris",
          "Leucoptera malifoliella",
          "Crocidosema aporema",
          "Chrysodeixis chalcites",
          "Autographa gamma",
          "Diabrotica speciosa",
          "Helicoverpa armigera",
          "Chlorophorus annularis",
          "Metamasius hemipterus",
          "Calandra obscura",
          "Rhynchophorus palmarum",
          "Sosa",
          "Campion",
          "Chilo partellus",
          "Chilo suppressalis",
          "Laodelphax striatella",
          "Bacillus",
          "Heteronychus arator",
          "Conogethes punctiferalis",
          "Bacillus",
          "Bactrocera zonata",
          "Peru",
          "Pieris brassicae",
          "Mamestra brassicae",
          "Macrosiphum euphorbiae",
          "Myzus persicae",
          "Lymantria dispar asiatica",
          "Aeolesthes sarta",
          "Neocerambyx raddei",
          "Tremex fuscicornis",
          "Trypodendron domesticum",
          "Scolytus intricatus",
          "Agrilus biguttatus",
          "Agrilus",
          "Platypus quercivorus",
          "Lymantria",
          "Tortrix viridana",
          "Thaumetopoea processionea",
          "Stenoma catenifer",
          "Cryptoblabes gnidiella",
          "Xyleborus glabratus",
          "Eurybia",
          "Neoleucinodes elegantalis",
          "Tecia solanivora",
          "Bactericera cockerelli",
          "Thrips tabaci",
          "Myzus (Nectarosiphon) persicae",
          "Iris",
          "Orchamoplatus citri",
          "Macrosiphum (Macrosiphum) euphorbiae",
          "#TITIK_VEKTOR_ACUAN"
         ],
         "legendgroup": "",
         "marker": {
          "color": "#636efa",
          "symbol": "circle"
         },
         "mode": "markers+text",
         "name": "",
         "showlegend": false,
         "text": [
          "Noctuidae",
          "Agromyzidae",
          "Noctuidae",
          "Noctuidae",
          "Crabronidae",
          "Heteronemiidae",
          "Tortricidae",
          "Coccidae",
          "Tortricidae",
          "Tortricidae",
          "Tortricidae",
          "Argyresthiidae",
          "Tephritidae",
          "Cerambycidae",
          "Lyonetiidae",
          "Tortricidae",
          "Noctuidae",
          "Noctuidae",
          "Chrysomelidae",
          "Noctuidae",
          "Cerambycidae",
          "Curculionidae",
          "Dryophthoridae",
          "Curculionidae",
          "Neuroptera^family",
          "Mantispidae",
          "Crambidae",
          "Crambidae",
          "Delphacidae",
          "Bacillidae",
          "Scarabaeidae",
          "Crambidae",
          "Bacillidae",
          "Tephritidae",
          "Phalangopsidae",
          "Pieridae",
          "Noctuidae",
          "Aphididae",
          "Aphididae",
          "Erebidae",
          "Cerambycidae",
          "Cerambycidae",
          "Siricidae",
          "Curculionidae",
          "Curculionidae",
          "Buprestidae",
          "Buprestidae",
          "Curculionidae",
          "Erebidae",
          "Tortricidae",
          "Notodontidae",
          "Depressariidae",
          "Pyralidae",
          "Curculionidae",
          "Riodinidae",
          "Crambidae",
          "Gelechiidae",
          "Triozidae",
          "Thripidae",
          "Aphididae",
          "Eremiaphilidae",
          "Aleyrodidae",
          "Aphididae",
          "#TITIK_VEKTOR_ACUAN"
         ],
         "textposition": "top center",
         "type": "scatter",
         "x": [
          10.195130348205566,
          10.187826156616211,
          10.347453117370605,
          10.095650672912598,
          8.965754508972168,
          11.980340003967285,
          11.454964637756348,
          7.135058403015137,
          12.179293632507324,
          11.4339017868042,
          11.918462753295898,
          10.104604721069336,
          10.00515365600586,
          2.339378833770752,
          12.132038116455078,
          11.581544876098633,
          9.640175819396973,
          9.42338752746582,
          3.373344898223877,
          9.94304370880127,
          2.664116621017456,
          3.464934825897217,
          3.2124156951904297,
          3.7324986457824707,
          10.295923233032227,
          10.119510650634766,
          10.973923683166504,
          11.141603469848633,
          7.135193824768066,
          11.858715057373047,
          3.296966552734375,
          11.389809608459473,
          11.778786659240723,
          10.192625045776367,
          12.00436782836914,
          10.526932716369629,
          9.809526443481445,
          7.414371013641357,
          7.500517845153809,
          10.556897163391113,
          2.6530349254608154,
          2.744478225708008,
          8.744855880737305,
          3.6829328536987305,
          3.811539649963379,
          2.8916358947753906,
          2.727902412414551,
          3.963165283203125,
          10.325244903564453,
          11.873278617858887,
          11.080304145812988,
          9.791377067565918,
          11.538003921508789,
          3.500765562057495,
          10.846745491027832,
          11.633249282836914,
          12.246681213378906,
          7.0495500564575195,
          10.790664672851562,
          6.910874843597412,
          7.864019393920898,
          7.551898956298828,
          7.444397449493408,
          7.288289546966553
         ],
         "xaxis": "x",
         "y": [
          5.856971263885498,
          7.151416778564453,
          5.5595927238464355,
          5.336507320404053,
          5.363128185272217,
          4.948861598968506,
          6.027620792388916,
          3.443859577178955,
          5.763879776000977,
          6.31149435043335,
          6.117056846618652,
          5.768029689788818,
          7.125511169433594,
          1.7834984064102173,
          6.393272399902344,
          6.017035961151123,
          5.853978157043457,
          5.965887546539307,
          2.5033230781555176,
          6.221069812774658,
          1.7493733167648315,
          2.131108283996582,
          2.2750322818756104,
          2.1452791690826416,
          4.513217926025391,
          4.734598159790039,
          7.350456237792969,
          7.215113639831543,
          3.781116008758545,
          5.227402687072754,
          1.8191345930099487,
          7.403525352478027,
          5.245954990386963,
          6.998645305633545,
          5.915450096130371,
          6.173436641693115,
          6.244309902191162,
          3.348670721054077,
          3.197859287261963,
          6.413425445556641,
          1.8478237390518188,
          1.9379452466964722,
          5.151092529296875,
          2.4264795780181885,
          2.005357027053833,
          2.3230035305023193,
          2.485316514968872,
          2.2499752044677734,
          6.50977087020874,
          6.461191654205322,
          5.9313883781433105,
          5.577831268310547,
          6.78731107711792,
          1.9405182600021362,
          7.190920352935791,
          7.565658092498779,
          6.296644687652588,
          3.2226390838623047,
          5.547835826873779,
          3.5309784412384033,
          3.9504826068878174,
          3.3025434017181396,
          3.7557454109191895,
          3.6849703788757324
         ],
         "yaxis": "y"
        }
       ],
       "layout": {
        "height": 650,
        "legend": {
         "tracegroupgap": 0
        },
        "margin": {
         "t": 60
        },
        "template": {
         "data": {
          "bar": [
           {
            "error_x": {
             "color": "#2a3f5f"
            },
            "error_y": {
             "color": "#2a3f5f"
            },
            "marker": {
             "line": {
              "color": "#E5ECF6",
              "width": 0.5
             }
            },
            "type": "bar"
           }
          ],
          "barpolar": [
           {
            "marker": {
             "line": {
              "color": "#E5ECF6",
              "width": 0.5
             }
            },
            "type": "barpolar"
           }
          ],
          "carpet": [
           {
            "aaxis": {
             "endlinecolor": "#2a3f5f",
             "gridcolor": "white",
             "linecolor": "white",
             "minorgridcolor": "white",
             "startlinecolor": "#2a3f5f"
            },
            "baxis": {
             "endlinecolor": "#2a3f5f",
             "gridcolor": "white",
             "linecolor": "white",
             "minorgridcolor": "white",
             "startlinecolor": "#2a3f5f"
            },
            "type": "carpet"
           }
          ],
          "choropleth": [
           {
            "colorbar": {
             "outlinewidth": 0,
             "ticks": ""
            },
            "type": "choropleth"
           }
          ],
          "contour": [
           {
            "colorbar": {
             "outlinewidth": 0,
             "ticks": ""
            },
            "colorscale": [
             [
              0,
              "#0d0887"
             ],
             [
              0.1111111111111111,
              "#46039f"
             ],
             [
              0.2222222222222222,
              "#7201a8"
             ],
             [
              0.3333333333333333,
              "#9c179e"
             ],
             [
              0.4444444444444444,
              "#bd3786"
             ],
             [
              0.5555555555555556,
              "#d8576b"
             ],
             [
              0.6666666666666666,
              "#ed7953"
             ],
             [
              0.7777777777777778,
              "#fb9f3a"
             ],
             [
              0.8888888888888888,
              "#fdca26"
             ],
             [
              1,
              "#f0f921"
             ]
            ],
            "type": "contour"
           }
          ],
          "contourcarpet": [
           {
            "colorbar": {
             "outlinewidth": 0,
             "ticks": ""
            },
            "type": "contourcarpet"
           }
          ],
          "heatmap": [
           {
            "colorbar": {
             "outlinewidth": 0,
             "ticks": ""
            },
            "colorscale": [
             [
              0,
              "#0d0887"
             ],
             [
              0.1111111111111111,
              "#46039f"
             ],
             [
              0.2222222222222222,
              "#7201a8"
             ],
             [
              0.3333333333333333,
              "#9c179e"
             ],
             [
              0.4444444444444444,
              "#bd3786"
             ],
             [
              0.5555555555555556,
              "#d8576b"
             ],
             [
              0.6666666666666666,
              "#ed7953"
             ],
             [
              0.7777777777777778,
              "#fb9f3a"
             ],
             [
              0.8888888888888888,
              "#fdca26"
             ],
             [
              1,
              "#f0f921"
             ]
            ],
            "type": "heatmap"
           }
          ],
          "heatmapgl": [
           {
            "colorbar": {
             "outlinewidth": 0,
             "ticks": ""
            },
            "colorscale": [
             [
              0,
              "#0d0887"
             ],
             [
              0.1111111111111111,
              "#46039f"
             ],
             [
              0.2222222222222222,
              "#7201a8"
             ],
             [
              0.3333333333333333,
              "#9c179e"
             ],
             [
              0.4444444444444444,
              "#bd3786"
             ],
             [
              0.5555555555555556,
              "#d8576b"
             ],
             [
              0.6666666666666666,
              "#ed7953"
             ],
             [
              0.7777777777777778,
              "#fb9f3a"
             ],
             [
              0.8888888888888888,
              "#fdca26"
             ],
             [
              1,
              "#f0f921"
             ]
            ],
            "type": "heatmapgl"
           }
          ],
          "histogram": [
           {
            "marker": {
             "colorbar": {
              "outlinewidth": 0,
              "ticks": ""
             }
            },
            "type": "histogram"
           }
          ],
          "histogram2d": [
           {
            "colorbar": {
             "outlinewidth": 0,
             "ticks": ""
            },
            "colorscale": [
             [
              0,
              "#0d0887"
             ],
             [
              0.1111111111111111,
              "#46039f"
             ],
             [
              0.2222222222222222,
              "#7201a8"
             ],
             [
              0.3333333333333333,
              "#9c179e"
             ],
             [
              0.4444444444444444,
              "#bd3786"
             ],
             [
              0.5555555555555556,
              "#d8576b"
             ],
             [
              0.6666666666666666,
              "#ed7953"
             ],
             [
              0.7777777777777778,
              "#fb9f3a"
             ],
             [
              0.8888888888888888,
              "#fdca26"
             ],
             [
              1,
              "#f0f921"
             ]
            ],
            "type": "histogram2d"
           }
          ],
          "histogram2dcontour": [
           {
            "colorbar": {
             "outlinewidth": 0,
             "ticks": ""
            },
            "colorscale": [
             [
              0,
              "#0d0887"
             ],
             [
              0.1111111111111111,
              "#46039f"
             ],
             [
              0.2222222222222222,
              "#7201a8"
             ],
             [
              0.3333333333333333,
              "#9c179e"
             ],
             [
              0.4444444444444444,
              "#bd3786"
             ],
             [
              0.5555555555555556,
              "#d8576b"
             ],
             [
              0.6666666666666666,
              "#ed7953"
             ],
             [
              0.7777777777777778,
              "#fb9f3a"
             ],
             [
              0.8888888888888888,
              "#fdca26"
             ],
             [
              1,
              "#f0f921"
             ]
            ],
            "type": "histogram2dcontour"
           }
          ],
          "mesh3d": [
           {
            "colorbar": {
             "outlinewidth": 0,
             "ticks": ""
            },
            "type": "mesh3d"
           }
          ],
          "parcoords": [
           {
            "line": {
             "colorbar": {
              "outlinewidth": 0,
              "ticks": ""
             }
            },
            "type": "parcoords"
           }
          ],
          "pie": [
           {
            "automargin": true,
            "type": "pie"
           }
          ],
          "scatter": [
           {
            "marker": {
             "colorbar": {
              "outlinewidth": 0,
              "ticks": ""
             }
            },
            "type": "scatter"
           }
          ],
          "scatter3d": [
           {
            "line": {
             "colorbar": {
              "outlinewidth": 0,
              "ticks": ""
             }
            },
            "marker": {
             "colorbar": {
              "outlinewidth": 0,
              "ticks": ""
             }
            },
            "type": "scatter3d"
           }
          ],
          "scattercarpet": [
           {
            "marker": {
             "colorbar": {
              "outlinewidth": 0,
              "ticks": ""
             }
            },
            "type": "scattercarpet"
           }
          ],
          "scattergeo": [
           {
            "marker": {
             "colorbar": {
              "outlinewidth": 0,
              "ticks": ""
             }
            },
            "type": "scattergeo"
           }
          ],
          "scattergl": [
           {
            "marker": {
             "colorbar": {
              "outlinewidth": 0,
              "ticks": ""
             }
            },
            "type": "scattergl"
           }
          ],
          "scattermapbox": [
           {
            "marker": {
             "colorbar": {
              "outlinewidth": 0,
              "ticks": ""
             }
            },
            "type": "scattermapbox"
           }
          ],
          "scatterpolar": [
           {
            "marker": {
             "colorbar": {
              "outlinewidth": 0,
              "ticks": ""
             }
            },
            "type": "scatterpolar"
           }
          ],
          "scatterpolargl": [
           {
            "marker": {
             "colorbar": {
              "outlinewidth": 0,
              "ticks": ""
             }
            },
            "type": "scatterpolargl"
           }
          ],
          "scatterternary": [
           {
            "marker": {
             "colorbar": {
              "outlinewidth": 0,
              "ticks": ""
             }
            },
            "type": "scatterternary"
           }
          ],
          "surface": [
           {
            "colorbar": {
             "outlinewidth": 0,
             "ticks": ""
            },
            "colorscale": [
             [
              0,
              "#0d0887"
             ],
             [
              0.1111111111111111,
              "#46039f"
             ],
             [
              0.2222222222222222,
              "#7201a8"
             ],
             [
              0.3333333333333333,
              "#9c179e"
             ],
             [
              0.4444444444444444,
              "#bd3786"
             ],
             [
              0.5555555555555556,
              "#d8576b"
             ],
             [
              0.6666666666666666,
              "#ed7953"
             ],
             [
              0.7777777777777778,
              "#fb9f3a"
             ],
             [
              0.8888888888888888,
              "#fdca26"
             ],
             [
              1,
              "#f0f921"
             ]
            ],
            "type": "surface"
           }
          ],
          "table": [
           {
            "cells": {
             "fill": {
              "color": "#EBF0F8"
             },
             "line": {
              "color": "white"
             }
            },
            "header": {
             "fill": {
              "color": "#C8D4E3"
             },
             "line": {
              "color": "white"
             }
            },
            "type": "table"
           }
          ]
         },
         "layout": {
          "annotationdefaults": {
           "arrowcolor": "#2a3f5f",
           "arrowhead": 0,
           "arrowwidth": 1
          },
          "coloraxis": {
           "colorbar": {
            "outlinewidth": 0,
            "ticks": ""
           }
          },
          "colorscale": {
           "diverging": [
            [
             0,
             "#8e0152"
            ],
            [
             0.1,
             "#c51b7d"
            ],
            [
             0.2,
             "#de77ae"
            ],
            [
             0.3,
             "#f1b6da"
            ],
            [
             0.4,
             "#fde0ef"
            ],
            [
             0.5,
             "#f7f7f7"
            ],
            [
             0.6,
             "#e6f5d0"
            ],
            [
             0.7,
             "#b8e186"
            ],
            [
             0.8,
             "#7fbc41"
            ],
            [
             0.9,
             "#4d9221"
            ],
            [
             1,
             "#276419"
            ]
           ],
           "sequential": [
            [
             0,
             "#0d0887"
            ],
            [
             0.1111111111111111,
             "#46039f"
            ],
            [
             0.2222222222222222,
             "#7201a8"
            ],
            [
             0.3333333333333333,
             "#9c179e"
            ],
            [
             0.4444444444444444,
             "#bd3786"
            ],
            [
             0.5555555555555556,
             "#d8576b"
            ],
            [
             0.6666666666666666,
             "#ed7953"
            ],
            [
             0.7777777777777778,
             "#fb9f3a"
            ],
            [
             0.8888888888888888,
             "#fdca26"
            ],
            [
             1,
             "#f0f921"
            ]
           ],
           "sequentialminus": [
            [
             0,
             "#0d0887"
            ],
            [
             0.1111111111111111,
             "#46039f"
            ],
            [
             0.2222222222222222,
             "#7201a8"
            ],
            [
             0.3333333333333333,
             "#9c179e"
            ],
            [
             0.4444444444444444,
             "#bd3786"
            ],
            [
             0.5555555555555556,
             "#d8576b"
            ],
            [
             0.6666666666666666,
             "#ed7953"
            ],
            [
             0.7777777777777778,
             "#fb9f3a"
            ],
            [
             0.8888888888888888,
             "#fdca26"
            ],
            [
             1,
             "#f0f921"
            ]
           ]
          },
          "colorway": [
           "#636efa",
           "#EF553B",
           "#00cc96",
           "#ab63fa",
           "#FFA15A",
           "#19d3f3",
           "#FF6692",
           "#B6E880",
           "#FF97FF",
           "#FECB52"
          ],
          "font": {
           "color": "#2a3f5f"
          },
          "geo": {
           "bgcolor": "white",
           "lakecolor": "white",
           "landcolor": "#E5ECF6",
           "showlakes": true,
           "showland": true,
           "subunitcolor": "white"
          },
          "hoverlabel": {
           "align": "left"
          },
          "hovermode": "closest",
          "mapbox": {
           "style": "light"
          },
          "paper_bgcolor": "white",
          "plot_bgcolor": "#E5ECF6",
          "polar": {
           "angularaxis": {
            "gridcolor": "white",
            "linecolor": "white",
            "ticks": ""
           },
           "bgcolor": "#E5ECF6",
           "radialaxis": {
            "gridcolor": "white",
            "linecolor": "white",
            "ticks": ""
           }
          },
          "scene": {
           "xaxis": {
            "backgroundcolor": "#E5ECF6",
            "gridcolor": "white",
            "gridwidth": 2,
            "linecolor": "white",
            "showbackground": true,
            "ticks": "",
            "zerolinecolor": "white"
           },
           "yaxis": {
            "backgroundcolor": "#E5ECF6",
            "gridcolor": "white",
            "gridwidth": 2,
            "linecolor": "white",
            "showbackground": true,
            "ticks": "",
            "zerolinecolor": "white"
           },
           "zaxis": {
            "backgroundcolor": "#E5ECF6",
            "gridcolor": "white",
            "gridwidth": 2,
            "linecolor": "white",
            "showbackground": true,
            "ticks": "",
            "zerolinecolor": "white"
           }
          },
          "shapedefaults": {
           "line": {
            "color": "#2a3f5f"
           }
          },
          "ternary": {
           "aaxis": {
            "gridcolor": "white",
            "linecolor": "white",
            "ticks": ""
           },
           "baxis": {
            "gridcolor": "white",
            "linecolor": "white",
            "ticks": ""
           },
           "bgcolor": "#E5ECF6",
           "caxis": {
            "gridcolor": "white",
            "linecolor": "white",
            "ticks": ""
           }
          },
          "title": {
           "x": 0.05
          },
          "xaxis": {
           "automargin": true,
           "gridcolor": "white",
           "linecolor": "white",
           "ticks": "",
           "title": {
            "standoff": 15
           },
           "zerolinecolor": "white",
           "zerolinewidth": 2
          },
          "yaxis": {
           "automargin": true,
           "gridcolor": "white",
           "linecolor": "white",
           "ticks": "",
           "title": {
            "standoff": 15
           },
           "zerolinecolor": "white",
           "zerolinewidth": 2
          }
         }
        },
        "title": {
         "text": "reduced word2vec visualization"
        },
        "xaxis": {
         "anchor": "y",
         "domain": [
          0,
          1
         ],
         "title": {
          "text": "feature-vector-1"
         }
        },
        "yaxis": {
         "anchor": "x",
         "domain": [
          0,
          1
         ],
         "title": {
          "text": "feature-vector-2"
         }
        }
       }
      }
     },
     "metadata": {},
     "output_type": "display_data"
    },
    {
     "name": "stdout",
     "output_type": "stream",
     "text": [
      "Myzus -> +13Poty\n",
      "acuan  {'genus': 'NCBI:13163_Myzus', 'famili': 'NCBI:27482_Aphididae', 'ordo': 'NCBI:7524_Hemiptera'}\n",
      "hasil  {'genus': 'NCBI:13163_Myzus', 'famili': 'NCBI:27482_Aphididae', 'ordo': 'NCBI:7524_Hemiptera'}\n",
      "ordo True\n",
      "famili True\n",
      "genus True\n",
      "1.0\n"
     ]
    },
    {
     "name": "stderr",
     "output_type": "stream",
     "text": [
      "/var/folders/b9/v73gyxys1djbgjy3c8c3cfwm0000gn/T/ipykernel_5496/2962911591.py:71: UserWarning:\n",
      "\n",
      "This pattern is interpreted as a regular expression, and has match groups. To actually get the groups, use str.extract.\n",
      "\n",
      "/var/folders/b9/v73gyxys1djbgjy3c8c3cfwm0000gn/T/ipykernel_5496/2962911591.py:72: UserWarning:\n",
      "\n",
      "This pattern is interpreted as a regular expression, and has match groups. To actually get the groups, use str.extract.\n",
      "\n"
     ]
    },
    {
     "name": "stdout",
     "output_type": "stream",
     "text": [
      "keyword virus utama:  ('Tenuivirus', 'genus', 'NCBI:12329')\n",
      "23 Thaumatotibia leucotreta NCBI:7139\n",
      "0\n",
      "=================\n",
      "24 Chlorophorus annularis NCBI:2586298\n",
      "0\n",
      "=================\n",
      "85 Sosa NCBI:7516\n",
      "0\n",
      "=================\n",
      "111 Campion NCBI:1548265\n",
      "0\n",
      "=================\n",
      "193 Chilo partellus NCBI:236792\n",
      "0\n",
      "=================\n",
      "195 Chilo suppressalis NCBI:168631\n",
      "0\n",
      "=================\n",
      "196 Laodelphax striatella NCBI:195883\n",
      "0\n",
      "=================\n",
      "197 Bacillus NCBI:55087\n",
      "0\n",
      "=================\n",
      "200 Autographa gamma NCBI:254363\n",
      "0\n",
      "=================\n",
      "201 Diabrotica speciosa NCBI:133126\n",
      "0\n",
      "=================\n",
      "202 Spodoptera litura NCBI:69820\n",
      "0\n",
      "=================\n",
      "203 Spodoptera littoralis NCBI:7109\n",
      "0\n",
      "=================\n",
      "204 Heteronychus arator NCBI:295550\n",
      "0\n",
      "=================\n",
      "215 Helicoverpa armigera NCBI:29058\n",
      "0\n",
      "=================\n",
      "238 Conogethes punctiferalis NCBI:1133088\n",
      "0\n",
      "=================\n",
      "275 Bacillus NCBI:55086\n",
      "0\n",
      "=================\n",
      "671 Macrosiphum euphorbiae NCBI:13131\n",
      "0\n",
      "=================\n",
      "680 Neoleucinodes elegantalis NCBI:1511177\n",
      "0\n",
      "=================\n",
      "686 Chrysodeixis chalcites NCBI:749652\n",
      "0\n",
      "=================\n",
      "687 Epiphyas postvittana NCBI:65032\n",
      "0\n",
      "=================\n",
      "764 Myzus persicae NCBI:13164\n",
      "0\n",
      "=================\n",
      "772 Heteronemia NCBI:629302\n",
      "0\n",
      "=================\n"
     ]
    },
    {
     "data": {
      "application/vnd.plotly.v1+json": {
       "config": {
        "plotlyServerURL": "https://plot.ly"
       },
       "data": [
        {
         "hovertemplate": "<b>%{hovertext}</b><br><br>feature-vector-1=%{x}<br>feature-vector-2=%{y}<br>text=%{text}<extra></extra>",
         "hovertext": [
          "Thaumatotibia leucotreta",
          "Chlorophorus annularis",
          "Sosa",
          "Campion",
          "Chilo partellus",
          "Chilo suppressalis",
          "Laodelphax striatella",
          "Bacillus",
          "Autographa gamma",
          "Diabrotica speciosa",
          "Spodoptera litura",
          "Spodoptera littoralis",
          "Heteronychus arator",
          "Helicoverpa armigera",
          "Conogethes punctiferalis",
          "Bacillus",
          "Macrosiphum euphorbiae",
          "Neoleucinodes elegantalis",
          "Chrysodeixis chalcites",
          "Epiphyas postvittana",
          "Myzus persicae",
          "Heteronemia",
          "#TITIK_VEKTOR_ACUAN"
         ],
         "legendgroup": "",
         "marker": {
          "color": "#636efa",
          "symbol": "circle"
         },
         "mode": "markers+text",
         "name": "",
         "showlegend": false,
         "text": [
          "Tortricidae",
          "Cerambycidae",
          "Neuroptera^family",
          "Mantispidae",
          "Crambidae",
          "Crambidae",
          "Delphacidae",
          "Bacillidae",
          "Noctuidae",
          "Chrysomelidae",
          "Noctuidae",
          "Noctuidae",
          "Scarabaeidae",
          "Noctuidae",
          "Crambidae",
          "Bacillidae",
          "Aphididae",
          "Crambidae",
          "Noctuidae",
          "Tortricidae",
          "Aphididae",
          "Heteronemiidae",
          "#TITIK_VEKTOR_ACUAN"
         ],
         "textposition": "top center",
         "type": "scatter",
         "x": [
          14.965131759643555,
          16.483373641967773,
          15.593637466430664,
          15.013823509216309,
          15.947891235351562,
          15.617136001586914,
          15.26630687713623,
          15.513691902160645,
          13.487371444702148,
          16.259227752685547,
          15.410381317138672,
          13.809649467468262,
          16.754838943481445,
          13.86703872680664,
          14.9808349609375,
          15.849259376525879,
          14.334914207458496,
          14.426583290100098,
          14.466622352600098,
          14.203635215759277,
          14.732510566711426,
          16.17904281616211,
          14.783763885498047
         ],
         "xaxis": "x",
         "y": [
          22.373226165771484,
          21.32375144958496,
          21.530927658081055,
          21.75788688659668,
          24.296594619750977,
          24.026737213134766,
          24.54192352294922,
          22.377660751342773,
          23.065013885498047,
          21.765274047851562,
          23.640531539916992,
          22.49662208557129,
          21.879701614379883,
          23.277385711669922,
          23.172449111938477,
          22.74213409423828,
          24.275375366210938,
          22.994609832763672,
          22.40445327758789,
          23.731616973876953,
          23.73949432373047,
          22.416004180908203,
          24.541244506835938
         ],
         "yaxis": "y"
        }
       ],
       "layout": {
        "height": 650,
        "legend": {
         "tracegroupgap": 0
        },
        "margin": {
         "t": 60
        },
        "template": {
         "data": {
          "bar": [
           {
            "error_x": {
             "color": "#2a3f5f"
            },
            "error_y": {
             "color": "#2a3f5f"
            },
            "marker": {
             "line": {
              "color": "#E5ECF6",
              "width": 0.5
             }
            },
            "type": "bar"
           }
          ],
          "barpolar": [
           {
            "marker": {
             "line": {
              "color": "#E5ECF6",
              "width": 0.5
             }
            },
            "type": "barpolar"
           }
          ],
          "carpet": [
           {
            "aaxis": {
             "endlinecolor": "#2a3f5f",
             "gridcolor": "white",
             "linecolor": "white",
             "minorgridcolor": "white",
             "startlinecolor": "#2a3f5f"
            },
            "baxis": {
             "endlinecolor": "#2a3f5f",
             "gridcolor": "white",
             "linecolor": "white",
             "minorgridcolor": "white",
             "startlinecolor": "#2a3f5f"
            },
            "type": "carpet"
           }
          ],
          "choropleth": [
           {
            "colorbar": {
             "outlinewidth": 0,
             "ticks": ""
            },
            "type": "choropleth"
           }
          ],
          "contour": [
           {
            "colorbar": {
             "outlinewidth": 0,
             "ticks": ""
            },
            "colorscale": [
             [
              0,
              "#0d0887"
             ],
             [
              0.1111111111111111,
              "#46039f"
             ],
             [
              0.2222222222222222,
              "#7201a8"
             ],
             [
              0.3333333333333333,
              "#9c179e"
             ],
             [
              0.4444444444444444,
              "#bd3786"
             ],
             [
              0.5555555555555556,
              "#d8576b"
             ],
             [
              0.6666666666666666,
              "#ed7953"
             ],
             [
              0.7777777777777778,
              "#fb9f3a"
             ],
             [
              0.8888888888888888,
              "#fdca26"
             ],
             [
              1,
              "#f0f921"
             ]
            ],
            "type": "contour"
           }
          ],
          "contourcarpet": [
           {
            "colorbar": {
             "outlinewidth": 0,
             "ticks": ""
            },
            "type": "contourcarpet"
           }
          ],
          "heatmap": [
           {
            "colorbar": {
             "outlinewidth": 0,
             "ticks": ""
            },
            "colorscale": [
             [
              0,
              "#0d0887"
             ],
             [
              0.1111111111111111,
              "#46039f"
             ],
             [
              0.2222222222222222,
              "#7201a8"
             ],
             [
              0.3333333333333333,
              "#9c179e"
             ],
             [
              0.4444444444444444,
              "#bd3786"
             ],
             [
              0.5555555555555556,
              "#d8576b"
             ],
             [
              0.6666666666666666,
              "#ed7953"
             ],
             [
              0.7777777777777778,
              "#fb9f3a"
             ],
             [
              0.8888888888888888,
              "#fdca26"
             ],
             [
              1,
              "#f0f921"
             ]
            ],
            "type": "heatmap"
           }
          ],
          "heatmapgl": [
           {
            "colorbar": {
             "outlinewidth": 0,
             "ticks": ""
            },
            "colorscale": [
             [
              0,
              "#0d0887"
             ],
             [
              0.1111111111111111,
              "#46039f"
             ],
             [
              0.2222222222222222,
              "#7201a8"
             ],
             [
              0.3333333333333333,
              "#9c179e"
             ],
             [
              0.4444444444444444,
              "#bd3786"
             ],
             [
              0.5555555555555556,
              "#d8576b"
             ],
             [
              0.6666666666666666,
              "#ed7953"
             ],
             [
              0.7777777777777778,
              "#fb9f3a"
             ],
             [
              0.8888888888888888,
              "#fdca26"
             ],
             [
              1,
              "#f0f921"
             ]
            ],
            "type": "heatmapgl"
           }
          ],
          "histogram": [
           {
            "marker": {
             "colorbar": {
              "outlinewidth": 0,
              "ticks": ""
             }
            },
            "type": "histogram"
           }
          ],
          "histogram2d": [
           {
            "colorbar": {
             "outlinewidth": 0,
             "ticks": ""
            },
            "colorscale": [
             [
              0,
              "#0d0887"
             ],
             [
              0.1111111111111111,
              "#46039f"
             ],
             [
              0.2222222222222222,
              "#7201a8"
             ],
             [
              0.3333333333333333,
              "#9c179e"
             ],
             [
              0.4444444444444444,
              "#bd3786"
             ],
             [
              0.5555555555555556,
              "#d8576b"
             ],
             [
              0.6666666666666666,
              "#ed7953"
             ],
             [
              0.7777777777777778,
              "#fb9f3a"
             ],
             [
              0.8888888888888888,
              "#fdca26"
             ],
             [
              1,
              "#f0f921"
             ]
            ],
            "type": "histogram2d"
           }
          ],
          "histogram2dcontour": [
           {
            "colorbar": {
             "outlinewidth": 0,
             "ticks": ""
            },
            "colorscale": [
             [
              0,
              "#0d0887"
             ],
             [
              0.1111111111111111,
              "#46039f"
             ],
             [
              0.2222222222222222,
              "#7201a8"
             ],
             [
              0.3333333333333333,
              "#9c179e"
             ],
             [
              0.4444444444444444,
              "#bd3786"
             ],
             [
              0.5555555555555556,
              "#d8576b"
             ],
             [
              0.6666666666666666,
              "#ed7953"
             ],
             [
              0.7777777777777778,
              "#fb9f3a"
             ],
             [
              0.8888888888888888,
              "#fdca26"
             ],
             [
              1,
              "#f0f921"
             ]
            ],
            "type": "histogram2dcontour"
           }
          ],
          "mesh3d": [
           {
            "colorbar": {
             "outlinewidth": 0,
             "ticks": ""
            },
            "type": "mesh3d"
           }
          ],
          "parcoords": [
           {
            "line": {
             "colorbar": {
              "outlinewidth": 0,
              "ticks": ""
             }
            },
            "type": "parcoords"
           }
          ],
          "pie": [
           {
            "automargin": true,
            "type": "pie"
           }
          ],
          "scatter": [
           {
            "marker": {
             "colorbar": {
              "outlinewidth": 0,
              "ticks": ""
             }
            },
            "type": "scatter"
           }
          ],
          "scatter3d": [
           {
            "line": {
             "colorbar": {
              "outlinewidth": 0,
              "ticks": ""
             }
            },
            "marker": {
             "colorbar": {
              "outlinewidth": 0,
              "ticks": ""
             }
            },
            "type": "scatter3d"
           }
          ],
          "scattercarpet": [
           {
            "marker": {
             "colorbar": {
              "outlinewidth": 0,
              "ticks": ""
             }
            },
            "type": "scattercarpet"
           }
          ],
          "scattergeo": [
           {
            "marker": {
             "colorbar": {
              "outlinewidth": 0,
              "ticks": ""
             }
            },
            "type": "scattergeo"
           }
          ],
          "scattergl": [
           {
            "marker": {
             "colorbar": {
              "outlinewidth": 0,
              "ticks": ""
             }
            },
            "type": "scattergl"
           }
          ],
          "scattermapbox": [
           {
            "marker": {
             "colorbar": {
              "outlinewidth": 0,
              "ticks": ""
             }
            },
            "type": "scattermapbox"
           }
          ],
          "scatterpolar": [
           {
            "marker": {
             "colorbar": {
              "outlinewidth": 0,
              "ticks": ""
             }
            },
            "type": "scatterpolar"
           }
          ],
          "scatterpolargl": [
           {
            "marker": {
             "colorbar": {
              "outlinewidth": 0,
              "ticks": ""
             }
            },
            "type": "scatterpolargl"
           }
          ],
          "scatterternary": [
           {
            "marker": {
             "colorbar": {
              "outlinewidth": 0,
              "ticks": ""
             }
            },
            "type": "scatterternary"
           }
          ],
          "surface": [
           {
            "colorbar": {
             "outlinewidth": 0,
             "ticks": ""
            },
            "colorscale": [
             [
              0,
              "#0d0887"
             ],
             [
              0.1111111111111111,
              "#46039f"
             ],
             [
              0.2222222222222222,
              "#7201a8"
             ],
             [
              0.3333333333333333,
              "#9c179e"
             ],
             [
              0.4444444444444444,
              "#bd3786"
             ],
             [
              0.5555555555555556,
              "#d8576b"
             ],
             [
              0.6666666666666666,
              "#ed7953"
             ],
             [
              0.7777777777777778,
              "#fb9f3a"
             ],
             [
              0.8888888888888888,
              "#fdca26"
             ],
             [
              1,
              "#f0f921"
             ]
            ],
            "type": "surface"
           }
          ],
          "table": [
           {
            "cells": {
             "fill": {
              "color": "#EBF0F8"
             },
             "line": {
              "color": "white"
             }
            },
            "header": {
             "fill": {
              "color": "#C8D4E3"
             },
             "line": {
              "color": "white"
             }
            },
            "type": "table"
           }
          ]
         },
         "layout": {
          "annotationdefaults": {
           "arrowcolor": "#2a3f5f",
           "arrowhead": 0,
           "arrowwidth": 1
          },
          "coloraxis": {
           "colorbar": {
            "outlinewidth": 0,
            "ticks": ""
           }
          },
          "colorscale": {
           "diverging": [
            [
             0,
             "#8e0152"
            ],
            [
             0.1,
             "#c51b7d"
            ],
            [
             0.2,
             "#de77ae"
            ],
            [
             0.3,
             "#f1b6da"
            ],
            [
             0.4,
             "#fde0ef"
            ],
            [
             0.5,
             "#f7f7f7"
            ],
            [
             0.6,
             "#e6f5d0"
            ],
            [
             0.7,
             "#b8e186"
            ],
            [
             0.8,
             "#7fbc41"
            ],
            [
             0.9,
             "#4d9221"
            ],
            [
             1,
             "#276419"
            ]
           ],
           "sequential": [
            [
             0,
             "#0d0887"
            ],
            [
             0.1111111111111111,
             "#46039f"
            ],
            [
             0.2222222222222222,
             "#7201a8"
            ],
            [
             0.3333333333333333,
             "#9c179e"
            ],
            [
             0.4444444444444444,
             "#bd3786"
            ],
            [
             0.5555555555555556,
             "#d8576b"
            ],
            [
             0.6666666666666666,
             "#ed7953"
            ],
            [
             0.7777777777777778,
             "#fb9f3a"
            ],
            [
             0.8888888888888888,
             "#fdca26"
            ],
            [
             1,
             "#f0f921"
            ]
           ],
           "sequentialminus": [
            [
             0,
             "#0d0887"
            ],
            [
             0.1111111111111111,
             "#46039f"
            ],
            [
             0.2222222222222222,
             "#7201a8"
            ],
            [
             0.3333333333333333,
             "#9c179e"
            ],
            [
             0.4444444444444444,
             "#bd3786"
            ],
            [
             0.5555555555555556,
             "#d8576b"
            ],
            [
             0.6666666666666666,
             "#ed7953"
            ],
            [
             0.7777777777777778,
             "#fb9f3a"
            ],
            [
             0.8888888888888888,
             "#fdca26"
            ],
            [
             1,
             "#f0f921"
            ]
           ]
          },
          "colorway": [
           "#636efa",
           "#EF553B",
           "#00cc96",
           "#ab63fa",
           "#FFA15A",
           "#19d3f3",
           "#FF6692",
           "#B6E880",
           "#FF97FF",
           "#FECB52"
          ],
          "font": {
           "color": "#2a3f5f"
          },
          "geo": {
           "bgcolor": "white",
           "lakecolor": "white",
           "landcolor": "#E5ECF6",
           "showlakes": true,
           "showland": true,
           "subunitcolor": "white"
          },
          "hoverlabel": {
           "align": "left"
          },
          "hovermode": "closest",
          "mapbox": {
           "style": "light"
          },
          "paper_bgcolor": "white",
          "plot_bgcolor": "#E5ECF6",
          "polar": {
           "angularaxis": {
            "gridcolor": "white",
            "linecolor": "white",
            "ticks": ""
           },
           "bgcolor": "#E5ECF6",
           "radialaxis": {
            "gridcolor": "white",
            "linecolor": "white",
            "ticks": ""
           }
          },
          "scene": {
           "xaxis": {
            "backgroundcolor": "#E5ECF6",
            "gridcolor": "white",
            "gridwidth": 2,
            "linecolor": "white",
            "showbackground": true,
            "ticks": "",
            "zerolinecolor": "white"
           },
           "yaxis": {
            "backgroundcolor": "#E5ECF6",
            "gridcolor": "white",
            "gridwidth": 2,
            "linecolor": "white",
            "showbackground": true,
            "ticks": "",
            "zerolinecolor": "white"
           },
           "zaxis": {
            "backgroundcolor": "#E5ECF6",
            "gridcolor": "white",
            "gridwidth": 2,
            "linecolor": "white",
            "showbackground": true,
            "ticks": "",
            "zerolinecolor": "white"
           }
          },
          "shapedefaults": {
           "line": {
            "color": "#2a3f5f"
           }
          },
          "ternary": {
           "aaxis": {
            "gridcolor": "white",
            "linecolor": "white",
            "ticks": ""
           },
           "baxis": {
            "gridcolor": "white",
            "linecolor": "white",
            "ticks": ""
           },
           "bgcolor": "#E5ECF6",
           "caxis": {
            "gridcolor": "white",
            "linecolor": "white",
            "ticks": ""
           }
          },
          "title": {
           "x": 0.05
          },
          "xaxis": {
           "automargin": true,
           "gridcolor": "white",
           "linecolor": "white",
           "ticks": "",
           "title": {
            "standoff": 15
           },
           "zerolinecolor": "white",
           "zerolinewidth": 2
          },
          "yaxis": {
           "automargin": true,
           "gridcolor": "white",
           "linecolor": "white",
           "ticks": "",
           "title": {
            "standoff": 15
           },
           "zerolinecolor": "white",
           "zerolinewidth": 2
          }
         }
        },
        "title": {
         "text": "reduced word2vec visualization"
        },
        "xaxis": {
         "anchor": "y",
         "domain": [
          0,
          1
         ],
         "title": {
          "text": "feature-vector-1"
         }
        },
        "yaxis": {
         "anchor": "x",
         "domain": [
          0,
          1
         ],
         "title": {
          "text": "feature-vector-2"
         }
        }
       }
      }
     },
     "metadata": {},
     "output_type": "display_data"
    },
    {
     "name": "stdout",
     "output_type": "stream",
     "text": [
      "Laodelphax -> 9ten\n",
      "acuan  {'genus': 'NCBI:195882_Laodelphax', 'famili': 'NCBI:33362_Delphacidae', 'ordo': 'NCBI:7524_Hemiptera'}\n",
      "hasil  {'genus': 'NCBI:195882_Laodelphax', 'famili': 'NCBI:33362_Delphacidae', 'ordo': 'NCBI:7524_Hemiptera'}\n",
      "ordo True\n",
      "famili True\n",
      "genus True\n",
      "1.0\n"
     ]
    },
    {
     "name": "stderr",
     "output_type": "stream",
     "text": [
      "/var/folders/b9/v73gyxys1djbgjy3c8c3cfwm0000gn/T/ipykernel_5496/2962911591.py:71: UserWarning:\n",
      "\n",
      "This pattern is interpreted as a regular expression, and has match groups. To actually get the groups, use str.extract.\n",
      "\n",
      "/var/folders/b9/v73gyxys1djbgjy3c8c3cfwm0000gn/T/ipykernel_5496/2962911591.py:72: UserWarning:\n",
      "\n",
      "This pattern is interpreted as a regular expression, and has match groups. To actually get the groups, use str.extract.\n",
      "\n"
     ]
    },
    {
     "name": "stdout",
     "output_type": "stream",
     "text": [
      "keyword virus utama:  ('Fijivirus', 'genus', 'NCBI:10988')\n",
      "89 Laodelphax striatella NCBI:195883\n",
      "0\n",
      "=================\n",
      "91 Helicoverpa armigera NCBI:29058\n",
      "0\n",
      "=================\n",
      "93 Heteronychus arator NCBI:295550\n",
      "0\n",
      "=================\n",
      "100 Thaumatotibia leucotreta NCBI:7139\n",
      "0\n",
      "=================\n",
      "102 Conogethes punctiferalis NCBI:1133088\n",
      "0\n",
      "=================\n",
      "103 Chilo partellus NCBI:236792\n",
      "0\n",
      "=================\n",
      "104 Spodoptera litura NCBI:69820\n",
      "0\n",
      "=================\n",
      "143 Bacillus NCBI:55086\n",
      "0\n",
      "=================\n",
      "201 Chlorophorus annularis NCBI:2586298\n",
      "0\n",
      "=================\n",
      "260 Sosa NCBI:7516\n",
      "0\n",
      "=================\n",
      "288 Campion NCBI:1548265\n",
      "0\n",
      "=================\n",
      "353 Chilo suppressalis NCBI:168631\n",
      "0\n",
      "=================\n",
      "354 Bacillus NCBI:55087\n",
      "0\n",
      "=================\n",
      "358 Autographa gamma NCBI:254363\n",
      "0\n",
      "=================\n",
      "359 Diabrotica speciosa NCBI:133126\n",
      "0\n",
      "=================\n",
      "360 Spodoptera littoralis NCBI:7109\n",
      "0\n",
      "=================\n",
      "524 Nilaparvata lugens NCBI:108931\n",
      "Nilaparvata lugens NCBI:108931 --> Nilaparvata lugens reovirus NCBI:33724\n",
      "1\n",
      "=================\n",
      "525 Insecta NCBI:50557\n",
      "0\n",
      "=================\n"
     ]
    },
    {
     "data": {
      "application/vnd.plotly.v1+json": {
       "config": {
        "plotlyServerURL": "https://plot.ly"
       },
       "data": [
        {
         "hovertemplate": "<b>%{hovertext}</b><br><br>feature-vector-1=%{x}<br>feature-vector-2=%{y}<br>text=%{text}<extra></extra>",
         "hovertext": [
          "Laodelphax striatella",
          "Helicoverpa armigera",
          "Heteronychus arator",
          "Thaumatotibia leucotreta",
          "Conogethes punctiferalis",
          "Chilo partellus",
          "Spodoptera litura",
          "Bacillus",
          "Chlorophorus annularis",
          "Sosa",
          "Campion",
          "Chilo suppressalis",
          "Bacillus",
          "Autographa gamma",
          "Diabrotica speciosa",
          "Spodoptera littoralis",
          "Nilaparvata lugens",
          "Insecta",
          "#TITIK_VEKTOR_ACUAN"
         ],
         "legendgroup": "",
         "marker": {
          "color": "#636efa",
          "symbol": "circle"
         },
         "mode": "markers+text",
         "name": "",
         "showlegend": false,
         "text": [
          "Delphacidae",
          "Noctuidae",
          "Scarabaeidae",
          "Tortricidae",
          "Crambidae",
          "Crambidae",
          "Noctuidae",
          "Bacillidae",
          "Cerambycidae",
          "Neuroptera^family",
          "Mantispidae",
          "Crambidae",
          "Bacillidae",
          "Noctuidae",
          "Chrysomelidae",
          "Noctuidae",
          "Delphacidae",
          "Insecta^order^family",
          "#TITIK_VEKTOR_ACUAN"
         ],
         "textposition": "top center",
         "type": "scatter",
         "x": [
          8.772735595703125,
          7.357626438140869,
          9.081910133361816,
          8.998714447021484,
          7.757167339324951,
          6.71899938583374,
          6.113712787628174,
          7.472171783447266,
          9.087149620056152,
          7.941003322601318,
          8.324376106262207,
          7.154196739196777,
          8.102115631103516,
          6.827211380004883,
          7.7220048904418945,
          6.519756317138672,
          8.948602676391602,
          8.494559288024902,
          8.35304069519043
         ],
         "xaxis": "x",
         "y": [
          -1.078534483909607,
          -0.07749045640230179,
          -2.7937426567077637,
          -1.6860498189926147,
          0.39494428038597107,
          0.8977946043014526,
          0.7539577484130859,
          -1.1905750036239624,
          -2.188431739807129,
          -2.0824801921844482,
          -2.882676362991333,
          0.8746927380561829,
          -1.0768274068832397,
          -0.08049379289150238,
          -2.6019675731658936,
          0.3609285354614258,
          -0.5959098935127258,
          -2.3815340995788574,
          -0.3274781107902527
         ],
         "yaxis": "y"
        }
       ],
       "layout": {
        "height": 650,
        "legend": {
         "tracegroupgap": 0
        },
        "margin": {
         "t": 60
        },
        "template": {
         "data": {
          "bar": [
           {
            "error_x": {
             "color": "#2a3f5f"
            },
            "error_y": {
             "color": "#2a3f5f"
            },
            "marker": {
             "line": {
              "color": "#E5ECF6",
              "width": 0.5
             }
            },
            "type": "bar"
           }
          ],
          "barpolar": [
           {
            "marker": {
             "line": {
              "color": "#E5ECF6",
              "width": 0.5
             }
            },
            "type": "barpolar"
           }
          ],
          "carpet": [
           {
            "aaxis": {
             "endlinecolor": "#2a3f5f",
             "gridcolor": "white",
             "linecolor": "white",
             "minorgridcolor": "white",
             "startlinecolor": "#2a3f5f"
            },
            "baxis": {
             "endlinecolor": "#2a3f5f",
             "gridcolor": "white",
             "linecolor": "white",
             "minorgridcolor": "white",
             "startlinecolor": "#2a3f5f"
            },
            "type": "carpet"
           }
          ],
          "choropleth": [
           {
            "colorbar": {
             "outlinewidth": 0,
             "ticks": ""
            },
            "type": "choropleth"
           }
          ],
          "contour": [
           {
            "colorbar": {
             "outlinewidth": 0,
             "ticks": ""
            },
            "colorscale": [
             [
              0,
              "#0d0887"
             ],
             [
              0.1111111111111111,
              "#46039f"
             ],
             [
              0.2222222222222222,
              "#7201a8"
             ],
             [
              0.3333333333333333,
              "#9c179e"
             ],
             [
              0.4444444444444444,
              "#bd3786"
             ],
             [
              0.5555555555555556,
              "#d8576b"
             ],
             [
              0.6666666666666666,
              "#ed7953"
             ],
             [
              0.7777777777777778,
              "#fb9f3a"
             ],
             [
              0.8888888888888888,
              "#fdca26"
             ],
             [
              1,
              "#f0f921"
             ]
            ],
            "type": "contour"
           }
          ],
          "contourcarpet": [
           {
            "colorbar": {
             "outlinewidth": 0,
             "ticks": ""
            },
            "type": "contourcarpet"
           }
          ],
          "heatmap": [
           {
            "colorbar": {
             "outlinewidth": 0,
             "ticks": ""
            },
            "colorscale": [
             [
              0,
              "#0d0887"
             ],
             [
              0.1111111111111111,
              "#46039f"
             ],
             [
              0.2222222222222222,
              "#7201a8"
             ],
             [
              0.3333333333333333,
              "#9c179e"
             ],
             [
              0.4444444444444444,
              "#bd3786"
             ],
             [
              0.5555555555555556,
              "#d8576b"
             ],
             [
              0.6666666666666666,
              "#ed7953"
             ],
             [
              0.7777777777777778,
              "#fb9f3a"
             ],
             [
              0.8888888888888888,
              "#fdca26"
             ],
             [
              1,
              "#f0f921"
             ]
            ],
            "type": "heatmap"
           }
          ],
          "heatmapgl": [
           {
            "colorbar": {
             "outlinewidth": 0,
             "ticks": ""
            },
            "colorscale": [
             [
              0,
              "#0d0887"
             ],
             [
              0.1111111111111111,
              "#46039f"
             ],
             [
              0.2222222222222222,
              "#7201a8"
             ],
             [
              0.3333333333333333,
              "#9c179e"
             ],
             [
              0.4444444444444444,
              "#bd3786"
             ],
             [
              0.5555555555555556,
              "#d8576b"
             ],
             [
              0.6666666666666666,
              "#ed7953"
             ],
             [
              0.7777777777777778,
              "#fb9f3a"
             ],
             [
              0.8888888888888888,
              "#fdca26"
             ],
             [
              1,
              "#f0f921"
             ]
            ],
            "type": "heatmapgl"
           }
          ],
          "histogram": [
           {
            "marker": {
             "colorbar": {
              "outlinewidth": 0,
              "ticks": ""
             }
            },
            "type": "histogram"
           }
          ],
          "histogram2d": [
           {
            "colorbar": {
             "outlinewidth": 0,
             "ticks": ""
            },
            "colorscale": [
             [
              0,
              "#0d0887"
             ],
             [
              0.1111111111111111,
              "#46039f"
             ],
             [
              0.2222222222222222,
              "#7201a8"
             ],
             [
              0.3333333333333333,
              "#9c179e"
             ],
             [
              0.4444444444444444,
              "#bd3786"
             ],
             [
              0.5555555555555556,
              "#d8576b"
             ],
             [
              0.6666666666666666,
              "#ed7953"
             ],
             [
              0.7777777777777778,
              "#fb9f3a"
             ],
             [
              0.8888888888888888,
              "#fdca26"
             ],
             [
              1,
              "#f0f921"
             ]
            ],
            "type": "histogram2d"
           }
          ],
          "histogram2dcontour": [
           {
            "colorbar": {
             "outlinewidth": 0,
             "ticks": ""
            },
            "colorscale": [
             [
              0,
              "#0d0887"
             ],
             [
              0.1111111111111111,
              "#46039f"
             ],
             [
              0.2222222222222222,
              "#7201a8"
             ],
             [
              0.3333333333333333,
              "#9c179e"
             ],
             [
              0.4444444444444444,
              "#bd3786"
             ],
             [
              0.5555555555555556,
              "#d8576b"
             ],
             [
              0.6666666666666666,
              "#ed7953"
             ],
             [
              0.7777777777777778,
              "#fb9f3a"
             ],
             [
              0.8888888888888888,
              "#fdca26"
             ],
             [
              1,
              "#f0f921"
             ]
            ],
            "type": "histogram2dcontour"
           }
          ],
          "mesh3d": [
           {
            "colorbar": {
             "outlinewidth": 0,
             "ticks": ""
            },
            "type": "mesh3d"
           }
          ],
          "parcoords": [
           {
            "line": {
             "colorbar": {
              "outlinewidth": 0,
              "ticks": ""
             }
            },
            "type": "parcoords"
           }
          ],
          "pie": [
           {
            "automargin": true,
            "type": "pie"
           }
          ],
          "scatter": [
           {
            "marker": {
             "colorbar": {
              "outlinewidth": 0,
              "ticks": ""
             }
            },
            "type": "scatter"
           }
          ],
          "scatter3d": [
           {
            "line": {
             "colorbar": {
              "outlinewidth": 0,
              "ticks": ""
             }
            },
            "marker": {
             "colorbar": {
              "outlinewidth": 0,
              "ticks": ""
             }
            },
            "type": "scatter3d"
           }
          ],
          "scattercarpet": [
           {
            "marker": {
             "colorbar": {
              "outlinewidth": 0,
              "ticks": ""
             }
            },
            "type": "scattercarpet"
           }
          ],
          "scattergeo": [
           {
            "marker": {
             "colorbar": {
              "outlinewidth": 0,
              "ticks": ""
             }
            },
            "type": "scattergeo"
           }
          ],
          "scattergl": [
           {
            "marker": {
             "colorbar": {
              "outlinewidth": 0,
              "ticks": ""
             }
            },
            "type": "scattergl"
           }
          ],
          "scattermapbox": [
           {
            "marker": {
             "colorbar": {
              "outlinewidth": 0,
              "ticks": ""
             }
            },
            "type": "scattermapbox"
           }
          ],
          "scatterpolar": [
           {
            "marker": {
             "colorbar": {
              "outlinewidth": 0,
              "ticks": ""
             }
            },
            "type": "scatterpolar"
           }
          ],
          "scatterpolargl": [
           {
            "marker": {
             "colorbar": {
              "outlinewidth": 0,
              "ticks": ""
             }
            },
            "type": "scatterpolargl"
           }
          ],
          "scatterternary": [
           {
            "marker": {
             "colorbar": {
              "outlinewidth": 0,
              "ticks": ""
             }
            },
            "type": "scatterternary"
           }
          ],
          "surface": [
           {
            "colorbar": {
             "outlinewidth": 0,
             "ticks": ""
            },
            "colorscale": [
             [
              0,
              "#0d0887"
             ],
             [
              0.1111111111111111,
              "#46039f"
             ],
             [
              0.2222222222222222,
              "#7201a8"
             ],
             [
              0.3333333333333333,
              "#9c179e"
             ],
             [
              0.4444444444444444,
              "#bd3786"
             ],
             [
              0.5555555555555556,
              "#d8576b"
             ],
             [
              0.6666666666666666,
              "#ed7953"
             ],
             [
              0.7777777777777778,
              "#fb9f3a"
             ],
             [
              0.8888888888888888,
              "#fdca26"
             ],
             [
              1,
              "#f0f921"
             ]
            ],
            "type": "surface"
           }
          ],
          "table": [
           {
            "cells": {
             "fill": {
              "color": "#EBF0F8"
             },
             "line": {
              "color": "white"
             }
            },
            "header": {
             "fill": {
              "color": "#C8D4E3"
             },
             "line": {
              "color": "white"
             }
            },
            "type": "table"
           }
          ]
         },
         "layout": {
          "annotationdefaults": {
           "arrowcolor": "#2a3f5f",
           "arrowhead": 0,
           "arrowwidth": 1
          },
          "coloraxis": {
           "colorbar": {
            "outlinewidth": 0,
            "ticks": ""
           }
          },
          "colorscale": {
           "diverging": [
            [
             0,
             "#8e0152"
            ],
            [
             0.1,
             "#c51b7d"
            ],
            [
             0.2,
             "#de77ae"
            ],
            [
             0.3,
             "#f1b6da"
            ],
            [
             0.4,
             "#fde0ef"
            ],
            [
             0.5,
             "#f7f7f7"
            ],
            [
             0.6,
             "#e6f5d0"
            ],
            [
             0.7,
             "#b8e186"
            ],
            [
             0.8,
             "#7fbc41"
            ],
            [
             0.9,
             "#4d9221"
            ],
            [
             1,
             "#276419"
            ]
           ],
           "sequential": [
            [
             0,
             "#0d0887"
            ],
            [
             0.1111111111111111,
             "#46039f"
            ],
            [
             0.2222222222222222,
             "#7201a8"
            ],
            [
             0.3333333333333333,
             "#9c179e"
            ],
            [
             0.4444444444444444,
             "#bd3786"
            ],
            [
             0.5555555555555556,
             "#d8576b"
            ],
            [
             0.6666666666666666,
             "#ed7953"
            ],
            [
             0.7777777777777778,
             "#fb9f3a"
            ],
            [
             0.8888888888888888,
             "#fdca26"
            ],
            [
             1,
             "#f0f921"
            ]
           ],
           "sequentialminus": [
            [
             0,
             "#0d0887"
            ],
            [
             0.1111111111111111,
             "#46039f"
            ],
            [
             0.2222222222222222,
             "#7201a8"
            ],
            [
             0.3333333333333333,
             "#9c179e"
            ],
            [
             0.4444444444444444,
             "#bd3786"
            ],
            [
             0.5555555555555556,
             "#d8576b"
            ],
            [
             0.6666666666666666,
             "#ed7953"
            ],
            [
             0.7777777777777778,
             "#fb9f3a"
            ],
            [
             0.8888888888888888,
             "#fdca26"
            ],
            [
             1,
             "#f0f921"
            ]
           ]
          },
          "colorway": [
           "#636efa",
           "#EF553B",
           "#00cc96",
           "#ab63fa",
           "#FFA15A",
           "#19d3f3",
           "#FF6692",
           "#B6E880",
           "#FF97FF",
           "#FECB52"
          ],
          "font": {
           "color": "#2a3f5f"
          },
          "geo": {
           "bgcolor": "white",
           "lakecolor": "white",
           "landcolor": "#E5ECF6",
           "showlakes": true,
           "showland": true,
           "subunitcolor": "white"
          },
          "hoverlabel": {
           "align": "left"
          },
          "hovermode": "closest",
          "mapbox": {
           "style": "light"
          },
          "paper_bgcolor": "white",
          "plot_bgcolor": "#E5ECF6",
          "polar": {
           "angularaxis": {
            "gridcolor": "white",
            "linecolor": "white",
            "ticks": ""
           },
           "bgcolor": "#E5ECF6",
           "radialaxis": {
            "gridcolor": "white",
            "linecolor": "white",
            "ticks": ""
           }
          },
          "scene": {
           "xaxis": {
            "backgroundcolor": "#E5ECF6",
            "gridcolor": "white",
            "gridwidth": 2,
            "linecolor": "white",
            "showbackground": true,
            "ticks": "",
            "zerolinecolor": "white"
           },
           "yaxis": {
            "backgroundcolor": "#E5ECF6",
            "gridcolor": "white",
            "gridwidth": 2,
            "linecolor": "white",
            "showbackground": true,
            "ticks": "",
            "zerolinecolor": "white"
           },
           "zaxis": {
            "backgroundcolor": "#E5ECF6",
            "gridcolor": "white",
            "gridwidth": 2,
            "linecolor": "white",
            "showbackground": true,
            "ticks": "",
            "zerolinecolor": "white"
           }
          },
          "shapedefaults": {
           "line": {
            "color": "#2a3f5f"
           }
          },
          "ternary": {
           "aaxis": {
            "gridcolor": "white",
            "linecolor": "white",
            "ticks": ""
           },
           "baxis": {
            "gridcolor": "white",
            "linecolor": "white",
            "ticks": ""
           },
           "bgcolor": "#E5ECF6",
           "caxis": {
            "gridcolor": "white",
            "linecolor": "white",
            "ticks": ""
           }
          },
          "title": {
           "x": 0.05
          },
          "xaxis": {
           "automargin": true,
           "gridcolor": "white",
           "linecolor": "white",
           "ticks": "",
           "title": {
            "standoff": 15
           },
           "zerolinecolor": "white",
           "zerolinewidth": 2
          },
          "yaxis": {
           "automargin": true,
           "gridcolor": "white",
           "linecolor": "white",
           "ticks": "",
           "title": {
            "standoff": 15
           },
           "zerolinecolor": "white",
           "zerolinewidth": 2
          }
         }
        },
        "title": {
         "text": "reduced word2vec visualization"
        },
        "xaxis": {
         "anchor": "y",
         "domain": [
          0,
          1
         ],
         "title": {
          "text": "feature-vector-1"
         }
        },
        "yaxis": {
         "anchor": "x",
         "domain": [
          0,
          1
         ],
         "title": {
          "text": "feature-vector-2"
         }
        }
       }
      }
     },
     "metadata": {},
     "output_type": "display_data"
    },
    {
     "name": "stdout",
     "output_type": "stream",
     "text": [
      "Sogatella -> 10fiji\n",
      "acuan  {'genus': 'NCBI:113102_Sogatella', 'famili': 'NCBI:33362_Delphacidae', 'ordo': 'NCBI:7524_Hemiptera'}\n",
      "hasil  {'genus': 'NCBI:108930_Nilaparvata', 'famili': 'NCBI:33362_Delphacidae', 'ordo': 'NCBI:7524_Hemiptera'}\n",
      "ordo True\n",
      "famili True\n",
      "genus False\n",
      "0.6666666666666666\n"
     ]
    }
   ],
   "source": [
    "from tqdm import tqdm\n",
    "from pyrdf2vec import RDF2VecTransformer\n",
    "from pyrdf2vec.graphs import KG, Vertex\n",
    "from pyrdf2vec.embedders import FastText,Word2Vec\n",
    "from pyrdf2vec.walkers import RandomWalker\n",
    "from pyvis.network import Network\n",
    "from sklearn.manifold import TSNE\n",
    "from umap import UMAP\n",
    "from SPARQLWrapper import SPARQLWrapper\n",
    "from jcopml.plot import plot_missing_value\n",
    "\n",
    "import plotly.express as px\n",
    "import pandas as pd\n",
    "import numpy as np\n",
    "import requests\n",
    "import os\n",
    "import networkx as nx\n",
    "import matplotlib.pyplot as plt\n",
    "\n",
    "from vectorReferenced import get_taxon_vector,cek_ncbi_id_by_wiki_id_via_string\n",
    "\n",
    "simpan_hasil=[]\n",
    "data=[\n",
    "    ('Myzus','1cucu','Cucumovirus'),\n",
    "    ('Bemisia','2cri','Crinivirus'),\n",
    "    ('Graminella','3wai','Waikavirus'),\n",
    "    ('Aleyrodidae','begomovirus_22_mei','Begomovirus'),\n",
    "    ('Schizaphis','5pol','Polerovirus'),\n",
    "    ('Myzus','+12pol','Polerovirus'),\n",
    "    ('Frankliniella','7ort','Orthotospovirus'),\n",
    "    ('Thrips','8capchlo','Orthotospovirus'),\n",
    "    ('Myzus','+13Poty','Potyvirus'),\n",
    "    ('Laodelphax','9ten','Tenuivirus'),\n",
    "    ('Sogatella','10fiji','Fijivirus'),\n",
    "    # ('Acyrthosiphon','6pea-nama','Enamovirus'),\n",
    "    # ('Nilaparvata','+11tung','Tungrovirus'),\n",
    "]\n",
    "\n",
    "for each in data:\n",
    "    acuan_,data_,search_=each # vektor acuan  #data virus\n",
    "    bobot_ed=1;\n",
    "    bobot_dc=1;\n",
    "    # link enpoint sparql ncbi_ontology\n",
    "    endpoint_url = 'http://localhost:3030/mydataset/query'\n",
    "\n",
    "    #1\n",
    "    #baca data\n",
    "    df_node=pd.read_csv('dari_praproses/'+data_+'_node.csv',index_col=0) \n",
    "    df_edge=pd.read_csv('dari_praproses/'+data_+'_edge.csv',index_col=0)\n",
    "    \n",
    "    #2\n",
    "    #isi data kosong. mengisi takson kosong, dengan takson sebelumnya, untuk tambalan\n",
    "    takson=[\n",
    "        'superkingdom','kingdom','phylum','class','order','family','genus','species'\n",
    "    ]\n",
    "\n",
    "    for x,i in enumerate(takson):\n",
    "        if (i!='superkingdom'): #selain superkingdom update dengan data sebelumnya\n",
    "            for idx, row in df_node[pd.isnull(df_node[i])].iterrows():\n",
    "                df_node.loc[idx,[i]] = row[takson[x-1]]+'^'+i\n",
    "        else: \n",
    "            for idx, row in df_node[pd.isnull(df_node[i])].iterrows():\n",
    "                df_node.loc[idx,[i]] = row[takson[x+1]]+'^'+i\n",
    "\n",
    "    # 3\n",
    "    # pengelompokan\n",
    "    # Binning of the data based on serangga, virus, tanaman, nogroup\n",
    "    filter_tanaman = df_node['kingdom']=='NCBI:33090_Viridiplantae' \n",
    "    filter_virus = (\n",
    "        (df_node['superkingdom']=='NCBI:10239_Viruses')\n",
    "        | (df_node.taxon_name.str.contains(r'\\b(virus\\w*|\\w*virus)\\b',case=False))\n",
    "        | (df_node.taxon_path.str.contains(r'\\b(virus\\w*|\\w*virus)\\b', case=False)) \n",
    "        #jika berawalan atau berakhiran kata virus\n",
    "    )\n",
    "    filter_serangga = ((df_node['class']=='NCBI:50557_Insecta') )\n",
    "\n",
    "    df_node.loc[filter_tanaman, ['group','color']] = [\"tanaman\",'#1f922b'] #hijau\n",
    "    df_node.loc[filter_virus, ['group','color']] = ['virus','#671f92'] #ungu\n",
    "    df_node.loc[filter_serangga, ['group','color']] = ['serangga','#b22222'] #merah\n",
    "    df_node.loc[(\n",
    "        (filter_tanaman==False) & \n",
    "        (filter_virus==False) &\n",
    "        (filter_serangga==False) \n",
    "        ),['group','color']] = ['nogroup','#EADDCA'] #abu-abu\n",
    "\n",
    "    #3\n",
    "    #konversi graph \n",
    "    gnx = nx.MultiDiGraph()\n",
    "    #node\n",
    "    for i,a in df_node.iterrows():\n",
    "        #mulai disini akan digunakan taksonomi bahasa indonesia pada data.\n",
    "        gnx.add_node(\n",
    "            a['taxon_id'],\n",
    "            label=a['taxon_name'],\n",
    "            superkingdom=a['superkingdom'],\n",
    "            kingdom=a['kingdom'],\n",
    "            filum=a['phylum'],\n",
    "            kelas=a['class'],\n",
    "            ordo=a['order'],\n",
    "            famili=a['family'],\n",
    "            genus=a['genus'],\n",
    "            spesies=a['species'],\n",
    "            group=a['group'],\n",
    "            color=a['color'],\n",
    "        )\n",
    "    #edge\n",
    "    for i,a in df_edge.iterrows():\n",
    "        gnx.add_edge(\n",
    "            a['source_taxon_id'],\n",
    "            a['target_taxon_id'],\n",
    "            label=a['interaction_type'],\n",
    "        )\n",
    "\n",
    "    #4 \n",
    "    # Degree Centrality\n",
    "    results = nx.degree_centrality(gnx)\n",
    "    allnodes = gnx.nodes\n",
    "\n",
    "    # TAMBAHAN UNTUK CEK KUALITAS RELASI SERANGGA\n",
    "    def bfs_relasi_ke_virus_utama(gnx, to_search, virus_utama_ids):\n",
    "        counter=0\n",
    "        for edge in nx.bfs_edges(gnx.to_undirected(), source=to_search, depth_limit=2):\n",
    "            s_id, o_id = edge\n",
    "\n",
    "            s_label = gnx.nodes[s_id]['label'] +' '+s_id\n",
    "            o_label = gnx.nodes[o_id]['label'] +' '+o_id\n",
    "\n",
    "            # skip subjek to_search\n",
    "            if (s_id == to_search) & (o_id in virus_utama_ids):\n",
    "                print(s_label,'-->', o_label)\n",
    "                counter+=1\n",
    "        \n",
    "        return counter\n",
    "\n",
    "    # tandai virus utama\n",
    "    search_virus,taxon_,ncbi_id_=cek_ncbi_id_by_wiki_id_via_string(search_)\n",
    "    print(\"keyword virus utama: \",(search_virus,taxon_,ncbi_id_))\n",
    "    df_node.loc[df_node[taxon_].str.contains(search_virus), ['virus_utama']] = True\n",
    "\n",
    "    # hitung relasi ke virus utama setiap serangga\n",
    "    virus_utama_ids=list(df_node[df_node['virus_utama']==True].taxon_id)\n",
    "    for idx,data in df_node[(df_node['group']=='serangga')].iterrows():\n",
    "        print(idx,data.taxon_name,data.taxon_id)\n",
    "        _relasi = bfs_relasi_ke_virus_utama(gnx,data.taxon_id,virus_utama_ids)\n",
    "        print(_relasi)\n",
    "        df_node.loc[idx,'relasi_ke_virus_utama'] = _relasi\n",
    "        print(\"=================\")\n",
    "        # update DC pake bobot\n",
    "        reset_n=(len(gnx.nodes)-1)/(len([node for node, data in gnx.nodes(data=True) if data.get('group') == \"serangga\"])-1)\n",
    "        results[data.taxon_id] = 1+(results[data.taxon_id]*_relasi*reset_n) #1+(CM*w) #kalo pake jumlah serangga sebagai pembagi\n",
    "        # results[data.taxon_id] = 1+(results[data.taxon_id]*_relasi) #1+(CM*w)\n",
    "\n",
    "    dc_serangga=[]\n",
    "    for node_id, rank in sorted(results.items(), key=lambda item: item[1], reverse=True):\n",
    "        if allnodes[node_id]['group'] in ['serangga']:\n",
    "            label = gnx.nodes[node_id]['label']\n",
    "            dc_serangga.append((rank, label, node_id))\n",
    "\n",
    "    #5\n",
    "    # Ambil data NCBI\n",
    "    # data acuan\n",
    "    data_acuan=get_taxon_vector(acuan_,endpoint_url)\n",
    "    data_acuan\n",
    "\n",
    "    #6\n",
    "    #konversi node networkx ke RDF\n",
    "    URL = \"http://pyRDF2Vec\"\n",
    "    CUSTOM_KG = KG()\n",
    "\n",
    "    takson=[i[0] for i in data_acuan]\n",
    "    for i in [\"superkingdom\",\"kingdom\",\"filum\",\"kelas\"]:\n",
    "        takson.remove(i) \n",
    "\n",
    "    # memasukan RDF serangga acuan\n",
    "    subj = Vertex(f\"{URL}#SERANGGA_ACUAN\")\n",
    "    for i,j in data_acuan:\n",
    "        if(i not in [\"superkingdom\",\"kingdom\",\"filum\",\"kelas\"]):\n",
    "            j = j.replace(' ','-')\n",
    "            obj = Vertex((URL+\"#\"+j))\n",
    "            pred = Vertex((URL+\"#\"+i), predicate=True, vprev=subj, vnext=obj)\n",
    "            #pred = Vertex((URL+\"#taxon_path_ids\"), predicate=True, vprev=subj, vnext=obj)\n",
    "            CUSTOM_KG.add_walk(subj, pred, obj)\n",
    "\n",
    "    # proses konversi \n",
    "    for index,data in gnx.nodes(data=True):\n",
    "        if(data['group']=='serangga'): #jika serangga\n",
    "            subj = Vertex(URL+\"#\"+index)\n",
    "            for i in takson:\n",
    "                #if(isinstance(data[i], str)): #jika dia string atau tidak nan/kosong.\n",
    "                #if(i not in [\"superkingdom\",\"kingdom\",\"filum\",\"kelas\"]):\n",
    "                    id_takson=data[i].replace(' ','-')#.split('_')[0]\n",
    "                    obj = Vertex((URL+\"#\"+id_takson))\n",
    "                    pred = Vertex((URL+\"#\"+i), predicate=True, vprev=subj, vnext=obj)\n",
    "                    #pred = Vertex((URL+\"#taxon_path_ids\"), predicate=True, vprev=subj, vnext=obj)\n",
    "                    CUSTOM_KG.add_walk(subj, pred, obj)\n",
    "    # CUSTOM_KG.literals=[\n",
    "    #         [f\"{URL}#taxon_path_ids\"],\n",
    "    #     ]\n",
    "    CUSTOM_KG.literals = [[URL+\"#\"+i] for i in takson]\n",
    "\n",
    "    #7\n",
    "    #embedding\n",
    "    # Ensure the determinism of this script by initializing a pseudo-random number.\n",
    "    RANDOM_STATE = 22\n",
    "    transformer = RDF2VecTransformer(\n",
    "        # Use one worker threads for Word2Vec to ensure random determinism.\n",
    "        # Must be used with PYTHONHASHSEED.\n",
    "        Word2Vec(epochs=1000),\n",
    "        # Extract a maximum of 10 walks of a maximum depth of 4 for each entity\n",
    "        # using two processes and use a random state to ensure that the same walks\n",
    "        # are generated for the entities.\n",
    "        walkers=[RandomWalker(2, 5, n_jobs=2, with_reverse=False, random_state=RANDOM_STATE)],\n",
    "        #verbose=1,\n",
    "    )\n",
    "    # transformer = RDF2VecTransformer(verbose=1)\n",
    "    # list entity yang akan diembedd. serangga acuan urutan terakhir\n",
    "    ent = [ URL+\"#\"+index for index,data in gnx.nodes(data=True) if(data['group']=='serangga') ] #jika serangga\n",
    "    ent.append(f\"{URL}#SERANGGA_ACUAN\")\n",
    "    # Fit the transformer to the knowledge graph and the entities.\n",
    "    embeddings, _ = transformer.fit_transform(\n",
    "        CUSTOM_KG, #the KG\n",
    "        ent, #entity\n",
    "    )\n",
    "\n",
    "    # visualisasi\n",
    "    # Reduce the dimensions of entity embeddings to represent them in a 2D plane.\n",
    "    X= UMAP().fit_transform(embeddings)\n",
    "    df_umap=pd.DataFrame(X,columns=['feature-vector-1','feature-vector-2'])\n",
    "    text=[]\n",
    "    labels=[]\n",
    "    for x in transformer._entities:\n",
    "        if(x!=\"http://pyRDF2Vec#SERANGGA_ACUAN\"):\n",
    "            text.append(gnx.nodes[x.split(\"#\")[-1]]['famili'].split('_')[-1])\n",
    "            labels.append(gnx.nodes[x.split(\"#\")[-1]]['label'])\n",
    "        else:\n",
    "            text.append(\"#TITIK_VEKTOR_ACUAN\")\n",
    "            labels.append(\"#TITIK_VEKTOR_ACUAN\")\n",
    "    df_umap['text']=text\n",
    "    df_umap['labels']=labels\n",
    "    # # gnx.nodes[x.split(\"#\")[-1]]['label']\n",
    "    # df_umap['text']=list(map(lambda x: x.split(\"#\")[-1],transformer._entities))\n",
    "    fig = px.scatter(df_umap, x='feature-vector-1',y='feature-vector-2',text='text',hover_name='labels')\n",
    "    fig.update_traces(textposition='top center')\n",
    "    fig.update_layout(\n",
    "        height=650,\n",
    "        title_text='reduced word2vec visualization'\n",
    "    )\n",
    "    fig.show()\n",
    "\n",
    "    #8\n",
    "    #euclidean distance\n",
    "    # buat dataframe\n",
    "    data_to_count=pd.DataFrame(embeddings, columns=list(range(0,100)))\n",
    "    # buat kolom label\n",
    "    ent=[data['label'] for index,data in gnx.nodes(data=True) if(data['group']=='serangga')] #jika serangga\n",
    "    ent.append(\"#SERANGGA_ACUAN\")\n",
    "    data_to_count['label']=ent\n",
    "    #buat kolom entity\n",
    "    data_to_count['entity']=[i.replace(\"http://pyRDF2Vec#\",\"\") for i in transformer._entities]\n",
    "    # buat kolom hasil dc\n",
    "    for idx,row in data_to_count.iterrows(): #jika serangga acuan maka DC di isi nilai 1\n",
    "        data_to_count.loc[idx,['dc_result']] = results[row['entity']] if(row['entity']!=\"SERANGGA_ACUAN\") else 1\n",
    "    #ambil koordinat acuan\n",
    "    acuan=next(data_to_count[data_to_count['label']=='#SERANGGA_ACUAN'].iterrows())[1]\n",
    "    acuan=np.array(tuple(acuan[i] for i in range(0,100)))\n",
    "    acuan\n",
    "    #hitung ED\n",
    "    for idx, row in data_to_count.iterrows():\n",
    "        temp = np.array(tuple(row[i] for i in range(0,100)))\n",
    "        data_to_count.loc[idx,['ed_result']] = np.linalg.norm(temp - acuan)\n",
    "    #drop data acuan\n",
    "    data_to_count.drop(data_to_count[data_to_count.label==\"#SERANGGA_ACUAN\"].index,inplace=True)\n",
    "    # minmax scaling dc dan ed\n",
    "    from sklearn.preprocessing import MinMaxScaler\n",
    "    for i in ['dc_result', 'ed_result']:\n",
    "        scaler = MinMaxScaler()\n",
    "        scaler.fit(data_to_count[i].to_numpy().reshape(1, -1))\n",
    "        scaler.transform(data_to_count[i].to_numpy().reshape(1, -1))\n",
    "    #drop kolom embedding\n",
    "    data_to_count.drop(columns=list(range(0,100)), inplace=True)\n",
    "\n",
    "\n",
    "    #9\n",
    "    #hitung kombinasi\n",
    "    for idx, row in data_to_count.iterrows():\n",
    "        _dc = row['dc_result']\n",
    "        _ed=( (row['ed_result']) if row['ed_result']!=0 else 1)\n",
    "        data_to_count.loc[idx,['result']] = _dc/_ed\n",
    "    # urutkan\n",
    "    data_to_count=data_to_count.sort_values('result',ascending=False).reset_index(drop=True)\n",
    "    data_to_count[['label','dc_result','ed_result','result']]\n",
    "    data_to_count[['label','dc_result']].sort_values('dc_result',ascending=False).reset_index(drop=True)\n",
    "    data_to_count[['label','entity','ed_result']].sort_values('ed_result',ascending=True).reset_index(drop=True)\n",
    "\n",
    "\n",
    "    # # Pengujian\n",
    "    id_hasil=data_to_count.iloc[0].entity\n",
    "    cek_hasil= { k:v for k,v in reversed(allnodes[id_hasil].items()) if k in takson }\n",
    "    cek_acuan= { k:v for k,v in data_acuan if k in takson }\n",
    "    print(acuan_,'->', data_)\n",
    "    print('acuan ',cek_acuan)\n",
    "    print('hasil ',cek_hasil)\n",
    "    cek=0\n",
    "    for i in reversed(takson):\n",
    "        cekk=cek_hasil[i]==cek_acuan[i]\n",
    "        cek+=cekk\n",
    "        print(i, cekk)\n",
    "\n",
    "\n",
    "    print(cek/len(takson))\n",
    "    ini=cek/len(takson)\n",
    "    simpan_hasil.append((ini,cek_hasil,each))\n",
    "\n"
   ]
  },
  {
   "cell_type": "code",
   "execution_count": 2,
   "metadata": {},
   "outputs": [
    {
     "name": "stdout",
     "output_type": "stream",
     "text": [
      "0.6666666666666666 ('genus', 'NCBI:13130_Macrosiphum') ('Myzus', '1cucu', 'Cucumovirus')\n",
      "0.0 ('genus', 'NCBI:13130_Macrosiphum') ('Bemisia', '2cri', 'Crinivirus')\n",
      "0.3333333333333333 ('genus', 'NCBI:13130_Macrosiphum') ('Graminella', '3wai', 'Waikavirus')\n",
      "1.0 ('genus', 'NCBI:13130_Macrosiphum') ('Aleyrodidae', 'begomovirus_22_mei', 'Begomovirus')\n",
      "1.0 ('genus', 'NCBI:13130_Macrosiphum') ('Schizaphis', '5pol', 'Polerovirus')\n",
      "0.6666666666666666 ('genus', 'NCBI:13130_Macrosiphum') ('Myzus', '+12pol', 'Polerovirus')\n",
      "1.0 ('genus', 'NCBI:13130_Macrosiphum') ('Frankliniella', '7ort', 'Orthotospovirus')\n",
      "1.0 ('genus', 'NCBI:13130_Macrosiphum') ('Thrips', '8capchlo', 'Orthotospovirus')\n",
      "1.0 ('genus', 'NCBI:13130_Macrosiphum') ('Myzus', '+13Poty', 'Potyvirus')\n",
      "1.0 ('genus', 'NCBI:13130_Macrosiphum') ('Laodelphax', '9ten', 'Tenuivirus')\n",
      "0.6666666666666666 ('genus', 'NCBI:13130_Macrosiphum') ('Sogatella', '10fiji', 'Fijivirus')\n"
     ]
    }
   ],
   "source": [
    "for i in simpan_hasil:\n",
    "    print(i[0],(list(simpan_hasil[0][1].keys())[0],list(simpan_hasil[0][1].values())[0]),i[2])"
   ]
  },
  {
   "cell_type": "code",
   "execution_count": 3,
   "metadata": {},
   "outputs": [
    {
     "data": {
      "text/plain": [
       "0.8333333333333333"
      ]
     },
     "execution_count": 3,
     "metadata": {},
     "output_type": "execute_result"
    }
   ],
   "source": [
    "total=0\n",
    "for i in simpan_hasil:\n",
    "    total+=i[0]\n",
    "\n",
    "total/10"
   ]
  },
  {
   "cell_type": "code",
   "execution_count": null,
   "metadata": {},
   "outputs": [],
   "source": []
  },
  {
   "cell_type": "code",
   "execution_count": null,
   "metadata": {},
   "outputs": [],
   "source": []
  }
 ],
 "metadata": {
  "kernelspec": {
   "display_name": "thesis",
   "language": "python",
   "name": "python3"
  },
  "language_info": {
   "codemirror_mode": {
    "name": "ipython",
    "version": 3
   },
   "file_extension": ".py",
   "mimetype": "text/x-python",
   "name": "python",
   "nbconvert_exporter": "python",
   "pygments_lexer": "ipython3",
   "version": "3.8.16"
  },
  "orig_nbformat": 4
 },
 "nbformat": 4,
 "nbformat_minor": 2
}
