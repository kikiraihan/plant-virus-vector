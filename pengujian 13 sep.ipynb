{
 "cells": [
  {
   "cell_type": "code",
   "execution_count": 35,
   "metadata": {},
   "outputs": [],
   "source": [
    "from tqdm import tqdm\n",
    "from pyrdf2vec import RDF2VecTransformer\n",
    "from pyrdf2vec.graphs import KG, Vertex\n",
    "from pyrdf2vec.embedders import FastText,Word2Vec\n",
    "from pyrdf2vec.walkers import RandomWalker\n",
    "from pyvis.network import Network\n",
    "from sklearn.manifold import TSNE\n",
    "from umap import UMAP\n",
    "from SPARQLWrapper import SPARQLWrapper\n",
    "from jcopml.plot import plot_missing_value\n",
    "\n",
    "import plotly.express as px\n",
    "import pandas as pd\n",
    "import numpy as np\n",
    "import requests\n",
    "import os\n",
    "import networkx as nx\n",
    "import matplotlib.pyplot as plt\n",
    "\n",
    "from modul.vectorReferenced import get_taxon_vector,cek_ncbi_id_by_wiki_id_via_string\n",
    "from modul.filterNodeEdge import removeNodeAndEdgeByFilter,removeEdgesNotInNodes\n",
    "from modul.helper_umum import contains_string_entire_column,contains_string_entire_column_boolean, minmax, std_scale\n",
    "#from process import cek_bfs, nx_to_pyviz\n",
    "from modul.grafHelper import _set_networkx_graph, _plot_nx_by_matplotlib\n",
    "from modul.visualisasiHelper import embeddingPlot,plotly_graph\n",
    "from modul.embeddingHelper import df_serangga_to_rdf, rdf_KG_to_embeddings, df_to_dictionary_taxon\n",
    "from modul.custom_degree_centrality import degree_centrality_custom"
   ]
  },
  {
   "cell_type": "code",
   "execution_count": 36,
   "metadata": {},
   "outputs": [],
   "source": [
    "data=[\n",
    "    # ('begomovirus_contoh_hasil','Pepper yellow leaf curl virus','Aleyrodidae','Bemisia Tabaci'),\n",
    "    ('1cucu','Cucumber mosaic virus','Aphididae','Myzus persicae'),\n",
    "    ('2cri','Tomato chlorosis virus','Aleyrodidae','Bemisia Tabaci'),\n",
    "    ('3wai','Maize chlorotic dwarf virus','Cicadellidae','Graminella nigrifrons'),\n",
    "    ('4beg','Tomato yellow leaf curl China virus','Aleyrodidae','Bemisia Tabaci'),\n",
    "    ('5pol','Cereal yellow dwarf virus','Aphididae','Schizaphis graminum'),\n",
    "    ('6pea','Pea enation mosaic virus 1','Aphididae','Acyrthosiphon pisum'),\n",
    "    ('7cucur','Cucurbit yellow stunting disorder virus','Aleyrodidae','Bemisia Tabaci'),\n",
    "    ('8ten','Rice stripe tenuivirus','Delphacidae','Laodelphax striatellus'),\n",
    "    ('9fiji','Southern rice black-streaked dwarf virus','Delphacidae','Sogatella furcifera'),\n",
    "    ('10capchlo','Capsicum chlorosis orthotospovirus','Thripidae','Thrips Palmi'),\n",
    "    ('11barley','Barley yellow dwarf virus GAV','Aphididae','Sitobion avenae'),\n",
    "    ('12tospot','Tomato spotted wilt orthotospovirus','Thripidae','Frankliniella occidentalis'),\n",
    "    ('13svyv','squash vein yellowing virus','Aleyrodidae','Bemisia Tabaci'),\n",
    "    ('14sbmv','soybean mosaic virus','Aphididae','Aphis glycines'),\n",
    "    ('15blv','bean leafroll virus','Aphididae','Acyrthosiphon pisum'),\n",
    "    ('16rgdv','rice gall dwarf virus','Cicadellidae','Recilia dorsalis'), #sedikit\n",
    "    ('17srbsdv','southern rice black-streaked dwarf virus','Delphacidae','Sogatella furcifera'),\n",
    "    ('18tsrv','tomato severe rugose virus','Aleyrodidae','Bemisia tabaci'),\n",
    "    ('19gbnv','groundnut bud necrosis virus','Thripidae','Thrips palmi'),\n",
    "    ('20wbnv','Watermelon bud necrosis virus','Thripidae','Thrips palmi'),\n",
    "    # error dibawah ini\n",
    "    # ('+13Poty','Potyvirus','Aphididae','Myzus'),\n",
    "    # ('+11tung','Tungrovirus','Nilaparvata','Nilaparvata'),\n",
    "]\n",
    "\n",
    "data_,nama_virus,acuan_,ujian_=data[0] # vektor acuan  #data virus\n",
    "# link enpoint sparql ncbi_ontology\n",
    "ncbi_ontology_url = 'http://localhost:3030/mydataset/query'"
   ]
  },
  {
   "cell_type": "code",
   "execution_count": 37,
   "metadata": {},
   "outputs": [],
   "source": [
    "def all_proses(data_,nama_virus,acuan_,ujian_,ncbi_ontology_url):\n",
    "    #1\n",
    "    #baca data\n",
    "    df_node=pd.read_csv('dari_praproses/'+data_+'_node.csv',index_col=0) \n",
    "    df_edge=pd.read_csv('dari_praproses/'+data_+'_edge.csv',index_col=0)\n",
    "\n",
    "    # pra-proses khusus proses\n",
    "    # hapus serangga yg cuma famili (mengikuti acuan). soalnya klo cuma tampil famili apa gunanya?\n",
    "    filter_genus_sampai_species_null=(\n",
    "        (df_node.genus.isnull()) &\n",
    "        (df_node.species.isnull()) &\n",
    "        (df_node['class']=='NCBI:50557_Insecta')\n",
    "    )\n",
    "    df_node,df_edge = removeNodeAndEdgeByFilter(df_node[filter_genus_sampai_species_null], df_node,df_edge)\n",
    "\n",
    "    # pra-proses khusus proses\n",
    "    #isi data kosong. mengisi takson kosong, dengan takson sebelumnya, untuk tambalan\n",
    "    takson=[\n",
    "        'superkingdom','kingdom','phylum','class','order','family','genus','species'\n",
    "    ]\n",
    "\n",
    "    for x,i in enumerate(takson):\n",
    "        if (i!='superkingdom'): #selain superkingdom update dengan data sebelumnya\n",
    "            for idx, row in df_node[pd.isnull(df_node[i])].iterrows():\n",
    "                df_node.loc[idx,[i]] = row[takson[x-1]]+'^'+i\n",
    "        else: \n",
    "            for idx, row in df_node[pd.isnull(df_node[i])].iterrows():\n",
    "                df_node.loc[idx,[i]] = row[takson[x+1]]+'^'+i\n",
    "\n",
    "    #satu virus saja #perlu ini soalnya kalo tida 2cri nol\n",
    "    virus_utama=df_node[df_node.virus_utama==True].taxon_id.to_list()\n",
    "    serangga_acuan=contains_string_entire_column(df_node,acuan_).taxon_id.to_list()\n",
    "    print(len(df_edge))\n",
    "    for j in serangga_acuan:\n",
    "        dict_serangga = {'source_taxon_id':virus_utama[0],'target_taxon_id':j,'interaction_type':'pathogenOf'}\n",
    "        df_edge = pd.concat([pd.DataFrame(dict_serangga,index=[0]), df_edge], ignore_index = True)\n",
    "        # df_edge.loc[len(df_edge.index),['source_taxon_id','target_taxon_id','interaction_type']] = [i,j,'pathogenOf']\n",
    "    print(len(df_edge))\n",
    "\n",
    "    # Ini harusnya di praproses. tapi belum fix baiknya hapus atau tidak\n",
    "    # hapus yang bukan virus utama, terakhir akurasi 0.85, kalau berkurang hapus saja ini\n",
    "    bukan_virus_utama=(df_node['group']==\"virus\") & (df_node.virus_utama!=True)\n",
    "    df_node,df_edge = removeNodeAndEdgeByFilter(df_node[bukan_virus_utama], df_node,df_edge)\n",
    "\n",
    "    if(len(df_node[df_node['group']==\"serangga\"])<=2):\n",
    "        print(\"cuma dua serangga\")\n",
    "\n",
    "\n",
    "    #3\n",
    "    #konversi graph \n",
    "    gnx = _set_networkx_graph(df_node, df_edge)\n",
    "\n",
    "\n",
    "    # from modul.custom_degree_centrality import degree_centrality_custom\n",
    "    # import importlib, sys\n",
    "    # importlib.reload(sys.modules['modul.custom_degree_centrality'])\n",
    "\n",
    "    #4 \n",
    "    # Degree Centrality Custom\n",
    "    virus_utama_ids=list(df_node[df_node['virus_utama']==True].taxon_id)\n",
    "    serangga_ids=list(df_node[df_node['group']==\"serangga\"].taxon_id)\n",
    "    results_dc = degree_centrality_custom(gnx,virus_utama_ids,serangga_ids, print_relasi=False)\n",
    "    allnodes = gnx.nodes\n",
    "\n",
    "    urutan=sorted(results_dc.items(), key=lambda item: item[1], reverse=True)\n",
    "    urutan\n",
    "\n",
    "    #5\n",
    "    # Ambil data NCBI\n",
    "    # data acuan\n",
    "    data_acuan=get_taxon_vector(acuan_,ncbi_ontology_url,False)\n",
    "    print(data_acuan)\n",
    "    data_ujian=get_taxon_vector(ujian_,ncbi_ontology_url)\n",
    "    print(data_ujian)\n",
    "\n",
    "\n",
    "    import importlib, sys\n",
    "    importlib.reload(sys.modules['modul.visualisasiHelper'])\n",
    "    from modul.visualisasiHelper import embeddingPlot,plotly_graph\n",
    "\n",
    "    #6 #konversi node networkx ke RDF\n",
    "    # input : df_node, URL, data_acuan\n",
    "    URL = \"http://pyRDF2Vec\"\n",
    "    df_serangga = df_node[df_node['group']==\"serangga\"]\n",
    "    CUSTOM_KG = df_serangga_to_rdf(df_serangga, URL, data_acuan)\n",
    "\n",
    "    #7 #embedding\n",
    "    list_serangga=df_node[df_node['group']==\"serangga\"].taxon_id.to_list()\n",
    "    # list entity yang akan diembedd. serangga acuan urutan terakhir\n",
    "    list_of_entities = [ URL+\"#\"+taxon_id for taxon_id in list_serangga ]\n",
    "    list_of_entities.append(f\"{URL}#SERANGGA_ACUAN\")\n",
    "    transformer, embeddings, _ = rdf_KG_to_embeddings(CUSTOM_KG, list_of_entities)\n",
    "    # list_of_entities == transformer._entities # True # artinya sama dua2nya\n",
    "\n",
    "    # dictionary serangga\n",
    "    dictionary_serangga = df_to_dictionary_taxon(df_serangga)\n",
    "    # output\n",
    "    # embeddings, list_of_entities, dictionary_serangga\n",
    "\n",
    "    #8\n",
    "    #euclidean distance\n",
    "\n",
    "    # buat dataframe\n",
    "    data_to_count=pd.DataFrame(embeddings, columns=list(range(0,100)))\n",
    "\n",
    "    # buat kolom label\n",
    "    ent=[data['label'] for index,data in gnx.nodes(data=True) if(data['group']=='serangga')] #jika serangga\n",
    "    ent.append(\"#SERANGGA_ACUAN\")\n",
    "    data_to_count['label']=ent\n",
    "\n",
    "    #buat kolom entity\n",
    "    data_to_count['entity']=[i.replace(\"http://pyRDF2Vec#\",\"\") for i in transformer._entities]\n",
    "\n",
    "    # buat kolom hasil dc\n",
    "    for idx,row in data_to_count.iterrows(): #jika serangga acuan maka DC di isi nilai 1\n",
    "        data_to_count.loc[idx,['dc_result']] = results_dc[row['entity']] if(row['entity']!=\"SERANGGA_ACUAN\") else 1\n",
    "\n",
    "    #ambil koordinat acuan\n",
    "    acuan=next(data_to_count[data_to_count['label']=='#SERANGGA_ACUAN'].iterrows())[1]\n",
    "    acuan=np.array(tuple(acuan[i] for i in range(0,100)))\n",
    "    acuan\n",
    "\n",
    "    #hitung ED\n",
    "    for idx, row in data_to_count.iterrows():\n",
    "        temp = np.array(tuple(row[i] for i in range(0,100)))\n",
    "        data_to_count.loc[idx,['ed_result']] = np.linalg.norm(temp - acuan)\n",
    "\n",
    "    #drop data acuan\n",
    "    data_to_count.drop(data_to_count[data_to_count.label==\"#SERANGGA_ACUAN\"].index,inplace=True)\n",
    "\n",
    "    #drop kolom embedding\n",
    "    data_to_count.drop(columns=list(range(0,100)), inplace=True)\n",
    "\n",
    "    # simple scaling ed_result\n",
    "    # data_to_count[\"ed_result_scaled\"] = data_to_count[\"ed_result\"] / data_to_count[\"ed_result\"].max()\n",
    "    data_to_count['ed_result_scaled'] = minmax(data_to_count['ed_result'])\n",
    "\n",
    "\n",
    "    # scaling dc \n",
    "    # # dengan std\n",
    "    # data_to_count['dc_result_scaled'] = data_to_count['dc_result'] - data_to_count['dc_result'].mode()[0]\n",
    "    # # data_to_count['dc_result_scaled'] = data_to_count['dc_result']\n",
    "    # # lagi dengan minmax\n",
    "    # data_to_count[\"dc_result_scaled\"] = data_to_count[\"dc_result_scaled\"] / data_to_count[\"dc_result_scaled\"].max()\n",
    "\n",
    "    # Perform scaling using standard deviation\n",
    "    # data_to_count['dc_result_scaled'] = std_scale(data_to_count['dc_result'])\n",
    "    # data_to_count['dc_result_scaled'] = minmax(data_to_count['dc_result_scaled'])\n",
    "\n",
    "    data_to_count['dc_result_scaled'] = minmax(data_to_count['dc_result'])\n",
    "\n",
    "    #9\n",
    "    #hitung kombinasi\n",
    "    # for idx, row in data_to_count.iterrows():\n",
    "    #     _dc = row['dc_result_scaled']\n",
    "    #     _ed=( (row['ed_result_scaled']) if row['ed_result_scaled']!=0 else 1)\n",
    "    #     data_to_count.loc[idx,['result']] = _dc/_ed\n",
    "\n",
    "    data_to_count['result'] = (1+data_to_count['dc_result_scaled']) / (1+data_to_count['ed_result_scaled'])\n",
    "\n",
    "    # simple scaling result (final/kombinasi)\n",
    "    data_to_count['result'] = data_to_count['result'] / data_to_count['result'].max()\n",
    "\n",
    "    #10\n",
    "    #pengujian\n",
    "\n",
    "    # final score kombinasi\n",
    "    data_to_count=data_to_count.sort_values('result',ascending=False).reset_index(drop=True)\n",
    "    data_to_count#[['label','dc_result','ed_result','result']]\n",
    "\n",
    "    # Pengujian kombinasi\n",
    "    kembalian=[]\n",
    "    ujung=10\n",
    "    if len(data_to_count) < ujung:\n",
    "        print(\"data kurang dari 3\")\n",
    "        ujung = len(data_to_count)\n",
    "    for urutan in range(0,ujung):\n",
    "        takson=[i[0] for i in data_ujian if i[0] not in [\"superkingdom\",\"kingdom\",\"filum\",\"kelas\"]]\n",
    "        id_hasil=data_to_count.iloc[urutan].entity\n",
    "        cek_hasil= { k:v for k,v in reversed(allnodes[id_hasil].items()) if k in takson }\n",
    "        cek_ujian= { k:v for k,v in data_ujian if k in takson }\n",
    "        # print(acuan_,'->', data_)\n",
    "        # print('ujian ',cek_ujian)\n",
    "        print('hasil ',cek_hasil)\n",
    "        cek=0\n",
    "        for i in reversed(takson):\n",
    "            cekk=cek_hasil[i]==cek_ujian[i]\n",
    "            cek+=cekk\n",
    "            # print(i, cekk)\n",
    "        print(cek/len(takson))\n",
    "        kembalian.append(cek/len(takson))\n",
    "    kembalian.sort(reverse=True)\n",
    "    return kembalian[0]"
   ]
  },
  {
   "cell_type": "code",
   "execution_count": 38,
   "metadata": {},
   "outputs": [
    {
     "name": "stdout",
     "output_type": "stream",
     "text": [
      "untuk data :  1cucu\n",
      "removeNodeAndEdgeByFilter\n",
      "sebelum : 1819 3164\n",
      "sesudah : 1805 3119\n",
      "3119\n",
      "3133\n",
      "removeNodeAndEdgeByFilter\n",
      "sebelum : 1805 3133\n",
      "sesudah : 987 1698\n",
      "[('family', 'NCBI:27482_Aphididae'), ('order', 'NCBI:7524_Hemiptera'), ('class', 'NCBI:50557_Insecta'), ('phylum', 'NCBI:6656_Arthropoda'), ('kingdom', 'NCBI:33208_Metazoa'), ('superkingdom', 'NCBI:2759_Eukaryota')]\n",
      "[('spesies', 'NCBI:13164_Myzus persicae'), ('genus', 'NCBI:13163_Myzus'), ('famili', 'NCBI:27482_Aphididae'), ('ordo', 'NCBI:7524_Hemiptera'), ('kelas', 'NCBI:50557_Insecta'), ('filum', 'NCBI:6656_Arthropoda'), ('kingdom', 'NCBI:33208_Metazoa'), ('superkingdom', 'NCBI:2759_Eukaryota')]\n",
      "hasil  {'spesies': 'EOL:3689195_Aphisglycines', 'genus': 'NCBI:80764_Aphis <genus>', 'famili': 'NCBI:27482_Aphididae', 'ordo': 'NCBI:7524_Hemiptera'}\n",
      "0.5\n",
      "hasil  {'spesies': 'NCBI:13131_Macrosiphum euphorbiae', 'genus': 'NCBI:13130_Macrosiphum', 'famili': 'NCBI:27482_Aphididae', 'ordo': 'NCBI:7524_Hemiptera'}\n",
      "0.5\n",
      "hasil  {'spesies': 'NCBI:80765_Aphis gossypii', 'genus': 'NCBI:80764_Aphis <genus>', 'famili': 'NCBI:27482_Aphididae', 'ordo': 'NCBI:7524_Hemiptera'}\n",
      "0.5\n",
      "hasil  {'spesies': 'NCBI:202456_Aulacorthum solani', 'genus': 'NCBI:202455_Aulacorthum', 'famili': 'NCBI:27482_Aphididae', 'ordo': 'NCBI:7524_Hemiptera'}\n",
      "0.5\n",
      "hasil  {'spesies': 'NCBI:713927_Macrosiphoniella sanborni', 'genus': 'NCBI:87307_Macrosiphoniella', 'famili': 'NCBI:27482_Aphididae', 'ordo': 'NCBI:7524_Hemiptera'}\n",
      "0.5\n",
      "hasil  {'spesies': 'NCBI:307492_Aphis craccivora', 'genus': 'NCBI:80764_Aphis <genus>', 'famili': 'NCBI:27482_Aphididae', 'ordo': 'NCBI:7524_Hemiptera'}\n",
      "0.5\n",
      "hasil  {'spesies': 'NCBI:1714475_Impatientinum asiaticum', 'genus': 'NCBI:796275_Impatientinum', 'famili': 'NCBI:27482_Aphididae', 'ordo': 'NCBI:7524_Hemiptera'}\n",
      "0.5\n",
      "hasil  {'spesies': 'NCBI:796290_Phorodon^species', 'genus': 'NCBI:796290_Phorodon', 'famili': 'NCBI:27482_Aphididae', 'ordo': 'NCBI:7524_Hemiptera'}\n",
      "0.5\n",
      "hasil  {'spesies': 'NCBI:527583_Aphis rubifolii', 'genus': 'NCBI:80764_Aphis <genus>', 'famili': 'NCBI:27482_Aphididae', 'ordo': 'NCBI:7524_Hemiptera'}\n",
      "0.5\n",
      "hasil  {'spesies': 'NCBI:693967_Pentalonia nigronervosa', 'genus': 'NCBI:693966_Pentalonia', 'famili': 'NCBI:27482_Aphididae', 'ordo': 'NCBI:7524_Hemiptera'}\n",
      "0.5\n",
      "untuk data :  2cri\n",
      "removeNodeAndEdgeByFilter\n",
      "sebelum : 1203 1858\n",
      "sesudah : 1197 1851\n",
      "1851\n",
      "1854\n",
      "removeNodeAndEdgeByFilter\n",
      "sebelum : 1197 1854\n",
      "sesudah : 561 854\n",
      "[('family', 'NCBI:7036_Aleyrodidae'), ('order', 'NCBI:7524_Hemiptera'), ('class', 'NCBI:50557_Insecta'), ('phylum', 'NCBI:6656_Arthropoda'), ('kingdom', 'NCBI:33208_Metazoa'), ('superkingdom', 'NCBI:2759_Eukaryota')]\n",
      "[('spesies', 'NCBI:7038_Bemisia tabaci'), ('genus', 'NCBI:7037_Bemisia'), ('famili', 'NCBI:7036_Aleyrodidae'), ('ordo', 'NCBI:7524_Hemiptera'), ('kelas', 'NCBI:50557_Insecta'), ('filum', 'NCBI:6656_Arthropoda'), ('kingdom', 'NCBI:33208_Metazoa'), ('superkingdom', 'NCBI:2759_Eukaryota')]\n",
      "hasil  {'spesies': 'NCBI:7038_Bemisia tabaci', 'genus': 'NCBI:7037_Bemisia', 'famili': 'NCBI:7036_Aleyrodidae', 'ordo': 'NCBI:7524_Hemiptera'}\n",
      "1.0\n",
      "hasil  {'spesies': 'NCBI:88556_Trialeurodes vaporariorum', 'genus': 'NCBI:88555_Trialeurodes', 'famili': 'NCBI:7036_Aleyrodidae', 'ordo': 'NCBI:7524_Hemiptera'}\n",
      "0.5\n",
      "hasil  {'spesies': 'NCBI:166114_Bemisia afer', 'genus': 'NCBI:7037_Bemisia', 'famili': 'NCBI:7036_Aleyrodidae', 'ordo': 'NCBI:7524_Hemiptera'}\n",
      "0.75\n",
      "hasil  {'spesies': 'NCBI:1513909_Euschistus ictericus', 'genus': 'NCBI:437492_Euschistus', 'famili': 'NCBI:160513_Pentatomidae', 'ordo': 'NCBI:7524_Hemiptera'}\n",
      "0.25\n",
      "hasil  {'spesies': 'NCBI:537450_Graphosoma italicum', 'genus': 'NCBI:57297_Graphosoma', 'famili': 'NCBI:160513_Pentatomidae', 'ordo': 'NCBI:7524_Hemiptera'}\n",
      "0.25\n",
      "hasil  {'spesies': 'NCBI:1511258_Corizus^species', 'genus': 'NCBI:1511258_Corizus', 'famili': 'NCBI:38106_Rhopalidae', 'ordo': 'NCBI:7524_Hemiptera'}\n",
      "0.25\n",
      "hasil  {'spesies': 'GBIF:2020590_Tingisauriculata', 'genus': 'NCBI:1400118_Tingis', 'famili': 'NCBI:236450_Tingidae', 'ordo': 'NCBI:7524_Hemiptera'}\n",
      "0.25\n",
      "hasil  {'spesies': 'NCBI:1871470_Ancyrosoma leucogrammes', 'genus': 'NCBI:1871469_Ancyrosoma', 'famili': 'NCBI:160513_Pentatomidae', 'ordo': 'NCBI:7524_Hemiptera'}\n",
      "0.25\n",
      "hasil  {'spesies': 'INAT_TAXON:1110561_Stictocephalabisonia', 'genus': 'NCBI:54647_Stictocephala', 'famili': 'NCBI:30095_Membracidae', 'ordo': 'NCBI:7524_Hemiptera'}\n",
      "0.25\n",
      "hasil  {'spesies': 'NCBI:683892_Lygaeus kalmii', 'genus': 'NCBI:683891_Lygaeus', 'famili': 'NCBI:7533_Lygaeidae', 'ordo': 'NCBI:7524_Hemiptera'}\n",
      "0.25\n",
      "untuk data :  3wai\n",
      "removeNodeAndEdgeByFilter\n",
      "sebelum : 182 228\n",
      "sesudah : 178 223\n",
      "223\n",
      "223\n",
      "removeNodeAndEdgeByFilter\n",
      "sebelum : 178 223\n",
      "sesudah : 93 113\n",
      "[('family', 'NCBI:30102_Cicadellidae'), ('order', 'NCBI:7524_Hemiptera'), ('class', 'NCBI:50557_Insecta'), ('phylum', 'NCBI:6656_Arthropoda'), ('kingdom', 'NCBI:33208_Metazoa'), ('superkingdom', 'NCBI:2759_Eukaryota')]\n",
      "[('spesies', 'NCBI:30127_Graminella nigrifrons'), ('genus', 'NCBI:30125_Graminella <bugs>'), ('famili', 'NCBI:30102_Cicadellidae'), ('ordo', 'NCBI:7524_Hemiptera'), ('kelas', 'NCBI:50557_Insecta'), ('filum', 'NCBI:6656_Arthropoda'), ('kingdom', 'NCBI:33208_Metazoa'), ('superkingdom', 'NCBI:2759_Eukaryota')]\n",
      "hasil  {'spesies': 'EOL_V2:11600417_Thaumatotibialeucotreta', 'genus': 'EOL:8890485_Thaumatotibia', 'famili': 'NCBI:7139_Tortricidae', 'ordo': 'NCBI:7088_Lepidoptera'}\n",
      "0.0\n",
      "hasil  {'spesies': 'NCBI:2586298_Chlorophorus annularis', 'genus': 'NCBI:157308_Chlorophorus', 'famili': 'NCBI:34667_Cerambycidae', 'ordo': 'NCBI:7041_Coleoptera'}\n",
      "0.0\n",
      "hasil  {'spesies': 'GBIF:2100309_Sosa^species', 'genus': 'GBIF:2100309_Sosa', 'famili': 'NCBI:7516_Neuroptera^family', 'ordo': 'NCBI:7516_Neuroptera'}\n",
      "0.0\n",
      "hasil  {'spesies': 'NCBI:1548265_Campion^species', 'genus': 'NCBI:1548265_Campion', 'famili': 'NCBI:34746_Mantispidae', 'ordo': 'NCBI:7516_Neuroptera'}\n",
      "0.0\n",
      "hasil  {'spesies': 'NCBI:236792_Chilo partellus', 'genus': 'NCBI:168630_Chilo', 'famili': 'NCBI:268499_Crambidae', 'ordo': 'NCBI:7088_Lepidoptera'}\n",
      "0.0\n",
      "hasil  {'spesies': 'NCBI:168631_Chilo suppressalis', 'genus': 'NCBI:168630_Chilo', 'famili': 'NCBI:268499_Crambidae', 'ordo': 'NCBI:7088_Lepidoptera'}\n",
      "0.0\n",
      "hasil  {'spesies': 'NCBI:195883_Laodelphax striatellus', 'genus': 'NCBI:195882_Laodelphax', 'famili': 'NCBI:33362_Delphacidae', 'ordo': 'NCBI:7524_Hemiptera'}\n",
      "0.25\n",
      "hasil  {'spesies': 'NCBI:55087_Bacillus <walking sticks>^species', 'genus': 'NCBI:55087_Bacillus <walking sticks>', 'famili': 'NCBI:55086_Bacillidae', 'ordo': 'NCBI:7020_Phasmatodea'}\n",
      "0.0\n",
      "hasil  {'spesies': 'NCBI:254363_Autographa gamma', 'genus': 'NCBI:254361_Autographa', 'famili': 'NCBI:7100_Noctuidae', 'ordo': 'NCBI:7088_Lepidoptera'}\n",
      "0.0\n",
      "hasil  {'spesies': 'NCBI:133126_Diabrotica speciosa', 'genus': 'NCBI:50385_Diabrotica', 'famili': 'NCBI:27439_Chrysomelidae', 'ordo': 'NCBI:7041_Coleoptera'}\n",
      "0.0\n",
      "untuk data :  4beg\n",
      "removeNodeAndEdgeByFilter\n",
      "sebelum : 2586 6898\n",
      "sesudah : 2554 6743\n",
      "6743\n",
      "6747\n",
      "removeNodeAndEdgeByFilter\n",
      "sebelum : 2554 6747\n",
      "sesudah : 1857 4681\n",
      "[('family', 'NCBI:7036_Aleyrodidae'), ('order', 'NCBI:7524_Hemiptera'), ('class', 'NCBI:50557_Insecta'), ('phylum', 'NCBI:6656_Arthropoda'), ('kingdom', 'NCBI:33208_Metazoa'), ('superkingdom', 'NCBI:2759_Eukaryota')]\n",
      "[('spesies', 'NCBI:7038_Bemisia tabaci'), ('genus', 'NCBI:7037_Bemisia'), ('famili', 'NCBI:7036_Aleyrodidae'), ('ordo', 'NCBI:7524_Hemiptera'), ('kelas', 'NCBI:50557_Insecta'), ('filum', 'NCBI:6656_Arthropoda'), ('kingdom', 'NCBI:33208_Metazoa'), ('superkingdom', 'NCBI:2759_Eukaryota')]\n",
      "hasil  {'spesies': 'NCBI:7038_Bemisia tabaci', 'genus': 'NCBI:7037_Bemisia', 'famili': 'NCBI:7036_Aleyrodidae', 'ordo': 'NCBI:7524_Hemiptera'}\n",
      "1.0\n",
      "hasil  {'spesies': 'NCBI:267823_Aleurodicus dispersus', 'genus': 'NCBI:30098_Aleurodicus', 'famili': 'NCBI:7036_Aleyrodidae', 'ordo': 'NCBI:7524_Hemiptera'}\n",
      "0.5\n",
      "hasil  {'spesies': 'NCBI:166114_Bemisia afer', 'genus': 'NCBI:7037_Bemisia', 'famili': 'NCBI:7036_Aleyrodidae', 'ordo': 'NCBI:7524_Hemiptera'}\n",
      "0.75\n",
      "hasil  {'spesies': 'NCBI:88556_Trialeurodes vaporariorum', 'genus': 'NCBI:88555_Trialeurodes', 'famili': 'NCBI:7036_Aleyrodidae', 'ordo': 'NCBI:7524_Hemiptera'}\n",
      "0.5\n",
      "hasil  {'spesies': 'EOL:20707157_Amrascabiguttula', 'genus': 'EOL:8987229_Amrasca', 'famili': 'NCBI:30102_Cicadellidae', 'ordo': 'NCBI:7524_Hemiptera'}\n",
      "0.25\n",
      "hasil  {'spesies': 'NCBI:1228037_Phthiacnemia picta', 'genus': 'NCBI:1228036_Phthiacnemia', 'famili': 'NCBI:186376_Coreidae', 'ordo': 'NCBI:7524_Hemiptera'}\n",
      "0.25\n",
      "hasil  {'spesies': 'NCBI:881480_Jalysus wickhami', 'genus': 'NCBI:236399_Jalysus', 'famili': 'NCBI:236388_Berytidae', 'ordo': 'NCBI:7524_Hemiptera'}\n",
      "0.25\n",
      "hasil  {'spesies': 'NCBI:236622_Nysius^species', 'genus': 'NCBI:236622_Nysius', 'famili': 'NCBI:7533_Lygaeidae', 'ordo': 'NCBI:7524_Hemiptera'}\n",
      "0.25\n",
      "hasil  {'spesies': 'NCBI:1863032_Alydus pilosulus', 'genus': 'NCBI:881520_Alydus', 'famili': 'NCBI:41702_Alydidae', 'ordo': 'NCBI:7524_Hemiptera'}\n",
      "0.25\n",
      "hasil  {'spesies': 'NCBI:1228030_Catorhintha^species', 'genus': 'NCBI:1228030_Catorhintha', 'famili': 'NCBI:186376_Coreidae', 'ordo': 'NCBI:7524_Hemiptera'}\n",
      "0.25\n",
      "untuk data :  5pol\n",
      "removeNodeAndEdgeByFilter\n",
      "sebelum : 38 43\n",
      "sesudah : 38 43\n",
      "43\n",
      "49\n",
      "removeNodeAndEdgeByFilter\n",
      "sebelum : 38 49\n",
      "sesudah : 14 17\n",
      "[('family', 'NCBI:27482_Aphididae'), ('order', 'NCBI:7524_Hemiptera'), ('class', 'NCBI:50557_Insecta'), ('phylum', 'NCBI:6656_Arthropoda'), ('kingdom', 'NCBI:33208_Metazoa'), ('superkingdom', 'NCBI:2759_Eukaryota')]\n",
      "[('spesies', 'NCBI:13262_Schizaphis graminum'), ('genus', 'NCBI:13261_Schizaphis'), ('famili', 'NCBI:27482_Aphididae'), ('ordo', 'NCBI:7524_Hemiptera'), ('kelas', 'NCBI:50557_Insecta'), ('filum', 'NCBI:6656_Arthropoda'), ('kingdom', 'NCBI:33208_Metazoa'), ('superkingdom', 'NCBI:2759_Eukaryota')]\n",
      "data kurang dari 3\n",
      "hasil  {'spesies': 'EOL:587979_Rhopalosiphumpadi', 'genus': 'NCBI:40931_Rhopalosiphum', 'famili': 'NCBI:27482_Aphididae', 'ordo': 'NCBI:7524_Hemiptera'}\n",
      "0.5\n",
      "hasil  {'spesies': 'NCBI:40932_Rhopalosiphum padi', 'genus': 'NCBI:40931_Rhopalosiphum', 'famili': 'NCBI:27482_Aphididae', 'ordo': 'NCBI:7524_Hemiptera'}\n",
      "0.5\n",
      "hasil  {'spesies': 'NCBI:44664_Sitobion avenae', 'genus': 'NCBI:44662_Sitobion', 'famili': 'NCBI:27482_Aphididae', 'ordo': 'NCBI:7524_Hemiptera'}\n",
      "0.5\n",
      "hasil  {'spesies': 'NCBI:44670_Metopolophium dirhodum', 'genus': 'NCBI:44669_Metopolophium', 'famili': 'NCBI:27482_Aphididae', 'ordo': 'NCBI:7524_Hemiptera'}\n",
      "0.5\n",
      "hasil  {'spesies': 'NCBI:273650_Rhopalosiphum rufiabdominalis', 'genus': 'NCBI:40931_Rhopalosiphum', 'famili': 'NCBI:27482_Aphididae', 'ordo': 'NCBI:7524_Hemiptera'}\n",
      "0.5\n",
      "hasil  {'spesies': 'NCBI:13262_Schizaphis graminum', 'genus': 'NCBI:13261_Schizaphis', 'famili': 'NCBI:27482_Aphididae', 'ordo': 'NCBI:7524_Hemiptera'}\n",
      "1.0\n",
      "hasil  {'spesies': 'NCBI:163155_Aphelinus varipes', 'genus': 'NCBI:163151_Aphelinus', 'famili': 'NCBI:108385_Aphelinidae', 'ordo': 'NCBI:7399_Hymenoptera'}\n",
      "0.0\n",
      "hasil  {'spesies': 'EOL:1066669_Aphelinusmali', 'genus': 'NCBI:163151_Aphelinus', 'famili': 'NCBI:108385_Aphelinidae', 'ordo': 'NCBI:7399_Hymenoptera'}\n",
      "0.0\n",
      "hasil  {'spesies': 'NCBI:55891_Aphidius rhopalosiphi', 'genus': 'NCBI:37852_Aphidius', 'famili': 'NCBI:7402_Braconidae', 'ordo': 'NCBI:7399_Hymenoptera'}\n",
      "0.0\n",
      "untuk data :  6pea\n",
      "removeNodeAndEdgeByFilter\n",
      "sebelum : 655 950\n",
      "sesudah : 651 946\n",
      "946\n",
      "953\n",
      "removeNodeAndEdgeByFilter\n",
      "sebelum : 651 953\n",
      "sesudah : 347 501\n",
      "[('family', 'NCBI:27482_Aphididae'), ('order', 'NCBI:7524_Hemiptera'), ('class', 'NCBI:50557_Insecta'), ('phylum', 'NCBI:6656_Arthropoda'), ('kingdom', 'NCBI:33208_Metazoa'), ('superkingdom', 'NCBI:2759_Eukaryota')]\n",
      "[('spesies', 'NCBI:7029_Acyrthosiphon pisum'), ('genus', 'NCBI:7028_Acyrthosiphon'), ('famili', 'NCBI:27482_Aphididae'), ('ordo', 'NCBI:7524_Hemiptera'), ('kelas', 'NCBI:50557_Insecta'), ('filum', 'NCBI:6656_Arthropoda'), ('kingdom', 'NCBI:33208_Metazoa'), ('superkingdom', 'NCBI:2759_Eukaryota')]\n",
      "hasil  {'spesies': 'NCBI:7029_Acyrthosiphon pisum', 'genus': 'NCBI:7028_Acyrthosiphon', 'famili': 'NCBI:27482_Aphididae', 'ordo': 'NCBI:7524_Hemiptera'}\n",
      "1.0\n",
      "hasil  {'spesies': 'EOL_V2:12032819_Macrosiphumcreeli', 'genus': 'NCBI:13130_Macrosiphum', 'famili': 'NCBI:27482_Aphididae', 'ordo': 'NCBI:7524_Hemiptera'}\n",
      "0.5\n",
      "hasil  {'spesies': 'GBIF:9083295_Aphisgossypii', 'genus': 'NCBI:80764_Aphis <genus>', 'famili': 'NCBI:27482_Aphididae', 'ordo': 'NCBI:7524_Hemiptera'}\n",
      "0.5\n",
      "hasil  {'spesies': 'NCBI:34664_Acyrthosiphon kondoi', 'genus': 'NCBI:7028_Acyrthosiphon', 'famili': 'NCBI:27482_Aphididae', 'ordo': 'NCBI:7524_Hemiptera'}\n",
      "0.75\n",
      "hasil  {'spesies': 'NCBI:202456_Aulacorthum solani', 'genus': 'NCBI:202455_Aulacorthum', 'famili': 'NCBI:27482_Aphididae', 'ordo': 'NCBI:7524_Hemiptera'}\n",
      "0.5\n",
      "hasil  {'spesies': 'EOL_V2:480757_Toxopteraaurantii', 'genus': 'EOL:60564_Toxoptera', 'famili': 'NCBI:27482_Aphididae', 'ordo': 'NCBI:7524_Hemiptera'}\n",
      "0.5\n",
      "hasil  {'spesies': 'NCBI:307492_Aphis craccivora', 'genus': 'NCBI:80764_Aphis <genus>', 'famili': 'NCBI:27482_Aphididae', 'ordo': 'NCBI:7524_Hemiptera'}\n",
      "0.5\n",
      "hasil  {'spesies': 'EOL:2646246_Asterolecanium^species', 'genus': 'EOL:2646246_Asterolecanium', 'famili': 'NCBI:308517_Asterolecaniidae', 'ordo': 'NCBI:7524_Hemiptera'}\n",
      "0.25\n",
      "hasil  {'spesies': 'NCBI:248460_Lygus rugulipennis', 'genus': 'NCBI:30084_Lygus', 'famili': 'NCBI:30083_Miridae', 'ordo': 'NCBI:7524_Hemiptera'}\n",
      "0.25\n",
      "hasil  {'spesies': 'NCBI:187489_Lygus elisus', 'genus': 'NCBI:30084_Lygus', 'famili': 'NCBI:30083_Miridae', 'ordo': 'NCBI:7524_Hemiptera'}\n",
      "0.25\n",
      "untuk data :  7cucur\n",
      "removeNodeAndEdgeByFilter\n",
      "sebelum : 1203 1857\n",
      "sesudah : 1197 1850\n",
      "1850\n",
      "1853\n",
      "removeNodeAndEdgeByFilter\n",
      "sebelum : 1197 1853\n",
      "sesudah : 561 853\n",
      "[('family', 'NCBI:7036_Aleyrodidae'), ('order', 'NCBI:7524_Hemiptera'), ('class', 'NCBI:50557_Insecta'), ('phylum', 'NCBI:6656_Arthropoda'), ('kingdom', 'NCBI:33208_Metazoa'), ('superkingdom', 'NCBI:2759_Eukaryota')]\n",
      "[('spesies', 'NCBI:7038_Bemisia tabaci'), ('genus', 'NCBI:7037_Bemisia'), ('famili', 'NCBI:7036_Aleyrodidae'), ('ordo', 'NCBI:7524_Hemiptera'), ('kelas', 'NCBI:50557_Insecta'), ('filum', 'NCBI:6656_Arthropoda'), ('kingdom', 'NCBI:33208_Metazoa'), ('superkingdom', 'NCBI:2759_Eukaryota')]\n",
      "hasil  {'spesies': 'NCBI:7038_Bemisia tabaci', 'genus': 'NCBI:7037_Bemisia', 'famili': 'NCBI:7036_Aleyrodidae', 'ordo': 'NCBI:7524_Hemiptera'}\n",
      "1.0\n",
      "hasil  {'spesies': 'NCBI:166114_Bemisia afer', 'genus': 'NCBI:7037_Bemisia', 'famili': 'NCBI:7036_Aleyrodidae', 'ordo': 'NCBI:7524_Hemiptera'}\n",
      "0.75\n",
      "hasil  {'spesies': 'NCBI:88556_Trialeurodes vaporariorum', 'genus': 'NCBI:88555_Trialeurodes', 'famili': 'NCBI:7036_Aleyrodidae', 'ordo': 'NCBI:7524_Hemiptera'}\n",
      "0.5\n",
      "hasil  {'spesies': 'INAT_TAXON:1110561_Stictocephalabisonia', 'genus': 'NCBI:54647_Stictocephala', 'famili': 'NCBI:30095_Membracidae', 'ordo': 'NCBI:7524_Hemiptera'}\n",
      "0.25\n",
      "hasil  {'spesies': 'NCBI:2212857_Brachycoleus decolor', 'genus': 'NCBI:567235_Brachycoleus', 'famili': 'NCBI:30083_Miridae', 'ordo': 'NCBI:7524_Hemiptera'}\n",
      "0.25\n",
      "hasil  {'spesies': 'NCBI:881559_Ligyrocoris sylvestris', 'genus': 'NCBI:881557_Ligyrocoris', 'famili': 'NCBI:238617_Rhyparochromidae', 'ordo': 'NCBI:7524_Hemiptera'}\n",
      "0.25\n",
      "hasil  {'spesies': 'NCBI:50650_Lygus lineolaris', 'genus': 'NCBI:30084_Lygus', 'famili': 'NCBI:30083_Miridae', 'ordo': 'NCBI:7524_Hemiptera'}\n",
      "0.25\n",
      "hasil  {'spesies': 'NCBI:1871470_Ancyrosoma leucogrammes', 'genus': 'NCBI:1871469_Ancyrosoma', 'famili': 'NCBI:160513_Pentatomidae', 'ordo': 'NCBI:7524_Hemiptera'}\n",
      "0.25\n",
      "hasil  {'spesies': 'NCBI:237092_Phytocoris^species', 'genus': 'NCBI:237092_Phytocoris', 'famili': 'NCBI:30083_Miridae', 'ordo': 'NCBI:7524_Hemiptera'}\n",
      "0.25\n",
      "hasil  {'spesies': 'NCBI:881541_Corimelaena^species', 'genus': 'NCBI:881541_Corimelaena', 'famili': 'NCBI:468275_Thyreocoridae', 'ordo': 'NCBI:7524_Hemiptera'}\n",
      "0.25\n",
      "untuk data :  8ten\n",
      "removeNodeAndEdgeByFilter\n",
      "sebelum : 859 1221\n",
      "sesudah : 857 1217\n",
      "1217\n",
      "1218\n",
      "removeNodeAndEdgeByFilter\n",
      "sebelum : 857 1218\n",
      "sesudah : 145 199\n",
      "[('family', 'NCBI:33362_Delphacidae'), ('order', 'NCBI:7524_Hemiptera'), ('class', 'NCBI:50557_Insecta'), ('phylum', 'NCBI:6656_Arthropoda'), ('kingdom', 'NCBI:33208_Metazoa'), ('superkingdom', 'NCBI:2759_Eukaryota')]\n",
      "[('spesies', 'NCBI:195883_Laodelphax striatellus'), ('genus', 'NCBI:195882_Laodelphax'), ('famili', 'NCBI:33362_Delphacidae'), ('ordo', 'NCBI:7524_Hemiptera'), ('kelas', 'NCBI:50557_Insecta'), ('filum', 'NCBI:6656_Arthropoda'), ('kingdom', 'NCBI:33208_Metazoa'), ('superkingdom', 'NCBI:2759_Eukaryota')]\n",
      "hasil  {'spesies': 'NCBI:195883_Laodelphax striatellus', 'genus': 'NCBI:195882_Laodelphax', 'famili': 'NCBI:33362_Delphacidae', 'ordo': 'NCBI:7524_Hemiptera'}\n",
      "1.0\n",
      "hasil  {'spesies': 'EOL:587979_Rhopalosiphumpadi', 'genus': 'NCBI:40931_Rhopalosiphum', 'famili': 'NCBI:27482_Aphididae', 'ordo': 'NCBI:7524_Hemiptera'}\n",
      "0.25\n",
      "hasil  {'spesies': 'NCBI:44670_Metopolophium dirhodum', 'genus': 'NCBI:44669_Metopolophium', 'famili': 'NCBI:27482_Aphididae', 'ordo': 'NCBI:7524_Hemiptera'}\n",
      "0.25\n",
      "hasil  {'spesies': 'NCBI:80765_Aphis gossypii', 'genus': 'NCBI:80764_Aphis <genus>', 'famili': 'NCBI:27482_Aphididae', 'ordo': 'NCBI:7524_Hemiptera'}\n",
      "0.25\n",
      "hasil  {'spesies': 'NCBI:13164_Myzus persicae', 'genus': 'NCBI:13163_Myzus', 'famili': 'NCBI:27482_Aphididae', 'ordo': 'NCBI:7524_Hemiptera'}\n",
      "0.25\n",
      "hasil  {'spesies': 'NCBI:13131_Macrosiphum euphorbiae', 'genus': 'NCBI:13130_Macrosiphum', 'famili': 'NCBI:27482_Aphididae', 'ordo': 'NCBI:7524_Hemiptera'}\n",
      "0.25\n",
      "hasil  {'spesies': 'EOL:3690315_Schizaphisgraminum', 'genus': 'NCBI:13261_Schizaphis', 'famili': 'NCBI:27482_Aphididae', 'ordo': 'NCBI:7524_Hemiptera'}\n",
      "0.25\n",
      "hasil  {'spesies': 'NCBI:44664_Sitobion avenae', 'genus': 'NCBI:44662_Sitobion', 'famili': 'NCBI:27482_Aphididae', 'ordo': 'NCBI:7524_Hemiptera'}\n",
      "0.25\n",
      "hasil  {'spesies': 'EOL_V2:7700524_Sitobionakebiae', 'genus': 'NCBI:44662_Sitobion', 'famili': 'NCBI:27482_Aphididae', 'ordo': 'NCBI:7524_Hemiptera'}\n",
      "0.25\n",
      "hasil  {'spesies': 'NCBI:307492_Aphis craccivora', 'genus': 'NCBI:80764_Aphis <genus>', 'famili': 'NCBI:27482_Aphididae', 'ordo': 'NCBI:7524_Hemiptera'}\n",
      "0.25\n",
      "untuk data :  9fiji\n",
      "removeNodeAndEdgeByFilter\n",
      "sebelum : 310 417\n",
      "sesudah : 307 392\n",
      "392\n",
      "395\n",
      "removeNodeAndEdgeByFilter\n",
      "sebelum : 307 395\n",
      "sesudah : 165 168\n",
      "[('family', 'NCBI:33362_Delphacidae'), ('order', 'NCBI:7524_Hemiptera'), ('class', 'NCBI:50557_Insecta'), ('phylum', 'NCBI:6656_Arthropoda'), ('kingdom', 'NCBI:33208_Metazoa'), ('superkingdom', 'NCBI:2759_Eukaryota')]\n",
      "[('spesies', 'NCBI:113103_Sogatella furcifera'), ('genus', 'NCBI:113102_Sogatella'), ('famili', 'NCBI:33362_Delphacidae'), ('ordo', 'NCBI:7524_Hemiptera'), ('kelas', 'NCBI:50557_Insecta'), ('filum', 'NCBI:6656_Arthropoda'), ('kingdom', 'NCBI:33208_Metazoa'), ('superkingdom', 'NCBI:2759_Eukaryota')]\n",
      "hasil  {'spesies': 'NCBI:108931_Nilaparvata lugens', 'genus': 'NCBI:108930_Nilaparvata', 'famili': 'NCBI:33362_Delphacidae', 'ordo': 'NCBI:7524_Hemiptera'}\n",
      "0.5\n",
      "hasil  {'spesies': 'NCBI:195883_Laodelphax striatellus', 'genus': 'NCBI:195882_Laodelphax', 'famili': 'NCBI:33362_Delphacidae', 'ordo': 'NCBI:7524_Hemiptera'}\n",
      "0.5\n",
      "hasil  {'spesies': 'NCBI:984414_Eumetopina flavipes', 'genus': 'NCBI:984413_Eumetopina', 'famili': 'NCBI:33362_Delphacidae', 'ordo': 'NCBI:7524_Hemiptera'}\n",
      "0.5\n",
      "hasil  {'spesies': 'EOL:587979_Rhopalosiphumpadi', 'genus': 'NCBI:40931_Rhopalosiphum', 'famili': 'NCBI:27482_Aphididae', 'ordo': 'NCBI:7524_Hemiptera'}\n",
      "0.25\n",
      "hasil  {'spesies': 'EOL:4217447_Ceratovacunalanigera', 'genus': 'EOL:4217445_Ceratovacuna', 'famili': 'NCBI:27482_Aphididae', 'ordo': 'NCBI:7524_Hemiptera'}\n",
      "0.25\n",
      "hasil  {'spesies': 'NCBI:742174_Melanaphis sacchari', 'genus': 'NCBI:345571_Melanaphis', 'famili': 'NCBI:27482_Aphididae', 'ordo': 'NCBI:7524_Hemiptera'}\n",
      "0.25\n",
      "hasil  {'spesies': 'NCBI:44670_Metopolophium dirhodum', 'genus': 'NCBI:44669_Metopolophium', 'famili': 'NCBI:27482_Aphididae', 'ordo': 'NCBI:7524_Hemiptera'}\n",
      "0.25\n",
      "hasil  {'spesies': 'NCBI:44664_Sitobion avenae', 'genus': 'NCBI:44662_Sitobion', 'famili': 'NCBI:27482_Aphididae', 'ordo': 'NCBI:7524_Hemiptera'}\n",
      "0.25\n",
      "hasil  {'spesies': 'NCBI:43146_Rhopalosiphum maidis', 'genus': 'NCBI:40931_Rhopalosiphum', 'famili': 'NCBI:27482_Aphididae', 'ordo': 'NCBI:7524_Hemiptera'}\n",
      "0.25\n",
      "hasil  {'spesies': 'EOL:3690315_Schizaphisgraminum', 'genus': 'NCBI:13261_Schizaphis', 'famili': 'NCBI:27482_Aphididae', 'ordo': 'NCBI:7524_Hemiptera'}\n",
      "0.25\n",
      "untuk data :  10capchlo\n",
      "removeNodeAndEdgeByFilter\n",
      "sebelum : 556 694\n",
      "sesudah : 554 690\n",
      "690\n",
      "699\n",
      "removeNodeAndEdgeByFilter\n",
      "sebelum : 554 699\n",
      "sesudah : 68 80\n",
      "[('family', 'NCBI:45053_Thripidae'), ('order', 'NCBI:30262_Thysanoptera'), ('class', 'NCBI:50557_Insecta'), ('phylum', 'NCBI:6656_Arthropoda'), ('kingdom', 'NCBI:33208_Metazoa'), ('superkingdom', 'NCBI:2759_Eukaryota')]\n",
      "[('spesies', 'NCBI:161013_Thrips palmi'), ('genus', 'NCBI:45057_Thrips'), ('famili', 'NCBI:45053_Thripidae'), ('ordo', 'NCBI:30262_Thysanoptera'), ('kelas', 'NCBI:50557_Insecta'), ('filum', 'NCBI:6656_Arthropoda'), ('kingdom', 'NCBI:33208_Metazoa'), ('superkingdom', 'NCBI:2759_Eukaryota')]\n",
      "hasil  {'spesies': 'NCBI:1350418_Thrips parvispinus', 'genus': 'NCBI:45057_Thrips', 'famili': 'NCBI:45053_Thripidae', 'ordo': 'NCBI:30262_Thysanoptera'}\n",
      "0.75\n",
      "hasil  {'spesies': 'NCBI:133901_Frankliniella occidentalis', 'genus': 'NCBI:45059_Frankliniella', 'famili': 'NCBI:45053_Thripidae', 'ordo': 'NCBI:30262_Thysanoptera'}\n",
      "0.5\n",
      "hasil  {'spesies': 'NCBI:407288_Microcephalothrips abdominalis', 'genus': 'NCBI:407287_Microcephalothrips', 'famili': 'NCBI:45053_Thripidae', 'ordo': 'NCBI:30262_Thysanoptera'}\n",
      "0.5\n",
      "hasil  {'spesies': 'NCBI:161013_Thrips palmi', 'genus': 'NCBI:45057_Thrips', 'famili': 'NCBI:45053_Thripidae', 'ordo': 'NCBI:30262_Thysanoptera'}\n",
      "1.0\n",
      "hasil  {'spesies': 'NCBI:163893_Frankliniella intonsa', 'genus': 'NCBI:45059_Frankliniella', 'famili': 'NCBI:45053_Thripidae', 'ordo': 'NCBI:30262_Thysanoptera'}\n",
      "0.5\n",
      "hasil  {'spesies': 'NCBI:45057_Thrips^species', 'genus': 'NCBI:45057_Thrips', 'famili': 'NCBI:45053_Thripidae', 'ordo': 'NCBI:30262_Thysanoptera'}\n",
      "0.75\n",
      "hasil  {'spesies': 'NCBI:163899_Scirtothrips dorsalis', 'genus': 'NCBI:163898_Scirtothrips', 'famili': 'NCBI:45053_Thripidae', 'ordo': 'NCBI:30262_Thysanoptera'}\n",
      "0.5\n",
      "hasil  {'spesies': 'NCBI:163894_Thrips hawaiiensis', 'genus': 'NCBI:45057_Thrips', 'famili': 'NCBI:45053_Thripidae', 'ordo': 'NCBI:30262_Thysanoptera'}\n",
      "0.75\n",
      "hasil  {'spesies': 'NCBI:1520562_Bathrips melanicornis', 'genus': 'NCBI:1520561_Bathrips', 'famili': 'NCBI:45053_Thripidae', 'ordo': 'NCBI:30262_Thysanoptera'}\n",
      "0.5\n",
      "hasil  {'spesies': 'NCBI:28641_Bombus <genus>^species', 'genus': 'NCBI:28641_Bombus <genus>', 'famili': 'NCBI:7458_Apidae', 'ordo': 'NCBI:7399_Hymenoptera'}\n",
      "0.0\n",
      "untuk data :  11barley\n",
      "removeNodeAndEdgeByFilter\n",
      "sebelum : 26 29\n",
      "sesudah : 26 29\n",
      "29\n",
      "31\n",
      "removeNodeAndEdgeByFilter\n",
      "sebelum : 26 31\n",
      "sesudah : 5 7\n",
      "cuma dua serangga\n",
      "[('family', 'NCBI:27482_Aphididae'), ('order', 'NCBI:7524_Hemiptera'), ('class', 'NCBI:50557_Insecta'), ('phylum', 'NCBI:6656_Arthropoda'), ('kingdom', 'NCBI:33208_Metazoa'), ('superkingdom', 'NCBI:2759_Eukaryota')]\n",
      "[('spesies', 'NCBI:44664_Sitobion avenae'), ('genus', 'NCBI:44662_Sitobion'), ('famili', 'NCBI:27482_Aphididae'), ('ordo', 'NCBI:7524_Hemiptera'), ('kelas', 'NCBI:50557_Insecta'), ('filum', 'NCBI:6656_Arthropoda'), ('kingdom', 'NCBI:33208_Metazoa'), ('superkingdom', 'NCBI:2759_Eukaryota')]\n",
      "data kurang dari 3\n",
      "hasil  {'spesies': 'NCBI:44670_Metopolophium dirhodum', 'genus': 'NCBI:44669_Metopolophium', 'famili': 'NCBI:27482_Aphididae', 'ordo': 'NCBI:7524_Hemiptera'}\n",
      "0.5\n",
      "hasil  {'spesies': 'NCBI:44664_Sitobion avenae', 'genus': 'NCBI:44662_Sitobion', 'famili': 'NCBI:27482_Aphididae', 'ordo': 'NCBI:7524_Hemiptera'}\n",
      "1.0\n",
      "untuk data :  12tospot\n",
      "removeNodeAndEdgeByFilter\n",
      "sebelum : 398 406\n",
      "sesudah : 396 404\n",
      "404\n",
      "409\n",
      "removeNodeAndEdgeByFilter\n",
      "sebelum : 396 409\n",
      "sesudah : 95 108\n",
      "[('family', 'NCBI:45053_Thripidae'), ('order', 'NCBI:30262_Thysanoptera'), ('class', 'NCBI:50557_Insecta'), ('phylum', 'NCBI:6656_Arthropoda'), ('kingdom', 'NCBI:33208_Metazoa'), ('superkingdom', 'NCBI:2759_Eukaryota')]\n",
      "[('spesies', 'NCBI:133901_Frankliniella occidentalis'), ('genus', 'NCBI:45059_Frankliniella'), ('famili', 'NCBI:45053_Thripidae'), ('ordo', 'NCBI:30262_Thysanoptera'), ('kelas', 'NCBI:50557_Insecta'), ('filum', 'NCBI:6656_Arthropoda'), ('kingdom', 'NCBI:33208_Metazoa'), ('superkingdom', 'NCBI:2759_Eukaryota')]\n",
      "hasil  {'spesies': 'NCBI:133901_Frankliniella occidentalis', 'genus': 'NCBI:45059_Frankliniella', 'famili': 'NCBI:45053_Thripidae', 'ordo': 'NCBI:30262_Thysanoptera'}\n",
      "1.0\n",
      "hasil  {'spesies': 'NCBI:163899_Scirtothrips dorsalis', 'genus': 'NCBI:163898_Scirtothrips', 'famili': 'NCBI:45053_Thripidae', 'ordo': 'NCBI:30262_Thysanoptera'}\n",
      "0.5\n",
      "hasil  {'spesies': 'NCBI:161014_Thrips tabaci', 'genus': 'NCBI:45057_Thrips', 'famili': 'NCBI:45053_Thripidae', 'ordo': 'NCBI:30262_Thysanoptera'}\n",
      "0.5\n",
      "hasil  {'spesies': 'NCBI:161013_Thrips palmi', 'genus': 'NCBI:45057_Thrips', 'famili': 'NCBI:45053_Thripidae', 'ordo': 'NCBI:30262_Thysanoptera'}\n",
      "0.5\n",
      "hasil  {'spesies': 'NCBI:1350418_Thrips parvispinus', 'genus': 'NCBI:45057_Thrips', 'famili': 'NCBI:45053_Thripidae', 'ordo': 'NCBI:30262_Thysanoptera'}\n",
      "0.5\n",
      "hasil  {'spesies': 'NCBI:203813_Bombus muscorum', 'genus': 'NCBI:28641_Bombus <genus>', 'famili': 'NCBI:7458_Apidae', 'ordo': 'NCBI:7399_Hymenoptera'}\n",
      "0.0\n",
      "hasil  {'spesies': 'NCBI:7460_Apis mellifera', 'genus': 'NCBI:7459_Apis', 'famili': 'NCBI:7458_Apidae', 'ordo': 'NCBI:7399_Hymenoptera'}\n",
      "0.0\n",
      "hasil  {'spesies': 'NCBI:207650_Bombus vosnesenskii', 'genus': 'NCBI:28641_Bombus <genus>', 'famili': 'NCBI:7458_Apidae', 'ordo': 'NCBI:7399_Hymenoptera'}\n",
      "0.0\n",
      "hasil  {'spesies': 'NCBI:207625_Bombus centralis', 'genus': 'NCBI:28641_Bombus <genus>', 'famili': 'NCBI:7458_Apidae', 'ordo': 'NCBI:7399_Hymenoptera'}\n",
      "0.0\n",
      "hasil  {'spesies': 'NCBI:156285_Anthophora urbana', 'genus': 'NCBI:60896_Anthophora', 'famili': 'NCBI:7458_Apidae', 'ordo': 'NCBI:7399_Hymenoptera'}\n",
      "0.0\n",
      "untuk data :  13svyv\n",
      "removeNodeAndEdgeByFilter\n",
      "sebelum : 701 916\n",
      "sesudah : 695 907\n",
      "907\n",
      "911\n",
      "removeNodeAndEdgeByFilter\n",
      "sebelum : 695 911\n",
      "sesudah : 171 233\n",
      "[('family', 'NCBI:7036_Aleyrodidae'), ('order', 'NCBI:7524_Hemiptera'), ('class', 'NCBI:50557_Insecta'), ('phylum', 'NCBI:6656_Arthropoda'), ('kingdom', 'NCBI:33208_Metazoa'), ('superkingdom', 'NCBI:2759_Eukaryota')]\n",
      "[('spesies', 'NCBI:7038_Bemisia tabaci'), ('genus', 'NCBI:7037_Bemisia'), ('famili', 'NCBI:7036_Aleyrodidae'), ('ordo', 'NCBI:7524_Hemiptera'), ('kelas', 'NCBI:50557_Insecta'), ('filum', 'NCBI:6656_Arthropoda'), ('kingdom', 'NCBI:33208_Metazoa'), ('superkingdom', 'NCBI:2759_Eukaryota')]\n",
      "hasil  {'spesies': 'NCBI:7038_Bemisia tabaci', 'genus': 'NCBI:7037_Bemisia', 'famili': 'NCBI:7036_Aleyrodidae', 'ordo': 'NCBI:7524_Hemiptera'}\n",
      "1.0\n",
      "hasil  {'spesies': 'NCBI:166114_Bemisia afer', 'genus': 'NCBI:7037_Bemisia', 'famili': 'NCBI:7036_Aleyrodidae', 'ordo': 'NCBI:7524_Hemiptera'}\n",
      "0.75\n",
      "hasil  {'spesies': 'NCBI:267823_Aleurodicus dispersus', 'genus': 'NCBI:30098_Aleurodicus', 'famili': 'NCBI:7036_Aleyrodidae', 'ordo': 'NCBI:7524_Hemiptera'}\n",
      "0.5\n",
      "hasil  {'spesies': 'NCBI:88556_Trialeurodes vaporariorum', 'genus': 'NCBI:88555_Trialeurodes', 'famili': 'NCBI:7036_Aleyrodidae', 'ordo': 'NCBI:7524_Hemiptera'}\n",
      "0.5\n",
      "hasil  {'spesies': 'GBIF:2079940_Heterodera^species', 'genus': 'GBIF:2079940_Heterodera', 'famili': 'NCBI:83869_Margarodidae', 'ordo': 'NCBI:7524_Hemiptera'}\n",
      "0.25\n",
      "hasil  {'spesies': 'NCBI:1513909_Euschistus ictericus', 'genus': 'NCBI:437492_Euschistus', 'famili': 'NCBI:160513_Pentatomidae', 'ordo': 'NCBI:7524_Hemiptera'}\n",
      "0.25\n",
      "hasil  {'spesies': 'NCBI:236421_Anasa tristis', 'genus': 'NCBI:236420_Anasa', 'famili': 'NCBI:186376_Coreidae', 'ordo': 'NCBI:7524_Hemiptera'}\n",
      "0.25\n",
      "hasil  {'spesies': 'NCBI:13164_Myzus persicae', 'genus': 'NCBI:13163_Myzus', 'famili': 'NCBI:27482_Aphididae', 'ordo': 'NCBI:7524_Hemiptera'}\n",
      "0.25\n",
      "hasil  {'spesies': 'NCBI:13131_Macrosiphum euphorbiae', 'genus': 'NCBI:13130_Macrosiphum', 'famili': 'NCBI:27482_Aphididae', 'ordo': 'NCBI:7524_Hemiptera'}\n",
      "0.25\n",
      "hasil  {'spesies': 'NCBI:1863032_Alydus pilosulus', 'genus': 'NCBI:881520_Alydus', 'famili': 'NCBI:41702_Alydidae', 'ordo': 'NCBI:7524_Hemiptera'}\n",
      "0.25\n",
      "untuk data :  14sbmv\n",
      "removeNodeAndEdgeByFilter\n",
      "sebelum : 3510 8587\n",
      "sesudah : 3479 8469\n",
      "8469\n",
      "8495\n",
      "removeNodeAndEdgeByFilter\n",
      "sebelum : 3479 8495\n",
      "sesudah : 2326 6084\n",
      "[('family', 'NCBI:27482_Aphididae'), ('order', 'NCBI:7524_Hemiptera'), ('class', 'NCBI:50557_Insecta'), ('phylum', 'NCBI:6656_Arthropoda'), ('kingdom', 'NCBI:33208_Metazoa'), ('superkingdom', 'NCBI:2759_Eukaryota')]\n",
      "[('spesies', 'NCBI:307491_Aphis glycines'), ('genus', 'NCBI:80764_Aphis <genus>'), ('famili', 'NCBI:27482_Aphididae'), ('ordo', 'NCBI:7524_Hemiptera'), ('kelas', 'NCBI:50557_Insecta'), ('filum', 'NCBI:6656_Arthropoda'), ('kingdom', 'NCBI:33208_Metazoa'), ('superkingdom', 'NCBI:2759_Eukaryota')]\n",
      "hasil  {'spesies': 'NCBI:80765_Aphis gossypii', 'genus': 'NCBI:80764_Aphis <genus>', 'famili': 'NCBI:27482_Aphididae', 'ordo': 'NCBI:7524_Hemiptera'}\n",
      "0.75\n",
      "hasil  {'spesies': 'NCBI:202456_Aulacorthum solani', 'genus': 'NCBI:202455_Aulacorthum', 'famili': 'NCBI:27482_Aphididae', 'ordo': 'NCBI:7524_Hemiptera'}\n",
      "0.5\n",
      "hasil  {'spesies': 'NCBI:7029_Acyrthosiphon pisum', 'genus': 'NCBI:7028_Acyrthosiphon', 'famili': 'NCBI:27482_Aphididae', 'ordo': 'NCBI:7524_Hemiptera'}\n",
      "0.5\n",
      "hasil  {'spesies': 'NCBI:13131_Macrosiphum euphorbiae', 'genus': 'NCBI:13130_Macrosiphum', 'famili': 'NCBI:27482_Aphididae', 'ordo': 'NCBI:7524_Hemiptera'}\n",
      "0.5\n",
      "hasil  {'spesies': 'NCBI:13164_Myzus persicae', 'genus': 'NCBI:13163_Myzus', 'famili': 'NCBI:27482_Aphididae', 'ordo': 'NCBI:7524_Hemiptera'}\n",
      "0.5\n",
      "hasil  {'spesies': 'GBIF:9083295_Aphisgossypii', 'genus': 'NCBI:80764_Aphis <genus>', 'famili': 'NCBI:27482_Aphididae', 'ordo': 'NCBI:7524_Hemiptera'}\n",
      "0.75\n",
      "hasil  {'spesies': 'EOL:3121551_Hyalopteruspruni', 'genus': 'NCBI:312887_Hyalopterus', 'famili': 'NCBI:27482_Aphididae', 'ordo': 'NCBI:7524_Hemiptera'}\n",
      "0.5\n",
      "hasil  {'spesies': 'EOL:4217447_Ceratovacunalanigera', 'genus': 'EOL:4217445_Ceratovacuna', 'famili': 'NCBI:27482_Aphididae', 'ordo': 'NCBI:7524_Hemiptera'}\n",
      "0.5\n",
      "hasil  {'spesies': 'NCBI:796291_Phorodon humuli', 'genus': 'NCBI:796290_Phorodon', 'famili': 'NCBI:27482_Aphididae', 'ordo': 'NCBI:7524_Hemiptera'}\n",
      "0.5\n",
      "hasil  {'spesies': 'NCBI:224525_Brachycaudus^species', 'genus': 'NCBI:224525_Brachycaudus', 'famili': 'NCBI:27482_Aphididae', 'ordo': 'NCBI:7524_Hemiptera'}\n",
      "0.5\n",
      "untuk data :  15blv\n",
      "removeNodeAndEdgeByFilter\n",
      "sebelum : 1113 2088\n",
      "sesudah : 1099 2016\n",
      "2016\n",
      "2027\n",
      "removeNodeAndEdgeByFilter\n",
      "sebelum : 1099 2027\n",
      "sesudah : 774 1463\n",
      "[('family', 'NCBI:27482_Aphididae'), ('order', 'NCBI:7524_Hemiptera'), ('class', 'NCBI:50557_Insecta'), ('phylum', 'NCBI:6656_Arthropoda'), ('kingdom', 'NCBI:33208_Metazoa'), ('superkingdom', 'NCBI:2759_Eukaryota')]\n",
      "[('spesies', 'NCBI:7029_Acyrthosiphon pisum'), ('genus', 'NCBI:7028_Acyrthosiphon'), ('famili', 'NCBI:27482_Aphididae'), ('ordo', 'NCBI:7524_Hemiptera'), ('kelas', 'NCBI:50557_Insecta'), ('filum', 'NCBI:6656_Arthropoda'), ('kingdom', 'NCBI:33208_Metazoa'), ('superkingdom', 'NCBI:2759_Eukaryota')]\n",
      "hasil  {'spesies': 'NCBI:44664_Sitobion avenae', 'genus': 'NCBI:44662_Sitobion', 'famili': 'NCBI:27482_Aphididae', 'ordo': 'NCBI:7524_Hemiptera'}\n",
      "0.5\n",
      "hasil  {'spesies': 'EOL:3690315_Schizaphisgraminum', 'genus': 'NCBI:13261_Schizaphis', 'famili': 'NCBI:27482_Aphididae', 'ordo': 'NCBI:7524_Hemiptera'}\n",
      "0.5\n",
      "hasil  {'spesies': 'NCBI:44670_Metopolophium dirhodum', 'genus': 'NCBI:44669_Metopolophium', 'famili': 'NCBI:27482_Aphididae', 'ordo': 'NCBI:7524_Hemiptera'}\n",
      "0.5\n",
      "hasil  {'spesies': 'NCBI:7029_Acyrthosiphon pisum', 'genus': 'NCBI:7028_Acyrthosiphon', 'famili': 'NCBI:27482_Aphididae', 'ordo': 'NCBI:7524_Hemiptera'}\n",
      "1.0\n",
      "hasil  {'spesies': 'EOL_V2:7700524_Sitobionakebiae', 'genus': 'NCBI:44662_Sitobion', 'famili': 'NCBI:27482_Aphididae', 'ordo': 'NCBI:7524_Hemiptera'}\n",
      "0.5\n",
      "hasil  {'spesies': 'EOL:587979_Rhopalosiphumpadi', 'genus': 'NCBI:40931_Rhopalosiphum', 'famili': 'NCBI:27482_Aphididae', 'ordo': 'NCBI:7524_Hemiptera'}\n",
      "0.5\n",
      "hasil  {'spesies': 'EOL:3689195_Aphisglycines', 'genus': 'NCBI:80764_Aphis <genus>', 'famili': 'NCBI:27482_Aphididae', 'ordo': 'NCBI:7524_Hemiptera'}\n",
      "0.5\n",
      "hasil  {'spesies': 'NCBI:34664_Acyrthosiphon kondoi', 'genus': 'NCBI:7028_Acyrthosiphon', 'famili': 'NCBI:27482_Aphididae', 'ordo': 'NCBI:7524_Hemiptera'}\n",
      "0.75\n",
      "hasil  {'spesies': 'EOL:3690222_Brachycauduspersicae', 'genus': 'NCBI:224525_Brachycaudus', 'famili': 'NCBI:27482_Aphididae', 'ordo': 'NCBI:7524_Hemiptera'}\n",
      "0.5\n",
      "hasil  {'spesies': 'EOL_V2:12032819_Macrosiphumcreeli', 'genus': 'NCBI:13130_Macrosiphum', 'famili': 'NCBI:27482_Aphididae', 'ordo': 'NCBI:7524_Hemiptera'}\n",
      "0.5\n",
      "untuk data :  16rgdv\n",
      "removeNodeAndEdgeByFilter\n",
      "sebelum : 190 227\n",
      "sesudah : 189 226\n",
      "226\n",
      "228\n",
      "removeNodeAndEdgeByFilter\n",
      "sebelum : 189 228\n",
      "sesudah : 59 65\n",
      "[('family', 'NCBI:30102_Cicadellidae'), ('order', 'NCBI:7524_Hemiptera'), ('class', 'NCBI:50557_Insecta'), ('phylum', 'NCBI:6656_Arthropoda'), ('kingdom', 'NCBI:33208_Metazoa'), ('superkingdom', 'NCBI:2759_Eukaryota')]\n",
      "[('spesies', 'NCBI:1582033_Recilia dorsalis'), ('genus', 'NCBI:631721_Recilia'), ('famili', 'NCBI:30102_Cicadellidae'), ('ordo', 'NCBI:7524_Hemiptera'), ('kelas', 'NCBI:50557_Insecta'), ('filum', 'NCBI:6656_Arthropoda'), ('kingdom', 'NCBI:33208_Metazoa'), ('superkingdom', 'NCBI:2759_Eukaryota')]\n",
      "hasil  {'spesies': 'NCBI:94400_Nephotettix cincticeps', 'genus': 'NCBI:94399_Nephotettix', 'famili': 'NCBI:30102_Cicadellidae', 'ordo': 'NCBI:7524_Hemiptera'}\n",
      "0.5\n",
      "hasil  {'spesies': 'NCBI:197043_Homalodisca vitripennis', 'genus': 'NCBI:139475_Homalodisca', 'famili': 'NCBI:30102_Cicadellidae', 'ordo': 'NCBI:7524_Hemiptera'}\n",
      "0.5\n",
      "hasil  {'spesies': 'NCBI:7113_Helicoverpa zea', 'genus': 'NCBI:7112_Helicoverpa', 'famili': 'NCBI:7100_Noctuidae', 'ordo': 'NCBI:7088_Lepidoptera'}\n",
      "0.0\n",
      "hasil  {'spesies': 'NCBI:1266543_Yphthimoides celmis', 'genus': 'NCBI:270094_Yphthimoides', 'famili': 'NCBI:33415_Nymphalidae', 'ordo': 'NCBI:7088_Lepidoptera'}\n",
      "0.0\n",
      "hasil  {'spesies': 'NCBI:7108_Spodoptera frugiperda', 'genus': 'NCBI:7106_Spodoptera', 'famili': 'NCBI:7100_Noctuidae', 'ordo': 'NCBI:7088_Lepidoptera'}\n",
      "0.0\n",
      "hasil  {'spesies': 'NCBI:407288_Microcephalothrips abdominalis', 'genus': 'NCBI:407287_Microcephalothrips', 'famili': 'NCBI:45053_Thripidae', 'ordo': 'NCBI:30262_Thysanoptera'}\n",
      "0.0\n",
      "hasil  {'spesies': 'NCBI:561572_Frieseomelitta varia', 'genus': 'NCBI:166413_Frieseomelitta', 'famili': 'NCBI:7458_Apidae', 'ordo': 'NCBI:7399_Hymenoptera'}\n",
      "0.0\n",
      "hasil  {'spesies': 'NCBI:60900_Dactylurina staudingeri', 'genus': 'NCBI:60899_Dactylurina', 'famili': 'NCBI:7458_Apidae', 'ordo': 'NCBI:7399_Hymenoptera'}\n",
      "0.0\n",
      "hasil  {'spesies': 'NCBI:175315_Braunsapis bouyssoui', 'genus': 'NCBI:78175_Braunsapis', 'famili': 'NCBI:7458_Apidae', 'ordo': 'NCBI:7399_Hymenoptera'}\n",
      "0.0\n",
      "hasil  {'spesies': 'NCBI:764494_Selenothrips rubrocinctus', 'genus': 'NCBI:764493_Selenothrips', 'famili': 'NCBI:45053_Thripidae', 'ordo': 'NCBI:30262_Thysanoptera'}\n",
      "0.0\n",
      "untuk data :  17srbsdv\n",
      "removeNodeAndEdgeByFilter\n",
      "sebelum : 307 489\n",
      "sesudah : 305 478\n",
      "478\n",
      "481\n",
      "removeNodeAndEdgeByFilter\n",
      "sebelum : 305 481\n",
      "sesudah : 139 190\n",
      "[('family', 'NCBI:33362_Delphacidae'), ('order', 'NCBI:7524_Hemiptera'), ('class', 'NCBI:50557_Insecta'), ('phylum', 'NCBI:6656_Arthropoda'), ('kingdom', 'NCBI:33208_Metazoa'), ('superkingdom', 'NCBI:2759_Eukaryota')]\n",
      "[('spesies', 'NCBI:113103_Sogatella furcifera'), ('genus', 'NCBI:113102_Sogatella'), ('famili', 'NCBI:33362_Delphacidae'), ('ordo', 'NCBI:7524_Hemiptera'), ('kelas', 'NCBI:50557_Insecta'), ('filum', 'NCBI:6656_Arthropoda'), ('kingdom', 'NCBI:33208_Metazoa'), ('superkingdom', 'NCBI:2759_Eukaryota')]\n",
      "hasil  {'spesies': 'NCBI:195883_Laodelphax striatellus', 'genus': 'NCBI:195882_Laodelphax', 'famili': 'NCBI:33362_Delphacidae', 'ordo': 'NCBI:7524_Hemiptera'}\n",
      "0.5\n",
      "hasil  {'spesies': 'NCBI:108931_Nilaparvata lugens', 'genus': 'NCBI:108930_Nilaparvata', 'famili': 'NCBI:33362_Delphacidae', 'ordo': 'NCBI:7524_Hemiptera'}\n",
      "0.5\n",
      "hasil  {'spesies': 'NCBI:984414_Eumetopina flavipes', 'genus': 'NCBI:984413_Eumetopina', 'famili': 'NCBI:33362_Delphacidae', 'ordo': 'NCBI:7524_Hemiptera'}\n",
      "0.5\n",
      "hasil  {'spesies': 'NCBI:44664_Sitobion avenae', 'genus': 'NCBI:44662_Sitobion', 'famili': 'NCBI:27482_Aphididae', 'ordo': 'NCBI:7524_Hemiptera'}\n",
      "0.25\n",
      "hasil  {'spesies': 'EOL:4217447_Ceratovacunalanigera', 'genus': 'EOL:4217445_Ceratovacuna', 'famili': 'NCBI:27482_Aphididae', 'ordo': 'NCBI:7524_Hemiptera'}\n",
      "0.25\n",
      "hasil  {'spesies': 'EOL:3690315_Schizaphisgraminum', 'genus': 'NCBI:13261_Schizaphis', 'famili': 'NCBI:27482_Aphididae', 'ordo': 'NCBI:7524_Hemiptera'}\n",
      "0.25\n",
      "hasil  {'spesies': 'NCBI:742174_Melanaphis sacchari', 'genus': 'NCBI:345571_Melanaphis', 'famili': 'NCBI:27482_Aphididae', 'ordo': 'NCBI:7524_Hemiptera'}\n",
      "0.25\n",
      "hasil  {'spesies': 'NCBI:44670_Metopolophium dirhodum', 'genus': 'NCBI:44669_Metopolophium', 'famili': 'NCBI:27482_Aphididae', 'ordo': 'NCBI:7524_Hemiptera'}\n",
      "0.25\n",
      "hasil  {'spesies': 'EOL:587979_Rhopalosiphumpadi', 'genus': 'NCBI:40931_Rhopalosiphum', 'famili': 'NCBI:27482_Aphididae', 'ordo': 'NCBI:7524_Hemiptera'}\n",
      "0.25\n",
      "hasil  {'spesies': 'EOL_V2:7700524_Sitobionakebiae', 'genus': 'NCBI:44662_Sitobion', 'famili': 'NCBI:27482_Aphididae', 'ordo': 'NCBI:7524_Hemiptera'}\n",
      "0.25\n",
      "untuk data :  18tsrv\n",
      "removeNodeAndEdgeByFilter\n",
      "sebelum : 2761 5979\n",
      "sesudah : 2732 5841\n",
      "5841\n",
      "5845\n",
      "removeNodeAndEdgeByFilter\n",
      "sebelum : 2732 5845\n",
      "sesudah : 1781 3888\n",
      "[('family', 'NCBI:7036_Aleyrodidae'), ('order', 'NCBI:7524_Hemiptera'), ('class', 'NCBI:50557_Insecta'), ('phylum', 'NCBI:6656_Arthropoda'), ('kingdom', 'NCBI:33208_Metazoa'), ('superkingdom', 'NCBI:2759_Eukaryota')]\n",
      "[('spesies', 'NCBI:7038_Bemisia tabaci'), ('genus', 'NCBI:7037_Bemisia'), ('famili', 'NCBI:7036_Aleyrodidae'), ('ordo', 'NCBI:7524_Hemiptera'), ('kelas', 'NCBI:50557_Insecta'), ('filum', 'NCBI:6656_Arthropoda'), ('kingdom', 'NCBI:33208_Metazoa'), ('superkingdom', 'NCBI:2759_Eukaryota')]\n",
      "hasil  {'spesies': 'NCBI:7038_Bemisia tabaci', 'genus': 'NCBI:7037_Bemisia', 'famili': 'NCBI:7036_Aleyrodidae', 'ordo': 'NCBI:7524_Hemiptera'}\n",
      "1.0\n",
      "hasil  {'spesies': 'NCBI:88556_Trialeurodes vaporariorum', 'genus': 'NCBI:88555_Trialeurodes', 'famili': 'NCBI:7036_Aleyrodidae', 'ordo': 'NCBI:7524_Hemiptera'}\n",
      "0.5\n",
      "hasil  {'spesies': 'NCBI:267823_Aleurodicus dispersus', 'genus': 'NCBI:30098_Aleurodicus', 'famili': 'NCBI:7036_Aleyrodidae', 'ordo': 'NCBI:7524_Hemiptera'}\n",
      "0.5\n",
      "hasil  {'spesies': 'NCBI:166114_Bemisia afer', 'genus': 'NCBI:7037_Bemisia', 'famili': 'NCBI:7036_Aleyrodidae', 'ordo': 'NCBI:7524_Hemiptera'}\n",
      "0.75\n",
      "hasil  {'spesies': 'GBIF:2020031_Aradusfalleni', 'genus': 'NCBI:1176474_Aradus', 'famili': 'NCBI:236322_Aradidae', 'ordo': 'NCBI:7524_Hemiptera'}\n",
      "0.25\n",
      "hasil  {'spesies': 'NCBI:1468586_Geocoris punctipes', 'genus': 'NCBI:236434_Geocoris', 'famili': 'NCBI:1864455_Geocoridae', 'ordo': 'NCBI:7524_Hemiptera'}\n",
      "0.25\n",
      "hasil  {'spesies': 'EOL:837138_Saissetiapersimilis', 'genus': 'NCBI:536014_Saissetia', 'famili': 'NCBI:30189_Coccidae', 'ordo': 'NCBI:7524_Hemiptera'}\n",
      "0.25\n",
      "hasil  {'spesies': 'NCBI:1069712_Insignorthezia insignis', 'genus': 'NCBI:1069711_Insignorthezia', 'famili': 'NCBI:249435_Ortheziidae', 'ordo': 'NCBI:7524_Hemiptera'}\n",
      "0.25\n",
      "hasil  {'spesies': 'NCBI:1863032_Alydus pilosulus', 'genus': 'NCBI:881520_Alydus', 'famili': 'NCBI:41702_Alydidae', 'ordo': 'NCBI:7524_Hemiptera'}\n",
      "0.25\n",
      "hasil  {'spesies': 'NCBI:2867987_Niesthrea louisianica', 'genus': 'NCBI:2493836_Niesthrea', 'famili': 'NCBI:38106_Rhopalidae', 'ordo': 'NCBI:7524_Hemiptera'}\n",
      "0.25\n",
      "untuk data :  19gbnv\n",
      "removeNodeAndEdgeByFilter\n",
      "sebelum : 1608 2795\n",
      "sesudah : 1591 2742\n",
      "2742\n",
      "2755\n",
      "removeNodeAndEdgeByFilter\n",
      "sebelum : 1591 2755\n",
      "sesudah : 706 1106\n",
      "[('family', 'NCBI:45053_Thripidae'), ('order', 'NCBI:30262_Thysanoptera'), ('class', 'NCBI:50557_Insecta'), ('phylum', 'NCBI:6656_Arthropoda'), ('kingdom', 'NCBI:33208_Metazoa'), ('superkingdom', 'NCBI:2759_Eukaryota')]\n",
      "[('spesies', 'NCBI:161013_Thrips palmi'), ('genus', 'NCBI:45057_Thrips'), ('famili', 'NCBI:45053_Thripidae'), ('ordo', 'NCBI:30262_Thysanoptera'), ('kelas', 'NCBI:50557_Insecta'), ('filum', 'NCBI:6656_Arthropoda'), ('kingdom', 'NCBI:33208_Metazoa'), ('superkingdom', 'NCBI:2759_Eukaryota')]\n",
      "hasil  {'spesies': 'NCBI:133901_Frankliniella occidentalis', 'genus': 'NCBI:45059_Frankliniella', 'famili': 'NCBI:45053_Thripidae', 'ordo': 'NCBI:30262_Thysanoptera'}\n",
      "0.5\n",
      "hasil  {'spesies': 'NCBI:163899_Scirtothrips dorsalis', 'genus': 'NCBI:163898_Scirtothrips', 'famili': 'NCBI:45053_Thripidae', 'ordo': 'NCBI:30262_Thysanoptera'}\n",
      "0.5\n",
      "hasil  {'spesies': 'NCBI:161014_Thrips tabaci', 'genus': 'NCBI:45057_Thrips', 'famili': 'NCBI:45053_Thripidae', 'ordo': 'NCBI:30262_Thysanoptera'}\n",
      "0.75\n",
      "hasil  {'spesies': 'NCBI:1350418_Thrips parvispinus', 'genus': 'NCBI:45057_Thrips', 'famili': 'NCBI:45053_Thripidae', 'ordo': 'NCBI:30262_Thysanoptera'}\n",
      "0.75\n",
      "hasil  {'spesies': 'GBIF:1420542_Organothripsindicus', 'genus': 'GBIF:1420541_Organothrips', 'famili': 'NCBI:45053_Thripidae', 'ordo': 'NCBI:30262_Thysanoptera'}\n",
      "0.5\n",
      "hasil  {'spesies': 'NCBI:161013_Thrips palmi', 'genus': 'NCBI:45057_Thrips', 'famili': 'NCBI:45053_Thripidae', 'ordo': 'NCBI:30262_Thysanoptera'}\n",
      "1.0\n",
      "hasil  {'spesies': 'NCBI:163893_Frankliniella intonsa', 'genus': 'NCBI:45059_Frankliniella', 'famili': 'NCBI:45053_Thripidae', 'ordo': 'NCBI:30262_Thysanoptera'}\n",
      "0.5\n",
      "hasil  {'spesies': 'NCBI:439358_Megalurothrips usitatus', 'genus': 'NCBI:439357_Megalurothrips', 'famili': 'NCBI:45053_Thripidae', 'ordo': 'NCBI:30262_Thysanoptera'}\n",
      "0.5\n",
      "hasil  {'spesies': 'NCBI:45057_Thrips^species', 'genus': 'NCBI:45057_Thrips', 'famili': 'NCBI:45053_Thripidae', 'ordo': 'NCBI:30262_Thysanoptera'}\n",
      "0.75\n",
      "hasil  {'spesies': 'NCBI:163894_Thrips hawaiiensis', 'genus': 'NCBI:45057_Thrips', 'famili': 'NCBI:45053_Thripidae', 'ordo': 'NCBI:30262_Thysanoptera'}\n",
      "0.75\n",
      "untuk data :  20wbnv\n",
      "removeNodeAndEdgeByFilter\n",
      "sebelum : 1610 2799\n",
      "sesudah : 1593 2746\n",
      "2746\n",
      "2759\n",
      "removeNodeAndEdgeByFilter\n",
      "sebelum : 1593 2759\n",
      "sesudah : 708 1110\n",
      "[('family', 'NCBI:45053_Thripidae'), ('order', 'NCBI:30262_Thysanoptera'), ('class', 'NCBI:50557_Insecta'), ('phylum', 'NCBI:6656_Arthropoda'), ('kingdom', 'NCBI:33208_Metazoa'), ('superkingdom', 'NCBI:2759_Eukaryota')]\n",
      "[('spesies', 'NCBI:161013_Thrips palmi'), ('genus', 'NCBI:45057_Thrips'), ('famili', 'NCBI:45053_Thripidae'), ('ordo', 'NCBI:30262_Thysanoptera'), ('kelas', 'NCBI:50557_Insecta'), ('filum', 'NCBI:6656_Arthropoda'), ('kingdom', 'NCBI:33208_Metazoa'), ('superkingdom', 'NCBI:2759_Eukaryota')]\n",
      "hasil  {'spesies': 'NCBI:133901_Frankliniella occidentalis', 'genus': 'NCBI:45059_Frankliniella', 'famili': 'NCBI:45053_Thripidae', 'ordo': 'NCBI:30262_Thysanoptera'}\n",
      "0.5\n",
      "hasil  {'spesies': 'NCBI:163899_Scirtothrips dorsalis', 'genus': 'NCBI:163898_Scirtothrips', 'famili': 'NCBI:45053_Thripidae', 'ordo': 'NCBI:30262_Thysanoptera'}\n",
      "0.5\n",
      "hasil  {'spesies': 'NCBI:1350418_Thrips parvispinus', 'genus': 'NCBI:45057_Thrips', 'famili': 'NCBI:45053_Thripidae', 'ordo': 'NCBI:30262_Thysanoptera'}\n",
      "0.75\n",
      "hasil  {'spesies': 'NCBI:161014_Thrips tabaci', 'genus': 'NCBI:45057_Thrips', 'famili': 'NCBI:45053_Thripidae', 'ordo': 'NCBI:30262_Thysanoptera'}\n",
      "0.75\n",
      "hasil  {'spesies': 'NCBI:161013_Thrips palmi', 'genus': 'NCBI:45057_Thrips', 'famili': 'NCBI:45053_Thripidae', 'ordo': 'NCBI:30262_Thysanoptera'}\n",
      "1.0\n",
      "hasil  {'spesies': 'NCBI:439358_Megalurothrips usitatus', 'genus': 'NCBI:439357_Megalurothrips', 'famili': 'NCBI:45053_Thripidae', 'ordo': 'NCBI:30262_Thysanoptera'}\n",
      "0.5\n",
      "hasil  {'spesies': 'NCBI:163894_Thrips hawaiiensis', 'genus': 'NCBI:45057_Thrips', 'famili': 'NCBI:45053_Thripidae', 'ordo': 'NCBI:30262_Thysanoptera'}\n",
      "0.75\n",
      "hasil  {'spesies': 'GBIF:1420542_Organothripsindicus', 'genus': 'GBIF:1420541_Organothrips', 'famili': 'NCBI:45053_Thripidae', 'ordo': 'NCBI:30262_Thysanoptera'}\n",
      "0.5\n",
      "hasil  {'spesies': 'NCBI:146804_Echinothrips americanus', 'genus': 'NCBI:146803_Echinothrips', 'famili': 'NCBI:45053_Thripidae', 'ordo': 'NCBI:30262_Thysanoptera'}\n",
      "0.5\n",
      "hasil  {'spesies': 'NCBI:1520562_Bathrips melanicornis', 'genus': 'NCBI:1520561_Bathrips', 'famili': 'NCBI:45053_Thripidae', 'ordo': 'NCBI:30262_Thysanoptera'}\n",
      "0.5\n"
     ]
    }
   ],
   "source": [
    "hasil_pengujian={}\n",
    "for i in data:\n",
    "    data_,nama_virus,acuan_,ujian_=i # vektor acuan  #data virus\n",
    "    print(\"untuk data : \", data_)\n",
    "    hasil_pengujian[data_] = all_proses(data_,nama_virus,acuan_,ujian_,ncbi_ontology_url)"
   ]
  },
  {
   "cell_type": "code",
   "execution_count": 39,
   "metadata": {},
   "outputs": [
    {
     "data": {
      "text/plain": [
       "{'1cucu': 0.5,\n",
       " '2cri': 1.0,\n",
       " '3wai': 0.25,\n",
       " '4beg': 1.0,\n",
       " '5pol': 1.0,\n",
       " '6pea': 1.0,\n",
       " '7cucur': 1.0,\n",
       " '8ten': 1.0,\n",
       " '9fiji': 0.5,\n",
       " '10capchlo': 1.0,\n",
       " '11barley': 1.0,\n",
       " '12tospot': 1.0,\n",
       " '13svyv': 1.0,\n",
       " '14sbmv': 0.75,\n",
       " '15blv': 1.0,\n",
       " '16rgdv': 0.5,\n",
       " '17srbsdv': 0.5,\n",
       " '18tsrv': 1.0,\n",
       " '19gbnv': 1.0,\n",
       " '20wbnv': 1.0}"
      ]
     },
     "execution_count": 39,
     "metadata": {},
     "output_type": "execute_result"
    }
   ],
   "source": [
    "hasil_pengujian"
   ]
  },
  {
   "cell_type": "code",
   "execution_count": 40,
   "metadata": {},
   "outputs": [
    {
     "data": {
      "text/plain": [
       "0.85"
      ]
     },
     "execution_count": 40,
     "metadata": {},
     "output_type": "execute_result"
    }
   ],
   "source": [
    "nilai=list(hasil_pengujian.values())\n",
    "sum(nilai)/len(nilai)"
   ]
  },
  {
   "cell_type": "code",
   "execution_count": 20,
   "metadata": {},
   "outputs": [
    {
     "data": {
      "application/vnd.plotly.v1+json": {
       "config": {
        "plotlyServerURL": "https://plot.ly"
       },
       "data": [
        {
         "line": {
          "color": "#636cfb",
          "width": 2
         },
         "mode": "lines+markers",
         "type": "scatter",
         "x": [
          1,
          3,
          5,
          10
         ],
         "y": [
          0.7142857142857143,
          0.7857142857142857,
          0.7976190476190477,
          0.8809523809523809
         ]
        }
       ],
       "layout": {
        "template": {
         "data": {
          "bar": [
           {
            "error_x": {
             "color": "#2a3f5f"
            },
            "error_y": {
             "color": "#2a3f5f"
            },
            "marker": {
             "line": {
              "color": "#E5ECF6",
              "width": 0.5
             }
            },
            "type": "bar"
           }
          ],
          "barpolar": [
           {
            "marker": {
             "line": {
              "color": "#E5ECF6",
              "width": 0.5
             }
            },
            "type": "barpolar"
           }
          ],
          "carpet": [
           {
            "aaxis": {
             "endlinecolor": "#2a3f5f",
             "gridcolor": "white",
             "linecolor": "white",
             "minorgridcolor": "white",
             "startlinecolor": "#2a3f5f"
            },
            "baxis": {
             "endlinecolor": "#2a3f5f",
             "gridcolor": "white",
             "linecolor": "white",
             "minorgridcolor": "white",
             "startlinecolor": "#2a3f5f"
            },
            "type": "carpet"
           }
          ],
          "choropleth": [
           {
            "colorbar": {
             "outlinewidth": 0,
             "ticks": ""
            },
            "type": "choropleth"
           }
          ],
          "contour": [
           {
            "colorbar": {
             "outlinewidth": 0,
             "ticks": ""
            },
            "colorscale": [
             [
              0,
              "#0d0887"
             ],
             [
              0.1111111111111111,
              "#46039f"
             ],
             [
              0.2222222222222222,
              "#7201a8"
             ],
             [
              0.3333333333333333,
              "#9c179e"
             ],
             [
              0.4444444444444444,
              "#bd3786"
             ],
             [
              0.5555555555555556,
              "#d8576b"
             ],
             [
              0.6666666666666666,
              "#ed7953"
             ],
             [
              0.7777777777777778,
              "#fb9f3a"
             ],
             [
              0.8888888888888888,
              "#fdca26"
             ],
             [
              1,
              "#f0f921"
             ]
            ],
            "type": "contour"
           }
          ],
          "contourcarpet": [
           {
            "colorbar": {
             "outlinewidth": 0,
             "ticks": ""
            },
            "type": "contourcarpet"
           }
          ],
          "heatmap": [
           {
            "colorbar": {
             "outlinewidth": 0,
             "ticks": ""
            },
            "colorscale": [
             [
              0,
              "#0d0887"
             ],
             [
              0.1111111111111111,
              "#46039f"
             ],
             [
              0.2222222222222222,
              "#7201a8"
             ],
             [
              0.3333333333333333,
              "#9c179e"
             ],
             [
              0.4444444444444444,
              "#bd3786"
             ],
             [
              0.5555555555555556,
              "#d8576b"
             ],
             [
              0.6666666666666666,
              "#ed7953"
             ],
             [
              0.7777777777777778,
              "#fb9f3a"
             ],
             [
              0.8888888888888888,
              "#fdca26"
             ],
             [
              1,
              "#f0f921"
             ]
            ],
            "type": "heatmap"
           }
          ],
          "heatmapgl": [
           {
            "colorbar": {
             "outlinewidth": 0,
             "ticks": ""
            },
            "colorscale": [
             [
              0,
              "#0d0887"
             ],
             [
              0.1111111111111111,
              "#46039f"
             ],
             [
              0.2222222222222222,
              "#7201a8"
             ],
             [
              0.3333333333333333,
              "#9c179e"
             ],
             [
              0.4444444444444444,
              "#bd3786"
             ],
             [
              0.5555555555555556,
              "#d8576b"
             ],
             [
              0.6666666666666666,
              "#ed7953"
             ],
             [
              0.7777777777777778,
              "#fb9f3a"
             ],
             [
              0.8888888888888888,
              "#fdca26"
             ],
             [
              1,
              "#f0f921"
             ]
            ],
            "type": "heatmapgl"
           }
          ],
          "histogram": [
           {
            "marker": {
             "colorbar": {
              "outlinewidth": 0,
              "ticks": ""
             }
            },
            "type": "histogram"
           }
          ],
          "histogram2d": [
           {
            "colorbar": {
             "outlinewidth": 0,
             "ticks": ""
            },
            "colorscale": [
             [
              0,
              "#0d0887"
             ],
             [
              0.1111111111111111,
              "#46039f"
             ],
             [
              0.2222222222222222,
              "#7201a8"
             ],
             [
              0.3333333333333333,
              "#9c179e"
             ],
             [
              0.4444444444444444,
              "#bd3786"
             ],
             [
              0.5555555555555556,
              "#d8576b"
             ],
             [
              0.6666666666666666,
              "#ed7953"
             ],
             [
              0.7777777777777778,
              "#fb9f3a"
             ],
             [
              0.8888888888888888,
              "#fdca26"
             ],
             [
              1,
              "#f0f921"
             ]
            ],
            "type": "histogram2d"
           }
          ],
          "histogram2dcontour": [
           {
            "colorbar": {
             "outlinewidth": 0,
             "ticks": ""
            },
            "colorscale": [
             [
              0,
              "#0d0887"
             ],
             [
              0.1111111111111111,
              "#46039f"
             ],
             [
              0.2222222222222222,
              "#7201a8"
             ],
             [
              0.3333333333333333,
              "#9c179e"
             ],
             [
              0.4444444444444444,
              "#bd3786"
             ],
             [
              0.5555555555555556,
              "#d8576b"
             ],
             [
              0.6666666666666666,
              "#ed7953"
             ],
             [
              0.7777777777777778,
              "#fb9f3a"
             ],
             [
              0.8888888888888888,
              "#fdca26"
             ],
             [
              1,
              "#f0f921"
             ]
            ],
            "type": "histogram2dcontour"
           }
          ],
          "mesh3d": [
           {
            "colorbar": {
             "outlinewidth": 0,
             "ticks": ""
            },
            "type": "mesh3d"
           }
          ],
          "parcoords": [
           {
            "line": {
             "colorbar": {
              "outlinewidth": 0,
              "ticks": ""
             }
            },
            "type": "parcoords"
           }
          ],
          "pie": [
           {
            "automargin": true,
            "type": "pie"
           }
          ],
          "scatter": [
           {
            "marker": {
             "colorbar": {
              "outlinewidth": 0,
              "ticks": ""
             }
            },
            "type": "scatter"
           }
          ],
          "scatter3d": [
           {
            "line": {
             "colorbar": {
              "outlinewidth": 0,
              "ticks": ""
             }
            },
            "marker": {
             "colorbar": {
              "outlinewidth": 0,
              "ticks": ""
             }
            },
            "type": "scatter3d"
           }
          ],
          "scattercarpet": [
           {
            "marker": {
             "colorbar": {
              "outlinewidth": 0,
              "ticks": ""
             }
            },
            "type": "scattercarpet"
           }
          ],
          "scattergeo": [
           {
            "marker": {
             "colorbar": {
              "outlinewidth": 0,
              "ticks": ""
             }
            },
            "type": "scattergeo"
           }
          ],
          "scattergl": [
           {
            "marker": {
             "colorbar": {
              "outlinewidth": 0,
              "ticks": ""
             }
            },
            "type": "scattergl"
           }
          ],
          "scattermapbox": [
           {
            "marker": {
             "colorbar": {
              "outlinewidth": 0,
              "ticks": ""
             }
            },
            "type": "scattermapbox"
           }
          ],
          "scatterpolar": [
           {
            "marker": {
             "colorbar": {
              "outlinewidth": 0,
              "ticks": ""
             }
            },
            "type": "scatterpolar"
           }
          ],
          "scatterpolargl": [
           {
            "marker": {
             "colorbar": {
              "outlinewidth": 0,
              "ticks": ""
             }
            },
            "type": "scatterpolargl"
           }
          ],
          "scatterternary": [
           {
            "marker": {
             "colorbar": {
              "outlinewidth": 0,
              "ticks": ""
             }
            },
            "type": "scatterternary"
           }
          ],
          "surface": [
           {
            "colorbar": {
             "outlinewidth": 0,
             "ticks": ""
            },
            "colorscale": [
             [
              0,
              "#0d0887"
             ],
             [
              0.1111111111111111,
              "#46039f"
             ],
             [
              0.2222222222222222,
              "#7201a8"
             ],
             [
              0.3333333333333333,
              "#9c179e"
             ],
             [
              0.4444444444444444,
              "#bd3786"
             ],
             [
              0.5555555555555556,
              "#d8576b"
             ],
             [
              0.6666666666666666,
              "#ed7953"
             ],
             [
              0.7777777777777778,
              "#fb9f3a"
             ],
             [
              0.8888888888888888,
              "#fdca26"
             ],
             [
              1,
              "#f0f921"
             ]
            ],
            "type": "surface"
           }
          ],
          "table": [
           {
            "cells": {
             "fill": {
              "color": "#EBF0F8"
             },
             "line": {
              "color": "white"
             }
            },
            "header": {
             "fill": {
              "color": "#C8D4E3"
             },
             "line": {
              "color": "white"
             }
            },
            "type": "table"
           }
          ]
         },
         "layout": {
          "annotationdefaults": {
           "arrowcolor": "#2a3f5f",
           "arrowhead": 0,
           "arrowwidth": 1
          },
          "coloraxis": {
           "colorbar": {
            "outlinewidth": 0,
            "ticks": ""
           }
          },
          "colorscale": {
           "diverging": [
            [
             0,
             "#8e0152"
            ],
            [
             0.1,
             "#c51b7d"
            ],
            [
             0.2,
             "#de77ae"
            ],
            [
             0.3,
             "#f1b6da"
            ],
            [
             0.4,
             "#fde0ef"
            ],
            [
             0.5,
             "#f7f7f7"
            ],
            [
             0.6,
             "#e6f5d0"
            ],
            [
             0.7,
             "#b8e186"
            ],
            [
             0.8,
             "#7fbc41"
            ],
            [
             0.9,
             "#4d9221"
            ],
            [
             1,
             "#276419"
            ]
           ],
           "sequential": [
            [
             0,
             "#0d0887"
            ],
            [
             0.1111111111111111,
             "#46039f"
            ],
            [
             0.2222222222222222,
             "#7201a8"
            ],
            [
             0.3333333333333333,
             "#9c179e"
            ],
            [
             0.4444444444444444,
             "#bd3786"
            ],
            [
             0.5555555555555556,
             "#d8576b"
            ],
            [
             0.6666666666666666,
             "#ed7953"
            ],
            [
             0.7777777777777778,
             "#fb9f3a"
            ],
            [
             0.8888888888888888,
             "#fdca26"
            ],
            [
             1,
             "#f0f921"
            ]
           ],
           "sequentialminus": [
            [
             0,
             "#0d0887"
            ],
            [
             0.1111111111111111,
             "#46039f"
            ],
            [
             0.2222222222222222,
             "#7201a8"
            ],
            [
             0.3333333333333333,
             "#9c179e"
            ],
            [
             0.4444444444444444,
             "#bd3786"
            ],
            [
             0.5555555555555556,
             "#d8576b"
            ],
            [
             0.6666666666666666,
             "#ed7953"
            ],
            [
             0.7777777777777778,
             "#fb9f3a"
            ],
            [
             0.8888888888888888,
             "#fdca26"
            ],
            [
             1,
             "#f0f921"
            ]
           ]
          },
          "colorway": [
           "#636efa",
           "#EF553B",
           "#00cc96",
           "#ab63fa",
           "#FFA15A",
           "#19d3f3",
           "#FF6692",
           "#B6E880",
           "#FF97FF",
           "#FECB52"
          ],
          "font": {
           "color": "#2a3f5f"
          },
          "geo": {
           "bgcolor": "white",
           "lakecolor": "white",
           "landcolor": "#E5ECF6",
           "showlakes": true,
           "showland": true,
           "subunitcolor": "white"
          },
          "hoverlabel": {
           "align": "left"
          },
          "hovermode": "closest",
          "mapbox": {
           "style": "light"
          },
          "paper_bgcolor": "white",
          "plot_bgcolor": "#E5ECF6",
          "polar": {
           "angularaxis": {
            "gridcolor": "white",
            "linecolor": "white",
            "ticks": ""
           },
           "bgcolor": "#E5ECF6",
           "radialaxis": {
            "gridcolor": "white",
            "linecolor": "white",
            "ticks": ""
           }
          },
          "scene": {
           "xaxis": {
            "backgroundcolor": "#E5ECF6",
            "gridcolor": "white",
            "gridwidth": 2,
            "linecolor": "white",
            "showbackground": true,
            "ticks": "",
            "zerolinecolor": "white"
           },
           "yaxis": {
            "backgroundcolor": "#E5ECF6",
            "gridcolor": "white",
            "gridwidth": 2,
            "linecolor": "white",
            "showbackground": true,
            "ticks": "",
            "zerolinecolor": "white"
           },
           "zaxis": {
            "backgroundcolor": "#E5ECF6",
            "gridcolor": "white",
            "gridwidth": 2,
            "linecolor": "white",
            "showbackground": true,
            "ticks": "",
            "zerolinecolor": "white"
           }
          },
          "shapedefaults": {
           "line": {
            "color": "#2a3f5f"
           }
          },
          "ternary": {
           "aaxis": {
            "gridcolor": "white",
            "linecolor": "white",
            "ticks": ""
           },
           "baxis": {
            "gridcolor": "white",
            "linecolor": "white",
            "ticks": ""
           },
           "bgcolor": "#E5ECF6",
           "caxis": {
            "gridcolor": "white",
            "linecolor": "white",
            "ticks": ""
           }
          },
          "title": {
           "x": 0.05
          },
          "xaxis": {
           "automargin": true,
           "gridcolor": "white",
           "linecolor": "white",
           "ticks": "",
           "title": {
            "standoff": 15
           },
           "zerolinecolor": "white",
           "zerolinewidth": 2
          },
          "yaxis": {
           "automargin": true,
           "gridcolor": "white",
           "linecolor": "white",
           "ticks": "",
           "title": {
            "standoff": 15
           },
           "zerolinecolor": "white",
           "zerolinewidth": 2
          }
         }
        },
        "title": {
         "text": "Diagram Presisi pada tiap Range Prediksi"
        },
        "xaxis": {
         "ticktext": [
          1,
          3,
          5,
          10
         ],
         "tickvals": [
          1,
          3,
          5,
          10
         ],
         "title": {
          "text": "Tolerance Range of Predicted Insect"
         },
         "type": "category"
        },
        "yaxis": {
         "title": {
          "text": "Average Precision"
         }
        }
       }
      }
     },
     "metadata": {},
     "output_type": "display_data"
    }
   ],
   "source": [
    "import plotly.graph_objects as go\n",
    "\n",
    "# Data dari grup_edge\n",
    "labels = [1, 3, 5, 10]\n",
    "values = [0.7142857142857143, 0.7857142857142857, 0.7976190476190477, 0.8809523809523809]\n",
    "\n",
    "# Membuat diagram garis dengan nilai jumlah\n",
    "fig = go.Figure(data=go.Scatter(x=labels, y=values, mode='lines+markers', line=dict(color='#636cfb', width=2)))\n",
    "\n",
    "# Menambahkan label pada sumbu x sebagai kategori\n",
    "fig.update_xaxes(title_text='Tolerance Range of Predicted Insect', type='category', tickvals=labels, ticktext=labels)\n",
    "\n",
    "# Menambahkan label pada sumbu y\n",
    "fig.update_yaxes(title_text='Average Precision')\n",
    "\n",
    "# Menambahkan judul diagram\n",
    "fig.update_layout(title_text='Diagram Presisi pada tiap Range Prediksi')\n",
    "\n",
    "# Tampilkan diagram\n",
    "fig.show()\n"
   ]
  },
  {
   "cell_type": "code",
   "execution_count": null,
   "metadata": {},
   "outputs": [],
   "source": []
  }
 ],
 "metadata": {
  "kernelspec": {
   "display_name": "thesis",
   "language": "python",
   "name": "python3"
  },
  "language_info": {
   "codemirror_mode": {
    "name": "ipython",
    "version": 3
   },
   "file_extension": ".py",
   "mimetype": "text/x-python",
   "name": "python",
   "nbconvert_exporter": "python",
   "pygments_lexer": "ipython3",
   "version": "3.8.16"
  },
  "orig_nbformat": 4
 },
 "nbformat": 4,
 "nbformat_minor": 2
}
