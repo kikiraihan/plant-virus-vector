{
 "cells": [
  {
   "cell_type": "markdown",
   "id": "29751111",
   "metadata": {},
   "source": [
    "# Pengujian"
   ]
  },
  {
   "cell_type": "code",
   "execution_count": 1,
   "id": "38939df1",
   "metadata": {},
   "outputs": [],
   "source": [
    "# # reset import package\n",
    "# def reloadPackageOwn():\n",
    "#     from importlib import reload  \n",
    "#     import os # we use os.path.join, os.path.basename\n",
    "#     import sys # we use sys.path\n",
    "#     import glob # we use glob.glob\n",
    "#     import importlib # we use importlib.import_module\n",
    "\n",
    "#     import_folder = os.getcwd()\n",
    "#     sys.path.append(import_folder) # this tells python to look in `import_folder` for imports\n",
    "#     for src_file in glob.glob(os.path.join(import_folder, '*.py')):\n",
    "#         name = os.path.basename(src_file)[:-3]\n",
    "#         importlib.import_module(name)\n",
    "#         reload(sys.modules[name])\n",
    "#         importlib.import_module(name)\n",
    "        \n",
    "# reloadPackageOwn()"
   ]
  },
  {
   "cell_type": "code",
   "execution_count": 2,
   "id": "2a09726f",
   "metadata": {},
   "outputs": [
    {
     "name": "stderr",
     "output_type": "stream",
     "text": [
      "* Owlready2 * Warning: optimized Cython parser module 'owlready2_optimized' is not available, defaulting to slower Python implementation\n"
     ]
    }
   ],
   "source": [
    "from owlready2 import *\n",
    "from process import allProcess\n",
    "import pandas as pd"
   ]
  },
  {
   "cell_type": "markdown",
   "id": "6b454b94",
   "metadata": {},
   "source": [
    "### presisi dalam takson"
   ]
  },
  {
   "cell_type": "code",
   "execution_count": 3,
   "id": "afa15ec5",
   "metadata": {},
   "outputs": [],
   "source": [
    "def mrr(data_to_count,df_node, data_acuan):\n",
    "    \n",
    "    acuan = data_acuan[0][1]\n",
    "    takson = data_acuan[0][0]\n",
    "    get = df_node.loc[df_node['genus'].str.contains(acuan),'taxon_id']\n",
    "    if get.empty:\n",
    "        return 0\n",
    "    id_acuan =  get.values[0]\n",
    "    rank = data_to_count.loc[data_to_count.entity==id_acuan].index[0]+1\n",
    "    return 1/rank"
   ]
  },
  {
   "cell_type": "code",
   "execution_count": 4,
   "id": "572da16e",
   "metadata": {},
   "outputs": [],
   "source": [
    "def presisiDalamTakson(data_to_count, allnodes, takson, data_acuan):\n",
    "    \n",
    "    id_hasil=data_to_count.iloc[0].entity\n",
    "    cek_hasil= { k:v for k,v in reversed(allnodes[id_hasil].items()) if k in takson }\n",
    "    cek_acuan= { k:v for k,v in data_acuan if k in takson }\n",
    "\n",
    "    #print(cek_acuan)\n",
    "    #print(cek_hasil)\n",
    "\n",
    "    cek=0\n",
    "    for i in reversed(takson):\n",
    "        cekk=cek_hasil[i]==cek_acuan[i]\n",
    "        cek+=cekk\n",
    "        #print(i, cekk)\n",
    "    \n",
    "    print(cek/len(takson))\n",
    "    return cek/len(takson)"
   ]
  },
  {
   "cell_type": "markdown",
   "id": "ffca27e5",
   "metadata": {},
   "source": [
    "### proses dulu"
   ]
  },
  {
   "cell_type": "code",
   "execution_count": 5,
   "id": "e1381dae",
   "metadata": {},
   "outputs": [
    {
     "name": "stdout",
     "output_type": "stream",
     "text": [
      "Sedang mengambil NCBI OBO\n",
      "-------\n",
      "Myzus 1cucu\n",
      "-------\n",
      "#1 Baca data interaksi\n",
      "#2 isi data kosong\n",
      "#3 konversi graph \n",
      "#4 Degree Centrality\n",
      "#5 ambil data acuan\n",
      "#6 konversi node networkx ke RDF\n",
      "#7 embedding\n",
      "#8 hitung euclidean distance\n",
      "#9 hitung kombinasi\n",
      "0.0\n",
      "-------\n",
      "Bemisia 2cri\n",
      "-------\n",
      "#1 Baca data interaksi\n",
      "#2 isi data kosong\n",
      "#3 konversi graph \n",
      "#4 Degree Centrality\n",
      "#5 ambil data acuan\n",
      "#6 konversi node networkx ke RDF\n",
      "#7 embedding\n",
      "#8 hitung euclidean distance\n",
      "#9 hitung kombinasi\n",
      "0.0\n",
      "-------\n",
      "Graminella 3wai\n",
      "-------\n",
      "#1 Baca data interaksi\n",
      "#2 isi data kosong\n",
      "#3 konversi graph \n",
      "#4 Degree Centrality\n",
      "#5 ambil data acuan\n",
      "#6 konversi node networkx ke RDF\n",
      "#7 embedding\n",
      "#8 hitung euclidean distance\n",
      "#9 hitung kombinasi\n",
      "0.0\n",
      "-------\n",
      "Bemisia 4beg\n",
      "-------\n",
      "#1 Baca data interaksi\n",
      "#2 isi data kosong\n",
      "#3 konversi graph \n",
      "#4 Degree Centrality\n",
      "#5 ambil data acuan\n",
      "#6 konversi node networkx ke RDF\n",
      "#7 embedding\n",
      "#8 hitung euclidean distance\n",
      "#9 hitung kombinasi\n",
      "0.0\n",
      "-------\n",
      "Schizaphis 5pol\n",
      "-------\n",
      "#1 Baca data interaksi\n",
      "#2 isi data kosong\n",
      "#3 konversi graph \n",
      "#4 Degree Centrality\n",
      "#5 ambil data acuan\n",
      "#6 konversi node networkx ke RDF\n",
      "#7 embedding\n",
      "#8 hitung euclidean distance\n",
      "#9 hitung kombinasi\n",
      "0.0\n",
      "-------\n",
      "Frankliniella 6ort\n",
      "-------\n",
      "#1 Baca data interaksi\n"
     ]
    },
    {
     "ename": "FileNotFoundError",
     "evalue": "[Errno 2] No such file or directory: 'dari_praproses/6ort_node.csv'",
     "output_type": "error",
     "traceback": [
      "\u001b[0;31m---------------------------------------------------------------------------\u001b[0m",
      "\u001b[0;31mFileNotFoundError\u001b[0m                         Traceback (most recent call last)",
      "Input \u001b[0;32mIn [5]\u001b[0m, in \u001b[0;36m<cell line: 32>\u001b[0;34m()\u001b[0m\n\u001b[1;32m     34\u001b[0m \u001b[38;5;28mprint\u001b[39m(acuan_, data_)\n\u001b[1;32m     35\u001b[0m \u001b[38;5;28mprint\u001b[39m(\u001b[38;5;124m'\u001b[39m\u001b[38;5;124m-------\u001b[39m\u001b[38;5;124m'\u001b[39m)\n\u001b[0;32m---> 36\u001b[0m df_json, gnx, data_acuan, takson, df_node, df_edge \u001b[38;5;241m=\u001b[39m \u001b[43mallProcess\u001b[49m\u001b[43m(\u001b[49m\u001b[43mdata_\u001b[49m\u001b[43m,\u001b[49m\u001b[43m \u001b[49m\u001b[43macuan_\u001b[49m\u001b[43m,\u001b[49m\u001b[43m \u001b[49m\u001b[43mobo\u001b[49m\u001b[43m)\u001b[49m\n\u001b[1;32m     37\u001b[0m data_to_count \u001b[38;5;241m=\u001b[39m pd\u001b[38;5;241m.\u001b[39mread_json( df_json )\n\u001b[1;32m     38\u001b[0m allnodes \u001b[38;5;241m=\u001b[39m gnx\u001b[38;5;241m.\u001b[39mnodes\n",
      "File \u001b[0;32m~/2latihan_python/_Kuliah/thesis/wikidata_etc/fix_thesis/process.py:216\u001b[0m, in \u001b[0;36mallProcess\u001b[0;34m(data_, acuan_, obo, bobot_dc, bobot_ed)\u001b[0m\n\u001b[1;32m    212\u001b[0m \u001b[38;5;28;01mdef\u001b[39;00m \u001b[38;5;21mallProcess\u001b[39m(data_, acuan_, obo, bobot_dc\u001b[38;5;241m=\u001b[39m\u001b[38;5;241m1\u001b[39m, bobot_ed\u001b[38;5;241m=\u001b[39m\u001b[38;5;241m1\u001b[39m):\n\u001b[1;32m    213\u001b[0m     \u001b[38;5;66;03m#1\u001b[39;00m\n\u001b[1;32m    214\u001b[0m     \u001b[38;5;66;03m#baca data\u001b[39;00m\n\u001b[1;32m    215\u001b[0m     \u001b[38;5;28mprint\u001b[39m(\u001b[38;5;124m'\u001b[39m\u001b[38;5;124m#1 Baca data interaksi\u001b[39m\u001b[38;5;124m'\u001b[39m)\n\u001b[0;32m--> 216\u001b[0m     df_node\u001b[38;5;241m=\u001b[39m\u001b[43mpd\u001b[49m\u001b[38;5;241;43m.\u001b[39;49m\u001b[43mread_csv\u001b[49m\u001b[43m(\u001b[49m\u001b[38;5;124;43m'\u001b[39;49m\u001b[38;5;124;43mdari_praproses/\u001b[39;49m\u001b[38;5;124;43m'\u001b[39;49m\u001b[38;5;241;43m+\u001b[39;49m\u001b[43mdata_\u001b[49m\u001b[38;5;241;43m+\u001b[39;49m\u001b[38;5;124;43m'\u001b[39;49m\u001b[38;5;124;43m_node.csv\u001b[39;49m\u001b[38;5;124;43m'\u001b[39;49m\u001b[43m,\u001b[49m\u001b[43mindex_col\u001b[49m\u001b[38;5;241;43m=\u001b[39;49m\u001b[38;5;241;43m0\u001b[39;49m\u001b[43m)\u001b[49m \n\u001b[1;32m    217\u001b[0m     df_edge\u001b[38;5;241m=\u001b[39mpd\u001b[38;5;241m.\u001b[39mread_csv(\u001b[38;5;124m'\u001b[39m\u001b[38;5;124mdari_praproses/\u001b[39m\u001b[38;5;124m'\u001b[39m\u001b[38;5;241m+\u001b[39mdata_\u001b[38;5;241m+\u001b[39m\u001b[38;5;124m'\u001b[39m\u001b[38;5;124m_edge.csv\u001b[39m\u001b[38;5;124m'\u001b[39m,index_col\u001b[38;5;241m=\u001b[39m\u001b[38;5;241m0\u001b[39m)\n\u001b[1;32m    219\u001b[0m     \u001b[38;5;66;03m#2\u001b[39;00m\n\u001b[1;32m    220\u001b[0m     \u001b[38;5;66;03m#isi data kosong\u001b[39;00m\n",
      "File \u001b[0;32m~/miniconda3/envs/wikidata_etc/lib/python3.8/site-packages/pandas/util/_decorators.py:211\u001b[0m, in \u001b[0;36mdeprecate_kwarg.<locals>._deprecate_kwarg.<locals>.wrapper\u001b[0;34m(*args, **kwargs)\u001b[0m\n\u001b[1;32m    209\u001b[0m     \u001b[38;5;28;01melse\u001b[39;00m:\n\u001b[1;32m    210\u001b[0m         kwargs[new_arg_name] \u001b[38;5;241m=\u001b[39m new_arg_value\n\u001b[0;32m--> 211\u001b[0m \u001b[38;5;28;01mreturn\u001b[39;00m \u001b[43mfunc\u001b[49m\u001b[43m(\u001b[49m\u001b[38;5;241;43m*\u001b[39;49m\u001b[43margs\u001b[49m\u001b[43m,\u001b[49m\u001b[43m \u001b[49m\u001b[38;5;241;43m*\u001b[39;49m\u001b[38;5;241;43m*\u001b[39;49m\u001b[43mkwargs\u001b[49m\u001b[43m)\u001b[49m\n",
      "File \u001b[0;32m~/miniconda3/envs/wikidata_etc/lib/python3.8/site-packages/pandas/util/_decorators.py:331\u001b[0m, in \u001b[0;36mdeprecate_nonkeyword_arguments.<locals>.decorate.<locals>.wrapper\u001b[0;34m(*args, **kwargs)\u001b[0m\n\u001b[1;32m    325\u001b[0m \u001b[38;5;28;01mif\u001b[39;00m \u001b[38;5;28mlen\u001b[39m(args) \u001b[38;5;241m>\u001b[39m num_allow_args:\n\u001b[1;32m    326\u001b[0m     warnings\u001b[38;5;241m.\u001b[39mwarn(\n\u001b[1;32m    327\u001b[0m         msg\u001b[38;5;241m.\u001b[39mformat(arguments\u001b[38;5;241m=\u001b[39m_format_argument_list(allow_args)),\n\u001b[1;32m    328\u001b[0m         \u001b[38;5;167;01mFutureWarning\u001b[39;00m,\n\u001b[1;32m    329\u001b[0m         stacklevel\u001b[38;5;241m=\u001b[39mfind_stack_level(),\n\u001b[1;32m    330\u001b[0m     )\n\u001b[0;32m--> 331\u001b[0m \u001b[38;5;28;01mreturn\u001b[39;00m \u001b[43mfunc\u001b[49m\u001b[43m(\u001b[49m\u001b[38;5;241;43m*\u001b[39;49m\u001b[43margs\u001b[49m\u001b[43m,\u001b[49m\u001b[43m \u001b[49m\u001b[38;5;241;43m*\u001b[39;49m\u001b[38;5;241;43m*\u001b[39;49m\u001b[43mkwargs\u001b[49m\u001b[43m)\u001b[49m\n",
      "File \u001b[0;32m~/miniconda3/envs/wikidata_etc/lib/python3.8/site-packages/pandas/io/parsers/readers.py:950\u001b[0m, in \u001b[0;36mread_csv\u001b[0;34m(filepath_or_buffer, sep, delimiter, header, names, index_col, usecols, squeeze, prefix, mangle_dupe_cols, dtype, engine, converters, true_values, false_values, skipinitialspace, skiprows, skipfooter, nrows, na_values, keep_default_na, na_filter, verbose, skip_blank_lines, parse_dates, infer_datetime_format, keep_date_col, date_parser, dayfirst, cache_dates, iterator, chunksize, compression, thousands, decimal, lineterminator, quotechar, quoting, doublequote, escapechar, comment, encoding, encoding_errors, dialect, error_bad_lines, warn_bad_lines, on_bad_lines, delim_whitespace, low_memory, memory_map, float_precision, storage_options)\u001b[0m\n\u001b[1;32m    935\u001b[0m kwds_defaults \u001b[38;5;241m=\u001b[39m _refine_defaults_read(\n\u001b[1;32m    936\u001b[0m     dialect,\n\u001b[1;32m    937\u001b[0m     delimiter,\n\u001b[0;32m   (...)\u001b[0m\n\u001b[1;32m    946\u001b[0m     defaults\u001b[38;5;241m=\u001b[39m{\u001b[38;5;124m\"\u001b[39m\u001b[38;5;124mdelimiter\u001b[39m\u001b[38;5;124m\"\u001b[39m: \u001b[38;5;124m\"\u001b[39m\u001b[38;5;124m,\u001b[39m\u001b[38;5;124m\"\u001b[39m},\n\u001b[1;32m    947\u001b[0m )\n\u001b[1;32m    948\u001b[0m kwds\u001b[38;5;241m.\u001b[39mupdate(kwds_defaults)\n\u001b[0;32m--> 950\u001b[0m \u001b[38;5;28;01mreturn\u001b[39;00m \u001b[43m_read\u001b[49m\u001b[43m(\u001b[49m\u001b[43mfilepath_or_buffer\u001b[49m\u001b[43m,\u001b[49m\u001b[43m \u001b[49m\u001b[43mkwds\u001b[49m\u001b[43m)\u001b[49m\n",
      "File \u001b[0;32m~/miniconda3/envs/wikidata_etc/lib/python3.8/site-packages/pandas/io/parsers/readers.py:605\u001b[0m, in \u001b[0;36m_read\u001b[0;34m(filepath_or_buffer, kwds)\u001b[0m\n\u001b[1;32m    602\u001b[0m _validate_names(kwds\u001b[38;5;241m.\u001b[39mget(\u001b[38;5;124m\"\u001b[39m\u001b[38;5;124mnames\u001b[39m\u001b[38;5;124m\"\u001b[39m, \u001b[38;5;28;01mNone\u001b[39;00m))\n\u001b[1;32m    604\u001b[0m \u001b[38;5;66;03m# Create the parser.\u001b[39;00m\n\u001b[0;32m--> 605\u001b[0m parser \u001b[38;5;241m=\u001b[39m \u001b[43mTextFileReader\u001b[49m\u001b[43m(\u001b[49m\u001b[43mfilepath_or_buffer\u001b[49m\u001b[43m,\u001b[49m\u001b[43m \u001b[49m\u001b[38;5;241;43m*\u001b[39;49m\u001b[38;5;241;43m*\u001b[39;49m\u001b[43mkwds\u001b[49m\u001b[43m)\u001b[49m\n\u001b[1;32m    607\u001b[0m \u001b[38;5;28;01mif\u001b[39;00m chunksize \u001b[38;5;129;01mor\u001b[39;00m iterator:\n\u001b[1;32m    608\u001b[0m     \u001b[38;5;28;01mreturn\u001b[39;00m parser\n",
      "File \u001b[0;32m~/miniconda3/envs/wikidata_etc/lib/python3.8/site-packages/pandas/io/parsers/readers.py:1442\u001b[0m, in \u001b[0;36mTextFileReader.__init__\u001b[0;34m(self, f, engine, **kwds)\u001b[0m\n\u001b[1;32m   1439\u001b[0m     \u001b[38;5;28mself\u001b[39m\u001b[38;5;241m.\u001b[39moptions[\u001b[38;5;124m\"\u001b[39m\u001b[38;5;124mhas_index_names\u001b[39m\u001b[38;5;124m\"\u001b[39m] \u001b[38;5;241m=\u001b[39m kwds[\u001b[38;5;124m\"\u001b[39m\u001b[38;5;124mhas_index_names\u001b[39m\u001b[38;5;124m\"\u001b[39m]\n\u001b[1;32m   1441\u001b[0m \u001b[38;5;28mself\u001b[39m\u001b[38;5;241m.\u001b[39mhandles: IOHandles \u001b[38;5;241m|\u001b[39m \u001b[38;5;28;01mNone\u001b[39;00m \u001b[38;5;241m=\u001b[39m \u001b[38;5;28;01mNone\u001b[39;00m\n\u001b[0;32m-> 1442\u001b[0m \u001b[38;5;28mself\u001b[39m\u001b[38;5;241m.\u001b[39m_engine \u001b[38;5;241m=\u001b[39m \u001b[38;5;28;43mself\u001b[39;49m\u001b[38;5;241;43m.\u001b[39;49m\u001b[43m_make_engine\u001b[49m\u001b[43m(\u001b[49m\u001b[43mf\u001b[49m\u001b[43m,\u001b[49m\u001b[43m \u001b[49m\u001b[38;5;28;43mself\u001b[39;49m\u001b[38;5;241;43m.\u001b[39;49m\u001b[43mengine\u001b[49m\u001b[43m)\u001b[49m\n",
      "File \u001b[0;32m~/miniconda3/envs/wikidata_etc/lib/python3.8/site-packages/pandas/io/parsers/readers.py:1735\u001b[0m, in \u001b[0;36mTextFileReader._make_engine\u001b[0;34m(self, f, engine)\u001b[0m\n\u001b[1;32m   1733\u001b[0m     \u001b[38;5;28;01mif\u001b[39;00m \u001b[38;5;124m\"\u001b[39m\u001b[38;5;124mb\u001b[39m\u001b[38;5;124m\"\u001b[39m \u001b[38;5;129;01mnot\u001b[39;00m \u001b[38;5;129;01min\u001b[39;00m mode:\n\u001b[1;32m   1734\u001b[0m         mode \u001b[38;5;241m+\u001b[39m\u001b[38;5;241m=\u001b[39m \u001b[38;5;124m\"\u001b[39m\u001b[38;5;124mb\u001b[39m\u001b[38;5;124m\"\u001b[39m\n\u001b[0;32m-> 1735\u001b[0m \u001b[38;5;28mself\u001b[39m\u001b[38;5;241m.\u001b[39mhandles \u001b[38;5;241m=\u001b[39m \u001b[43mget_handle\u001b[49m\u001b[43m(\u001b[49m\n\u001b[1;32m   1736\u001b[0m \u001b[43m    \u001b[49m\u001b[43mf\u001b[49m\u001b[43m,\u001b[49m\n\u001b[1;32m   1737\u001b[0m \u001b[43m    \u001b[49m\u001b[43mmode\u001b[49m\u001b[43m,\u001b[49m\n\u001b[1;32m   1738\u001b[0m \u001b[43m    \u001b[49m\u001b[43mencoding\u001b[49m\u001b[38;5;241;43m=\u001b[39;49m\u001b[38;5;28;43mself\u001b[39;49m\u001b[38;5;241;43m.\u001b[39;49m\u001b[43moptions\u001b[49m\u001b[38;5;241;43m.\u001b[39;49m\u001b[43mget\u001b[49m\u001b[43m(\u001b[49m\u001b[38;5;124;43m\"\u001b[39;49m\u001b[38;5;124;43mencoding\u001b[39;49m\u001b[38;5;124;43m\"\u001b[39;49m\u001b[43m,\u001b[49m\u001b[43m \u001b[49m\u001b[38;5;28;43;01mNone\u001b[39;49;00m\u001b[43m)\u001b[49m\u001b[43m,\u001b[49m\n\u001b[1;32m   1739\u001b[0m \u001b[43m    \u001b[49m\u001b[43mcompression\u001b[49m\u001b[38;5;241;43m=\u001b[39;49m\u001b[38;5;28;43mself\u001b[39;49m\u001b[38;5;241;43m.\u001b[39;49m\u001b[43moptions\u001b[49m\u001b[38;5;241;43m.\u001b[39;49m\u001b[43mget\u001b[49m\u001b[43m(\u001b[49m\u001b[38;5;124;43m\"\u001b[39;49m\u001b[38;5;124;43mcompression\u001b[39;49m\u001b[38;5;124;43m\"\u001b[39;49m\u001b[43m,\u001b[49m\u001b[43m \u001b[49m\u001b[38;5;28;43;01mNone\u001b[39;49;00m\u001b[43m)\u001b[49m\u001b[43m,\u001b[49m\n\u001b[1;32m   1740\u001b[0m \u001b[43m    \u001b[49m\u001b[43mmemory_map\u001b[49m\u001b[38;5;241;43m=\u001b[39;49m\u001b[38;5;28;43mself\u001b[39;49m\u001b[38;5;241;43m.\u001b[39;49m\u001b[43moptions\u001b[49m\u001b[38;5;241;43m.\u001b[39;49m\u001b[43mget\u001b[49m\u001b[43m(\u001b[49m\u001b[38;5;124;43m\"\u001b[39;49m\u001b[38;5;124;43mmemory_map\u001b[39;49m\u001b[38;5;124;43m\"\u001b[39;49m\u001b[43m,\u001b[49m\u001b[43m \u001b[49m\u001b[38;5;28;43;01mFalse\u001b[39;49;00m\u001b[43m)\u001b[49m\u001b[43m,\u001b[49m\n\u001b[1;32m   1741\u001b[0m \u001b[43m    \u001b[49m\u001b[43mis_text\u001b[49m\u001b[38;5;241;43m=\u001b[39;49m\u001b[43mis_text\u001b[49m\u001b[43m,\u001b[49m\n\u001b[1;32m   1742\u001b[0m \u001b[43m    \u001b[49m\u001b[43merrors\u001b[49m\u001b[38;5;241;43m=\u001b[39;49m\u001b[38;5;28;43mself\u001b[39;49m\u001b[38;5;241;43m.\u001b[39;49m\u001b[43moptions\u001b[49m\u001b[38;5;241;43m.\u001b[39;49m\u001b[43mget\u001b[49m\u001b[43m(\u001b[49m\u001b[38;5;124;43m\"\u001b[39;49m\u001b[38;5;124;43mencoding_errors\u001b[39;49m\u001b[38;5;124;43m\"\u001b[39;49m\u001b[43m,\u001b[49m\u001b[43m \u001b[49m\u001b[38;5;124;43m\"\u001b[39;49m\u001b[38;5;124;43mstrict\u001b[39;49m\u001b[38;5;124;43m\"\u001b[39;49m\u001b[43m)\u001b[49m\u001b[43m,\u001b[49m\n\u001b[1;32m   1743\u001b[0m \u001b[43m    \u001b[49m\u001b[43mstorage_options\u001b[49m\u001b[38;5;241;43m=\u001b[39;49m\u001b[38;5;28;43mself\u001b[39;49m\u001b[38;5;241;43m.\u001b[39;49m\u001b[43moptions\u001b[49m\u001b[38;5;241;43m.\u001b[39;49m\u001b[43mget\u001b[49m\u001b[43m(\u001b[49m\u001b[38;5;124;43m\"\u001b[39;49m\u001b[38;5;124;43mstorage_options\u001b[39;49m\u001b[38;5;124;43m\"\u001b[39;49m\u001b[43m,\u001b[49m\u001b[43m \u001b[49m\u001b[38;5;28;43;01mNone\u001b[39;49;00m\u001b[43m)\u001b[49m\u001b[43m,\u001b[49m\n\u001b[1;32m   1744\u001b[0m \u001b[43m\u001b[49m\u001b[43m)\u001b[49m\n\u001b[1;32m   1745\u001b[0m \u001b[38;5;28;01massert\u001b[39;00m \u001b[38;5;28mself\u001b[39m\u001b[38;5;241m.\u001b[39mhandles \u001b[38;5;129;01mis\u001b[39;00m \u001b[38;5;129;01mnot\u001b[39;00m \u001b[38;5;28;01mNone\u001b[39;00m\n\u001b[1;32m   1746\u001b[0m f \u001b[38;5;241m=\u001b[39m \u001b[38;5;28mself\u001b[39m\u001b[38;5;241m.\u001b[39mhandles\u001b[38;5;241m.\u001b[39mhandle\n",
      "File \u001b[0;32m~/miniconda3/envs/wikidata_etc/lib/python3.8/site-packages/pandas/io/common.py:856\u001b[0m, in \u001b[0;36mget_handle\u001b[0;34m(path_or_buf, mode, encoding, compression, memory_map, is_text, errors, storage_options)\u001b[0m\n\u001b[1;32m    851\u001b[0m \u001b[38;5;28;01melif\u001b[39;00m \u001b[38;5;28misinstance\u001b[39m(handle, \u001b[38;5;28mstr\u001b[39m):\n\u001b[1;32m    852\u001b[0m     \u001b[38;5;66;03m# Check whether the filename is to be opened in binary mode.\u001b[39;00m\n\u001b[1;32m    853\u001b[0m     \u001b[38;5;66;03m# Binary mode does not support 'encoding' and 'newline'.\u001b[39;00m\n\u001b[1;32m    854\u001b[0m     \u001b[38;5;28;01mif\u001b[39;00m ioargs\u001b[38;5;241m.\u001b[39mencoding \u001b[38;5;129;01mand\u001b[39;00m \u001b[38;5;124m\"\u001b[39m\u001b[38;5;124mb\u001b[39m\u001b[38;5;124m\"\u001b[39m \u001b[38;5;129;01mnot\u001b[39;00m \u001b[38;5;129;01min\u001b[39;00m ioargs\u001b[38;5;241m.\u001b[39mmode:\n\u001b[1;32m    855\u001b[0m         \u001b[38;5;66;03m# Encoding\u001b[39;00m\n\u001b[0;32m--> 856\u001b[0m         handle \u001b[38;5;241m=\u001b[39m \u001b[38;5;28;43mopen\u001b[39;49m\u001b[43m(\u001b[49m\n\u001b[1;32m    857\u001b[0m \u001b[43m            \u001b[49m\u001b[43mhandle\u001b[49m\u001b[43m,\u001b[49m\n\u001b[1;32m    858\u001b[0m \u001b[43m            \u001b[49m\u001b[43mioargs\u001b[49m\u001b[38;5;241;43m.\u001b[39;49m\u001b[43mmode\u001b[49m\u001b[43m,\u001b[49m\n\u001b[1;32m    859\u001b[0m \u001b[43m            \u001b[49m\u001b[43mencoding\u001b[49m\u001b[38;5;241;43m=\u001b[39;49m\u001b[43mioargs\u001b[49m\u001b[38;5;241;43m.\u001b[39;49m\u001b[43mencoding\u001b[49m\u001b[43m,\u001b[49m\n\u001b[1;32m    860\u001b[0m \u001b[43m            \u001b[49m\u001b[43merrors\u001b[49m\u001b[38;5;241;43m=\u001b[39;49m\u001b[43merrors\u001b[49m\u001b[43m,\u001b[49m\n\u001b[1;32m    861\u001b[0m \u001b[43m            \u001b[49m\u001b[43mnewline\u001b[49m\u001b[38;5;241;43m=\u001b[39;49m\u001b[38;5;124;43m\"\u001b[39;49m\u001b[38;5;124;43m\"\u001b[39;49m\u001b[43m,\u001b[49m\n\u001b[1;32m    862\u001b[0m \u001b[43m        \u001b[49m\u001b[43m)\u001b[49m\n\u001b[1;32m    863\u001b[0m     \u001b[38;5;28;01melse\u001b[39;00m:\n\u001b[1;32m    864\u001b[0m         \u001b[38;5;66;03m# Binary mode\u001b[39;00m\n\u001b[1;32m    865\u001b[0m         handle \u001b[38;5;241m=\u001b[39m \u001b[38;5;28mopen\u001b[39m(handle, ioargs\u001b[38;5;241m.\u001b[39mmode)\n",
      "\u001b[0;31mFileNotFoundError\u001b[0m: [Errno 2] No such file or directory: 'dari_praproses/6ort_node.csv'"
     ]
    }
   ],
   "source": [
    "data_uji = [\n",
    "    ('Myzus','1cucu'),\n",
    "    ('Bemisia','2cri'),\n",
    "    ('Graminella','3wai'),\n",
    "    ('Bemisia','4beg'),\n",
    "    ('Schizaphis','5pol'),\n",
    "    ('Frankliniella','6ort'),\n",
    "    ('Nilaparvata','7alp'),\n",
    "    ('Laodelphax','8ten'),\n",
    "    ('Sogatella','9srb-nama'),\n",
    "    ('Acyrthosiphon','10pea-nama'),\n",
    "]\n",
    "\n",
    "# data_uji = [\n",
    "#     ('Aphididae','1cucu'),\n",
    "#     ('Aleyrodidae','2cri'),\n",
    "#     ('Cicadellidae','3wai'),\n",
    "#     ('Aleyrodidae','4beg'),\n",
    "#     ('Aphididae','5pol'),\n",
    "#     ('Thripidae','6ort'),\n",
    "# #     ('Delphacidae','7alp'),\n",
    "#     ('Delphacidae','8ten'),\n",
    "# ]\n",
    "\n",
    "print('Sedang mengambil NCBI OBO')\n",
    "ncbi_link = os.getcwd()+'/../data/ncbitaxon.owl'\n",
    "onto = get_ontology(ncbi_link)\n",
    "onto.load()\n",
    "obo = onto.get_namespace('http://purl.obolibrary.org/obo/')\n",
    "cek=[]\n",
    "hasil=[]\n",
    "for acuan_,data_ in data_uji:\n",
    "    print('-------')\n",
    "    print(acuan_, data_)\n",
    "    print('-------')\n",
    "    df_json, gnx, data_acuan, takson, df_node, df_edge = allProcess(data_, acuan_, obo)\n",
    "    data_to_count = pd.read_json( df_json )\n",
    "    allnodes = gnx.nodes\n",
    "    \n",
    "    data_to_count=data_to_count.sort_values('dc_result',ascending=False).reset_index(drop=True)\n",
    "    \n",
    "    presisi = presisiDalamTakson(data_to_count, allnodes, takson,data_acuan)\n",
    "    mrr_ = mrr(data_to_count,df_node, data_acuan)\n",
    "    \n",
    "    hasil.append( (acuan_,data_, presisi,mrr_) )\n",
    "    cek.append(data_to_count)"
   ]
  },
  {
   "cell_type": "code",
   "execution_count": null,
   "id": "0fd5eab8",
   "metadata": {
    "scrolled": false
   },
   "outputs": [],
   "source": [
    "hasil"
   ]
  },
  {
   "cell_type": "code",
   "execution_count": null,
   "id": "ccbc7ea4",
   "metadata": {},
   "outputs": [],
   "source": [
    "#hasil ukur takson\n",
    "ukur=[i[2] for i in hasil]\n",
    "print(ukur)\n",
    "sum(ukur)/len(ukur)"
   ]
  },
  {
   "cell_type": "code",
   "execution_count": null,
   "id": "baccef50",
   "metadata": {},
   "outputs": [],
   "source": [
    "#hasil mrr\n",
    "ukur=[i[3] for i in hasil]\n",
    "print(ukur)\n",
    "sum(ukur)/len(ukur)"
   ]
  },
  {
   "cell_type": "code",
   "execution_count": null,
   "id": "32042d6b",
   "metadata": {},
   "outputs": [],
   "source": [
    "data_acuan"
   ]
  },
  {
   "cell_type": "code",
   "execution_count": null,
   "id": "e9f78936",
   "metadata": {},
   "outputs": [],
   "source": [
    "cek"
   ]
  },
  {
   "cell_type": "code",
   "execution_count": null,
   "id": "c15aab98",
   "metadata": {},
   "outputs": [],
   "source": []
  }
 ],
 "metadata": {
  "kernelspec": {
   "display_name": "Python [conda env:wikidata_etc]",
   "language": "python",
   "name": "conda-env-wikidata_etc-py"
  },
  "language_info": {
   "codemirror_mode": {
    "name": "ipython",
    "version": 3
   },
   "file_extension": ".py",
   "mimetype": "text/x-python",
   "name": "python",
   "nbconvert_exporter": "python",
   "pygments_lexer": "ipython3",
   "version": "3.8.13"
  },
  "vscode": {
   "interpreter": {
    "hash": "221f6189eaa0d755cfb56b5cad51a12375bc02f9d0dd383e0b93cca47c485462"
   }
  }
 },
 "nbformat": 4,
 "nbformat_minor": 5
}
