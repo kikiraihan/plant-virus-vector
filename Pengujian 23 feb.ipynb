{
 "cells": [
  {
   "cell_type": "markdown",
   "id": "29751111",
   "metadata": {},
   "source": [
    "# Pengujian"
   ]
  },
  {
   "cell_type": "code",
   "execution_count": 1,
   "id": "38939df1",
   "metadata": {},
   "outputs": [],
   "source": [
    "# # reset import package\n",
    "# def reloadPackageOwn():\n",
    "#     from importlib import reload  \n",
    "#     import os # we use os.path.join, os.path.basename\n",
    "#     import sys # we use sys.path\n",
    "#     import glob # we use glob.glob\n",
    "#     import importlib # we use importlib.import_module\n",
    "\n",
    "#     import_folder = os.getcwd()\n",
    "#     sys.path.append(import_folder) # this tells python to look in `import_folder` for imports\n",
    "#     for src_file in glob.glob(os.path.join(import_folder, '*.py')):\n",
    "#         name = os.path.basename(src_file)[:-3]\n",
    "#         importlib.import_module(name)\n",
    "#         reload(sys.modules[name])\n",
    "#         importlib.import_module(name)\n",
    "        \n",
    "# reloadPackageOwn()"
   ]
  },
  {
   "cell_type": "code",
   "execution_count": 2,
   "id": "2a09726f",
   "metadata": {},
   "outputs": [
    {
     "name": "stderr",
     "output_type": "stream",
     "text": [
      "* Owlready2 * Warning: optimized Cython parser module 'owlready2_optimized' is not available, defaulting to slower Python implementation\n"
     ]
    }
   ],
   "source": [
    "from owlready2 import *\n",
    "from process import allProcess\n",
    "import pandas as pd"
   ]
  },
  {
   "cell_type": "markdown",
   "id": "6b454b94",
   "metadata": {},
   "source": [
    "### presisi dalam takson"
   ]
  },
  {
   "cell_type": "code",
   "execution_count": 3,
   "id": "afa15ec5",
   "metadata": {},
   "outputs": [],
   "source": [
    "def mrr(data_to_count,df_node, data_acuan):\n",
    "    \n",
    "    acuan = data_acuan[0][1]\n",
    "    takson = data_acuan[0][0]\n",
    "    get = df_node.loc[df_node['genus'].str.contains(acuan),'taxon_id']\n",
    "    if get.empty:\n",
    "        return 0\n",
    "    id_acuan =  get.values[0]\n",
    "    rank = data_to_count.loc[data_to_count.entity==id_acuan].index[0]+1\n",
    "    return 1/rank"
   ]
  },
  {
   "cell_type": "code",
   "execution_count": 4,
   "id": "572da16e",
   "metadata": {},
   "outputs": [],
   "source": [
    "def presisiDalamTakson(data_to_count, allnodes, takson, data_acuan):\n",
    "    \n",
    "    id_hasil=data_to_count.iloc[0].entity\n",
    "    cek_hasil= { k:v for k,v in reversed(allnodes[id_hasil].items()) if k in takson }\n",
    "    cek_acuan= { k:v for k,v in data_acuan if k in takson }\n",
    "\n",
    "    #print(cek_acuan)\n",
    "    #print(cek_hasil)\n",
    "\n",
    "    cek=0\n",
    "    for i in reversed(takson):\n",
    "        cekk=cek_hasil[i]==cek_acuan[i]\n",
    "        cek+=cekk\n",
    "        #print(i, cekk)\n",
    "    \n",
    "    print(cek/len(takson))\n",
    "    return cek/len(takson)"
   ]
  },
  {
   "cell_type": "markdown",
   "id": "ffca27e5",
   "metadata": {},
   "source": [
    "### proses dulu"
   ]
  },
  {
   "cell_type": "code",
   "execution_count": 5,
   "id": "e1381dae",
   "metadata": {},
   "outputs": [
    {
     "name": "stdout",
     "output_type": "stream",
     "text": [
      "Sedang mengambil NCBI OBO\n",
      "-------\n",
      "Myzus 1cucu\n",
      "-------\n",
      "#1 Baca data interaksi\n",
      "#2 isi data kosong\n",
      "#3 konversi graph \n",
      "#4 Degree Centrality\n",
      "#5 ambil data acuan\n",
      "#6 konversi node networkx ke RDF\n",
      "#7 embedding\n",
      "#8 hitung euclidean distance\n",
      "#9 hitung kombinasi\n",
      "0.0\n",
      "-------\n",
      "Bemisia 2cri\n",
      "-------\n",
      "#1 Baca data interaksi\n",
      "#2 isi data kosong\n",
      "#3 konversi graph \n",
      "#4 Degree Centrality\n",
      "#5 ambil data acuan\n",
      "#6 konversi node networkx ke RDF\n",
      "#7 embedding\n",
      "#8 hitung euclidean distance\n",
      "#9 hitung kombinasi\n",
      "0.0\n",
      "-------\n",
      "Graminella 3wai\n",
      "-------\n",
      "#1 Baca data interaksi\n",
      "#2 isi data kosong\n",
      "#3 konversi graph \n",
      "#4 Degree Centrality\n",
      "#5 ambil data acuan\n",
      "#6 konversi node networkx ke RDF\n",
      "#7 embedding\n",
      "#8 hitung euclidean distance\n",
      "#9 hitung kombinasi\n",
      "0.0\n",
      "-------\n",
      "Bemisia 4beg\n",
      "-------\n",
      "#1 Baca data interaksi\n",
      "#2 isi data kosong\n",
      "#3 konversi graph \n",
      "#4 Degree Centrality\n",
      "#5 ambil data acuan\n",
      "#6 konversi node networkx ke RDF\n",
      "#7 embedding\n",
      "#8 hitung euclidean distance\n",
      "#9 hitung kombinasi\n",
      "0.0\n",
      "-------\n",
      "Schizaphis 5pol\n",
      "-------\n",
      "#1 Baca data interaksi\n",
      "#2 isi data kosong\n",
      "#3 konversi graph \n",
      "#4 Degree Centrality\n",
      "#5 ambil data acuan\n",
      "#6 konversi node networkx ke RDF\n",
      "#7 embedding\n",
      "#8 hitung euclidean distance\n",
      "#9 hitung kombinasi\n",
      "0.0\n",
      "-------\n",
      "Frankliniella 6ort\n",
      "-------\n",
      "#1 Baca data interaksi\n",
      "#2 isi data kosong\n",
      "#3 konversi graph \n",
      "#4 Degree Centrality\n",
      "#5 ambil data acuan\n",
      "#6 konversi node networkx ke RDF\n",
      "#7 embedding\n",
      "#8 hitung euclidean distance\n",
      "#9 hitung kombinasi\n",
      "0.0\n",
      "-------\n",
      "Nilaparvata 7alp\n",
      "-------\n",
      "#1 Baca data interaksi\n",
      "#2 isi data kosong\n",
      "#3 konversi graph \n",
      "#4 Degree Centrality\n",
      "#5 ambil data acuan\n",
      "#6 konversi node networkx ke RDF\n",
      "#7 embedding\n",
      "#8 hitung euclidean distance\n"
     ]
    },
    {
     "ename": "ValueError",
     "evalue": "Found array with 0 feature(s) (shape=(1, 0)) while a minimum of 1 is required by MinMaxScaler.",
     "output_type": "error",
     "traceback": [
      "\u001b[0;31m---------------------------------------------------------------------------\u001b[0m",
      "\u001b[0;31mValueError\u001b[0m                                Traceback (most recent call last)",
      "Input \u001b[0;32mIn [5]\u001b[0m, in \u001b[0;36m<cell line: 32>\u001b[0;34m()\u001b[0m\n\u001b[1;32m     34\u001b[0m \u001b[38;5;28mprint\u001b[39m(acuan_, data_)\n\u001b[1;32m     35\u001b[0m \u001b[38;5;28mprint\u001b[39m(\u001b[38;5;124m'\u001b[39m\u001b[38;5;124m-------\u001b[39m\u001b[38;5;124m'\u001b[39m)\n\u001b[0;32m---> 36\u001b[0m df_json, gnx, data_acuan, takson, df_node, df_edge \u001b[38;5;241m=\u001b[39m \u001b[43mallProcess\u001b[49m\u001b[43m(\u001b[49m\u001b[43mdata_\u001b[49m\u001b[43m,\u001b[49m\u001b[43m \u001b[49m\u001b[43macuan_\u001b[49m\u001b[43m,\u001b[49m\u001b[43m \u001b[49m\u001b[43mobo\u001b[49m\u001b[43m)\u001b[49m\n\u001b[1;32m     37\u001b[0m data_to_count \u001b[38;5;241m=\u001b[39m pd\u001b[38;5;241m.\u001b[39mread_json( df_json )\n\u001b[1;32m     38\u001b[0m allnodes \u001b[38;5;241m=\u001b[39m gnx\u001b[38;5;241m.\u001b[39mnodes\n",
      "File \u001b[0;32m~/2latihan_python/_Kuliah/thesis/wikidata_etc/fix_thesis/process.py:262\u001b[0m, in \u001b[0;36mallProcess\u001b[0;34m(data_, acuan_, obo, bobot_dc, bobot_ed)\u001b[0m\n\u001b[1;32m    259\u001b[0m \u001b[38;5;66;03m#8\u001b[39;00m\n\u001b[1;32m    260\u001b[0m \u001b[38;5;66;03m#euclidean distance\u001b[39;00m\n\u001b[1;32m    261\u001b[0m \u001b[38;5;28mprint\u001b[39m(\u001b[38;5;124m'\u001b[39m\u001b[38;5;124m#8 hitung euclidean distance\u001b[39m\u001b[38;5;124m'\u001b[39m)\n\u001b[0;32m--> 262\u001b[0m data_to_count \u001b[38;5;241m=\u001b[39m \u001b[43mhitungED\u001b[49m\u001b[43m(\u001b[49m\u001b[43membeddings\u001b[49m\u001b[43m,\u001b[49m\u001b[43mtransformer\u001b[49m\u001b[38;5;241;43m.\u001b[39;49m\u001b[43m_entities\u001b[49m\u001b[43m,\u001b[49m\u001b[43m \u001b[49m\u001b[43mdc_dict\u001b[49m\u001b[43m,\u001b[49m\u001b[43m \u001b[49m\u001b[43mgnx\u001b[49m\u001b[43m)\u001b[49m\n\u001b[1;32m    263\u001b[0m \u001b[38;5;66;03m#drop kolom embedding\u001b[39;00m\n\u001b[1;32m    264\u001b[0m data_to_count\u001b[38;5;241m.\u001b[39mdrop(columns\u001b[38;5;241m=\u001b[39m\u001b[38;5;28mlist\u001b[39m(\u001b[38;5;28mrange\u001b[39m(\u001b[38;5;241m0\u001b[39m,\u001b[38;5;241m100\u001b[39m)), inplace\u001b[38;5;241m=\u001b[39m\u001b[38;5;28;01mTrue\u001b[39;00m)\n",
      "File \u001b[0;32m~/2latihan_python/_Kuliah/thesis/wikidata_etc/fix_thesis/process.py:159\u001b[0m, in \u001b[0;36mhitungED\u001b[0;34m(embeddings, entities, dc_dict, gnx)\u001b[0m\n\u001b[1;32m    157\u001b[0m \u001b[38;5;28;01mfor\u001b[39;00m i \u001b[38;5;129;01min\u001b[39;00m [\u001b[38;5;124m'\u001b[39m\u001b[38;5;124mdc_result\u001b[39m\u001b[38;5;124m'\u001b[39m, \u001b[38;5;124m'\u001b[39m\u001b[38;5;124med_result\u001b[39m\u001b[38;5;124m'\u001b[39m]:\n\u001b[1;32m    158\u001b[0m     scaler \u001b[38;5;241m=\u001b[39m MinMaxScaler()\n\u001b[0;32m--> 159\u001b[0m     \u001b[43mscaler\u001b[49m\u001b[38;5;241;43m.\u001b[39;49m\u001b[43mfit\u001b[49m\u001b[43m(\u001b[49m\u001b[43mdata_to_count\u001b[49m\u001b[43m[\u001b[49m\u001b[43mi\u001b[49m\u001b[43m]\u001b[49m\u001b[38;5;241;43m.\u001b[39;49m\u001b[43mto_numpy\u001b[49m\u001b[43m(\u001b[49m\u001b[43m)\u001b[49m\u001b[38;5;241;43m.\u001b[39;49m\u001b[43mreshape\u001b[49m\u001b[43m(\u001b[49m\u001b[38;5;241;43m1\u001b[39;49m\u001b[43m,\u001b[49m\u001b[43m \u001b[49m\u001b[38;5;241;43m-\u001b[39;49m\u001b[38;5;241;43m1\u001b[39;49m\u001b[43m)\u001b[49m\u001b[43m)\u001b[49m\n\u001b[1;32m    160\u001b[0m     scaler\u001b[38;5;241m.\u001b[39mtransform(data_to_count[i]\u001b[38;5;241m.\u001b[39mto_numpy()\u001b[38;5;241m.\u001b[39mreshape(\u001b[38;5;241m1\u001b[39m, \u001b[38;5;241m-\u001b[39m\u001b[38;5;241m1\u001b[39m))\n\u001b[1;32m    162\u001b[0m \u001b[38;5;28;01mreturn\u001b[39;00m data_to_count\n",
      "File \u001b[0;32m~/miniconda3/envs/wikidata_etc/lib/python3.8/site-packages/sklearn/preprocessing/_data.py:420\u001b[0m, in \u001b[0;36mMinMaxScaler.fit\u001b[0;34m(self, X, y)\u001b[0m\n\u001b[1;32m    418\u001b[0m \u001b[38;5;66;03m# Reset internal state before fitting\u001b[39;00m\n\u001b[1;32m    419\u001b[0m \u001b[38;5;28mself\u001b[39m\u001b[38;5;241m.\u001b[39m_reset()\n\u001b[0;32m--> 420\u001b[0m \u001b[38;5;28;01mreturn\u001b[39;00m \u001b[38;5;28;43mself\u001b[39;49m\u001b[38;5;241;43m.\u001b[39;49m\u001b[43mpartial_fit\u001b[49m\u001b[43m(\u001b[49m\u001b[43mX\u001b[49m\u001b[43m,\u001b[49m\u001b[43m \u001b[49m\u001b[43my\u001b[49m\u001b[43m)\u001b[49m\n",
      "File \u001b[0;32m~/miniconda3/envs/wikidata_etc/lib/python3.8/site-packages/sklearn/preprocessing/_data.py:457\u001b[0m, in \u001b[0;36mMinMaxScaler.partial_fit\u001b[0;34m(self, X, y)\u001b[0m\n\u001b[1;32m    451\u001b[0m     \u001b[38;5;28;01mraise\u001b[39;00m \u001b[38;5;167;01mTypeError\u001b[39;00m(\n\u001b[1;32m    452\u001b[0m         \u001b[38;5;124m\"\u001b[39m\u001b[38;5;124mMinMaxScaler does not support sparse input. \u001b[39m\u001b[38;5;124m\"\u001b[39m\n\u001b[1;32m    453\u001b[0m         \u001b[38;5;124m\"\u001b[39m\u001b[38;5;124mConsider using MaxAbsScaler instead.\u001b[39m\u001b[38;5;124m\"\u001b[39m\n\u001b[1;32m    454\u001b[0m     )\n\u001b[1;32m    456\u001b[0m first_pass \u001b[38;5;241m=\u001b[39m \u001b[38;5;129;01mnot\u001b[39;00m \u001b[38;5;28mhasattr\u001b[39m(\u001b[38;5;28mself\u001b[39m, \u001b[38;5;124m\"\u001b[39m\u001b[38;5;124mn_samples_seen_\u001b[39m\u001b[38;5;124m\"\u001b[39m)\n\u001b[0;32m--> 457\u001b[0m X \u001b[38;5;241m=\u001b[39m \u001b[38;5;28;43mself\u001b[39;49m\u001b[38;5;241;43m.\u001b[39;49m\u001b[43m_validate_data\u001b[49m\u001b[43m(\u001b[49m\n\u001b[1;32m    458\u001b[0m \u001b[43m    \u001b[49m\u001b[43mX\u001b[49m\u001b[43m,\u001b[49m\n\u001b[1;32m    459\u001b[0m \u001b[43m    \u001b[49m\u001b[43mreset\u001b[49m\u001b[38;5;241;43m=\u001b[39;49m\u001b[43mfirst_pass\u001b[49m\u001b[43m,\u001b[49m\n\u001b[1;32m    460\u001b[0m \u001b[43m    \u001b[49m\u001b[43mdtype\u001b[49m\u001b[38;5;241;43m=\u001b[39;49m\u001b[43mFLOAT_DTYPES\u001b[49m\u001b[43m,\u001b[49m\n\u001b[1;32m    461\u001b[0m \u001b[43m    \u001b[49m\u001b[43mforce_all_finite\u001b[49m\u001b[38;5;241;43m=\u001b[39;49m\u001b[38;5;124;43m\"\u001b[39;49m\u001b[38;5;124;43mallow-nan\u001b[39;49m\u001b[38;5;124;43m\"\u001b[39;49m\u001b[43m,\u001b[49m\n\u001b[1;32m    462\u001b[0m \u001b[43m\u001b[49m\u001b[43m)\u001b[49m\n\u001b[1;32m    464\u001b[0m data_min \u001b[38;5;241m=\u001b[39m np\u001b[38;5;241m.\u001b[39mnanmin(X, axis\u001b[38;5;241m=\u001b[39m\u001b[38;5;241m0\u001b[39m)\n\u001b[1;32m    465\u001b[0m data_max \u001b[38;5;241m=\u001b[39m np\u001b[38;5;241m.\u001b[39mnanmax(X, axis\u001b[38;5;241m=\u001b[39m\u001b[38;5;241m0\u001b[39m)\n",
      "File \u001b[0;32m~/miniconda3/envs/wikidata_etc/lib/python3.8/site-packages/sklearn/base.py:577\u001b[0m, in \u001b[0;36mBaseEstimator._validate_data\u001b[0;34m(self, X, y, reset, validate_separately, **check_params)\u001b[0m\n\u001b[1;32m    575\u001b[0m     \u001b[38;5;28;01mraise\u001b[39;00m \u001b[38;5;167;01mValueError\u001b[39;00m(\u001b[38;5;124m\"\u001b[39m\u001b[38;5;124mValidation should be done on X, y or both.\u001b[39m\u001b[38;5;124m\"\u001b[39m)\n\u001b[1;32m    576\u001b[0m \u001b[38;5;28;01melif\u001b[39;00m \u001b[38;5;129;01mnot\u001b[39;00m no_val_X \u001b[38;5;129;01mand\u001b[39;00m no_val_y:\n\u001b[0;32m--> 577\u001b[0m     X \u001b[38;5;241m=\u001b[39m \u001b[43mcheck_array\u001b[49m\u001b[43m(\u001b[49m\u001b[43mX\u001b[49m\u001b[43m,\u001b[49m\u001b[43m \u001b[49m\u001b[43minput_name\u001b[49m\u001b[38;5;241;43m=\u001b[39;49m\u001b[38;5;124;43m\"\u001b[39;49m\u001b[38;5;124;43mX\u001b[39;49m\u001b[38;5;124;43m\"\u001b[39;49m\u001b[43m,\u001b[49m\u001b[43m \u001b[49m\u001b[38;5;241;43m*\u001b[39;49m\u001b[38;5;241;43m*\u001b[39;49m\u001b[43mcheck_params\u001b[49m\u001b[43m)\u001b[49m\n\u001b[1;32m    578\u001b[0m     out \u001b[38;5;241m=\u001b[39m X\n\u001b[1;32m    579\u001b[0m \u001b[38;5;28;01melif\u001b[39;00m no_val_X \u001b[38;5;129;01mand\u001b[39;00m \u001b[38;5;129;01mnot\u001b[39;00m no_val_y:\n",
      "File \u001b[0;32m~/miniconda3/envs/wikidata_etc/lib/python3.8/site-packages/sklearn/utils/validation.py:918\u001b[0m, in \u001b[0;36mcheck_array\u001b[0;34m(array, accept_sparse, accept_large_sparse, dtype, order, copy, force_all_finite, ensure_2d, allow_nd, ensure_min_samples, ensure_min_features, estimator, input_name)\u001b[0m\n\u001b[1;32m    916\u001b[0m     n_features \u001b[38;5;241m=\u001b[39m array\u001b[38;5;241m.\u001b[39mshape[\u001b[38;5;241m1\u001b[39m]\n\u001b[1;32m    917\u001b[0m     \u001b[38;5;28;01mif\u001b[39;00m n_features \u001b[38;5;241m<\u001b[39m ensure_min_features:\n\u001b[0;32m--> 918\u001b[0m         \u001b[38;5;28;01mraise\u001b[39;00m \u001b[38;5;167;01mValueError\u001b[39;00m(\n\u001b[1;32m    919\u001b[0m             \u001b[38;5;124m\"\u001b[39m\u001b[38;5;124mFound array with \u001b[39m\u001b[38;5;132;01m%d\u001b[39;00m\u001b[38;5;124m feature(s) (shape=\u001b[39m\u001b[38;5;132;01m%s\u001b[39;00m\u001b[38;5;124m) while\u001b[39m\u001b[38;5;124m\"\u001b[39m\n\u001b[1;32m    920\u001b[0m             \u001b[38;5;124m\"\u001b[39m\u001b[38;5;124m a minimum of \u001b[39m\u001b[38;5;132;01m%d\u001b[39;00m\u001b[38;5;124m is required\u001b[39m\u001b[38;5;132;01m%s\u001b[39;00m\u001b[38;5;124m.\u001b[39m\u001b[38;5;124m\"\u001b[39m\n\u001b[1;32m    921\u001b[0m             \u001b[38;5;241m%\u001b[39m (n_features, array\u001b[38;5;241m.\u001b[39mshape, ensure_min_features, context)\n\u001b[1;32m    922\u001b[0m         )\n\u001b[1;32m    924\u001b[0m \u001b[38;5;28;01mif\u001b[39;00m copy \u001b[38;5;129;01mand\u001b[39;00m np\u001b[38;5;241m.\u001b[39mmay_share_memory(array, array_orig):\n\u001b[1;32m    925\u001b[0m     array \u001b[38;5;241m=\u001b[39m np\u001b[38;5;241m.\u001b[39marray(array, dtype\u001b[38;5;241m=\u001b[39mdtype, order\u001b[38;5;241m=\u001b[39morder)\n",
      "\u001b[0;31mValueError\u001b[0m: Found array with 0 feature(s) (shape=(1, 0)) while a minimum of 1 is required by MinMaxScaler."
     ]
    }
   ],
   "source": [
    "data_uji = [\n",
    "    ('Myzus','1cucu'),\n",
    "    ('Bemisia','2cri'),\n",
    "    ('Graminella','3wai'),\n",
    "    ('Bemisia','4beg'),\n",
    "    ('Schizaphis','5pol'),\n",
    "    ('Frankliniella','6ort'),\n",
    "    ('Nilaparvata','7alp'),\n",
    "    ('Laodelphax','8ten'),\n",
    "    ('Sogatella','9srb-nama'),\n",
    "    ('Acyrthosiphon','10pea-nama'),\n",
    "]\n",
    "\n",
    "# data_uji = [\n",
    "#     ('Aphididae','1cucu'),\n",
    "#     ('Aleyrodidae','2cri'),\n",
    "#     ('Cicadellidae','3wai'),\n",
    "#     ('Aleyrodidae','4beg'),\n",
    "#     ('Aphididae','5pol'),\n",
    "#     ('Thripidae','6ort'),\n",
    "# #     ('Delphacidae','7alp'),\n",
    "#     ('Delphacidae','8ten'),\n",
    "# ]\n",
    "\n",
    "print('Sedang mengambil NCBI OBO')\n",
    "ncbi_link = os.getcwd()+'/../data/ncbitaxon.owl'\n",
    "onto = get_ontology(ncbi_link)\n",
    "onto.load()\n",
    "obo = onto.get_namespace('http://purl.obolibrary.org/obo/')\n",
    "cek=[]\n",
    "hasil=[]\n",
    "for acuan_,data_ in data_uji:\n",
    "    print('-------')\n",
    "    print(acuan_, data_)\n",
    "    print('-------')\n",
    "    df_json, gnx, data_acuan, takson, df_node, df_edge = allProcess(data_, acuan_, obo)\n",
    "    data_to_count = pd.read_json( df_json )\n",
    "    allnodes = gnx.nodes\n",
    "    \n",
    "    data_to_count=data_to_count.sort_values('dc_result',ascending=False).reset_index(drop=True)\n",
    "    \n",
    "    presisi = presisiDalamTakson(data_to_count, allnodes, takson,data_acuan)\n",
    "    mrr_ = mrr(data_to_count,df_node, data_acuan)\n",
    "    \n",
    "    hasil.append( (acuan_,data_, presisi,mrr_) )\n",
    "    cek.append(data_to_count)"
   ]
  },
  {
   "cell_type": "code",
   "execution_count": null,
   "id": "0fd5eab8",
   "metadata": {
    "scrolled": false
   },
   "outputs": [],
   "source": [
    "hasil"
   ]
  },
  {
   "cell_type": "code",
   "execution_count": null,
   "id": "ccbc7ea4",
   "metadata": {},
   "outputs": [],
   "source": [
    "#hasil ukur takson\n",
    "ukur=[i[2] for i in hasil]\n",
    "print(ukur)\n",
    "sum(ukur)/len(ukur)"
   ]
  },
  {
   "cell_type": "code",
   "execution_count": null,
   "id": "baccef50",
   "metadata": {},
   "outputs": [],
   "source": [
    "#hasil mrr\n",
    "ukur=[i[3] for i in hasil]\n",
    "print(ukur)\n",
    "sum(ukur)/len(ukur)"
   ]
  },
  {
   "cell_type": "code",
   "execution_count": null,
   "id": "32042d6b",
   "metadata": {},
   "outputs": [],
   "source": [
    "data_acuan"
   ]
  },
  {
   "cell_type": "code",
   "execution_count": null,
   "id": "e9f78936",
   "metadata": {},
   "outputs": [],
   "source": [
    "cek"
   ]
  },
  {
   "cell_type": "code",
   "execution_count": null,
   "id": "c15aab98",
   "metadata": {},
   "outputs": [],
   "source": []
  }
 ],
 "metadata": {
  "kernelspec": {
   "display_name": "Python [conda env:wikidata_etc]",
   "language": "python",
   "name": "conda-env-wikidata_etc-py"
  },
  "language_info": {
   "codemirror_mode": {
    "name": "ipython",
    "version": 3
   },
   "file_extension": ".py",
   "mimetype": "text/x-python",
   "name": "python",
   "nbconvert_exporter": "python",
   "pygments_lexer": "ipython3",
   "version": "3.8.13"
  },
  "vscode": {
   "interpreter": {
    "hash": "221f6189eaa0d755cfb56b5cad51a12375bc02f9d0dd383e0b93cca47c485462"
   }
  }
 },
 "nbformat": 4,
 "nbformat_minor": 5
}
