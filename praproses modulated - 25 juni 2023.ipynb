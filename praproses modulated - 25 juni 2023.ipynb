{
 "cells": [
  {
   "cell_type": "code",
   "execution_count": 217,
   "id": "ce98b8cd",
   "metadata": {},
   "outputs": [],
   "source": [
    "# import importlib, sys\n",
    "# importlib.reload(sys.modules['modul.standardization_usingsparql'])\n",
    "import requests\n",
    "from tqdm import tqdm\n",
    "import pandas as pd\n",
    "# from owlready2 import get_ontology\n",
    "import os\n",
    "\n",
    "from modul.standardization_usingsparql import addTaxonColumn, buat_kolom_taxon_awal\n",
    "from modul.disambiguation_optimized import buat_kamus_kosong, update_kamus_pake_wikidata, update_df_pake_kamus, update_df_pake_path_ujung, removeOtherThanNCBI\n",
    "from modul.preprocess import cleaning, splitInteractionToNodeEdge\n",
    "from modul.filterNodeEdge import removeNodeAndEdgeByFilter,takeNodeAndEdgeByFilter,removeEdgesNotInNodes\n",
    "from modul.helper_umum import contains_string_entire_column,contains_string_entire_column_boolean\n",
    "from modul.vectorReferenced import get_taxon_vector,cek_ncbi_id_by_wiki_id_via_string"
   ]
  },
  {
   "cell_type": "code",
   "execution_count": 218,
   "id": "739b5184",
   "metadata": {},
   "outputs": [],
   "source": [
    "data_init=[\n",
    "    ('begomovirus_contoh_hasil','Pepper yellow leaf curl virus','Aleyrodidae','Bemisia Tabaci'),\n",
    "    ('1cucu','Cucumber mosaic virus','Aphididae','Myzus persicae'),\n",
    "    ('2cri','Tomato chlorosis virus','Aleyrodidae','Bemisia Tabaci'),\n",
    "    ('3wai','Maize chlorotic dwarf virus','Cicadellidae','Graminella nigrifrons'),\n",
    "    ('4beg','Tomato yellow leaf curl China virus','Aleyrodidae','Bemisia Tabaci'),\n",
    "    ('5pol','Cereal yellow dwarf virus','Aphididae','Schizaphis graminum'),\n",
    "    ('6pea','Pea enation mosaic virus 1','Aphididae','Acyrthosiphon pisum'),\n",
    "    ('7cucur','Cucurbit yellow stunting disorder virus','Aleyrodidae','Bemisia Tabaci'),\n",
    "    ('8ten','Rice stripe tenuivirus','Delphacidae','Laodelphax striatellus'),\n",
    "    ('9fiji','Southern rice black-streaked dwarf virus','Delphacidae','Sogatella furcifera'),\n",
    "    ('10capchlo','Capsicum chlorosis orthotospovirus','Thripidae','Thrips Palmi'),\n",
    "    ('11barley','Barley yellow dwarf virus GAV','Aphididae','Sitobion avenae'),\n",
    "    ('12tospot','Tomato spotted wilt orthotospovirus','Thripidae','Frankliniella occidentalis'),\n",
    "    ('13svyv','squash vein yellowing virus','Aleyrodidae','Bemisia Tabaci'),\n",
    "    ('14sbmv','soybean mosaic virus','Aphididae','Aphis glycines'),\n",
    "    ('15blv','bean leafroll virus','Aphididae','Acyrthosiphon pisum'),\n",
    "    ('16rgdv','rice gall dwarf virus','Cicadellidae','Recilia dorsalis'), #sedikit\n",
    "    ('17srbsdv','southern rice black-streaked dwarf virus','Delphacidae','Sogatella furcifera'),\n",
    "    ('18tsrv','tomato severe rugose virus','Aleyrodidae','Bemisia tabaci'),\n",
    "    ('19gbnv','groundnut bud necrosis virus','Thripidae','Thrips palmi'),\n",
    "    ('20wbnv','Watermelon bud necrosis virus','Thripidae','Thrips palmi'),\n",
    "    # error dibawah ini\n",
    "    # ('+13Poty','Potyvirus','Aphididae','Myzus'),\n",
    "    # ('+11tung','Tungrovirus','Nilaparvata','Nilaparvata'),\n",
    "]"
   ]
  },
  {
   "cell_type": "code",
   "execution_count": 219,
   "id": "25dd7909",
   "metadata": {},
   "outputs": [],
   "source": [
    "#0 inisiasi parameter\n",
    "ini_data=data_init[0]\n",
    "# parameter\n",
    "nama_file = ini_data[0]\n",
    "virus_txt = ini_data[1].replace(' ','%20')\n",
    "tipe_interaksi_virus = 'hasHost' #pathogenOf, pake relasi hasHost lebih dapat banyak relasi dari pada pathogenOf\n",
    "tipe_interaksi_tanaman = 'hostOf' #hasPathogen, pake relasi hostOf lebih dapat banyak relasi dari pada hasPathogen\n",
    "tipe_interaksi_serangga_ke_tanaman = 'hasHost' \n",
    "tipe_interaksi_serangga_ke_virus = 'hostOf' \n",
    "ncbi_server_url = 'http://localhost:3030/mydataset/query'"
   ]
  },
  {
   "cell_type": "code",
   "execution_count": 220,
   "id": "946c7825",
   "metadata": {},
   "outputs": [
    {
     "data": {
      "text/plain": [
       "[('spesies', 'NCBI:881944_Pepper yellow leaf curl virus'),\n",
       " ('genus', 'NCBI:10814_Begomovirus'),\n",
       " ('famili', 'NCBI:10811_Geminiviridae'),\n",
       " ('ordo', 'NCBI:2732539_Geplafuvirales'),\n",
       " ('kelas', 'NCBI:2732424_Repensiviricetes'),\n",
       " ('filum', 'NCBI:2732416_Cressdnaviricota'),\n",
       " ('kingdom', 'NCBI:2732092_Shotokuvirae'),\n",
       " ('superkingdom', 'NCBI:10239_Viruses')]"
      ]
     },
     "execution_count": 220,
     "metadata": {},
     "output_type": "execute_result"
    }
   ],
   "source": [
    "virus_search = get_taxon_vector(virus_txt,ncbi_server_url)\n",
    "if (virus_search==False):\n",
    "    virus_search=[('unknown',virus_txt)]\n",
    "virus_search"
   ]
  },
  {
   "cell_type": "code",
   "execution_count": 221,
   "id": "7f605659",
   "metadata": {},
   "outputs": [
    {
     "name": "stdout",
     "output_type": "stream",
     "text": [
      "layer 1 pertama ['NCBI:881944', 'Pepper yellow leaf curl virus']\n",
      "layer 1 kedua ['NCBI:10814', 'Begomovirus']\n"
     ]
    }
   ],
   "source": [
    "#1 BFS Data\n",
    "kolom=[\n",
    "    'source_taxon_external_id',\n",
    "    'source_taxon_name',\n",
    "    'source_taxon_path',\n",
    "    'source_taxon_path_ids',\n",
    "    'source_taxon_path_ranks',\n",
    "    \n",
    "    'interaction_type',\n",
    "    \n",
    "    'target_taxon_external_id',\n",
    "    'target_taxon_name',\n",
    "    'target_taxon_path',\n",
    "    'target_taxon_path_ids',\n",
    "    'target_taxon_path_ranks',\n",
    "]\n",
    "\n",
    "interactionType=tipe_interaksi_virus\n",
    "print('layer 1 pertama',virus_search[0][1].split('_'))\n",
    "link=\"https://api.globalbioticinteractions.org/interaction?sourceTaxon=\"+virus_search[0][1].split('_')[0]+\"&interactionType=\"+interactionType+\"&fields=\"+(','.join(kolom))\n",
    "response = requests.get(link)\n",
    "res=response.json()\n",
    "if not res['data']:\n",
    "    print(virus_search, ': kosong dari GloBI')\n",
    "# JSON To Pandas Dataframe\n",
    "df = pd.json_normalize(res, record_path =['data'])\n",
    "\n",
    "if(len(virus_search) == 1):\n",
    "    pass\n",
    "elif(virus_search[1][0] not in ['famili','genus']):\n",
    "    pass\n",
    "else:\n",
    "    print('layer 1 kedua',virus_search[1][1].split('_')) # yg kedua dari famili atau genusnya.\n",
    "    link=\"https://api.globalbioticinteractions.org/interaction?sourceTaxon=\"+virus_search[1][1].split('_')[0]+\"&interactionType=\"+interactionType+\"&fields=\"+(','.join(kolom))\n",
    "    response = requests.get(link)\n",
    "    res=response.json()\n",
    "    if not res['data']:\n",
    "        print('kosong')\n",
    "    # JSON To Pandas Dataframe\n",
    "    df_ = pd.json_normalize(res, record_path =['data'])\n",
    "    df=pd.concat([df,df_],ignore_index=True)\n",
    "\n",
    "df.columns = kolom"
   ]
  },
  {
   "cell_type": "code",
   "execution_count": 222,
   "id": "74c5975e",
   "metadata": {},
   "outputs": [],
   "source": [
    "#2 splitting layer 1 interaksi virus\n",
    "df_node, df_edge = splitInteractionToNodeEdge(df)"
   ]
  },
  {
   "cell_type": "code",
   "execution_count": 223,
   "id": "3b2b1cbf",
   "metadata": {},
   "outputs": [
    {
     "name": "stdout",
     "output_type": "stream",
     "text": [
      "removeNodeAndEdgeByFilter\n",
      "sebelum : 514 505\n",
      "sesudah : 513 504\n"
     ]
    }
   ],
   "source": [
    "# cleaning_after_split layer 1 interaksi virus\n",
    "# drop duplikat\n",
    "df_node.drop_duplicates(inplace=True)\n",
    "# no_ncbi dan path_null\n",
    "no_ncbi_and_path_null=(df_node.taxon_id.str.contains('NCBI')==False) & (df_node.taxon_path_ids.isnull())\n",
    "df_node,df_edge = removeNodeAndEdgeByFilter(df_node[no_ncbi_and_path_null], df_node,df_edge) \n",
    "# drop duplikat\n",
    "df_edge.drop_duplicates(inplace=True)"
   ]
  },
  {
   "cell_type": "code",
   "execution_count": 224,
   "id": "f4bf35b6",
   "metadata": {},
   "outputs": [
    {
     "name": "stderr",
     "output_type": "stream",
     "text": [
      "/var/folders/b9/v73gyxys1djbgjy3c8c3cfwm0000gn/T/ipykernel_39174/4200609836.py:3: UserWarning:\n",
      "\n",
      "This pattern is interpreted as a regular expression, and has match groups. To actually get the groups, use str.extract.\n",
      "\n",
      "/var/folders/b9/v73gyxys1djbgjy3c8c3cfwm0000gn/T/ipykernel_39174/4200609836.py:4: UserWarning:\n",
      "\n",
      "This pattern is interpreted as a regular expression, and has match groups. To actually get the groups, use str.extract.\n",
      "\n"
     ]
    }
   ],
   "source": [
    "# tandai virus utama\n",
    "filter_virus_utama=(\n",
    "    (df_node.taxon_name.str.contains(r'\\b(virus\\w*|\\w*virus)\\b',case=False))\n",
    "    | (df_node.taxon_path.str.contains(r'\\b(virus\\w*|\\w*virus)\\b', case=False))  \n",
    "    #jika berawalan atau berakhiran kata virus\n",
    ")\n",
    "# df_node.loc[filter_virus_utama, ['virus_utama']] = True\n",
    "virus_utama=[data.taxon_id for idx,data in df_node[filter_virus_utama].iterrows()]"
   ]
  },
  {
   "cell_type": "code",
   "execution_count": 225,
   "id": "14c597fb",
   "metadata": {},
   "outputs": [
    {
     "name": "stdout",
     "output_type": "stream",
     "text": [
      "['GBIF', 'EOL', 'EOL_V2'] 3  database,  3  kali perulangan akses NCBI\n",
      "GBIF : jumlah id 53\n"
     ]
    },
    {
     "name": "stderr",
     "output_type": "stream",
     "text": [
      "100%|██████████| 46/46 [00:00<00:00, 209943.40it/s]\n"
     ]
    },
    {
     "name": "stdout",
     "output_type": "stream",
     "text": [
      "EOL : jumlah id 99\n"
     ]
    },
    {
     "name": "stderr",
     "output_type": "stream",
     "text": [
      "100%|██████████| 92/92 [00:00<00:00, 436018.04it/s]\n"
     ]
    },
    {
     "name": "stdout",
     "output_type": "stream",
     "text": [
      "EOL_V2 : jumlah id 22\n"
     ]
    },
    {
     "name": "stderr",
     "output_type": "stream",
     "text": [
      "100%|██████████| 5/5 [00:00<00:00, 113359.57it/s]\n"
     ]
    }
   ],
   "source": [
    "#3 disambiguasi layer 1 interaksi virus\n",
    "kamus_ncbi = buat_kamus_kosong(df_node)\n",
    "kamus_ncbi = update_kamus_pake_wikidata(kamus_ncbi)\n",
    "#update dataframe pake kamus\n",
    "df_node,df_edge = update_df_pake_kamus(kamus_ncbi,df_node,df_edge)\n",
    "df_node,df_edge = update_df_pake_path_ujung(df_node,df_edge)\n",
    "#tambah kolom takson pake data NCBI\n",
    "df_node = buat_kolom_taxon_awal(df_node) #buat kolom taxon, default none\n",
    "df_node = addTaxonColumn(df_node,'http://localhost:3030/mydataset/query') # isi pake ncbi"
   ]
  },
  {
   "cell_type": "code",
   "execution_count": 226,
   "id": "58406856",
   "metadata": {},
   "outputs": [
    {
     "name": "stdout",
     "output_type": "stream",
     "text": [
      "removeOtherThanNCBI\n",
      "sebelum : 513 504\n",
      "sesudah : 513 504\n",
      "removeEdgesNotInNodes\n",
      "sebelum :  504\n",
      "sesudah :  504\n",
      "removeNodeAndEdgeByFilter\n",
      "sebelum : 513 504\n",
      "sesudah : 512 503\n"
     ]
    }
   ],
   "source": [
    "# cleaning_after_disambiguasi layer 1\n",
    "df_node, df_edge = removeOtherThanNCBI(df_node,df_edge)# Hapus kalo masih ada selain NCBI\n",
    "df_edge = removeEdgesNotInNodes(df_node, df_edge) #hapus edge yang tidak ada nodenya\n",
    "filter_kingdom_atau_class_null=( (df_node.kingdom.isnull()) | (df_node['class'].isnull()) )\n",
    "df_node,df_edge = removeNodeAndEdgeByFilter(df_node[filter_kingdom_atau_class_null], df_node,df_edge)"
   ]
  },
  {
   "cell_type": "code",
   "execution_count": 227,
   "id": "41e820c1",
   "metadata": {},
   "outputs": [
    {
     "name": "stderr",
     "output_type": "stream",
     "text": [
      "100%|██████████| 176/176 [13:51<00:00,  4.73s/it] \n"
     ]
    }
   ],
   "source": [
    "#4.1 BFS interaksi tanaman\n",
    "df_to_add=pd.DataFrame(columns = kolom)\n",
    "df_plant=df_node[df_node.kingdom=='NCBI:33090_Viridiplantae']\n",
    "interactionType=tipe_interaksi_tanaman\n",
    "for idx,i in tqdm(df_plant.iterrows(), total=df_plant.shape[0]):\n",
    "    search=i.taxon_name.replace(' ','%20')\n",
    "    # print('depth 2 tanaman :', search)\n",
    "    link=\"https://api.globalbioticinteractions.org/interaction?sourceTaxon=\"+search+\"&interactionType=\"+interactionType+\"&fields=\"+(','.join(kolom))\n",
    "    response = requests.get(link)\n",
    "    res=response.json()\n",
    "    if not res['data']:\n",
    "        print(i.taxon_name, ': kosong dari GloBI')\n",
    "        continue\n",
    "    # JSON To Pandas Dataframe\n",
    "    temp_to_add=pd.json_normalize(res, record_path =['data'])\n",
    "    temp_to_add.columns = kolom\n",
    "    # add to sebelumnya\n",
    "    df_to_add = pd.concat([\n",
    "        df_to_add,\n",
    "        temp_to_add\n",
    "    ], ignore_index = True)"
   ]
  },
  {
   "cell_type": "code",
   "execution_count": null,
   "id": "d028121c",
   "metadata": {},
   "outputs": [],
   "source": [
    "df_to_add.shape"
   ]
  },
  {
   "cell_type": "code",
   "execution_count": 209,
   "id": "0ca11efd",
   "metadata": {},
   "outputs": [
    {
     "name": "stderr",
     "output_type": "stream",
     "text": [
      "100%|██████████| 1/1 [00:02<00:00,  2.19s/it]\n"
     ]
    }
   ],
   "source": [
    "#4.2 BFS interaksi serangga -> tanaman\n",
    "df_insect = df_node[df_node['class']=='NCBI:50557_Insecta']\n",
    "interactionType = tipe_interaksi_serangga_ke_tanaman\n",
    "for idx,i in tqdm(df_insect.iterrows(), total=df_insect.shape[0]):\n",
    "    search=i.taxon_name.replace(' ','%20')\n",
    "    # print('depth 2 tanaman :', search)\n",
    "    link=\"https://api.globalbioticinteractions.org/interaction?sourceTaxon=\"+search+\"&interactionType=\"+interactionType+\"&fields=\"+(','.join(kolom))\n",
    "    response = requests.get(link)\n",
    "    res=response.json()\n",
    "    if not res['data']:\n",
    "        print(i.taxon_name, ': kosong dari GloBI')\n",
    "        continue\n",
    "    # JSON To Pandas Dataframe\n",
    "    temp_to_add=pd.json_normalize(res, record_path =['data'])\n",
    "    temp_to_add.columns = kolom\n",
    "    # add to sebelumnya\n",
    "    df_to_add = pd.concat([\n",
    "        df_to_add,\n",
    "        temp_to_add\n",
    "    ], ignore_index = True)\n"
   ]
  },
  {
   "cell_type": "code",
   "execution_count": 210,
   "id": "2f92f119",
   "metadata": {},
   "outputs": [
    {
     "name": "stderr",
     "output_type": "stream",
     "text": [
      "100%|██████████| 1/1 [00:02<00:00,  2.45s/it]\n"
     ]
    }
   ],
   "source": [
    "#4.3 BFS interaksi serangga -> virus\n",
    "df_insect = df_node[df_node['class']=='NCBI:50557_Insecta']\n",
    "interactionType = tipe_interaksi_serangga_ke_virus\n",
    "for idx,i in tqdm(df_insect.iterrows(), total=df_insect.shape[0]):\n",
    "    search=i.taxon_name.replace(' ','%20')\n",
    "    # print('depth 2 tanaman :', search)\n",
    "    link=\"https://api.globalbioticinteractions.org/interaction?sourceTaxon=\"+search+\"&interactionType=\"+interactionType+\"&fields=\"+(','.join(kolom))\n",
    "    response = requests.get(link)\n",
    "    res=response.json()\n",
    "    if not res['data']:\n",
    "        print(i.taxon_name, ': kosong dari GloBI')\n",
    "        continue\n",
    "    # JSON To Pandas Dataframe\n",
    "    temp_to_add=pd.json_normalize(res, record_path =['data'])\n",
    "    temp_to_add.columns = kolom\n",
    "    # add to sebelumnya\n",
    "    df_to_add = pd.concat([\n",
    "        df_to_add,\n",
    "        temp_to_add\n",
    "    ], ignore_index = True)"
   ]
  },
  {
   "cell_type": "code",
   "execution_count": 211,
   "id": "502fc7ed",
   "metadata": {},
   "outputs": [],
   "source": [
    "#5 splitting depth 2 interaksi serangga dan tanaman\n",
    "node_to_add, edge_to_add = splitInteractionToNodeEdge(df_to_add)"
   ]
  },
  {
   "cell_type": "code",
   "execution_count": 212,
   "id": "85c87c58",
   "metadata": {},
   "outputs": [
    {
     "data": {
      "text/plain": [
       "(50782, 11)"
      ]
     },
     "execution_count": 212,
     "metadata": {},
     "output_type": "execute_result"
    }
   ],
   "source": [
    "df_to_add.shape"
   ]
  },
  {
   "cell_type": "code",
   "execution_count": 213,
   "id": "09795b12",
   "metadata": {},
   "outputs": [
    {
     "name": "stdout",
     "output_type": "stream",
     "text": [
      "node_to_add.drop_duplicates\n",
      "10627 17648\n",
      "removeNodeAndEdgeByFilter\n",
      "sebelum : 10627 17648\n",
      "sesudah : 8770 16285\n",
      "edge_to_add.drop_duplicates\n",
      "8770 16242\n"
     ]
    }
   ],
   "source": [
    "# cleaning_after_split depth 2 interaksi serangga dan tanaman\n",
    "\n",
    "# hapus edge inverse\n",
    "kebalikan={\n",
    "    'hostOf':'hasHost',\n",
    "    'hasPathogen':'pathogenOf', \n",
    "    'pollinatedBy':'pollinates', \n",
    "    'flowersVisitedBy':'visitFlowersOf',\n",
    "    'visitedBy':'visit'\n",
    "}\n",
    "for i,data in  edge_to_add[edge_to_add['interaction_type'].isin([\n",
    "    'hostOf', 'hasPathogen', 'pollinatedBy', 'flowersVisitedBy','visitedBy'\n",
    "    ])].iterrows():\n",
    "    edge_to_add.iloc[i]['interaction_type']=kebalikan[data['interaction_type']]\n",
    "    edge_to_add.iloc[i]['source_taxon_id']=data['target_taxon_id']\n",
    "    edge_to_add.iloc[i]['target_taxon_id']=data['source_taxon_id']\n",
    "\n",
    "# drop duplikat\n",
    "print('node_to_add.drop_duplicates')\n",
    "node_to_add.drop_duplicates(inplace=True)\n",
    "print(len(node_to_add),len(edge_to_add))\n",
    "\n",
    "# hapus no_ncbi_and_path_null\n",
    "no_ncbi_and_path_null=(node_to_add.taxon_id.str.contains('NCBI')==False) & (node_to_add.taxon_path_ids.isnull())\n",
    "node_to_add,edge_to_add = removeNodeAndEdgeByFilter(node_to_add[no_ncbi_and_path_null], node_to_add,edge_to_add) \n",
    "\n",
    "# hapus edge duplikat\n",
    "print('edge_to_add.drop_duplicates')\n",
    "edge_to_add.drop_duplicates(inplace=True)\n",
    "print(len(node_to_add),len(edge_to_add))"
   ]
  },
  {
   "cell_type": "code",
   "execution_count": 214,
   "id": "a0c3cb54",
   "metadata": {},
   "outputs": [
    {
     "name": "stdout",
     "output_type": "stream",
     "text": [
      "['EOL', 'GBIF', 'ALATaxon', 'EOL_V2', 'IRMNG', 'IF', 'NBN', 'ITIS', 'WD', 'gid', 'INAT_TAXON', 'https', 'COL', 'PBDB', 'BOLDTaxon', 'WORMS', 'batbase', 'batplant'] 18  database,  18  kali perulangan akses NCBI\n",
      "EOL : jumlah id 4462\n",
      "EOL : query terlalu panjang, dilakukan chunk\n"
     ]
    },
    {
     "name": "stderr",
     "output_type": "stream",
     "text": [
      "100%|██████████| 112/112 [00:00<00:00, 1010240.96it/s]\n",
      "100%|██████████| 113/113 [00:00<00:00, 621174.77it/s]\n",
      "100%|██████████| 107/107 [00:00<00:00, 1150744.94it/s]\n",
      "100%|██████████| 122/122 [00:00<00:00, 1401931.75it/s]\n",
      "100%|██████████| 107/107 [00:00<00:00, 1203191.76it/s]\n",
      "100%|██████████| 99/99 [00:00<00:00, 1150238.49it/s]\n",
      "100%|██████████| 117/117 [00:00<00:00, 1456182.69it/s]\n",
      "100%|██████████| 115/115 [00:00<00:00, 566132.58it/s]\n",
      "100%|██████████| 113/113 [00:00<00:00, 1467357.13it/s]\n",
      "100%|██████████| 114/114 [00:00<00:00, 1310001.80it/s]\n",
      "100%|██████████| 113/113 [00:00<00:00, 1117821.58it/s]\n",
      "100%|██████████| 113/113 [00:00<00:00, 1298510.55it/s]\n",
      "100%|██████████| 114/114 [00:00<00:00, 1281905.24it/s]\n",
      "100%|██████████| 120/120 [00:00<00:00, 311651.07it/s]\n",
      "100%|██████████| 112/112 [00:00<00:00, 1256048.26it/s]\n",
      "100%|██████████| 123/123 [00:00<00:00, 1128882.70it/s]\n",
      "100%|██████████| 119/119 [00:00<00:00, 1338129.16it/s]\n",
      "100%|██████████| 112/112 [00:00<00:00, 192683.37it/s]\n",
      "100%|██████████| 100/100 [00:00<00:00, 1263344.58it/s]\n",
      "100%|██████████| 111/111 [00:00<00:00, 1169768.20it/s]\n",
      "100%|██████████| 121/121 [00:00<00:00, 1246955.24it/s]\n",
      "100%|██████████| 121/121 [00:00<00:00, 1177519.22it/s]\n",
      "100%|██████████| 114/114 [00:00<00:00, 1189429.49it/s]\n",
      "100%|██████████| 113/113 [00:00<00:00, 1215272.70it/s]\n",
      "100%|██████████| 112/112 [00:00<00:00, 966588.58it/s]\n",
      "100%|██████████| 115/115 [00:00<00:00, 1339847.11it/s]\n",
      "100%|██████████| 104/104 [00:00<00:00, 904995.05it/s]\n",
      "100%|██████████| 109/109 [00:00<00:00, 1070677.13it/s]\n",
      "100%|██████████| 108/108 [00:00<00:00, 883011.37it/s]\n",
      "100%|██████████| 112/112 [00:00<00:00, 1001624.84it/s]\n",
      "100%|██████████| 111/111 [00:00<00:00, 1337838.34it/s]\n",
      "100%|██████████| 115/115 [00:00<00:00, 1262683.14it/s]\n",
      "100%|██████████| 111/111 [00:00<00:00, 1261701.20it/s]\n",
      "100%|██████████| 115/115 [00:00<00:00, 1265997.27it/s]\n",
      "100%|██████████| 38/38 [00:00<00:00, 744782.95it/s]\n"
     ]
    },
    {
     "name": "stdout",
     "output_type": "stream",
     "text": [
      "GBIF : jumlah id 5818\n",
      "GBIF : query terlalu panjang, dilakukan chunk\n"
     ]
    },
    {
     "name": "stderr",
     "output_type": "stream",
     "text": [
      "100%|██████████| 123/123 [00:00<00:00, 1243131.07it/s]\n",
      "100%|██████████| 117/117 [00:00<00:00, 1464876.32it/s]\n",
      "100%|██████████| 119/119 [00:00<00:00, 1434259.13it/s]\n",
      "100%|██████████| 104/104 [00:00<00:00, 1402596.84it/s]\n",
      "100%|██████████| 112/112 [00:00<00:00, 1398101.33it/s]\n",
      "100%|██████████| 117/117 [00:00<00:00, 1359372.76it/s]\n",
      "100%|██████████| 109/109 [00:00<00:00, 1415415.28it/s]\n",
      "100%|██████████| 117/117 [00:00<00:00, 443300.42it/s]\n",
      "100%|██████████| 112/112 [00:00<00:00, 476432.10it/s]\n",
      "100%|██████████| 117/117 [00:00<00:00, 1001497.08it/s]\n",
      "100%|██████████| 118/118 [00:00<00:00, 826256.88it/s]\n",
      "100%|██████████| 115/115 [00:00<00:00, 1439835.70it/s]\n",
      "100%|██████████| 116/116 [00:00<00:00, 1448033.52it/s]\n",
      "100%|██████████| 114/114 [00:00<00:00, 958217.75it/s]\n",
      "100%|██████████| 117/117 [00:00<00:00, 1443334.02it/s]\n",
      "100%|██████████| 119/119 [00:00<00:00, 1214409.19it/s]\n",
      "100%|██████████| 121/121 [00:00<00:00, 1405847.05it/s]\n",
      "100%|██████████| 116/116 [00:00<00:00, 1304394.81it/s]\n",
      "100%|██████████| 105/105 [00:00<00:00, 1265522.76it/s]\n",
      "100%|██████████| 112/112 [00:00<00:00, 1276527.30it/s]\n",
      "100%|██████████| 114/114 [00:00<00:00, 1373996.14it/s]\n",
      "100%|██████████| 118/118 [00:00<00:00, 1216039.00it/s]\n",
      "100%|██████████| 108/108 [00:00<00:00, 1258291.20it/s]\n",
      "100%|██████████| 106/106 [00:00<00:00, 1605040.52it/s]\n",
      "100%|██████████| 121/121 [00:00<00:00, 1458364.32it/s]\n",
      "100%|██████████| 118/118 [00:00<00:00, 1551498.03it/s]\n",
      "100%|██████████| 113/113 [00:00<00:00, 1190845.11it/s]\n",
      "100%|██████████| 111/111 [00:00<00:00, 1541615.05it/s]\n",
      "100%|██████████| 117/117 [00:00<00:00, 1557884.34it/s]\n",
      "100%|██████████| 119/119 [00:00<00:00, 1356310.26it/s]\n",
      "100%|██████████| 111/111 [00:00<00:00, 106537.24it/s]\n",
      "100%|██████████| 107/107 [00:00<00:00, 906647.53it/s]\n",
      "100%|██████████| 109/109 [00:00<00:00, 1433163.44it/s]\n",
      "100%|██████████| 108/108 [00:00<00:00, 1385274.72it/s]\n",
      "100%|██████████| 115/115 [00:00<00:00, 1236781.95it/s]\n",
      "100%|██████████| 116/116 [00:00<00:00, 1158426.82it/s]\n",
      "100%|██████████| 116/116 [00:00<00:00, 1183793.83it/s]\n",
      "100%|██████████| 119/119 [00:00<00:00, 1450936.56it/s]\n",
      "100%|██████████| 122/122 [00:00<00:00, 1437373.84it/s]\n",
      "100%|██████████| 115/115 [00:00<00:00, 1236781.95it/s]\n",
      "100%|██████████| 119/119 [00:00<00:00, 1166173.31it/s]\n",
      "100%|██████████| 118/118 [00:00<00:00, 1033252.34it/s]\n",
      "100%|██████████| 119/119 [00:00<00:00, 1214409.19it/s]\n",
      "100%|██████████| 118/118 [00:00<00:00, 1282196.56it/s]\n",
      "100%|██████████| 90/90 [00:00<00:00, 1084733.79it/s]\n"
     ]
    },
    {
     "name": "stdout",
     "output_type": "stream",
     "text": [
      "ALATaxon : tidak diketahui predikatnya\n",
      "EOL_V2 : jumlah id 805\n",
      "EOL_V2 : query terlalu panjang, dilakukan chunk\n"
     ]
    },
    {
     "name": "stderr",
     "output_type": "stream",
     "text": [
      "100%|██████████| 30/30 [00:00<00:00, 460912.53it/s]\n",
      "100%|██████████| 20/20 [00:00<00:00, 443841.69it/s]\n",
      "100%|██████████| 12/12 [00:00<00:00, 292625.86it/s]\n",
      "100%|██████████| 25/25 [00:00<00:00, 499321.90it/s]\n",
      "100%|██████████| 22/22 [00:00<00:00, 250746.43it/s]\n",
      "100%|██████████| 29/29 [00:00<00:00, 617435.61it/s]\n",
      "100%|██████████| 3/3 [00:00<00:00, 55431.33it/s]\n"
     ]
    },
    {
     "name": "stdout",
     "output_type": "stream",
     "text": [
      "IRMNG : jumlah id 172\n",
      "IRMNG : query terlalu panjang, dilakukan chunk\n"
     ]
    },
    {
     "name": "stderr",
     "output_type": "stream",
     "text": [
      "100%|██████████| 108/108 [00:00<00:00, 1176583.98it/s]\n",
      "100%|██████████| 41/41 [00:00<00:00, 343932.93it/s]\n"
     ]
    },
    {
     "name": "stdout",
     "output_type": "stream",
     "text": [
      "IF : tidak diketahui predikatnya\n",
      "NBN : jumlah id 161\n",
      "NBN : query terlalu panjang, dilakukan chunk\n"
     ]
    },
    {
     "name": "stderr",
     "output_type": "stream",
     "text": [
      "100%|██████████| 99/99 [00:00<00:00, 1239510.73it/s]\n",
      "100%|██████████| 31/31 [00:00<00:00, 778583.38it/s]\n"
     ]
    },
    {
     "name": "stdout",
     "output_type": "stream",
     "text": [
      "ITIS : jumlah id 185\n",
      "ITIS : query terlalu panjang, dilakukan chunk\n"
     ]
    },
    {
     "name": "stderr",
     "output_type": "stream",
     "text": [
      "100%|██████████| 126/126 [00:00<00:00, 1416842.64it/s]\n",
      "100%|██████████| 53/53 [00:00<00:00, 962329.49it/s]\n"
     ]
    },
    {
     "name": "stdout",
     "output_type": "stream",
     "text": [
      "WD : jumlah id 19\n"
     ]
    },
    {
     "name": "stderr",
     "output_type": "stream",
     "text": [
      "100%|██████████| 17/17 [00:00<00:00, 424423.62it/s]\n"
     ]
    },
    {
     "name": "stdout",
     "output_type": "stream",
     "text": [
      "gid : tidak diketahui predikatnya\n",
      "INAT_TAXON : jumlah id 116\n"
     ]
    },
    {
     "name": "stderr",
     "output_type": "stream",
     "text": [
      "100%|██████████| 95/95 [00:00<00:00, 855061.97it/s]\n"
     ]
    },
    {
     "name": "stdout",
     "output_type": "stream",
     "text": [
      "https : tidak diketahui predikatnya\n",
      "COL : jumlah id 79\n"
     ]
    },
    {
     "name": "stderr",
     "output_type": "stream",
     "text": [
      "100%|██████████| 69/69 [00:00<00:00, 967916.31it/s]\n"
     ]
    },
    {
     "name": "stdout",
     "output_type": "stream",
     "text": [
      "PBDB : tidak diketahui predikatnya\n",
      "BOLDTaxon : tidak diketahui predikatnya\n",
      "WORMS : tidak diketahui predikatnya\n",
      "batbase : tidak diketahui predikatnya\n",
      "batplant : tidak diketahui predikatnya\n"
     ]
    }
   ],
   "source": [
    "# 6 disambiguasi layer 2\n",
    "kamus_ncbi = buat_kamus_kosong(node_to_add)\n",
    "kamus_ncbi = update_kamus_pake_wikidata(kamus_ncbi)\n",
    "#update dataframe pake kamus\n",
    "node_to_add,edge_to_add = update_df_pake_kamus(kamus_ncbi,node_to_add,edge_to_add)\n",
    "node_to_add,edge_to_add = update_df_pake_path_ujung(node_to_add, edge_to_add)\n",
    "# tambah kolom takson pake data NCBI\n",
    "node_to_add = buat_kolom_taxon_awal(node_to_add) #buat kolom taxon, isi none dan isi dari path\n",
    "node_to_add = addTaxonColumn(node_to_add,'http://localhost:3030/mydataset/query') #isi kolom taxon, pake NCBI"
   ]
  },
  {
   "cell_type": "code",
   "execution_count": 215,
   "id": "1b8c754d",
   "metadata": {},
   "outputs": [
    {
     "name": "stdout",
     "output_type": "stream",
     "text": [
      "dict_keys(['EOL', 'GBIF', 'ALATaxon', 'EOL_V2', 'IRMNG', 'IF', 'NBN', 'ITIS', 'WD', 'gid', 'INAT_TAXON', 'https', 'COL', 'PBDB', 'BOLDTaxon', 'WORMS', 'batbase', 'batplant'])\n",
      "key    12892\n",
      "val    12892\n",
      "dtype: int64\n",
      "key    7697\n",
      "val    7697\n",
      "dtype: int64\n"
     ]
    }
   ],
   "source": [
    "#untuk laporan\n",
    "#kode database\n",
    "print(kamus_ncbi.keys())\n",
    "\n",
    "key=[]\n",
    "val=[]\n",
    "for i in kamus_ncbi:\n",
    "    key.extend(list(kamus_ncbi[i].keys()))\n",
    "    val.extend(list(kamus_ncbi[i].values()))\n",
    "    \n",
    "df_kamus=pd.DataFrame({'key':key,'val':val})\n",
    "\n",
    "# csv\n",
    "# df_kamus.to_csv('output.xlsx', index=False)\n",
    "\n",
    "# semua \n",
    "print(df_kamus.count())\n",
    "# yang kosong\n",
    "# df_kamus[(df_kamus.val != '') & (df_kamus.key.str.contains(\"NBN\"))]\n",
    "print(df_kamus[(df_kamus.val != '')].count())"
   ]
  },
  {
   "cell_type": "code",
   "execution_count": 216,
   "id": "fe629f64",
   "metadata": {},
   "outputs": [
    {
     "name": "stdout",
     "output_type": "stream",
     "text": [
      "removeOtherThanNCBI\n",
      "sebelum : 8770 16242\n",
      "sesudah : 8260 15133\n"
     ]
    }
   ],
   "source": [
    "# cleaning_after_disambiguasi depth 2\n",
    "node_to_add,edge_to_add = removeOtherThanNCBI(node_to_add,edge_to_add) #hapus selain NCBI"
   ]
  },
  {
   "cell_type": "code",
   "execution_count": null,
   "id": "75915d0f",
   "metadata": {},
   "outputs": [],
   "source": [
    "#7 konkatenasi tabel\n",
    "df_node=pd.concat([df_node,node_to_add], axis=0, ignore_index=True)\n",
    "df_edge=pd.concat([df_edge,edge_to_add], axis=0, ignore_index=True)"
   ]
  },
  {
   "cell_type": "code",
   "execution_count": null,
   "id": "5e8f0bd1",
   "metadata": {},
   "outputs": [],
   "source": [
    "# praproses tambahan\n",
    "\n",
    "# hapus duplikat\n",
    "df_node.drop_duplicates(inplace=True)\n",
    "df_edge.drop_duplicates(inplace=True)\n",
    "\n",
    "# pengelompokan\n",
    "# Binning of the data based on serangga, virus, tanaman, nogroup\n",
    "filter_tanaman = df_node['kingdom']=='NCBI:33090_Viridiplantae' \n",
    "filter_virus = (\n",
    "    (df_node['superkingdom']=='NCBI:10239_Viruses')\n",
    "    | (df_node.taxon_name.str.contains(r'\\b(virus\\w*|\\w*virus)\\b',case=False))\n",
    "    | (df_node.taxon_path.str.contains(r'\\b(virus\\w*|\\w*virus)\\b', case=False)) \n",
    "    #jika berawalan atau berakhiran kata virus\n",
    ")\n",
    "filter_serangga = ((df_node['class']=='NCBI:50557_Insecta') )#& (df_node['order']!='NCBI:7399_Hymenoptera')) #dan bukan lebah hymenoptera\n",
    "\n",
    "df_node.loc[filter_tanaman, ['group','color']] = [\"tanaman\",'#1f922b'] #hijau\n",
    "df_node.loc[filter_virus, ['group','color']] = ['virus','#671f92'] #ungu\n",
    "df_node.loc[filter_serangga, ['group','color']] = ['serangga','#b22222'] #merah\n",
    "df_node.loc[(\n",
    "    (filter_tanaman==False) & \n",
    "    (filter_virus==False) &\n",
    "    (filter_serangga==False) \n",
    "    ),['group','color']] = ['nogroup','#EADDCA'] #abu-abu"
   ]
  },
  {
   "cell_type": "code",
   "execution_count": null,
   "id": "c4efb464",
   "metadata": {},
   "outputs": [],
   "source": [
    "# cleaning setelah pengelompokan, sebelum konversi graf\n",
    "# hapus node yang ordo sampai specie isi null\n",
    "filter_ordo_sampai_species_null=(\n",
    "    (df_node.order.isnull()) & \n",
    "    (df_node.family.isnull()) & \n",
    "    (df_node.genus.isnull()) &\n",
    "    (df_node.species.isnull())\n",
    ")\n",
    "df_node,df_edge = removeNodeAndEdgeByFilter(df_node[filter_ordo_sampai_species_null], df_node,df_edge)\n",
    "\n",
    "# hapus duplikasi\n",
    "df_node.drop_duplicates(subset=[\"taxon_id\"], keep='last',inplace=True)\n",
    "df_edge = removeEdgesNotInNodes(df_node, df_edge)#edge menyesuaikan\n",
    "\n",
    "# hapus kingdom isi null\n",
    "df_node,df_edge = removeNodeAndEdgeByFilter(df_node[(df_node.kingdom.isnull()) & (df_node.group!='virus')], df_node,df_edge) \n",
    "df_edge = removeEdgesNotInNodes(df_node, df_edge) #edge menyesuaikan #cuma memastikan saja\n",
    "\n",
    "# 13 # hapus yang no group\n",
    "df_node,df_edge = removeNodeAndEdgeByFilter(df_node[df_node.group==\"nogroup\"], df_node,df_edge) \n",
    "df_edge = removeEdgesNotInNodes(df_node, df_edge) #edge menyesuaikan #cuma memastikan saja\n",
    "\n",
    "#14 # hapus node yang tidak punya edge\n",
    "print('hapus node yang tidak ada di edge (tidak punya edge)')\n",
    "print('sebelum',len(df_node))\n",
    "df_node = df_node[\n",
    "    (df_node.taxon_id.isin(df_edge.source_taxon_id.unique())) \n",
    "    | (df_node.taxon_id.isin(df_edge.target_taxon_id.unique()))\n",
    "]\n",
    "print('sesudah',len(df_node))\n",
    "\n",
    "#reset index\n",
    "df_node.reset_index(drop=True)\n",
    "\n",
    "# masukan tanda virus utama\n",
    "df_node.loc[df_node.taxon_id.isin(virus_utama), ['virus_utama']] = True\n",
    "\n",
    "print(df_node.shape, df_edge.shape)"
   ]
  },
  {
   "cell_type": "code",
   "execution_count": null,
   "id": "369ec9a0",
   "metadata": {},
   "outputs": [],
   "source": [
    "# akhir pra proses\n",
    "# save file\n",
    "df_edge.reset_index(drop=True,inplace=True)\n",
    "df_node.reset_index(drop=True,inplace=True)\n",
    "df_node.to_csv(os.getcwd()+'/dari_praproses/'+nama_file+'_node.csv')\n",
    "df_edge.to_csv(os.getcwd()+'/dari_praproses/'+nama_file+'_edge.csv')"
   ]
  },
  {
   "cell_type": "code",
   "execution_count": null,
   "id": "9fd8b6b0",
   "metadata": {},
   "outputs": [],
   "source": []
  },
  {
   "cell_type": "code",
   "execution_count": null,
   "id": "4c7cf860",
   "metadata": {},
   "outputs": [],
   "source": []
  },
  {
   "cell_type": "code",
   "execution_count": null,
   "id": "fe5c33c6",
   "metadata": {},
   "outputs": [],
   "source": []
  },
  {
   "cell_type": "code",
   "execution_count": null,
   "id": "97de81ad",
   "metadata": {},
   "outputs": [],
   "source": []
  },
  {
   "attachments": {},
   "cell_type": "markdown",
   "id": "dc6c3f49",
   "metadata": {},
   "source": [
    "# Dibawah ini tidak masuk pra proses"
   ]
  },
  {
   "cell_type": "code",
   "execution_count": null,
   "id": "4907b86a",
   "metadata": {},
   "outputs": [],
   "source": [
    "import pandas as pd"
   ]
  },
  {
   "cell_type": "code",
   "execution_count": null,
   "id": "f35fbf27",
   "metadata": {},
   "outputs": [],
   "source": [
    "df_node=pd.read_csv('dari_praproses/'+nama_file+'_node.csv',index_col=0) \n",
    "df_edge=pd.read_csv('dari_praproses/'+nama_file+'_edge.csv',index_col=0)"
   ]
  },
  {
   "attachments": {},
   "cell_type": "markdown",
   "id": "44d44dec",
   "metadata": {},
   "source": [
    "## proporsi"
   ]
  },
  {
   "cell_type": "code",
   "execution_count": null,
   "id": "0192acbf",
   "metadata": {},
   "outputs": [],
   "source": [
    "# cuma tampilan\n",
    "import plotly.graph_objects as go\n",
    "\n",
    "data = df_node.groupby(['group','color']).agg({'group': ['count'], }).reset_index().sort_values(\n",
    "    ('group', 'count'),ascending=False\n",
    ").reset_index(drop=True).values\n",
    "labels = [i[0] for i in data]\n",
    "colors = [i[1] for i in data]\n",
    "slices = [i[2] for i in data]\n",
    "\n",
    "fig = go.Figure(data=[go.Pie(labels=labels,values=slices)])\n",
    "fig.update_traces(hoverinfo='label+percent', textinfo='value+percent', textfont_size=20, marker=dict(colors=colors, line=dict(color='#000000', width=0.1)))\n",
    "fig.show()"
   ]
  },
  {
   "cell_type": "code",
   "execution_count": null,
   "id": "bbfae5ce",
   "metadata": {},
   "outputs": [],
   "source": [
    "slices,labels"
   ]
  },
  {
   "cell_type": "code",
   "execution_count": null,
   "id": "cdbcc061",
   "metadata": {},
   "outputs": [],
   "source": []
  },
  {
   "cell_type": "code",
   "execution_count": null,
   "id": "0a2f7f71",
   "metadata": {},
   "outputs": [],
   "source": [
    "import networkx as nx\n",
    "import matplotlib.pyplot as plt\n",
    "\n",
    "#3\n",
    "#konversi graph \n",
    "gnx = nx.MultiDiGraph()\n",
    "#node\n",
    "for i,a in df_node.iterrows():\n",
    "    #mulai disini akan digunakan taksonomi bahasa indonesia pada data.\n",
    "    gnx.add_node(\n",
    "        a['taxon_id'],\n",
    "        label=a['taxon_name'],\n",
    "        superkingdom=a['superkingdom'],\n",
    "        kingdom=a['kingdom'],\n",
    "        filum=a['phylum'],\n",
    "        kelas=a['class'],\n",
    "        ordo=a['order'],\n",
    "        famili=a['family'],\n",
    "        genus=a['genus'],\n",
    "        spesies=a['species'],\n",
    "        group=a['group'],\n",
    "        color=a['color'],\n",
    "    )\n",
    "#edge\n",
    "for i,a in df_edge.iterrows():\n",
    "    gnx.add_edge(\n",
    "        a['source_taxon_id'],\n",
    "        a['target_taxon_id'],\n",
    "        label=a['interaction_type'],\n",
    "    )"
   ]
  },
  {
   "cell_type": "code",
   "execution_count": null,
   "id": "a4c8bc8a",
   "metadata": {},
   "outputs": [],
   "source": [
    "# # cuma tampilan, visualisasi graf\n",
    "# G=gnx\n",
    "\n",
    "# fig, ax = plt.subplots(figsize=(20, 20))\n",
    "\n",
    "# # Generate layout for visualization\n",
    "# # pos = nx.kamada_kawai_layout(G)\n",
    "# # pos = nx.spring_layout(G)\n",
    "# pos = nx.nx_agraph.graphviz_layout(G, prog=\"neato\", args=\"\")\n",
    "\n",
    "# # Visualize graph components\n",
    "# nx.draw_networkx_edges(G, pos, alpha=0.3, edge_color='g')\n",
    "# nx.draw_networkx_nodes(G, pos, node_color=list(nx.get_node_attributes(G, \"color\").values()), alpha=0.9)\n",
    "\n",
    "# #node label\n",
    "# # for i in ['#b22222','#671f92','#1f922b','#EADDCA']: # filtering dengan bedakan warna node\n",
    "# #     label_options = {\"ec\": i, \"fc\": 'white', \"alpha\": 0.7}\n",
    "# #     nx.draw_networkx_labels(\n",
    "# #         nx.subgraph_view(G, filter_node=lambda n1: G.nodes(data=True)[n1].get(\"color\", True) == i),\n",
    "# #         pos, \n",
    "# #         font_size=10, \n",
    "# #         bbox=label_options\n",
    "# #     )\n",
    "\n",
    "# #edge labels\n",
    "# edge_labels={x:i for i,x in zip(nx.get_edge_attributes(G, \"label\").values(),G.edges())}\n",
    "# nx.draw_networkx_edge_labels(G, pos=pos, edge_labels=edge_labels)\n",
    "\n",
    "\n",
    "# # Title/legend\n",
    "# font = {\"fontname\": \"Helvetica\", \"color\": \"k\", \"fontweight\": \"bold\", \"fontsize\": 14}\n",
    "# ax.set_title(\"Interaksi Tanaman-Serangga-Virus\", font)\n",
    "# # Change font color for legend\n",
    "# font[\"color\"] = \"r\"\n",
    "\n",
    "# ax.text(\n",
    "#     0.80,\n",
    "#     0.10,\n",
    "#     \"hijau = Tanaman\",\n",
    "#     horizontalalignment=\"center\",\n",
    "#     transform=ax.transAxes,\n",
    "#     fontdict=font,\n",
    "# )\n",
    "# ax.text(\n",
    "#     0.80,\n",
    "#     0.08,\n",
    "#     \"merah = Serangga\",\n",
    "#     horizontalalignment=\"center\",\n",
    "#     transform=ax.transAxes,\n",
    "#     fontdict=font,\n",
    "# )\n",
    "\n",
    "# ax.text(\n",
    "#     0.80,\n",
    "#     0.06,\n",
    "#     \"ungu = Virus\",\n",
    "#     horizontalalignment=\"center\",\n",
    "#     transform=ax.transAxes,\n",
    "#     fontdict=font,\n",
    "# )\n",
    "\n",
    "# ax.text(\n",
    "#     0.80,\n",
    "#     0.04,\n",
    "#     \"abu-abu = Nogroup\",\n",
    "#     horizontalalignment=\"center\",\n",
    "#     transform=ax.transAxes,\n",
    "#     fontdict=font,\n",
    "# )\n",
    "\n",
    "# # Resize figure for label readibility\n",
    "# ax.margins(0.1, 0.05)\n",
    "# fig.tight_layout()\n",
    "# plt.axis(\"off\")\n",
    "# plt.show()"
   ]
  },
  {
   "cell_type": "code",
   "execution_count": null,
   "id": "ab8ab6be",
   "metadata": {},
   "outputs": [],
   "source": [
    "import plotly.graph_objects as go\n",
    "G=gnx\n",
    "pos = nx.nx_agraph.graphviz_layout(G, prog=\"neato\", args=\"\")\n",
    "edge_x = []\n",
    "edge_y = []\n",
    "for edge in G.edges():\n",
    "    x0, y0 = pos[edge[0]]\n",
    "    x1, y1 = pos[edge[1]]\n",
    "    edge_x.append(x0)\n",
    "    edge_x.append(x1)\n",
    "    edge_x.append(None)\n",
    "    edge_y.append(y0)\n",
    "    edge_y.append(y1)\n",
    "    edge_y.append(None)\n",
    "\n",
    "edge_trace = go.Scatter(\n",
    "    x=edge_x, y=edge_y,\n",
    "    line= {\"width\":0.5, \"color\":'#888'},\n",
    "    hoverinfo='none',\n",
    "    mode='lines')\n",
    "\n",
    "node_x = []\n",
    "node_y = []\n",
    "node_colors = []\n",
    "node_text = []\n",
    "for node,data in G.nodes(data=True):\n",
    "    x, y = pos[node]\n",
    "    node_x.append(x)\n",
    "    node_y.append(y)\n",
    "    node_colors.append(data['color'])\n",
    "    node_text.append(data['label'])\n",
    "\n",
    "node_trace = go.Scatter(\n",
    "    x=node_x, y=node_y,\n",
    "    mode='markers',\n",
    "    hoverinfo='text',\n",
    "    marker={\n",
    "        # 'showscale':True,\n",
    "        # 'colorscale':'Reds',\n",
    "        'reversescale':True,\n",
    "        'color':[],\n",
    "        'size':10,\n",
    "        # 'colorbar':{\n",
    "        #     # 'thickness':15,\n",
    "        #     # 'title':'Node Connections',\n",
    "        #     # 'xanchor':'left',\n",
    "        #     # 'titleside':'right'\n",
    "        # },\n",
    "        'line_width':2   \n",
    "    }\n",
    ")\n",
    "node_trace.marker.color = node_colors\n",
    "node_trace.text = node_text"
   ]
  },
  {
   "cell_type": "code",
   "execution_count": null,
   "id": "07d8d1b3",
   "metadata": {},
   "outputs": [],
   "source": [
    "fig = go.Figure(\n",
    "    data=[edge_trace, node_trace],\n",
    "    layout=go.Layout(\n",
    "        title='Network graph made with Python',\n",
    "        titlefont_size=16,\n",
    "        showlegend=False,\n",
    "        hovermode='closest',\n",
    "        margin={\n",
    "            'b':20,'l':5,'r':5,'t':40\n",
    "        },\n",
    "        annotations=[{\n",
    "            \"text\":\"Insect-virus-plant\",\n",
    "            'showarrow':False,\n",
    "            'xref':\"paper\", \n",
    "            'yref':\"paper\",\n",
    "            'x':0.005, \n",
    "            'y':-0.002 \n",
    "        }],\n",
    "        xaxis={'showgrid':False, 'zeroline':False, 'showticklabels':False},\n",
    "        yaxis={'showgrid':False, 'zeroline':False, 'showticklabels':False}\n",
    "    )\n",
    ")\n",
    "fig.show()"
   ]
  }
 ],
 "metadata": {
  "kernelspec": {
   "display_name": "thesis",
   "language": "python",
   "name": "python3"
  },
  "language_info": {
   "codemirror_mode": {
    "name": "ipython",
    "version": 3
   },
   "file_extension": ".py",
   "mimetype": "text/x-python",
   "name": "python",
   "nbconvert_exporter": "python",
   "pygments_lexer": "ipython3",
   "version": "3.8.16"
  }
 },
 "nbformat": 4,
 "nbformat_minor": 5
}
