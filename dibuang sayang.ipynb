{
 "cells": [
  {
   "cell_type": "markdown",
   "id": "55b7db8a",
   "metadata": {},
   "source": [
    "### Ambil degree tertinggi manual"
   ]
  },
  {
   "cell_type": "code",
   "execution_count": null,
   "id": "a91ce71a",
   "metadata": {},
   "outputs": [],
   "source": [
    "# d_tinggi=sorted(dict(gnx.degree).items(), key=lambda item: item[1],reverse=True)\n",
    "# node_=gnx.nodes\n",
    "\n",
    "# for idncbi,nilai in d_tinggi:\n",
    "#     if node_[idncbi]['group']=='serangga':\n",
    "#         print(node_[idncbi]['label'], nilai)"
   ]
  },
  {
   "cell_type": "code",
   "execution_count": null,
   "id": "6f0aaead",
   "metadata": {},
   "outputs": [],
   "source": [
    "# get node lain Terkait pada suatu node, termasuk koneksi dari koneksi2nya. yg terisolasi yang tidak diget.\n",
    "# gnx.nodes['NCBI:13131']\n",
    "# node2=gnx.nodes\n",
    "# for i in nx.node_connected_component(gnx.to_undirected(), 'NCBI:13131'):\n",
    "#     if(node2[i]['group']==\"virus\"):\n",
    "#         print(node2[i]['label'], '--', node2[i]['group'])"
   ]
  },
  {
   "cell_type": "markdown",
   "id": "a6b51d9c",
   "metadata": {},
   "source": [
    "## Pengujian"
   ]
  },
  {
   "cell_type": "markdown",
   "id": "cb49592a",
   "metadata": {},
   "source": [
    "#### Cek manual"
   ]
  },
  {
   "cell_type": "code",
   "execution_count": null,
   "id": "6713eb84",
   "metadata": {},
   "outputs": [],
   "source": [
    "#data acuan\n",
    "{ k:v for k,v in reversed(data_acuan) }"
   ]
  },
  {
   "cell_type": "code",
   "execution_count": null,
   "id": "662250b1",
   "metadata": {},
   "outputs": [],
   "source": [
    "#hasil\n",
    "allnodes[id_hasil]"
   ]
  },
  {
   "cell_type": "code",
   "execution_count": null,
   "id": "46708c13",
   "metadata": {},
   "outputs": [],
   "source": [
    "acuan_"
   ]
  },
  {
   "cell_type": "code",
   "execution_count": null,
   "id": "107da53e",
   "metadata": {},
   "outputs": [],
   "source": [
    "df_node[df_node.taxon_name.str.contains(acuan_)]"
   ]
  }
 ],
 "metadata": {
  "kernelspec": {
   "display_name": "Python 3 (ipykernel)",
   "language": "python",
   "name": "python3"
  },
  "language_info": {
   "codemirror_mode": {
    "name": "ipython",
    "version": 3
   },
   "file_extension": ".py",
   "mimetype": "text/x-python",
   "name": "python",
   "nbconvert_exporter": "python",
   "pygments_lexer": "ipython3",
   "version": "3.9.16"
  }
 },
 "nbformat": 4,
 "nbformat_minor": 5
}
