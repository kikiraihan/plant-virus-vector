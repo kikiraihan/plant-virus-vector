{
 "cells": [
  {
   "cell_type": "code",
   "execution_count": 53,
   "id": "a2a217cc",
   "metadata": {},
   "outputs": [],
   "source": [
    "# # reset import package\n",
    "# def reloadPackageOwn():\n",
    "#     from importlib import reload  \n",
    "#     import os # we use os.path.join, os.path.basename\n",
    "#     import sys # we use sys.path\n",
    "#     import glob # we use glob.glob\n",
    "#     import importlib # we use importlib.import_module\n",
    "\n",
    "#     import_folder = os.getcwd()\n",
    "#     sys.path.append(import_folder) # this tells python to look in `import_folder` for imports\n",
    "#     for src_file in glob.glob(os.path.join(import_folder, '*.py')):\n",
    "#         name = os.path.basename(src_file)[:-3]\n",
    "#         importlib.import_module(name)\n",
    "#         reload(sys.modules[name])\n",
    "#         importlib.import_module(name)\n",
    "        \n",
    "# reloadPackageOwn()"
   ]
  },
  {
   "cell_type": "markdown",
   "id": "7971edc8",
   "metadata": {},
   "source": [
    "# Dari sini"
   ]
  },
  {
   "cell_type": "code",
   "execution_count": 54,
   "id": "a13a7b39",
   "metadata": {},
   "outputs": [],
   "source": [
    "from standardization import getTaxonomy, addTaxonColumn, buat_kolom_taxon_awal\n",
    "from disambiguation_optimized import buat_kamus_kosong, update_kamus_pake_wikidata, update_df_pake_kamus, update_df_pake_path_ujung\n",
    "\n",
    "import pandas as pd"
   ]
  },
  {
   "cell_type": "code",
   "execution_count": 55,
   "id": "7d067a05",
   "metadata": {},
   "outputs": [],
   "source": [
    "#1\n",
    "#baca data\n",
    "df_node=pd.read_csv('dari_praproses/node_disambiguasi.csv',index_col=0) \n",
    "df_edge=pd.read_csv('dari_praproses/edge_disambiguasi.csv',index_col=0)"
   ]
  },
  {
   "cell_type": "markdown",
   "id": "76f30bbb",
   "metadata": {},
   "source": [
    "## buat kamus"
   ]
  },
  {
   "cell_type": "code",
   "execution_count": 56,
   "id": "c693eb3a",
   "metadata": {},
   "outputs": [],
   "source": [
    "kamus_ncbi=buat_kamus_kosong(df_node)"
   ]
  },
  {
   "cell_type": "code",
   "execution_count": 57,
   "id": "2e9985cf",
   "metadata": {},
   "outputs": [
    {
     "name": "stdout",
     "output_type": "stream",
     "text": [
      "['EOL', 'EOL_V2', 'GBIF', 'NBN'] 4  database,  4  kali perulangan akses NCBI\n",
      "jumlah id 131\n",
      "EOL  query terlalu panjang, dilakukan chunk\n"
     ]
    },
    {
     "name": "stderr",
     "output_type": "stream",
     "text": [
      "100%|███████████████████████████████████████████████████████████████████████████████████████████████████████████████████████████████████████| 112/112 [00:00<00:00, 296941.88it/s]\n",
      "100%|████████████████████████████████████████████████████████████████████████████████████████████████████████████████████████████████████████████| 1/1 [00:00<00:00, 11096.04it/s]\n"
     ]
    },
    {
     "name": "stdout",
     "output_type": "stream",
     "text": [
      "jumlah id 34\n"
     ]
    },
    {
     "name": "stderr",
     "output_type": "stream",
     "text": [
      "100%|██████████████████████████████████████████████████████████████████████████████████████████████████████████████████████████████████████████| 11/11 [00:00<00:00, 98164.56it/s]\n"
     ]
    },
    {
     "name": "stdout",
     "output_type": "stream",
     "text": [
      "jumlah id 108\n"
     ]
    },
    {
     "name": "stderr",
     "output_type": "stream",
     "text": [
      "100%|█████████████████████████████████████████████████████████████████████████████████████████████████████████████████████████████████████████| 93/93 [00:00<00:00, 325329.67it/s]\n"
     ]
    },
    {
     "name": "stdout",
     "output_type": "stream",
     "text": [
      "jumlah id 1\n"
     ]
    },
    {
     "name": "stderr",
     "output_type": "stream",
     "text": [
      "100%|████████████████████████████████████████████████████████████████████████████████████████████████████████████████████████████████████████████| 1/1 [00:00<00:00, 12300.01it/s]\n"
     ]
    }
   ],
   "source": [
    "kamus_ncbi = update_kamus_pake_wikidata(kamus_ncbi)"
   ]
  },
  {
   "cell_type": "code",
   "execution_count": 58,
   "id": "a6f4f22d",
   "metadata": {},
   "outputs": [
    {
     "data": {
      "text/plain": [
       "{'EOL:288': 'NCBI:2',\n",
       " 'EOL:311': 'NCBI:1224',\n",
       " 'EOL:312': 'NCBI:1236',\n",
       " 'EOL:325': 'NCBI:72274',\n",
       " 'EOL:326': 'NCBI:135621',\n",
       " 'EOL:5559': 'NCBI:4751',\n",
       " 'EOL:5577': 'NCBI:4890',\n",
       " 'EOL:2861056': 'NCBI:147548',\n",
       " 'EOL:5623': 'NCBI:5120',\n",
       " 'EOL:5624': 'NCBI:34371',\n",
       " 'EOL:6448232': '',\n",
       " 'EOL:5006': 'NCBI:10239',\n",
       " 'EOL:5019': 'NCBI:10811',\n",
       " 'EOL:67680': 'NCBI:10814',\n",
       " 'EOL:2913056': '',\n",
       " 'EOL:6061725': '',\n",
       " 'EOL:2908256': 'NCBI:2759',\n",
       " 'EOL:2910700': '',\n",
       " 'EOL:1': '',\n",
       " 'EOL:3014411': 'NCBI:33213',\n",
       " 'EOL:10459935': 'NCBI:33317',\n",
       " 'EOL:8880788': 'NCBI:1206794',\n",
       " 'EOL:2715': 'NCBI:6231',\n",
       " 'EOL:2716': 'NCBI:119089',\n",
       " 'EOL:4963454': '',\n",
       " 'EOL:2856335': 'NCBI:211187',\n",
       " 'EOL:2856336': 'NCBI:70243',\n",
       " 'EOL:2856337': 'NCBI:70236',\n",
       " 'EOL:2858320': 'NCBI:147550',\n",
       " 'EOL:5645': 'NCBI:5125',\n",
       " 'EOL:5650': 'NCBI:110618',\n",
       " 'EOL:16364': 'NCBI:5506',\n",
       " 'EOL:5023': 'NCBI:11157',\n",
       " 'EOL:8054': 'NCBI:11270',\n",
       " 'EOL:80638': 'NCBI:11306',\n",
       " 'EOL:5037': 'NCBI:39740',\n",
       " 'EOL:80610': 'NCBI:12316',\n",
       " 'EOL:740908': 'NCBI:12317',\n",
       " 'EOL:5541': '',\n",
       " 'EOL:5719': 'NCBI:4762',\n",
       " 'EOL:5720': '',\n",
       " 'EOL:16534': 'NCBI:4797',\n",
       " 'EOL:5560': '',\n",
       " 'EOL:6335': 'NCBI:4827',\n",
       " 'EOL:6338': 'NCBI:34489',\n",
       " 'EOL:2944808': 'NCBI:4846',\n",
       " 'EOL:2797': '',\n",
       " 'EOL:2843': 'NCBI:2784607',\n",
       " 'EOL:2849': 'NCBI:211158',\n",
       " 'EOL:58642': 'NCBI:46011',\n",
       " 'EOL:460580': 'NCBI:46012',\n",
       " 'EOL:8049': 'NCBI:39729',\n",
       " 'EOL:67565': 'NCBI:12195',\n",
       " 'EOL:540298': 'NCBI:187978',\n",
       " 'EOL:5630': 'NCBI:5178',\n",
       " 'EOL:5643': 'NCBI:28983',\n",
       " 'EOL:16630': 'NCBI:33196',\n",
       " 'EOL:187946': 'NCBI:40559',\n",
       " 'EOL:16720': 'NCBI:5179',\n",
       " 'EOL:161159': 'NCBI:5180',\n",
       " 'EOL:67733': '',\n",
       " 'EOL:540274': 'NCBI:12227',\n",
       " 'EOL:16488': 'NCBI:4783',\n",
       " 'EOL:189195': 'NCBI:4793',\n",
       " 'EOL:80611': 'NCBI:12304',\n",
       " 'EOL:740926': 'NCBI:12313',\n",
       " 'EOL:18550118': '',\n",
       " 'EOL:18550119': '',\n",
       " 'EOL:18550120': '',\n",
       " 'EOL:18550121': '',\n",
       " 'EOL:18877': '',\n",
       " 'EOL:67685': 'NCBI:12176',\n",
       " 'EOL:541107': 'NCBI:12183',\n",
       " 'EOL:203667': 'NCBI:169388',\n",
       " 'EOL:8615187': '',\n",
       " 'EOL:2860895': 'NCBI:147541',\n",
       " 'EOL:5694': 'NCBI:92860',\n",
       " 'EOL:6052': 'NCBI:1689522',\n",
       " 'EOL:21011': 'NCBI:95729',\n",
       " 'EOL:189496': 'NCBI:110364',\n",
       " 'EOL:541071': 'NCBI:172278',\n",
       " 'EOL:540294': 'NCBI:12215',\n",
       " 'EOL:189416': '',\n",
       " 'EOL:97622': 'NCBI:48736',\n",
       " 'EOL:976758': 'NCBI:305',\n",
       " 'EOL:31641': 'NCBI:5106',\n",
       " 'EOL:300732': 'NCBI:27335',\n",
       " 'EOL:540302': 'NCBI:12209',\n",
       " 'EOL:540300': 'NCBI:255066',\n",
       " 'EOL:541032': 'NCBI:223303',\n",
       " 'EOL:9134910': '',\n",
       " 'EOL:18331': 'NCBI:5455',\n",
       " 'EOL:1004648': 'NCBI:4787',\n",
       " 'EOL:16498': 'NCBI:5598',\n",
       " 'EOL:198970': 'NCBI:48100',\n",
       " 'EOL:3213': '',\n",
       " 'EOL:3214': 'NCBI:543',\n",
       " 'EOL:83142': 'NCBI:551',\n",
       " 'EOL:164': 'NCBI:6656',\n",
       " 'EOL:344': 'NCBI:50557',\n",
       " 'EOL:747': 'NCBI:7088',\n",
       " 'EOL:769': 'NCBI:37570',\n",
       " 'EOL:873': 'NCBI:7100',\n",
       " 'EOL:68346': 'NCBI:254717',\n",
       " 'EOL:551690': 'NCBI:749652',\n",
       " 'EOL:67955': 'NCBI:254361',\n",
       " 'EOL:546314': 'NCBI:254363',\n",
       " 'EOL:66050': 'NCBI:7106',\n",
       " 'EOL:533125': 'NCBI:69820',\n",
       " 'EOL:12008312': '',\n",
       " 'EOL:5003390': '',\n",
       " 'EOL:10578120': 'NCBI:197562',\n",
       " 'EOL:2634370': 'NCBI:6960',\n",
       " 'EOL:2765371': '',\n",
       " 'EOL:12024878': '',\n",
       " 'EOL:1327472': 'NCBI:33340',\n",
       " 'EOL:3016961': 'NCBI:33392',\n",
       " 'EOL:10588138': 'NCBI:85604',\n",
       " 'EOL:10591871': 'NCBI:41191',\n",
       " 'EOL:7027213': '',\n",
       " 'EOL:1331575': 'NCBI:41197',\n",
       " 'EOL:3017645': '',\n",
       " 'EOL:913': 'NCBI:37568',\n",
       " 'EOL:914': 'NCBI:7139',\n",
       " 'EOL:2684921': '',\n",
       " 'EOL:2684925': '',\n",
       " 'EOL:47135': 'NCBI:65024',\n",
       " 'EOL:368952': 'NCBI:65032',\n",
       " 'EOL:533123': 'NCBI:7109',\n",
       " 'EOL:57352': 'NCBI:7112',\n",
       " 'EOL:2869488': 'NCBI:29058'}"
      ]
     },
     "execution_count": 58,
     "metadata": {},
     "output_type": "execute_result"
    }
   ],
   "source": [
    "kamus_ncbi['EOL']"
   ]
  },
  {
   "cell_type": "code",
   "execution_count": 6,
   "id": "7848f6cb",
   "metadata": {},
   "outputs": [],
   "source": [
    "#update dataframe pake kamus\n",
    "df_node,df_edge = update_df_pake_kamus(kamus_ncbi,df_node,df_edge)"
   ]
  },
  {
   "cell_type": "code",
   "execution_count": 7,
   "id": "71b9efc9",
   "metadata": {},
   "outputs": [],
   "source": [
    "df_node,df_edge = update_df_pake_path_ujung(df_node, df_edge)"
   ]
  },
  {
   "cell_type": "markdown",
   "id": "eaa91b23",
   "metadata": {},
   "source": [
    "# Standarisasi"
   ]
  },
  {
   "cell_type": "code",
   "execution_count": 8,
   "id": "1a880e00",
   "metadata": {},
   "outputs": [],
   "source": [
    "#buat kolom taxon, default none\n",
    "df_node = buat_kolom_taxon_awal(df_node)"
   ]
  },
  {
   "cell_type": "code",
   "execution_count": 9,
   "id": "00caddca",
   "metadata": {},
   "outputs": [
    {
     "ename": "NameError",
     "evalue": "name 'os' is not defined",
     "output_type": "error",
     "traceback": [
      "\u001b[0;31m---------------------------------------------------------------------------\u001b[0m",
      "\u001b[0;31mNameError\u001b[0m                                 Traceback (most recent call last)",
      "Cell \u001b[0;32mIn[9], line 2\u001b[0m\n\u001b[1;32m      1\u001b[0m \u001b[38;5;66;03m#isi kolom taxon, pake NCBI\u001b[39;00m\n\u001b[0;32m----> 2\u001b[0m ncbi_link \u001b[38;5;241m=\u001b[39m \u001b[43mos\u001b[49m\u001b[38;5;241m.\u001b[39mgetcwd()\u001b[38;5;241m+\u001b[39m\u001b[38;5;124m'\u001b[39m\u001b[38;5;124m/../data/ncbitaxon.owl\u001b[39m\u001b[38;5;124m'\u001b[39m\n\u001b[1;32m      3\u001b[0m onto \u001b[38;5;241m=\u001b[39m get_ontology(ncbi_link)\n\u001b[1;32m      4\u001b[0m onto\u001b[38;5;241m.\u001b[39mload()\n",
      "\u001b[0;31mNameError\u001b[0m: name 'os' is not defined"
     ]
    }
   ],
   "source": [
    "#isi kolom taxon, pake NCBI\n",
    "ncbi_link = os.getcwd()+'/../data/ncbitaxon.owl'\n",
    "onto = get_ontology(ncbi_link)\n",
    "onto.load()\n",
    "obo = onto.get_namespace('http://purl.obolibrary.org/obo/')\n",
    "\n",
    "df_node = addTaxonColumn(df_node, obo)"
   ]
  },
  {
   "cell_type": "code",
   "execution_count": null,
   "id": "0f9e1414",
   "metadata": {},
   "outputs": [],
   "source": [
    "df_node.kingdom.unique()"
   ]
  },
  {
   "cell_type": "code",
   "execution_count": null,
   "id": "98868109",
   "metadata": {},
   "outputs": [],
   "source": [
    "df_node"
   ]
  },
  {
   "cell_type": "code",
   "execution_count": null,
   "id": "53b3eb74",
   "metadata": {},
   "outputs": [],
   "source": []
  },
  {
   "cell_type": "code",
   "execution_count": null,
   "id": "acd95e11",
   "metadata": {},
   "outputs": [],
   "source": [
    "# cek = False\n",
    "# for i in range(2,10):\n",
    "\"continue\" if cek else kentut = \"cek\""
   ]
  },
  {
   "cell_type": "code",
   "execution_count": null,
   "id": "210e69a3",
   "metadata": {},
   "outputs": [],
   "source": [
    "if not cek :\n",
    "    continue\n",
    "else :\n",
    "    kamus_ncbi = cek"
   ]
  },
  {
   "cell_type": "code",
   "execution_count": null,
   "id": "20391fb8",
   "metadata": {},
   "outputs": [],
   "source": [
    "\n",
    "for i in range(2,10):\n",
    "    print(i if False else continue)"
   ]
  },
  {
   "cell_type": "code",
   "execution_count": null,
   "id": "77c20ade",
   "metadata": {},
   "outputs": [],
   "source": []
  }
 ],
 "metadata": {
  "kernelspec": {
   "display_name": "Python [conda env:thesis]",
   "language": "python",
   "name": "conda-env-thesis-py"
  },
  "language_info": {
   "codemirror_mode": {
    "name": "ipython",
    "version": 3
   },
   "file_extension": ".py",
   "mimetype": "text/x-python",
   "name": "python",
   "nbconvert_exporter": "python",
   "pygments_lexer": "ipython3",
   "version": "3.8.16"
  }
 },
 "nbformat": 4,
 "nbformat_minor": 5
}
