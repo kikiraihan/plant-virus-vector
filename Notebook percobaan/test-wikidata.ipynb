{
 "cells": [
  {
   "cell_type": "code",
   "execution_count": 1,
   "id": "56f8125a",
   "metadata": {},
   "outputs": [],
   "source": [
    "from SPARQLWrapper import SPARQLWrapper\n",
    "import requests"
   ]
  },
  {
   "cell_type": "code",
   "execution_count": 2,
   "id": "b594ba9c",
   "metadata": {},
   "outputs": [
    {
     "name": "stdout",
     "output_type": "stream",
     "text": [
      "Bemisia genus NCBI:7037\n"
     ]
    }
   ],
   "source": [
    "format_='json'\n",
    "endpoint_url='https://query.wikidata.org/sparql'\n",
    "query=\"\"\"\n",
    "    SELECT ?patogenLabel ?rankLabel ?ncbiLabel \n",
    "    WHERE {\n",
    "        wd:Q2767258 wdt:P105 ?rank.\n",
    "        wd:Q2767258 wdt:P685 ?ncbi.\n",
    "        wd:Q2767258 wdt:P225 ?patogen.\n",
    "\n",
    "        SERVICE wikibase:label { bd:serviceParam wikibase:language \"[AUTO_LANGUAGE],en\". }\n",
    "    }\n",
    "    \"\"\"\n",
    "\n",
    "#querying\n",
    "spw=SPARQLWrapper(endpoint_url)\n",
    "spw.setQuery(query)\n",
    "spw.setReturnFormat(format_)\n",
    "hasil=spw.query().convert()\n",
    "\n",
    "if(not hasil['results']['bindings']):\n",
    "    print(\"tidak ditemukan id: \",id_)\n",
    "    print (False)\n",
    "\n",
    "hasil=hasil['results']['bindings'][0]\n",
    "\n",
    "if 'ncbiLabel' in hasil:        \n",
    "    print (hasil['patogenLabel']['value'],\n",
    "            hasil['rankLabel']['value'],\n",
    "            \"NCBI:\"+hasil['ncbiLabel']['value'])\n",
    "else: \n",
    "    print(\"tidak ada id NCBI\")\n",
    "    print (False)"
   ]
  },
  {
   "cell_type": "code",
   "execution_count": null,
   "id": "7758ef84",
   "metadata": {},
   "outputs": [],
   "source": []
  }
 ],
 "metadata": {
  "kernelspec": {
   "display_name": "Python [conda env:thesis]",
   "language": "python",
   "name": "conda-env-thesis-py"
  },
  "language_info": {
   "codemirror_mode": {
    "name": "ipython",
    "version": 3
   },
   "file_extension": ".py",
   "mimetype": "text/x-python",
   "name": "python",
   "nbconvert_exporter": "python",
   "pygments_lexer": "ipython3",
   "version": "3.8.16"
  }
 },
 "nbformat": 4,
 "nbformat_minor": 5
}
