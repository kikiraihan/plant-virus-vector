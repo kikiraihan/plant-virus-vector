{
 "cells": [
  {
   "cell_type": "markdown",
   "id": "8d37bfdb",
   "metadata": {},
   "source": [
    "# Praproses Thesis"
   ]
  },
  {
   "cell_type": "markdown",
   "id": "ec580857",
   "metadata": {},
   "source": [
    "Ini sama dengan bipartite 24 thesis, tapi ini full pake API GloBI"
   ]
  },
  {
   "cell_type": "markdown",
   "id": "209a378d",
   "metadata": {},
   "source": [
    "Cara json to dataframe https://towardsdatascience.com/how-to-convert-json-into-a-pandas-dataframe-100b2ae1e0d8"
   ]
  },
  {
   "cell_type": "code",
   "execution_count": 1,
   "id": "0f727580",
   "metadata": {},
   "outputs": [],
   "source": [
    "# # reset import package\n",
    "# def reloadPackageOwn():\n",
    "#     from importlib import reload  \n",
    "#     import os # we use os.path.join, os.path.basename\n",
    "#     import sys # we use sys.path\n",
    "#     import glob # we use glob.glob\n",
    "#     import importlib # we use importlib.import_module\n",
    "\n",
    "#     import_folder = os.getcwd()\n",
    "#     sys.path.append(import_folder) # this tells python to look in `import_folder` for imports\n",
    "#     for src_file in glob.glob(os.path.join(import_folder, '*.py')):\n",
    "#         name = os.path.basename(src_file)[:-3]\n",
    "#         importlib.import_module(name)\n",
    "#         reload(sys.modules[name])\n",
    "#         importlib.import_module(name)\n",
    "        \n",
    "# reloadPackageOwn()"
   ]
  },
  {
   "cell_type": "code",
   "execution_count": 2,
   "id": "7bb05149",
   "metadata": {},
   "outputs": [
    {
     "name": "stderr",
     "output_type": "stream",
     "text": [
      "* Owlready2 * Warning: optimized Cython parser module 'owlready2_optimized' is not available, defaulting to slower Python implementation\n"
     ]
    }
   ],
   "source": [
    "import requests\n",
    "from tqdm import tqdm\n",
    "import pandas as pd\n",
    "from owlready2 import get_ontology\n",
    "import os\n",
    "\n",
    "from standardization import addTaxonColumn, buat_kolom_taxon_awal\n",
    "from disambiguation_optimized import buat_kamus_kosong, update_kamus_pake_wikidata, update_df_pake_kamus, update_df_pake_path_ujung\n",
    "from preprocess import cleaning, splitInteractionToNodeEdge\n",
    "from disambiguation import removeOtherThanNCBI\n",
    "from filterNodeEdge import removeNodeAndEdgeByFilter,takeNodeAndEdgeByFilter,removeEdgesNotInNodes"
   ]
  },
  {
   "cell_type": "code",
   "execution_count": 3,
   "id": "41da0210",
   "metadata": {},
   "outputs": [],
   "source": [
    "#parameter\n",
    "virus_txt = 'Fijivirus'.replace(' ','%20')\n",
    "nama_file = '10fiji'\n",
    "tipe_interaksi_virus = 'pathogenOf'\n",
    "tipe_interaksi_tanaman = 'hasPathogen' #hostOf"
   ]
  },
  {
   "cell_type": "code",
   "execution_count": 4,
   "id": "75ab042c",
   "metadata": {},
   "outputs": [],
   "source": [
    "#0 # Ambil NCBI OBO\n",
    "ncbi_link = os.getcwd()+'/../data/ncbitaxon.owl'\n",
    "onto = get_ontology(ncbi_link)\n",
    "onto.load()\n",
    "obo = onto.get_namespace('http://purl.obolibrary.org/obo/')"
   ]
  },
  {
   "cell_type": "code",
   "execution_count": 5,
   "id": "f0af6f21",
   "metadata": {},
   "outputs": [],
   "source": [
    "kolom=[\n",
    "    'source_taxon_external_id',\n",
    "    'source_taxon_name',\n",
    "    'source_taxon_path',\n",
    "    'source_taxon_path_ids',\n",
    "    'source_taxon_path_ranks',\n",
    "    \n",
    "    'interaction_type',\n",
    "    \n",
    "    'target_taxon_external_id',\n",
    "    'target_taxon_name',\n",
    "    'target_taxon_path',\n",
    "    'target_taxon_path_ids',\n",
    "    'target_taxon_path_ranks',\n",
    "]\n",
    "\n",
    "interactionType=tipe_interaksi_virus\n",
    "\n",
    "link=\"https://api.globalbioticinteractions.org/interaction?sourceTaxon=\"+virus_txt+\"&interactionType=\"+interactionType+\"&fields=\"+(','.join(kolom))\n",
    "response = requests.get(link)\n",
    "res=response.json()\n",
    "\n",
    "if not res['data']:\n",
    "    print('kosong')\n",
    "# JSON To Pandas Dataframe\n",
    "df = pd.json_normalize(res, record_path =['data'])\n",
    "df.columns = kolom"
   ]
  },
  {
   "cell_type": "code",
   "execution_count": 6,
   "id": "7ae8bbfd",
   "metadata": {},
   "outputs": [
    {
     "data": {
      "text/html": [
       "<div>\n",
       "<style scoped>\n",
       "    .dataframe tbody tr th:only-of-type {\n",
       "        vertical-align: middle;\n",
       "    }\n",
       "\n",
       "    .dataframe tbody tr th {\n",
       "        vertical-align: top;\n",
       "    }\n",
       "\n",
       "    .dataframe thead th {\n",
       "        text-align: right;\n",
       "    }\n",
       "</style>\n",
       "<table border=\"1\" class=\"dataframe\">\n",
       "  <thead>\n",
       "    <tr style=\"text-align: right;\">\n",
       "      <th></th>\n",
       "      <th>source_taxon_external_id</th>\n",
       "      <th>source_taxon_name</th>\n",
       "      <th>source_taxon_path</th>\n",
       "      <th>source_taxon_path_ids</th>\n",
       "      <th>source_taxon_path_ranks</th>\n",
       "      <th>interaction_type</th>\n",
       "      <th>target_taxon_external_id</th>\n",
       "      <th>target_taxon_name</th>\n",
       "      <th>target_taxon_path</th>\n",
       "      <th>target_taxon_path_ids</th>\n",
       "      <th>target_taxon_path_ranks</th>\n",
       "    </tr>\n",
       "  </thead>\n",
       "  <tbody>\n",
       "    <tr>\n",
       "      <th>0</th>\n",
       "      <td>EOL:540109</td>\n",
       "      <td>Oat sterile dwarf virus</td>\n",
       "      <td>Viruses | Dsrna viruses | Reoviridae | Spinare...</td>\n",
       "      <td>EOL:5006 | EOL:9157927 | EOL:8052 | EOL_V2:116...</td>\n",
       "      <td>null | null | family | subfamily | genus | nul...</td>\n",
       "      <td>pathogenOf</td>\n",
       "      <td>NCBITaxon:331356</td>\n",
       "      <td>Wheat streak mosaic virus--wild rice</td>\n",
       "      <td>None</td>\n",
       "      <td>None</td>\n",
       "      <td>None</td>\n",
       "    </tr>\n",
       "    <tr>\n",
       "      <th>1</th>\n",
       "      <td>EOL:540109</td>\n",
       "      <td>Oat sterile dwarf virus</td>\n",
       "      <td>Viruses | Dsrna viruses | Reoviridae | Spinare...</td>\n",
       "      <td>EOL:5006 | EOL:9157927 | EOL:8052 | EOL_V2:116...</td>\n",
       "      <td>null | null | family | subfamily | genus | nul...</td>\n",
       "      <td>pathogenOf</td>\n",
       "      <td>GBIF:2706056</td>\n",
       "      <td>Hordeum vulgare</td>\n",
       "      <td>Plantae | Tracheophyta | Liliopsida | Poales |...</td>\n",
       "      <td>GBIF:6 | GBIF:7707728 | GBIF:196 | GBIF:1369 |...</td>\n",
       "      <td>kingdom | phylum | class | order | family | ge...</td>\n",
       "    </tr>\n",
       "    <tr>\n",
       "      <th>2</th>\n",
       "      <td>EOL:540109</td>\n",
       "      <td>Oat sterile dwarf virus</td>\n",
       "      <td>Viruses | Dsrna viruses | Reoviridae | Spinare...</td>\n",
       "      <td>EOL:5006 | EOL:9157927 | EOL:8052 | EOL_V2:116...</td>\n",
       "      <td>null | null | family | subfamily | genus | nul...</td>\n",
       "      <td>pathogenOf</td>\n",
       "      <td>NCBITaxon:331356</td>\n",
       "      <td>Wheat streak mosaic virus--wild rice</td>\n",
       "      <td>None</td>\n",
       "      <td>None</td>\n",
       "      <td>None</td>\n",
       "    </tr>\n",
       "    <tr>\n",
       "      <th>3</th>\n",
       "      <td>EOL:540109</td>\n",
       "      <td>Oat sterile dwarf virus</td>\n",
       "      <td>Viruses | Dsrna viruses | Reoviridae | Spinare...</td>\n",
       "      <td>EOL:5006 | EOL:9157927 | EOL:8052 | EOL_V2:116...</td>\n",
       "      <td>null | null | family | subfamily | genus | nul...</td>\n",
       "      <td>pathogenOf</td>\n",
       "      <td>GBIF:2706056</td>\n",
       "      <td>Hordeum vulgare</td>\n",
       "      <td>Plantae | Tracheophyta | Liliopsida | Poales |...</td>\n",
       "      <td>GBIF:6 | GBIF:7707728 | GBIF:196 | GBIF:1369 |...</td>\n",
       "      <td>kingdom | phylum | class | order | family | ge...</td>\n",
       "    </tr>\n",
       "    <tr>\n",
       "      <th>4</th>\n",
       "      <td>EOL:540108</td>\n",
       "      <td>Rice black streaked dwarf virus</td>\n",
       "      <td>Viruses | Dsrna viruses | Reoviridae | Spinare...</td>\n",
       "      <td>EOL:5006 | EOL:9157927 | EOL:8052 | EOL_V2:116...</td>\n",
       "      <td>null | null | family | subfamily | genus | nul...</td>\n",
       "      <td>pathogenOf</td>\n",
       "      <td>NCBITaxon:331356</td>\n",
       "      <td>Wheat streak mosaic virus--wild rice</td>\n",
       "      <td>None</td>\n",
       "      <td>None</td>\n",
       "      <td>None</td>\n",
       "    </tr>\n",
       "    <tr>\n",
       "      <th>...</th>\n",
       "      <td>...</td>\n",
       "      <td>...</td>\n",
       "      <td>...</td>\n",
       "      <td>...</td>\n",
       "      <td>...</td>\n",
       "      <td>...</td>\n",
       "      <td>...</td>\n",
       "      <td>...</td>\n",
       "      <td>...</td>\n",
       "      <td>...</td>\n",
       "      <td>...</td>\n",
       "    </tr>\n",
       "    <tr>\n",
       "      <th>67</th>\n",
       "      <td>EOL:540113</td>\n",
       "      <td>Maize rough dwarf virus</td>\n",
       "      <td>Viruses |  |  |  | Reoviridae | Fijivirus | Ma...</td>\n",
       "      <td>EOL:5006 |  |  |  | EOL:8052 | EOL:67541 | EOL...</td>\n",
       "      <td>kingdom | null | null | null | family | genus ...</td>\n",
       "      <td>pathogenOf</td>\n",
       "      <td>GBIF:2705181</td>\n",
       "      <td>Sorghum bicolor</td>\n",
       "      <td>Plantae | Tracheophyta | Liliopsida | Poales |...</td>\n",
       "      <td>GBIF:6 | GBIF:7707728 | GBIF:196 | GBIF:1369 |...</td>\n",
       "      <td>kingdom | phylum | class | order | family | ge...</td>\n",
       "    </tr>\n",
       "    <tr>\n",
       "      <th>68</th>\n",
       "      <td>no:match</td>\n",
       "      <td>Rice black-streaked dwarf virus (RBSDV)—genus ...</td>\n",
       "      <td>None</td>\n",
       "      <td>None</td>\n",
       "      <td>None</td>\n",
       "      <td>pathogenOf</td>\n",
       "      <td>GBIF:2703455</td>\n",
       "      <td>Oryza</td>\n",
       "      <td>Plantae | Tracheophyta | Liliopsida | Poales |...</td>\n",
       "      <td>GBIF:6 | GBIF:7707728 | GBIF:196 | GBIF:1369 |...</td>\n",
       "      <td>kingdom | phylum | class | order | family | genus</td>\n",
       "    </tr>\n",
       "    <tr>\n",
       "      <th>69</th>\n",
       "      <td>no:match</td>\n",
       "      <td>Rice black-streaked dwarf virus (RBSDV)—genus ...</td>\n",
       "      <td>None</td>\n",
       "      <td>None</td>\n",
       "      <td>None</td>\n",
       "      <td>pathogenOf</td>\n",
       "      <td>GBIF:2703455</td>\n",
       "      <td>Oryza</td>\n",
       "      <td>Plantae | Tracheophyta | Liliopsida | Poales |...</td>\n",
       "      <td>GBIF:6 | GBIF:7707728 | GBIF:196 | GBIF:1369 |...</td>\n",
       "      <td>kingdom | phylum | class | order | family | genus</td>\n",
       "    </tr>\n",
       "    <tr>\n",
       "      <th>70</th>\n",
       "      <td>no:match</td>\n",
       "      <td>Southern rice black-streaked dwarf virus (SRBS...</td>\n",
       "      <td>None</td>\n",
       "      <td>None</td>\n",
       "      <td>None</td>\n",
       "      <td>pathogenOf</td>\n",
       "      <td>GBIF:2703455</td>\n",
       "      <td>Oryza</td>\n",
       "      <td>Plantae | Tracheophyta | Liliopsida | Poales |...</td>\n",
       "      <td>GBIF:6 | GBIF:7707728 | GBIF:196 | GBIF:1369 |...</td>\n",
       "      <td>kingdom | phylum | class | order | family | genus</td>\n",
       "    </tr>\n",
       "    <tr>\n",
       "      <th>71</th>\n",
       "      <td>no:match</td>\n",
       "      <td>Southern rice black-streaked dwarf virus (SRBS...</td>\n",
       "      <td>None</td>\n",
       "      <td>None</td>\n",
       "      <td>None</td>\n",
       "      <td>pathogenOf</td>\n",
       "      <td>GBIF:2703455</td>\n",
       "      <td>Oryza</td>\n",
       "      <td>Plantae | Tracheophyta | Liliopsida | Poales |...</td>\n",
       "      <td>GBIF:6 | GBIF:7707728 | GBIF:196 | GBIF:1369 |...</td>\n",
       "      <td>kingdom | phylum | class | order | family | genus</td>\n",
       "    </tr>\n",
       "  </tbody>\n",
       "</table>\n",
       "<p>72 rows × 11 columns</p>\n",
       "</div>"
      ],
      "text/plain": [
       "   source_taxon_external_id  \\\n",
       "0                EOL:540109   \n",
       "1                EOL:540109   \n",
       "2                EOL:540109   \n",
       "3                EOL:540109   \n",
       "4                EOL:540108   \n",
       "..                      ...   \n",
       "67               EOL:540113   \n",
       "68                 no:match   \n",
       "69                 no:match   \n",
       "70                 no:match   \n",
       "71                 no:match   \n",
       "\n",
       "                                    source_taxon_name  \\\n",
       "0                             Oat sterile dwarf virus   \n",
       "1                             Oat sterile dwarf virus   \n",
       "2                             Oat sterile dwarf virus   \n",
       "3                             Oat sterile dwarf virus   \n",
       "4                     Rice black streaked dwarf virus   \n",
       "..                                                ...   \n",
       "67                            Maize rough dwarf virus   \n",
       "68  Rice black-streaked dwarf virus (RBSDV)—genus ...   \n",
       "69  Rice black-streaked dwarf virus (RBSDV)—genus ...   \n",
       "70  Southern rice black-streaked dwarf virus (SRBS...   \n",
       "71  Southern rice black-streaked dwarf virus (SRBS...   \n",
       "\n",
       "                                    source_taxon_path  \\\n",
       "0   Viruses | Dsrna viruses | Reoviridae | Spinare...   \n",
       "1   Viruses | Dsrna viruses | Reoviridae | Spinare...   \n",
       "2   Viruses | Dsrna viruses | Reoviridae | Spinare...   \n",
       "3   Viruses | Dsrna viruses | Reoviridae | Spinare...   \n",
       "4   Viruses | Dsrna viruses | Reoviridae | Spinare...   \n",
       "..                                                ...   \n",
       "67  Viruses |  |  |  | Reoviridae | Fijivirus | Ma...   \n",
       "68                                               None   \n",
       "69                                               None   \n",
       "70                                               None   \n",
       "71                                               None   \n",
       "\n",
       "                                source_taxon_path_ids  \\\n",
       "0   EOL:5006 | EOL:9157927 | EOL:8052 | EOL_V2:116...   \n",
       "1   EOL:5006 | EOL:9157927 | EOL:8052 | EOL_V2:116...   \n",
       "2   EOL:5006 | EOL:9157927 | EOL:8052 | EOL_V2:116...   \n",
       "3   EOL:5006 | EOL:9157927 | EOL:8052 | EOL_V2:116...   \n",
       "4   EOL:5006 | EOL:9157927 | EOL:8052 | EOL_V2:116...   \n",
       "..                                                ...   \n",
       "67  EOL:5006 |  |  |  | EOL:8052 | EOL:67541 | EOL...   \n",
       "68                                               None   \n",
       "69                                               None   \n",
       "70                                               None   \n",
       "71                                               None   \n",
       "\n",
       "                              source_taxon_path_ranks interaction_type  \\\n",
       "0   null | null | family | subfamily | genus | nul...       pathogenOf   \n",
       "1   null | null | family | subfamily | genus | nul...       pathogenOf   \n",
       "2   null | null | family | subfamily | genus | nul...       pathogenOf   \n",
       "3   null | null | family | subfamily | genus | nul...       pathogenOf   \n",
       "4   null | null | family | subfamily | genus | nul...       pathogenOf   \n",
       "..                                                ...              ...   \n",
       "67  kingdom | null | null | null | family | genus ...       pathogenOf   \n",
       "68                                               None       pathogenOf   \n",
       "69                                               None       pathogenOf   \n",
       "70                                               None       pathogenOf   \n",
       "71                                               None       pathogenOf   \n",
       "\n",
       "   target_taxon_external_id                     target_taxon_name  \\\n",
       "0          NCBITaxon:331356  Wheat streak mosaic virus--wild rice   \n",
       "1              GBIF:2706056                       Hordeum vulgare   \n",
       "2          NCBITaxon:331356  Wheat streak mosaic virus--wild rice   \n",
       "3              GBIF:2706056                       Hordeum vulgare   \n",
       "4          NCBITaxon:331356  Wheat streak mosaic virus--wild rice   \n",
       "..                      ...                                   ...   \n",
       "67             GBIF:2705181                       Sorghum bicolor   \n",
       "68             GBIF:2703455                                 Oryza   \n",
       "69             GBIF:2703455                                 Oryza   \n",
       "70             GBIF:2703455                                 Oryza   \n",
       "71             GBIF:2703455                                 Oryza   \n",
       "\n",
       "                                    target_taxon_path  \\\n",
       "0                                                None   \n",
       "1   Plantae | Tracheophyta | Liliopsida | Poales |...   \n",
       "2                                                None   \n",
       "3   Plantae | Tracheophyta | Liliopsida | Poales |...   \n",
       "4                                                None   \n",
       "..                                                ...   \n",
       "67  Plantae | Tracheophyta | Liliopsida | Poales |...   \n",
       "68  Plantae | Tracheophyta | Liliopsida | Poales |...   \n",
       "69  Plantae | Tracheophyta | Liliopsida | Poales |...   \n",
       "70  Plantae | Tracheophyta | Liliopsida | Poales |...   \n",
       "71  Plantae | Tracheophyta | Liliopsida | Poales |...   \n",
       "\n",
       "                                target_taxon_path_ids  \\\n",
       "0                                                None   \n",
       "1   GBIF:6 | GBIF:7707728 | GBIF:196 | GBIF:1369 |...   \n",
       "2                                                None   \n",
       "3   GBIF:6 | GBIF:7707728 | GBIF:196 | GBIF:1369 |...   \n",
       "4                                                None   \n",
       "..                                                ...   \n",
       "67  GBIF:6 | GBIF:7707728 | GBIF:196 | GBIF:1369 |...   \n",
       "68  GBIF:6 | GBIF:7707728 | GBIF:196 | GBIF:1369 |...   \n",
       "69  GBIF:6 | GBIF:7707728 | GBIF:196 | GBIF:1369 |...   \n",
       "70  GBIF:6 | GBIF:7707728 | GBIF:196 | GBIF:1369 |...   \n",
       "71  GBIF:6 | GBIF:7707728 | GBIF:196 | GBIF:1369 |...   \n",
       "\n",
       "                              target_taxon_path_ranks  \n",
       "0                                                None  \n",
       "1   kingdom | phylum | class | order | family | ge...  \n",
       "2                                                None  \n",
       "3   kingdom | phylum | class | order | family | ge...  \n",
       "4                                                None  \n",
       "..                                                ...  \n",
       "67  kingdom | phylum | class | order | family | ge...  \n",
       "68  kingdom | phylum | class | order | family | genus  \n",
       "69  kingdom | phylum | class | order | family | genus  \n",
       "70  kingdom | phylum | class | order | family | genus  \n",
       "71  kingdom | phylum | class | order | family | genus  \n",
       "\n",
       "[72 rows x 11 columns]"
      ]
     },
     "execution_count": 6,
     "metadata": {},
     "output_type": "execute_result"
    }
   ],
   "source": [
    "df #.interaction_type.unique()"
   ]
  },
  {
   "cell_type": "code",
   "execution_count": 7,
   "id": "7de0d4f6",
   "metadata": {},
   "outputs": [],
   "source": [
    "#tes2 data salah\n",
    "# df2 = {'Name': 'Amy', 'Maths': 89, 'Science': 93}\n",
    "# df = df.append(df2, ignore_index = True)\n",
    "# df.loc[len(df.index)]=['GBIF:3523201','Asteridiella boerhaviifolii',None,None,None,'pathogenOf','GBIF:3523201','Asteridiella boerhaviifolii',None,None,None]\n",
    "# cek='NCBI:1 | NCBI:10239 | NCBI:2731342 | NCBI:2732092 | NCBI:2732416 | NCBI:2732424 | NCBI:2732539 | NCBI:10811 | NCBI:10814 | NCBI:260378'\n",
    "# df.loc[len(df.index)]=['GBIF:3523201','Asteridiella boerhaviifolii',None,cek,None,'pathogenOf','GBIF:3523201','Asteridiella boerhaviifolii',None,None,None]"
   ]
  },
  {
   "cell_type": "code",
   "execution_count": 8,
   "id": "e059b341",
   "metadata": {},
   "outputs": [
    {
     "data": {
      "image/png": "[encoded data removed]",
      "text/plain": [
       "<Figure size 1500x800 with 1 Axes>"
      ]
     },
     "metadata": {},
     "output_type": "display_data"
    }
   ],
   "source": [
    "from jcopml.plot import plot_missing_value\n",
    "plot_missing_value(df)"
   ]
  },
  {
   "cell_type": "code",
   "execution_count": null,
   "id": "2645bafd",
   "metadata": {},
   "outputs": [],
   "source": []
  },
  {
   "cell_type": "markdown",
   "id": "0c8dc7ad",
   "metadata": {},
   "source": [
    "# Praproses : virus - pathogenOf"
   ]
  },
  {
   "cell_type": "markdown",
   "id": "deeaf91d",
   "metadata": {},
   "source": [
    "### Cleaning\n",
    "\n",
    "drop duplikasi, drop jika tidak mengandung NCBI dan Taxon path null, drop nama sama beda Id"
   ]
  },
  {
   "cell_type": "code",
   "execution_count": 9,
   "id": "76b60205",
   "metadata": {},
   "outputs": [
    {
     "name": "stdout",
     "output_type": "stream",
     "text": [
      "drop duplicate\n",
      "sebelum :  72\n",
      "setelah:  36\n",
      "drop tidak mengandung NCBI dan taxon pathnya null\n",
      "sebelum :  36\n",
      "setelah:  34\n",
      "drop duplicate nama sama beda id\n",
      "sebelum :  34\n",
      "setelah:  33\n"
     ]
    }
   ],
   "source": [
    "df=cleaning(df, dropNonNCBI=False)"
   ]
  },
  {
   "cell_type": "markdown",
   "id": "5191d0b4",
   "metadata": {},
   "source": [
    "### Pemisahan kolom"
   ]
  },
  {
   "cell_type": "code",
   "execution_count": 10,
   "id": "9cb5c8da",
   "metadata": {},
   "outputs": [],
   "source": [
    "df_node, df_edge = splitInteractionToNodeEdge(df)"
   ]
  },
  {
   "cell_type": "code",
   "execution_count": 11,
   "id": "9b8a8823",
   "metadata": {},
   "outputs": [
    {
     "name": "stdout",
     "output_type": "stream",
     "text": [
      "cek data\n",
      "node  (26, 5)\n",
      "edge  (33, 3)\n"
     ]
    },
    {
     "data": {
      "text/html": [
       "<div>\n",
       "<style scoped>\n",
       "    .dataframe tbody tr th:only-of-type {\n",
       "        vertical-align: middle;\n",
       "    }\n",
       "\n",
       "    .dataframe tbody tr th {\n",
       "        vertical-align: top;\n",
       "    }\n",
       "\n",
       "    .dataframe thead th {\n",
       "        text-align: right;\n",
       "    }\n",
       "</style>\n",
       "<table border=\"1\" class=\"dataframe\">\n",
       "  <thead>\n",
       "    <tr style=\"text-align: right;\">\n",
       "      <th></th>\n",
       "      <th>taxon_id</th>\n",
       "      <th>taxon_name</th>\n",
       "      <th>taxon_path</th>\n",
       "      <th>taxon_path_ids</th>\n",
       "      <th>taxon_path_rank</th>\n",
       "    </tr>\n",
       "  </thead>\n",
       "  <tbody>\n",
       "    <tr>\n",
       "      <th>0</th>\n",
       "      <td>NCBITaxon:331356</td>\n",
       "      <td>Wheat streak mosaic virus--wild rice</td>\n",
       "      <td>None</td>\n",
       "      <td>None</td>\n",
       "      <td>None</td>\n",
       "    </tr>\n",
       "    <tr>\n",
       "      <th>1</th>\n",
       "      <td>GBIF:2706056</td>\n",
       "      <td>Hordeum vulgare</td>\n",
       "      <td>Plantae | Tracheophyta | Liliopsida | Poales |...</td>\n",
       "      <td>GBIF:6 | GBIF:7707728 | GBIF:196 | GBIF:1369 |...</td>\n",
       "      <td>kingdom | phylum | class | order | family | ge...</td>\n",
       "    </tr>\n",
       "    <tr>\n",
       "      <th>2</th>\n",
       "      <td>GBIF:2705290</td>\n",
       "      <td>Avena sativa</td>\n",
       "      <td>Plantae | Tracheophyta | Liliopsida | Poales |...</td>\n",
       "      <td>GBIF:6 | GBIF:7707728 | GBIF:196 | GBIF:1369 |...</td>\n",
       "      <td>kingdom | phylum | class | order | family | ge...</td>\n",
       "    </tr>\n",
       "    <tr>\n",
       "      <th>3</th>\n",
       "      <td>NCBI:4565</td>\n",
       "      <td>Triticum aestivum</td>\n",
       "      <td>root | cellular organisms | Eukaryota | Viridi...</td>\n",
       "      <td>NCBI:1 | NCBI:131567 | NCBI:2759 | NCBI:33090 ...</td>\n",
       "      <td>null | null | superkingdom | kingdom | phylum ...</td>\n",
       "    </tr>\n",
       "    <tr>\n",
       "      <th>4</th>\n",
       "      <td>GBIF:5290052</td>\n",
       "      <td>Zea mays</td>\n",
       "      <td>Plantae | Tracheophyta | Liliopsida | Poales |...</td>\n",
       "      <td>GBIF:6 | GBIF:7707728 | GBIF:196 | GBIF:1369 |...</td>\n",
       "      <td>kingdom | phylum | class | order | family | ge...</td>\n",
       "    </tr>\n",
       "    <tr>\n",
       "      <th>5</th>\n",
       "      <td>GBIF:2703459</td>\n",
       "      <td>Oryza sativa</td>\n",
       "      <td>Plantae | Tracheophyta | Liliopsida | Poales |...</td>\n",
       "      <td>GBIF:6 | GBIF:7707728 | GBIF:196 | GBIF:1369 |...</td>\n",
       "      <td>kingdom | phylum | class | order | family | ge...</td>\n",
       "    </tr>\n",
       "    <tr>\n",
       "      <th>6</th>\n",
       "      <td>NCBI:1249733</td>\n",
       "      <td>Cyperus serotinus</td>\n",
       "      <td>root | cellular organisms | Eukaryota | Viridi...</td>\n",
       "      <td>NCBI:1 | NCBI:131567 | NCBI:2759 | NCBI:33090 ...</td>\n",
       "      <td>null | null | superkingdom | kingdom | phylum ...</td>\n",
       "    </tr>\n",
       "    <tr>\n",
       "      <th>7</th>\n",
       "      <td>NCBI:192627</td>\n",
       "      <td>Cenchrus flaccidus</td>\n",
       "      <td>root | cellular organisms | Eukaryota | Viridi...</td>\n",
       "      <td>NCBI:1 | NCBI:131567 | NCBI:2759 | NCBI:33090 ...</td>\n",
       "      <td>null | null | superkingdom | kingdom | phylum ...</td>\n",
       "    </tr>\n",
       "    <tr>\n",
       "      <th>8</th>\n",
       "      <td>NCBI:90397</td>\n",
       "      <td>Echinochloa crus-galli</td>\n",
       "      <td>root | cellular organisms | Eukaryota | Viridi...</td>\n",
       "      <td>NCBI:1 | NCBI:131567 | NCBI:2759 | NCBI:33090 ...</td>\n",
       "      <td>null | null | superkingdom | kingdom | phylum ...</td>\n",
       "    </tr>\n",
       "    <tr>\n",
       "      <th>9</th>\n",
       "      <td>NCBI:121769</td>\n",
       "      <td>Digitaria sanguinalis</td>\n",
       "      <td>root | cellular organisms | Eukaryota | Viridi...</td>\n",
       "      <td>NCBI:1 | NCBI:131567 | NCBI:2759 | NCBI:33090 ...</td>\n",
       "      <td>null | null | superkingdom | kingdom | phylum ...</td>\n",
       "    </tr>\n",
       "    <tr>\n",
       "      <th>10</th>\n",
       "      <td>NCBI:28909</td>\n",
       "      <td>Cynodon dactylon</td>\n",
       "      <td>root | cellular organisms | Eukaryota | Viridi...</td>\n",
       "      <td>NCBI:1 | NCBI:131567 | NCBI:2759 | NCBI:33090 ...</td>\n",
       "      <td>null | null | superkingdom | kingdom | phylum ...</td>\n",
       "    </tr>\n",
       "    <tr>\n",
       "      <th>11</th>\n",
       "      <td>GBIF:5289686</td>\n",
       "      <td>Setaria verticillata</td>\n",
       "      <td>Plantae | Tracheophyta | Liliopsida | Poales |...</td>\n",
       "      <td>GBIF:6 | GBIF:7707728 | GBIF:196 | GBIF:1369 |...</td>\n",
       "      <td>kingdom | phylum | class | order | family | ge...</td>\n",
       "    </tr>\n",
       "    <tr>\n",
       "      <th>12</th>\n",
       "      <td>GBIF:2706241</td>\n",
       "      <td>Lolium perenne</td>\n",
       "      <td>Plantae | Tracheophyta | Liliopsida | Poales |...</td>\n",
       "      <td>GBIF:6 | GBIF:7707728 | GBIF:196 | GBIF:1369 |...</td>\n",
       "      <td>kingdom | phylum | class | order | family | ge...</td>\n",
       "    </tr>\n",
       "    <tr>\n",
       "      <th>13</th>\n",
       "      <td>NCBI:381124</td>\n",
       "      <td>Zea mays subsp. mays</td>\n",
       "      <td>root | cellular organisms | Eukaryota | Viridi...</td>\n",
       "      <td>NCBI:1 | NCBI:131567 | NCBI:2759 | NCBI:33090 ...</td>\n",
       "      <td>null | null | superkingdom | kingdom | phylum ...</td>\n",
       "    </tr>\n",
       "    <tr>\n",
       "      <th>14</th>\n",
       "      <td>NCBI:4546</td>\n",
       "      <td>Saccharum</td>\n",
       "      <td>root | cellular organisms | Eukaryota | Viridi...</td>\n",
       "      <td>NCBI:1 | NCBI:131567 | NCBI:2759 | NCBI:33090 ...</td>\n",
       "      <td>null | null | superkingdom | kingdom | phylum ...</td>\n",
       "    </tr>\n",
       "    <tr>\n",
       "      <th>15</th>\n",
       "      <td>GBIF:2703912</td>\n",
       "      <td>Saccharum officinarum</td>\n",
       "      <td>Plantae | Tracheophyta | Liliopsida | Poales |...</td>\n",
       "      <td>GBIF:6 | GBIF:7707728 | GBIF:196 | GBIF:1369 |...</td>\n",
       "      <td>kingdom | phylum | class | order | family | ge...</td>\n",
       "    </tr>\n",
       "    <tr>\n",
       "      <th>16</th>\n",
       "      <td>NCBI:108931</td>\n",
       "      <td>Nilaparvata lugens</td>\n",
       "      <td>root | cellular organisms | Eukaryota | Opisth...</td>\n",
       "      <td>NCBI:1 | NCBI:131567 | NCBI:2759 | NCBI:33154 ...</td>\n",
       "      <td>null | null | superkingdom | null | kingdom | ...</td>\n",
       "    </tr>\n",
       "    <tr>\n",
       "      <th>17</th>\n",
       "      <td>NCBI:4558</td>\n",
       "      <td>Sorghum bicolor</td>\n",
       "      <td>root | cellular organisms | Eukaryota | Viridi...</td>\n",
       "      <td>NCBI:1 | NCBI:131567 | NCBI:2759 | NCBI:33090 ...</td>\n",
       "      <td>null | null | superkingdom | kingdom | phylum ...</td>\n",
       "    </tr>\n",
       "    <tr>\n",
       "      <th>18</th>\n",
       "      <td>EOL:540109</td>\n",
       "      <td>Oat sterile dwarf virus</td>\n",
       "      <td>Viruses | Dsrna viruses | Reoviridae | Spinare...</td>\n",
       "      <td>EOL:5006 | EOL:9157927 | EOL:8052 | EOL_V2:116...</td>\n",
       "      <td>null | null | family | subfamily | genus | nul...</td>\n",
       "    </tr>\n",
       "    <tr>\n",
       "      <th>19</th>\n",
       "      <td>NCBI:10990</td>\n",
       "      <td>Rice black streaked dwarf virus</td>\n",
       "      <td>root | Viruses | Riboviria | Orthornavirae | D...</td>\n",
       "      <td>NCBI:1 | NCBI:10239 | NCBI:2559587 | NCBI:2732...</td>\n",
       "      <td>null | superkingdom | null | kingdom | phylum ...</td>\n",
       "    </tr>\n",
       "    <tr>\n",
       "      <th>20</th>\n",
       "      <td>NCBI:519497</td>\n",
       "      <td>Southern rice black-streaked dwarf virus</td>\n",
       "      <td>root | Viruses | Riboviria | Orthornavirae | D...</td>\n",
       "      <td>NCBI:1 | NCBI:10239 | NCBI:2559587 | NCBI:2732...</td>\n",
       "      <td>null | superkingdom | null | kingdom | phylum ...</td>\n",
       "    </tr>\n",
       "    <tr>\n",
       "      <th>21</th>\n",
       "      <td>NCBI:10989</td>\n",
       "      <td>Maize rough dwarf virus</td>\n",
       "      <td>root | Viruses | Riboviria | Orthornavirae | D...</td>\n",
       "      <td>NCBI:1 | NCBI:10239 | NCBI:2559587 | NCBI:2732...</td>\n",
       "      <td>null | superkingdom | null | kingdom | phylum ...</td>\n",
       "    </tr>\n",
       "    <tr>\n",
       "      <th>22</th>\n",
       "      <td>NCBI:77698</td>\n",
       "      <td>Fiji disease virus</td>\n",
       "      <td>root | Viruses | Riboviria | Orthornavirae | D...</td>\n",
       "      <td>NCBI:1 | NCBI:10239 | NCBI:2559587 | NCBI:2732...</td>\n",
       "      <td>null | superkingdom | null | kingdom | phylum ...</td>\n",
       "    </tr>\n",
       "    <tr>\n",
       "      <th>23</th>\n",
       "      <td>NCBI:33724</td>\n",
       "      <td>Nilaparvata lugens reovirus</td>\n",
       "      <td>root | Viruses | Riboviria | Orthornavirae | D...</td>\n",
       "      <td>NCBI:1 | NCBI:10239 | NCBI:2559587 | NCBI:2732...</td>\n",
       "      <td>null | superkingdom | null | kingdom | phylum ...</td>\n",
       "    </tr>\n",
       "    <tr>\n",
       "      <th>24</th>\n",
       "      <td>NCBI:185954</td>\n",
       "      <td>Mal de Rio Cuarto virus</td>\n",
       "      <td>root | Viruses | Riboviria | Orthornavirae | D...</td>\n",
       "      <td>NCBI:1 | NCBI:10239 | NCBI:2559587 | NCBI:2732...</td>\n",
       "      <td>null | superkingdom | null | kingdom | phylum ...</td>\n",
       "    </tr>\n",
       "    <tr>\n",
       "      <th>25</th>\n",
       "      <td>GBIF:9147133</td>\n",
       "      <td>Fijivirus</td>\n",
       "      <td>| Reoviridae | Fijivirus |</td>\n",
       "      <td>GBIF:8 | GBIF:1939 | GBIF:8728634 | GBIF:9147133</td>\n",
       "      <td>kingdom | family | genus | species</td>\n",
       "    </tr>\n",
       "  </tbody>\n",
       "</table>\n",
       "</div>"
      ],
      "text/plain": [
       "            taxon_id                                taxon_name  \\\n",
       "0   NCBITaxon:331356      Wheat streak mosaic virus--wild rice   \n",
       "1       GBIF:2706056                           Hordeum vulgare   \n",
       "2       GBIF:2705290                              Avena sativa   \n",
       "3          NCBI:4565                         Triticum aestivum   \n",
       "4       GBIF:5290052                                  Zea mays   \n",
       "5       GBIF:2703459                              Oryza sativa   \n",
       "6       NCBI:1249733                         Cyperus serotinus   \n",
       "7        NCBI:192627                        Cenchrus flaccidus   \n",
       "8         NCBI:90397                    Echinochloa crus-galli   \n",
       "9        NCBI:121769                     Digitaria sanguinalis   \n",
       "10        NCBI:28909                          Cynodon dactylon   \n",
       "11      GBIF:5289686                      Setaria verticillata   \n",
       "12      GBIF:2706241                            Lolium perenne   \n",
       "13       NCBI:381124                      Zea mays subsp. mays   \n",
       "14         NCBI:4546                                 Saccharum   \n",
       "15      GBIF:2703912                     Saccharum officinarum   \n",
       "16       NCBI:108931                        Nilaparvata lugens   \n",
       "17         NCBI:4558                           Sorghum bicolor   \n",
       "18        EOL:540109                   Oat sterile dwarf virus   \n",
       "19        NCBI:10990           Rice black streaked dwarf virus   \n",
       "20       NCBI:519497  Southern rice black-streaked dwarf virus   \n",
       "21        NCBI:10989                   Maize rough dwarf virus   \n",
       "22        NCBI:77698                        Fiji disease virus   \n",
       "23        NCBI:33724               Nilaparvata lugens reovirus   \n",
       "24       NCBI:185954                   Mal de Rio Cuarto virus   \n",
       "25      GBIF:9147133                                 Fijivirus   \n",
       "\n",
       "                                           taxon_path  \\\n",
       "0                                                None   \n",
       "1   Plantae | Tracheophyta | Liliopsida | Poales |...   \n",
       "2   Plantae | Tracheophyta | Liliopsida | Poales |...   \n",
       "3   root | cellular organisms | Eukaryota | Viridi...   \n",
       "4   Plantae | Tracheophyta | Liliopsida | Poales |...   \n",
       "5   Plantae | Tracheophyta | Liliopsida | Poales |...   \n",
       "6   root | cellular organisms | Eukaryota | Viridi...   \n",
       "7   root | cellular organisms | Eukaryota | Viridi...   \n",
       "8   root | cellular organisms | Eukaryota | Viridi...   \n",
       "9   root | cellular organisms | Eukaryota | Viridi...   \n",
       "10  root | cellular organisms | Eukaryota | Viridi...   \n",
       "11  Plantae | Tracheophyta | Liliopsida | Poales |...   \n",
       "12  Plantae | Tracheophyta | Liliopsida | Poales |...   \n",
       "13  root | cellular organisms | Eukaryota | Viridi...   \n",
       "14  root | cellular organisms | Eukaryota | Viridi...   \n",
       "15  Plantae | Tracheophyta | Liliopsida | Poales |...   \n",
       "16  root | cellular organisms | Eukaryota | Opisth...   \n",
       "17  root | cellular organisms | Eukaryota | Viridi...   \n",
       "18  Viruses | Dsrna viruses | Reoviridae | Spinare...   \n",
       "19  root | Viruses | Riboviria | Orthornavirae | D...   \n",
       "20  root | Viruses | Riboviria | Orthornavirae | D...   \n",
       "21  root | Viruses | Riboviria | Orthornavirae | D...   \n",
       "22  root | Viruses | Riboviria | Orthornavirae | D...   \n",
       "23  root | Viruses | Riboviria | Orthornavirae | D...   \n",
       "24  root | Viruses | Riboviria | Orthornavirae | D...   \n",
       "25                         | Reoviridae | Fijivirus |   \n",
       "\n",
       "                                       taxon_path_ids  \\\n",
       "0                                                None   \n",
       "1   GBIF:6 | GBIF:7707728 | GBIF:196 | GBIF:1369 |...   \n",
       "2   GBIF:6 | GBIF:7707728 | GBIF:196 | GBIF:1369 |...   \n",
       "3   NCBI:1 | NCBI:131567 | NCBI:2759 | NCBI:33090 ...   \n",
       "4   GBIF:6 | GBIF:7707728 | GBIF:196 | GBIF:1369 |...   \n",
       "5   GBIF:6 | GBIF:7707728 | GBIF:196 | GBIF:1369 |...   \n",
       "6   NCBI:1 | NCBI:131567 | NCBI:2759 | NCBI:33090 ...   \n",
       "7   NCBI:1 | NCBI:131567 | NCBI:2759 | NCBI:33090 ...   \n",
       "8   NCBI:1 | NCBI:131567 | NCBI:2759 | NCBI:33090 ...   \n",
       "9   NCBI:1 | NCBI:131567 | NCBI:2759 | NCBI:33090 ...   \n",
       "10  NCBI:1 | NCBI:131567 | NCBI:2759 | NCBI:33090 ...   \n",
       "11  GBIF:6 | GBIF:7707728 | GBIF:196 | GBIF:1369 |...   \n",
       "12  GBIF:6 | GBIF:7707728 | GBIF:196 | GBIF:1369 |...   \n",
       "13  NCBI:1 | NCBI:131567 | NCBI:2759 | NCBI:33090 ...   \n",
       "14  NCBI:1 | NCBI:131567 | NCBI:2759 | NCBI:33090 ...   \n",
       "15  GBIF:6 | GBIF:7707728 | GBIF:196 | GBIF:1369 |...   \n",
       "16  NCBI:1 | NCBI:131567 | NCBI:2759 | NCBI:33154 ...   \n",
       "17  NCBI:1 | NCBI:131567 | NCBI:2759 | NCBI:33090 ...   \n",
       "18  EOL:5006 | EOL:9157927 | EOL:8052 | EOL_V2:116...   \n",
       "19  NCBI:1 | NCBI:10239 | NCBI:2559587 | NCBI:2732...   \n",
       "20  NCBI:1 | NCBI:10239 | NCBI:2559587 | NCBI:2732...   \n",
       "21  NCBI:1 | NCBI:10239 | NCBI:2559587 | NCBI:2732...   \n",
       "22  NCBI:1 | NCBI:10239 | NCBI:2559587 | NCBI:2732...   \n",
       "23  NCBI:1 | NCBI:10239 | NCBI:2559587 | NCBI:2732...   \n",
       "24  NCBI:1 | NCBI:10239 | NCBI:2559587 | NCBI:2732...   \n",
       "25   GBIF:8 | GBIF:1939 | GBIF:8728634 | GBIF:9147133   \n",
       "\n",
       "                                      taxon_path_rank  \n",
       "0                                                None  \n",
       "1   kingdom | phylum | class | order | family | ge...  \n",
       "2   kingdom | phylum | class | order | family | ge...  \n",
       "3   null | null | superkingdom | kingdom | phylum ...  \n",
       "4   kingdom | phylum | class | order | family | ge...  \n",
       "5   kingdom | phylum | class | order | family | ge...  \n",
       "6   null | null | superkingdom | kingdom | phylum ...  \n",
       "7   null | null | superkingdom | kingdom | phylum ...  \n",
       "8   null | null | superkingdom | kingdom | phylum ...  \n",
       "9   null | null | superkingdom | kingdom | phylum ...  \n",
       "10  null | null | superkingdom | kingdom | phylum ...  \n",
       "11  kingdom | phylum | class | order | family | ge...  \n",
       "12  kingdom | phylum | class | order | family | ge...  \n",
       "13  null | null | superkingdom | kingdom | phylum ...  \n",
       "14  null | null | superkingdom | kingdom | phylum ...  \n",
       "15  kingdom | phylum | class | order | family | ge...  \n",
       "16  null | null | superkingdom | null | kingdom | ...  \n",
       "17  null | null | superkingdom | kingdom | phylum ...  \n",
       "18  null | null | family | subfamily | genus | nul...  \n",
       "19  null | superkingdom | null | kingdom | phylum ...  \n",
       "20  null | superkingdom | null | kingdom | phylum ...  \n",
       "21  null | superkingdom | null | kingdom | phylum ...  \n",
       "22  null | superkingdom | null | kingdom | phylum ...  \n",
       "23  null | superkingdom | null | kingdom | phylum ...  \n",
       "24  null | superkingdom | null | kingdom | phylum ...  \n",
       "25                 kingdom | family | genus | species  "
      ]
     },
     "execution_count": 11,
     "metadata": {},
     "output_type": "execute_result"
    }
   ],
   "source": [
    "print('cek data')\n",
    "print('node ',df_node.shape)\n",
    "print('edge ',df_edge.shape)\n",
    "\n",
    "df_node"
   ]
  },
  {
   "cell_type": "markdown",
   "id": "8b52b0fe",
   "metadata": {},
   "source": [
    "### Disambiguasi \n",
    "Konversi ke NCBI semua Node (kode di Edge juga)"
   ]
  },
  {
   "cell_type": "code",
   "execution_count": 12,
   "id": "a360b7a0",
   "metadata": {},
   "outputs": [],
   "source": [
    "df_node_sebelum_convert_NCBI = df_node.copy()"
   ]
  },
  {
   "cell_type": "code",
   "execution_count": 13,
   "id": "4f727ce7",
   "metadata": {},
   "outputs": [
    {
     "name": "stdout",
     "output_type": "stream",
     "text": [
      "['GBIF', 'EOL', 'EOL_V2'] 3  database,  3  kali perulangan akses NCBI\n",
      "489\n"
     ]
    },
    {
     "ename": "HTTPError",
     "evalue": "HTTP Error 403: Forbidden",
     "output_type": "error",
     "traceback": [
      "\u001b[0;31m---------------------------------------------------------------------------\u001b[0m",
      "\u001b[0;31mHTTPError\u001b[0m                                 Traceback (most recent call last)",
      "Cell \u001b[0;32mIn[13], line 2\u001b[0m\n\u001b[1;32m      1\u001b[0m kamus_ncbi \u001b[38;5;241m=\u001b[39m buat_kamus_kosong(df_node)\n\u001b[0;32m----> 2\u001b[0m kamus_ncbi \u001b[38;5;241m=\u001b[39m \u001b[43mupdate_kamus_pake_wikidata\u001b[49m\u001b[43m(\u001b[49m\u001b[43mkamus_ncbi\u001b[49m\u001b[43m)\u001b[49m\n\u001b[1;32m      3\u001b[0m \u001b[38;5;66;03m#update dataframe pake kamus\u001b[39;00m\n\u001b[1;32m      4\u001b[0m df_node,df_edge \u001b[38;5;241m=\u001b[39m update_df_pake_kamus(kamus_ncbi,df_node,df_edge)\n",
      "File \u001b[0;32m~/2latihan_python/_Kuliah/thesis/wikidata_etc/fix_thesis/disambiguation_optimized.py:62\u001b[0m, in \u001b[0;36mupdate_kamus_pake_wikidata\u001b[0;34m(kamus_ncbi)\u001b[0m\n\u001b[1;32m     60\u001b[0m spw\u001b[38;5;241m.\u001b[39msetQuery(query)\n\u001b[1;32m     61\u001b[0m spw\u001b[38;5;241m.\u001b[39msetReturnFormat(format_)\n\u001b[0;32m---> 62\u001b[0m hasil\u001b[38;5;241m=\u001b[39m\u001b[43mspw\u001b[49m\u001b[38;5;241;43m.\u001b[39;49m\u001b[43mquery\u001b[49m\u001b[43m(\u001b[49m\u001b[43m)\u001b[49m\u001b[38;5;241m.\u001b[39mconvert()\n\u001b[1;32m     63\u001b[0m \u001b[38;5;66;03m# skip kalo kosong\u001b[39;00m\n\u001b[1;32m     64\u001b[0m \u001b[38;5;28;01mif\u001b[39;00m(\u001b[38;5;129;01mnot\u001b[39;00m hasil[\u001b[38;5;124m'\u001b[39m\u001b[38;5;124mresults\u001b[39m\u001b[38;5;124m'\u001b[39m][\u001b[38;5;124m'\u001b[39m\u001b[38;5;124mbindings\u001b[39m\u001b[38;5;124m'\u001b[39m]):\n",
      "File \u001b[0;32m~/miniconda3/envs/thesis/lib/python3.8/site-packages/SPARQLWrapper/Wrapper.py:960\u001b[0m, in \u001b[0;36mSPARQLWrapper.query\u001b[0;34m(self)\u001b[0m\n\u001b[1;32m    942\u001b[0m \u001b[38;5;28;01mdef\u001b[39;00m \u001b[38;5;21mquery\u001b[39m(\u001b[38;5;28mself\u001b[39m) \u001b[38;5;241m-\u001b[39m\u001b[38;5;241m>\u001b[39m \u001b[38;5;124m\"\u001b[39m\u001b[38;5;124mQueryResult\u001b[39m\u001b[38;5;124m\"\u001b[39m:\n\u001b[1;32m    943\u001b[0m     \u001b[38;5;124;03m\"\"\"\u001b[39;00m\n\u001b[1;32m    944\u001b[0m \u001b[38;5;124;03m    Execute the query.\u001b[39;00m\n\u001b[1;32m    945\u001b[0m \u001b[38;5;124;03m    Exceptions can be raised if either the URI is wrong or the HTTP sends back an error (this is also the\u001b[39;00m\n\u001b[0;32m   (...)\u001b[0m\n\u001b[1;32m    958\u001b[0m \u001b[38;5;124;03m    :rtype: :class:`QueryResult` instance\u001b[39;00m\n\u001b[1;32m    959\u001b[0m \u001b[38;5;124;03m    \"\"\"\u001b[39;00m\n\u001b[0;32m--> 960\u001b[0m     \u001b[38;5;28;01mreturn\u001b[39;00m QueryResult(\u001b[38;5;28;43mself\u001b[39;49m\u001b[38;5;241;43m.\u001b[39;49m\u001b[43m_query\u001b[49m\u001b[43m(\u001b[49m\u001b[43m)\u001b[49m)\n",
      "File \u001b[0;32m~/miniconda3/envs/thesis/lib/python3.8/site-packages/SPARQLWrapper/Wrapper.py:940\u001b[0m, in \u001b[0;36mSPARQLWrapper._query\u001b[0;34m(self)\u001b[0m\n\u001b[1;32m    938\u001b[0m     \u001b[38;5;28;01mraise\u001b[39;00m EndPointInternalError(e\u001b[38;5;241m.\u001b[39mread())\n\u001b[1;32m    939\u001b[0m \u001b[38;5;28;01melse\u001b[39;00m:\n\u001b[0;32m--> 940\u001b[0m     \u001b[38;5;28;01mraise\u001b[39;00m e\n",
      "File \u001b[0;32m~/miniconda3/envs/thesis/lib/python3.8/site-packages/SPARQLWrapper/Wrapper.py:926\u001b[0m, in \u001b[0;36mSPARQLWrapper._query\u001b[0;34m(self)\u001b[0m\n\u001b[1;32m    924\u001b[0m         response \u001b[38;5;241m=\u001b[39m urlopener(request, timeout\u001b[38;5;241m=\u001b[39m\u001b[38;5;28mself\u001b[39m\u001b[38;5;241m.\u001b[39mtimeout)\n\u001b[1;32m    925\u001b[0m     \u001b[38;5;28;01melse\u001b[39;00m:\n\u001b[0;32m--> 926\u001b[0m         response \u001b[38;5;241m=\u001b[39m \u001b[43murlopener\u001b[49m\u001b[43m(\u001b[49m\u001b[43mrequest\u001b[49m\u001b[43m)\u001b[49m\n\u001b[1;32m    927\u001b[0m     \u001b[38;5;28;01mreturn\u001b[39;00m response, \u001b[38;5;28mself\u001b[39m\u001b[38;5;241m.\u001b[39mreturnFormat\n\u001b[1;32m    928\u001b[0m \u001b[38;5;28;01mexcept\u001b[39;00m urllib\u001b[38;5;241m.\u001b[39merror\u001b[38;5;241m.\u001b[39mHTTPError \u001b[38;5;28;01mas\u001b[39;00m e:\n",
      "File \u001b[0;32m~/miniconda3/envs/thesis/lib/python3.8/urllib/request.py:222\u001b[0m, in \u001b[0;36murlopen\u001b[0;34m(url, data, timeout, cafile, capath, cadefault, context)\u001b[0m\n\u001b[1;32m    220\u001b[0m \u001b[38;5;28;01melse\u001b[39;00m:\n\u001b[1;32m    221\u001b[0m     opener \u001b[38;5;241m=\u001b[39m _opener\n\u001b[0;32m--> 222\u001b[0m \u001b[38;5;28;01mreturn\u001b[39;00m \u001b[43mopener\u001b[49m\u001b[38;5;241;43m.\u001b[39;49m\u001b[43mopen\u001b[49m\u001b[43m(\u001b[49m\u001b[43murl\u001b[49m\u001b[43m,\u001b[49m\u001b[43m \u001b[49m\u001b[43mdata\u001b[49m\u001b[43m,\u001b[49m\u001b[43m \u001b[49m\u001b[43mtimeout\u001b[49m\u001b[43m)\u001b[49m\n",
      "File \u001b[0;32m~/miniconda3/envs/thesis/lib/python3.8/urllib/request.py:531\u001b[0m, in \u001b[0;36mOpenerDirector.open\u001b[0;34m(self, fullurl, data, timeout)\u001b[0m\n\u001b[1;32m    529\u001b[0m \u001b[38;5;28;01mfor\u001b[39;00m processor \u001b[38;5;129;01min\u001b[39;00m \u001b[38;5;28mself\u001b[39m\u001b[38;5;241m.\u001b[39mprocess_response\u001b[38;5;241m.\u001b[39mget(protocol, []):\n\u001b[1;32m    530\u001b[0m     meth \u001b[38;5;241m=\u001b[39m \u001b[38;5;28mgetattr\u001b[39m(processor, meth_name)\n\u001b[0;32m--> 531\u001b[0m     response \u001b[38;5;241m=\u001b[39m \u001b[43mmeth\u001b[49m\u001b[43m(\u001b[49m\u001b[43mreq\u001b[49m\u001b[43m,\u001b[49m\u001b[43m \u001b[49m\u001b[43mresponse\u001b[49m\u001b[43m)\u001b[49m\n\u001b[1;32m    533\u001b[0m \u001b[38;5;28;01mreturn\u001b[39;00m response\n",
      "File \u001b[0;32m~/miniconda3/envs/thesis/lib/python3.8/urllib/request.py:640\u001b[0m, in \u001b[0;36mHTTPErrorProcessor.http_response\u001b[0;34m(self, request, response)\u001b[0m\n\u001b[1;32m    637\u001b[0m \u001b[38;5;66;03m# According to RFC 2616, \"2xx\" code indicates that the client's\u001b[39;00m\n\u001b[1;32m    638\u001b[0m \u001b[38;5;66;03m# request was successfully received, understood, and accepted.\u001b[39;00m\n\u001b[1;32m    639\u001b[0m \u001b[38;5;28;01mif\u001b[39;00m \u001b[38;5;129;01mnot\u001b[39;00m (\u001b[38;5;241m200\u001b[39m \u001b[38;5;241m<\u001b[39m\u001b[38;5;241m=\u001b[39m code \u001b[38;5;241m<\u001b[39m \u001b[38;5;241m300\u001b[39m):\n\u001b[0;32m--> 640\u001b[0m     response \u001b[38;5;241m=\u001b[39m \u001b[38;5;28;43mself\u001b[39;49m\u001b[38;5;241;43m.\u001b[39;49m\u001b[43mparent\u001b[49m\u001b[38;5;241;43m.\u001b[39;49m\u001b[43merror\u001b[49m\u001b[43m(\u001b[49m\n\u001b[1;32m    641\u001b[0m \u001b[43m        \u001b[49m\u001b[38;5;124;43m'\u001b[39;49m\u001b[38;5;124;43mhttp\u001b[39;49m\u001b[38;5;124;43m'\u001b[39;49m\u001b[43m,\u001b[49m\u001b[43m \u001b[49m\u001b[43mrequest\u001b[49m\u001b[43m,\u001b[49m\u001b[43m \u001b[49m\u001b[43mresponse\u001b[49m\u001b[43m,\u001b[49m\u001b[43m \u001b[49m\u001b[43mcode\u001b[49m\u001b[43m,\u001b[49m\u001b[43m \u001b[49m\u001b[43mmsg\u001b[49m\u001b[43m,\u001b[49m\u001b[43m \u001b[49m\u001b[43mhdrs\u001b[49m\u001b[43m)\u001b[49m\n\u001b[1;32m    643\u001b[0m \u001b[38;5;28;01mreturn\u001b[39;00m response\n",
      "File \u001b[0;32m~/miniconda3/envs/thesis/lib/python3.8/urllib/request.py:569\u001b[0m, in \u001b[0;36mOpenerDirector.error\u001b[0;34m(self, proto, *args)\u001b[0m\n\u001b[1;32m    567\u001b[0m \u001b[38;5;28;01mif\u001b[39;00m http_err:\n\u001b[1;32m    568\u001b[0m     args \u001b[38;5;241m=\u001b[39m (\u001b[38;5;28mdict\u001b[39m, \u001b[38;5;124m'\u001b[39m\u001b[38;5;124mdefault\u001b[39m\u001b[38;5;124m'\u001b[39m, \u001b[38;5;124m'\u001b[39m\u001b[38;5;124mhttp_error_default\u001b[39m\u001b[38;5;124m'\u001b[39m) \u001b[38;5;241m+\u001b[39m orig_args\n\u001b[0;32m--> 569\u001b[0m     \u001b[38;5;28;01mreturn\u001b[39;00m \u001b[38;5;28;43mself\u001b[39;49m\u001b[38;5;241;43m.\u001b[39;49m\u001b[43m_call_chain\u001b[49m\u001b[43m(\u001b[49m\u001b[38;5;241;43m*\u001b[39;49m\u001b[43margs\u001b[49m\u001b[43m)\u001b[49m\n",
      "File \u001b[0;32m~/miniconda3/envs/thesis/lib/python3.8/urllib/request.py:502\u001b[0m, in \u001b[0;36mOpenerDirector._call_chain\u001b[0;34m(self, chain, kind, meth_name, *args)\u001b[0m\n\u001b[1;32m    500\u001b[0m \u001b[38;5;28;01mfor\u001b[39;00m handler \u001b[38;5;129;01min\u001b[39;00m handlers:\n\u001b[1;32m    501\u001b[0m     func \u001b[38;5;241m=\u001b[39m \u001b[38;5;28mgetattr\u001b[39m(handler, meth_name)\n\u001b[0;32m--> 502\u001b[0m     result \u001b[38;5;241m=\u001b[39m \u001b[43mfunc\u001b[49m\u001b[43m(\u001b[49m\u001b[38;5;241;43m*\u001b[39;49m\u001b[43margs\u001b[49m\u001b[43m)\u001b[49m\n\u001b[1;32m    503\u001b[0m     \u001b[38;5;28;01mif\u001b[39;00m result \u001b[38;5;129;01mis\u001b[39;00m \u001b[38;5;129;01mnot\u001b[39;00m \u001b[38;5;28;01mNone\u001b[39;00m:\n\u001b[1;32m    504\u001b[0m         \u001b[38;5;28;01mreturn\u001b[39;00m result\n",
      "File \u001b[0;32m~/miniconda3/envs/thesis/lib/python3.8/urllib/request.py:649\u001b[0m, in \u001b[0;36mHTTPDefaultErrorHandler.http_error_default\u001b[0;34m(self, req, fp, code, msg, hdrs)\u001b[0m\n\u001b[1;32m    648\u001b[0m \u001b[38;5;28;01mdef\u001b[39;00m \u001b[38;5;21mhttp_error_default\u001b[39m(\u001b[38;5;28mself\u001b[39m, req, fp, code, msg, hdrs):\n\u001b[0;32m--> 649\u001b[0m     \u001b[38;5;28;01mraise\u001b[39;00m HTTPError(req\u001b[38;5;241m.\u001b[39mfull_url, code, msg, hdrs, fp)\n",
      "\u001b[0;31mHTTPError\u001b[0m: HTTP Error 403: Forbidden"
     ]
    }
   ],
   "source": [
    "kamus_ncbi = buat_kamus_kosong(df_node)\n",
    "kamus_ncbi = update_kamus_pake_wikidata(kamus_ncbi)\n",
    "#update dataframe pake kamus\n",
    "df_node,df_edge = update_df_pake_kamus(kamus_ncbi,df_node,df_edge)\n",
    "df_node,df_edge = update_df_pake_path_ujung(df_node,df_edge)"
   ]
  },
  {
   "cell_type": "code",
   "execution_count": null,
   "id": "3ddcf079",
   "metadata": {},
   "outputs": [],
   "source": []
  },
  {
   "cell_type": "markdown",
   "id": "d9a3249d",
   "metadata": {},
   "source": [
    "### Standardization : Menambah kolom taxon\n",
    "Menambah kolom taxon ke dalam dataframe"
   ]
  },
  {
   "cell_type": "code",
   "execution_count": null,
   "id": "9f3b8875",
   "metadata": {},
   "outputs": [],
   "source": [
    "#buat kolom taxon, default none\n",
    "df_node = buat_kolom_taxon_awal(df_node)\n",
    "# isi pake ncbi\n",
    "df_node = addTaxonColumn(df_node,obo)"
   ]
  },
  {
   "cell_type": "markdown",
   "id": "b9cc7b63",
   "metadata": {},
   "source": [
    "#### Hapus kalo masih ada selain NCBI"
   ]
  },
  {
   "cell_type": "code",
   "execution_count": null,
   "id": "8f1a6028",
   "metadata": {},
   "outputs": [],
   "source": [
    "df_node, df_edge = removeOtherThanNCBI(df_node,df_edge)"
   ]
  },
  {
   "cell_type": "code",
   "execution_count": null,
   "id": "17d977d6",
   "metadata": {},
   "outputs": [],
   "source": [
    "# Menghapus kolom yang tidak lagi dibutuhkan\n",
    "# df_node.drop(['taxon_path_ids','taxon_path_rank'], axis=1,inplace=True) #,'taxon_rank'\n",
    "\n",
    "#hapus edge yang tidak ada nodenya\n",
    "df_edge = removeEdgesNotInNodes(df_node, df_edge)\n",
    "\n",
    "# df_edge.drop_duplicates(inplace=True)"
   ]
  },
  {
   "cell_type": "markdown",
   "id": "7b52868a",
   "metadata": {},
   "source": [
    "kingdom apa saja di data awal"
   ]
  },
  {
   "cell_type": "code",
   "execution_count": null,
   "id": "b5c82412",
   "metadata": {},
   "outputs": [],
   "source": [
    "print(df_node.kingdom.unique())"
   ]
  },
  {
   "cell_type": "markdown",
   "id": "320e9119",
   "metadata": {},
   "source": [
    "Node Tanaman"
   ]
  },
  {
   "cell_type": "code",
   "execution_count": null,
   "id": "aca42846",
   "metadata": {},
   "outputs": [],
   "source": [
    "df_node[df_node.kingdom=='NCBI:33090_Viridiplantae']"
   ]
  },
  {
   "cell_type": "code",
   "execution_count": null,
   "id": "2018646a",
   "metadata": {},
   "outputs": [],
   "source": []
  },
  {
   "cell_type": "code",
   "execution_count": null,
   "id": "9c004c5f",
   "metadata": {},
   "outputs": [],
   "source": []
  },
  {
   "cell_type": "code",
   "execution_count": null,
   "id": "5672e1b1",
   "metadata": {},
   "outputs": [],
   "source": []
  },
  {
   "cell_type": "markdown",
   "id": "6f072ae6",
   "metadata": {},
   "source": [
    "# Praproses : Tanaman - has pathogen"
   ]
  },
  {
   "cell_type": "code",
   "execution_count": null,
   "id": "066d8001",
   "metadata": {},
   "outputs": [],
   "source": [
    "df_node.columns"
   ]
  },
  {
   "cell_type": "code",
   "execution_count": null,
   "id": "7a91e5ce",
   "metadata": {},
   "outputs": [],
   "source": [
    "import requests\n",
    "from tqdm import tqdm\n",
    "\n",
    "df_plant=df_node[df_node.kingdom=='NCBI:33090_Viridiplantae']\n",
    "\n",
    "kolom=[\n",
    "    'source_taxon_external_id',\n",
    "    'source_taxon_name',\n",
    "    'source_taxon_path',\n",
    "    'source_taxon_path_ids',\n",
    "    'source_taxon_path_ranks',\n",
    "    \n",
    "    'interaction_type',\n",
    "    \n",
    "    'target_taxon_external_id',\n",
    "    'target_taxon_name',\n",
    "    'target_taxon_path',\n",
    "    'target_taxon_path_ids',\n",
    "    'target_taxon_path_ranks',\n",
    "]\n",
    "interactionType=tipe_interaksi_tanaman\n",
    "node_to_add=pd.DataFrame(columns = [\n",
    "    'taxon_id',\n",
    "    'taxon_name',\n",
    "    'taxon_path',\n",
    "    'taxon_path_ids',\n",
    "    'taxon_path_rank',\n",
    "])\n",
    "edge_to_add=pd.DataFrame(columns = [\n",
    "    'source_taxon_id',\n",
    "    'target_taxon_id',\n",
    "    'interaction_type',\n",
    "])\n",
    "\n",
    "kebalikan={\n",
    "    'hostOf':'hasHost',\n",
    "    'hasPathogen':'pathogenOf', \n",
    "    'pollinatedBy':'pollinates', \n",
    "    'flowersVisitedBy':'visitFlowersOf',\n",
    "    'visitedBy':'visit'\n",
    "}\n",
    "\n",
    "\n",
    "#tanaman\n",
    "for idx,i in tqdm(df_plant.iterrows(), total=df_plant.shape[0]):\n",
    "    \n",
    "    plant=i.taxon_name.replace(' ','%20')\n",
    "    link=\"https://api.globalbioticinteractions.org/interaction?sourceTaxon=\"+plant+\"&interactionType=\"+interactionType+\"&fields=\"+(','.join(kolom))\n",
    "    response = requests.get(link)\n",
    "    res=response.json()\n",
    "    \n",
    "    #list data\n",
    "    taxon_id=[]\n",
    "    taxon_name=[]\n",
    "    taxon_path=[]\n",
    "    taxon_path_ids=[]\n",
    "    taxon_path_rank=[]\n",
    "    interaction_type=[]\n",
    "    \n",
    "    for x in res['data']:\n",
    "        taxon_id.append(x[6])\n",
    "        taxon_name.append(x[7])\n",
    "        taxon_path.append(x[8])\n",
    "        taxon_path_ids.append(x[9])\n",
    "        taxon_path_rank.append(x[10])\n",
    "        \n",
    "        if x[5] in ['hostOf', 'hasPathogen', 'pollinatedBy', 'flowersVisitedBy','visitedBy']:\n",
    "            interaction_type.append(kebalikan[x[5]])\n",
    "        else:\n",
    "            interaction_type.append('patogennya')\n",
    "            \n",
    "    # print(\"Tanaman\", i.taxon_name)\n",
    "    # print('Patogen',taxon_name)\n",
    "    \n",
    "    ## NODE\n",
    "    #concat ke dataframe lama\n",
    "    node_to_add = pd.concat([\n",
    "        node_to_add,\n",
    "        pd.DataFrame({\n",
    "            'taxon_id':taxon_id,\n",
    "            'taxon_name':taxon_name,\n",
    "            'taxon_path':taxon_path,\n",
    "            'taxon_path_ids':taxon_path_ids,\n",
    "            'taxon_path_rank':taxon_path_rank,\n",
    "        })\n",
    "    ], ignore_index = True)\n",
    "    node_to_add.reset_index()\n",
    "    \n",
    "    ## EDGE\n",
    "    #concat ke dataframe lama\n",
    "    edge_to_add = pd.concat([\n",
    "        edge_to_add,\n",
    "        pd.DataFrame({\n",
    "            'source_taxon_id': taxon_id, # patogen\n",
    "            'target_taxon_id': i.taxon_id, # tanaman\n",
    "            'interaction_type': interaction_type})\n",
    "    ], ignore_index = True)\n",
    "    edge_to_add.reset_index()    \n",
    "    \n",
    "    "
   ]
  },
  {
   "cell_type": "markdown",
   "id": "40a3cd27",
   "metadata": {},
   "source": [
    "fyi : meskipun sudah ditentukan hanya relasi 'hostOf' tetap dapat tipe relasi lain. "
   ]
  },
  {
   "cell_type": "code",
   "execution_count": null,
   "id": "4cdbf14c",
   "metadata": {},
   "outputs": [],
   "source": [
    "# df_node[df_node['taxon_id']=='NCBI:4072']\n",
    "# edge_to_add[edge_to_add['interaction_type']=='pollinatedBy']\n",
    "edge_to_add.interaction_type.unique()\n",
    "# edge_to_add"
   ]
  },
  {
   "cell_type": "markdown",
   "id": "8254c2e7",
   "metadata": {},
   "source": [
    "### Cleaning proses"
   ]
  },
  {
   "cell_type": "code",
   "execution_count": null,
   "id": "d3720c54",
   "metadata": {
    "scrolled": false
   },
   "outputs": [],
   "source": [
    "#ada duplikasi, kemungkinan karena pencarian yang hanya menggunakan nama. abaikan dlu\n",
    "\n",
    "#awal\n",
    "print('node : awal',len(node_to_add))\n",
    "\n",
    "#duplikasi\n",
    "node_to_add.drop_duplicates(inplace=True)\n",
    "print('node : setelah drop duplikat',len(node_to_add))\n",
    "\n",
    "# id bukan NCBI tapi taxon path id kosong\n",
    "hapus=[i for i,d in node_to_add[\n",
    "    (node_to_add.taxon_id.str.contains('NCBI')==False) & (node_to_add.taxon_path_ids.isnull())\n",
    "].iterrows()]\n",
    "node_to_add.drop(hapus, inplace=True)\n",
    "print('node : setelah bukan NCBI tapi taxon path id kosong',len(node_to_add))\n",
    "\n",
    "#edge #boleh ini murni duplikasi, karena sebelum disambiguasi.\n",
    "print('edge : awal ',len(node_to_add))\n",
    "edge_to_add.drop_duplicates(inplace=True)\n",
    "print('edge : setelah',len(node_to_add))"
   ]
  },
  {
   "cell_type": "code",
   "execution_count": null,
   "id": "0f89a501",
   "metadata": {},
   "outputs": [],
   "source": [
    "plot_missing_value(node_to_add)"
   ]
  },
  {
   "cell_type": "markdown",
   "id": "d58adf31",
   "metadata": {},
   "source": [
    "### Disambiguasi"
   ]
  },
  {
   "cell_type": "code",
   "execution_count": null,
   "id": "beca34be",
   "metadata": {},
   "outputs": [],
   "source": [
    "node_to_add_sebelum_convert_NCBI=node_to_add.copy()\n",
    "edge_to_add_sebelum_convert_NCBI=edge_to_add.copy()"
   ]
  },
  {
   "cell_type": "code",
   "execution_count": null,
   "id": "de1ff69a",
   "metadata": {},
   "outputs": [],
   "source": [
    "kamus_ncbi = buat_kamus_kosong(node_to_add)\n",
    "kamus_ncbi = update_kamus_pake_wikidata(kamus_ncbi)\n",
    "#update dataframe pake kamus\n",
    "node_to_add,edge_to_add = update_df_pake_kamus(kamus_ncbi,node_to_add,edge_to_add)\n",
    "node_to_add,edge_to_add = update_df_pake_path_ujung(node_to_add, edge_to_add)"
   ]
  },
  {
   "cell_type": "markdown",
   "id": "6b0d3c0f",
   "metadata": {},
   "source": [
    "### Tambah kolom taxon"
   ]
  },
  {
   "cell_type": "code",
   "execution_count": null,
   "id": "ad14ca3a",
   "metadata": {},
   "outputs": [],
   "source": [
    "#buat kolom taxon, isi none dan isi dari path\n",
    "node_to_add = buat_kolom_taxon_awal(node_to_add)\n",
    "\n",
    "#isi kolom taxon, pake NCBI\n",
    "node_to_add = addTaxonColumn(node_to_add, obo)"
   ]
  },
  {
   "cell_type": "markdown",
   "id": "45a2dfc1",
   "metadata": {},
   "source": [
    "### remove another node than NCBI"
   ]
  },
  {
   "cell_type": "code",
   "execution_count": null,
   "id": "bd2b5f1e",
   "metadata": {},
   "outputs": [],
   "source": [
    "node_to_add,edge_to_add = removeOtherThanNCBI(node_to_add,edge_to_add)"
   ]
  },
  {
   "cell_type": "markdown",
   "id": "21e65db4",
   "metadata": {},
   "source": [
    "### Concat data_to_add tambahan"
   ]
  },
  {
   "cell_type": "code",
   "execution_count": null,
   "id": "5a4c94ea",
   "metadata": {},
   "outputs": [],
   "source": [
    "df_node=pd.concat([df_node,node_to_add], axis=0)\n",
    "df_edge=pd.concat([df_edge,edge_to_add], axis=0)"
   ]
  },
  {
   "cell_type": "code",
   "execution_count": null,
   "id": "92d54ea2",
   "metadata": {},
   "outputs": [],
   "source": [
    "print('Shape node setelah concat :', df_node.shape)\n",
    "print('Shape edge setelah concat :', df_edge.shape)"
   ]
  },
  {
   "cell_type": "markdown",
   "id": "b56b62e4",
   "metadata": {},
   "source": [
    "#### Filter lagi duplikasi"
   ]
  },
  {
   "cell_type": "code",
   "execution_count": null,
   "id": "6ded1889",
   "metadata": {},
   "outputs": [],
   "source": [
    "print('duplikasi node')\n",
    "print(df_node.shape, 'drop duplikat -->', df_node.drop_duplicates(subset=[\"taxon_id\"]).shape)\n",
    "print('duplikasi edge')\n",
    "print(df_edge.shape, 'drop duplikat -->', df_edge.drop_duplicates().shape)\n",
    "\n",
    "#hapus duplikasi node\n",
    "df_node.drop_duplicates(subset=[\"taxon_id\"], keep='last',inplace=True)\n",
    "#edge menyesuaikan\n",
    "df_edge = removeEdgesNotInNodes(df_node, df_edge)"
   ]
  },
  {
   "cell_type": "code",
   "execution_count": null,
   "id": "ce727a3f",
   "metadata": {},
   "outputs": [],
   "source": [
    "print('duplikasi edge')\n",
    "print(df_edge.shape, 'drop duplikat -->', df_edge.drop_duplicates().shape)\n",
    "#masih ada duplikasi edge, itu pilihan apakah akan dihilangkan atau tidak"
   ]
  },
  {
   "cell_type": "code",
   "execution_count": null,
   "id": "a101aa08",
   "metadata": {},
   "outputs": [],
   "source": [
    "df_node.shape,df_edge.shape\n",
    "\n",
    "# cara hapus edge duplikat\n",
    "# df_edge.drop_duplicates(inplace=True)"
   ]
  },
  {
   "cell_type": "code",
   "execution_count": null,
   "id": "6f57de88",
   "metadata": {},
   "outputs": [],
   "source": [
    "df_node"
   ]
  },
  {
   "cell_type": "code",
   "execution_count": null,
   "id": "2a3b555e",
   "metadata": {},
   "outputs": [],
   "source": [
    "df_edge"
   ]
  },
  {
   "cell_type": "markdown",
   "id": "f1b47cfa",
   "metadata": {},
   "source": [
    "### Fungsi untuk Filter serangga, vektor, virus\n",
    "dipake dibawah setelah concat dengan data to add\n",
    "\n",
    "##### filter serangga dll\n",
    "pake'filum': 'NCBI:6656_Arthropoda'\n",
    "\n",
    "##### filter tanaman\n",
    "kingdom=='NCBI:33090_Viridiplantae'\n",
    "\n",
    "##### filter virus\n",
    "pake superkingdom = 'NCBI:10239_Viruses'"
   ]
  },
  {
   "cell_type": "markdown",
   "id": "36c32f1f",
   "metadata": {},
   "source": [
    "kalau ingin ada data artopoda lain seperti laba2 dsb maka pake filter filum artopoda. nanti tetap di filter lagi di proses, yang bukan insect masuk di no group."
   ]
  },
  {
   "cell_type": "code",
   "execution_count": null,
   "id": "a07a2a50",
   "metadata": {},
   "outputs": [],
   "source": [
    "print('Shape :', df_node.shape)\n",
    "print('Edge :', df_edge.shape)"
   ]
  },
  {
   "cell_type": "code",
   "execution_count": null,
   "id": "f7c4db21",
   "metadata": {},
   "outputs": [],
   "source": [
    "# filter\n",
    "# df_node,df_edge = takeNodeAndEdgeByFilter(\n",
    "#     df_node[ \n",
    "#         (df_node.superkingdom=='NCBI:10239_Viruses') | \n",
    "#         (df_node.kingdom=='NCBI:33090_Viridiplantae') | \n",
    "#         (df_node.phylum=='NCBI:6656_Arthropoda') \n",
    "#         #(df_node['class']!='NCBI:50557_Insecta')\n",
    "#     ], df_node, df_edge\n",
    "# )\n",
    "\n",
    "# hapus kingdom isi null\n",
    "df_node,df_edge = removeNodeAndEdgeByFilter(df_node[df_node.kingdom.isnull()], df_node,df_edge)"
   ]
  },
  {
   "cell_type": "code",
   "execution_count": null,
   "id": "231d0191",
   "metadata": {},
   "outputs": [],
   "source": [
    "print('Shape :', df_node.shape)\n",
    "print('Edge :', df_edge.shape)"
   ]
  },
  {
   "cell_type": "code",
   "execution_count": null,
   "id": "120a11df",
   "metadata": {},
   "outputs": [],
   "source": [
    "#hapus lagi edge kalo masih ada edge tidak ada di node\n",
    "df_edge = removeEdgesNotInNodes(df_node, df_edge)"
   ]
  },
  {
   "cell_type": "code",
   "execution_count": null,
   "id": "56c463f4",
   "metadata": {},
   "outputs": [],
   "source": [
    "print('Shape :', df_node.shape)\n",
    "print('Edge :', df_edge.shape)"
   ]
  },
  {
   "cell_type": "code",
   "execution_count": null,
   "id": "4615bc7f",
   "metadata": {},
   "outputs": [],
   "source": [
    "df_node"
   ]
  },
  {
   "cell_type": "code",
   "execution_count": null,
   "id": "b6f61095",
   "metadata": {},
   "outputs": [],
   "source": [
    "# Menghapus kolom yang tidak lagi dibutuhkan\n",
    "node_to_add.drop(['taxon_rank'], axis=1,inplace=True) #dihapus karena menyesuaikan draft saja. dan karena tidak tahu mbken apa"
   ]
  },
  {
   "cell_type": "markdown",
   "id": "3b70dbe8",
   "metadata": {},
   "source": [
    "# Save sebelum Konversi dataframe ke Graf\n",
    "\n",
    "konversi graf dinotebook lain. jadi save saja dataframenya"
   ]
  },
  {
   "cell_type": "code",
   "execution_count": null,
   "id": "bd1905f9",
   "metadata": {},
   "outputs": [],
   "source": [
    "df_node.to_csv(os.getcwd()+'/dari_praproses/'+nama_file+'_node.csv')\n",
    "df_edge.to_csv(os.getcwd()+'/dari_praproses/'+nama_file+'_edge.csv')"
   ]
  },
  {
   "cell_type": "code",
   "execution_count": null,
   "id": "08902a2c",
   "metadata": {},
   "outputs": [],
   "source": []
  },
  {
   "cell_type": "code",
   "execution_count": null,
   "id": "03404b67",
   "metadata": {},
   "outputs": [],
   "source": []
  }
 ],
 "metadata": {
  "kernelspec": {
   "display_name": "Python [conda env:thesis]",
   "language": "python",
   "name": "conda-env-thesis-py"
  },
  "language_info": {
   "codemirror_mode": {
    "name": "ipython",
    "version": 3
   },
   "file_extension": ".py",
   "mimetype": "text/x-python",
   "name": "python",
   "nbconvert_exporter": "python",
   "pygments_lexer": "ipython3",
   "version": "3.8.16"
  }
 },
 "nbformat": 4,
 "nbformat_minor": 5
}
