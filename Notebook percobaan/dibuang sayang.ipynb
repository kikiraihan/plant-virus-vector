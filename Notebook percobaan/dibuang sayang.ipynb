{
 "cells": [
  {
   "attachments": {},
   "cell_type": "markdown",
   "id": "55b7db8a",
   "metadata": {},
   "source": [
    "### Ambil degree tertinggi manual"
   ]
  },
  {
   "cell_type": "code",
   "execution_count": null,
   "id": "a91ce71a",
   "metadata": {},
   "outputs": [],
   "source": [
    "# d_tinggi=sorted(dict(gnx.degree).items(), key=lambda item: item[1],reverse=True)\n",
    "# node_=gnx.nodes\n",
    "\n",
    "# for idncbi,nilai in d_tinggi:\n",
    "#     if node_[idncbi]['group']=='serangga':\n",
    "#         print(node_[idncbi]['label'], nilai)"
   ]
  },
  {
   "cell_type": "code",
   "execution_count": null,
   "id": "6f0aaead",
   "metadata": {},
   "outputs": [],
   "source": [
    "# get node lain Terkait pada suatu node, termasuk koneksi dari koneksi2nya. yg terisolasi yang tidak diget.\n",
    "# gnx.nodes['NCBI:13131']\n",
    "# node2=gnx.nodes\n",
    "# for i in nx.node_connected_component(gnx.to_undirected(), 'NCBI:13131'):\n",
    "#     if(node2[i]['group']==\"virus\"):\n",
    "#         print(node2[i]['label'], '--', node2[i]['group'])"
   ]
  },
  {
   "attachments": {},
   "cell_type": "markdown",
   "id": "a6b51d9c",
   "metadata": {},
   "source": [
    "## Pengujian"
   ]
  },
  {
   "attachments": {},
   "cell_type": "markdown",
   "id": "cb49592a",
   "metadata": {},
   "source": [
    "#### Cek manual"
   ]
  },
  {
   "cell_type": "code",
   "execution_count": null,
   "id": "6713eb84",
   "metadata": {},
   "outputs": [],
   "source": [
    "#data acuan\n",
    "{ k:v for k,v in reversed(data_acuan) }"
   ]
  },
  {
   "cell_type": "code",
   "execution_count": null,
   "id": "662250b1",
   "metadata": {},
   "outputs": [],
   "source": [
    "#hasil\n",
    "allnodes[id_hasil]"
   ]
  },
  {
   "cell_type": "code",
   "execution_count": null,
   "id": "46708c13",
   "metadata": {},
   "outputs": [],
   "source": [
    "acuan_"
   ]
  },
  {
   "cell_type": "code",
   "execution_count": null,
   "id": "107da53e",
   "metadata": {},
   "outputs": [],
   "source": [
    "df_node[df_node.taxon_name.str.contains(acuan_)]"
   ]
  },
  {
   "attachments": {},
   "cell_type": "markdown",
   "id": "81ed327a",
   "metadata": {},
   "source": [
    "# Visualisasi Networkx"
   ]
  },
  {
   "cell_type": "code",
   "execution_count": null,
   "id": "87ead29c",
   "metadata": {},
   "outputs": [],
   "source": [
    "G=gnx\n",
    "\n",
    "fig, ax = plt.subplots(figsize=(20, 20))\n",
    "\n",
    "# Generate layout for visualization\n",
    "# pos = nx.kamada_kawai_layout(G)\n",
    "# pos = nx.spring_layout(G)\n",
    "pos = nx.nx_agraph.graphviz_layout(G, prog=\"neato\", args=\"\")\n",
    "\n",
    "# Visualize graph components\n",
    "nx.draw_networkx_edges(G, pos, alpha=0.3, edge_color='g')\n",
    "nx.draw_networkx_nodes(G, pos, node_color=list(nx.get_node_attributes(G, \"color\").values()), alpha=0.9)\n",
    "\n",
    "#node label\n",
    "# for i in ['#b22222','#671f92','#1f922b','#EADDCA']: # filtering dengan bedakan warna node\n",
    "#     label_options = {\"ec\": i, \"fc\": 'white', \"alpha\": 0.7}\n",
    "#     nx.draw_networkx_labels(\n",
    "#         nx.subgraph_view(G, filter_node=lambda n1: G.nodes(data=True)[n1].get(\"color\", True) == i),\n",
    "#         pos, \n",
    "#         font_size=10, \n",
    "#         bbox=label_options\n",
    "#     )\n",
    "\n",
    "#edge labels\n",
    "edge_labels={x:i for i,x in zip(nx.get_edge_attributes(G, \"label\").values(),G.edges())}\n",
    "nx.draw_networkx_edge_labels(G, pos=pos, edge_labels=edge_labels)\n",
    "\n",
    "\n",
    "# Title/legend\n",
    "font = {\"fontname\": \"Helvetica\", \"color\": \"k\", \"fontweight\": \"bold\", \"fontsize\": 14}\n",
    "ax.set_title(\"Interaksi Tanaman-Serangga-Virus\", font)\n",
    "# Change font color for legend\n",
    "font[\"color\"] = \"r\"\n",
    "\n",
    "ax.text(\n",
    "    0.80,\n",
    "    0.10,\n",
    "    \"hijau = Tanaman\",\n",
    "    horizontalalignment=\"center\",\n",
    "    transform=ax.transAxes,\n",
    "    fontdict=font,\n",
    ")\n",
    "ax.text(\n",
    "    0.80,\n",
    "    0.08,\n",
    "    \"merah = Serangga\",\n",
    "    horizontalalignment=\"center\",\n",
    "    transform=ax.transAxes,\n",
    "    fontdict=font,\n",
    ")\n",
    "\n",
    "ax.text(\n",
    "    0.80,\n",
    "    0.06,\n",
    "    \"ungu = Virus\",\n",
    "    horizontalalignment=\"center\",\n",
    "    transform=ax.transAxes,\n",
    "    fontdict=font,\n",
    ")\n",
    "\n",
    "ax.text(\n",
    "    0.80,\n",
    "    0.04,\n",
    "    \"abu-abu = Nogroup\",\n",
    "    horizontalalignment=\"center\",\n",
    "    transform=ax.transAxes,\n",
    "    fontdict=font,\n",
    ")\n",
    "\n",
    "# Resize figure for label readibility\n",
    "ax.margins(0.1, 0.05)\n",
    "fig.tight_layout()\n",
    "plt.axis(\"off\")\n",
    "plt.show()"
   ]
  }
 ],
 "metadata": {
  "kernelspec": {
   "display_name": "Python 3 (ipykernel)",
   "language": "python",
   "name": "python3"
  },
  "language_info": {
   "codemirror_mode": {
    "name": "ipython",
    "version": 3
   },
   "file_extension": ".py",
   "mimetype": "text/x-python",
   "name": "python",
   "nbconvert_exporter": "python",
   "pygments_lexer": "ipython3",
   "version": "3.9.16"
  }
 },
 "nbformat": 4,
 "nbformat_minor": 5
}
