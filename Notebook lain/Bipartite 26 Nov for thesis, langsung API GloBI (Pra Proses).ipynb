{
 "cells": [
  {
   "cell_type": "markdown",
   "id": "8d37bfdb",
   "metadata": {},
   "source": [
    "# Praproses Thesis"
   ]
  },
  {
   "cell_type": "markdown",
   "id": "ec580857",
   "metadata": {},
   "source": [
    "Ini sama dengan bipartite 24 thesis, tapi ini full pake API GloBI"
   ]
  },
  {
   "cell_type": "markdown",
   "id": "209a378d",
   "metadata": {},
   "source": [
    "Cara json to dataframe https://towardsdatascience.com/how-to-convert-json-into-a-pandas-dataframe-100b2ae1e0d8"
   ]
  },
  {
   "cell_type": "code",
   "execution_count": 35,
   "id": "0f727580",
   "metadata": {},
   "outputs": [],
   "source": [
    "# # reset import package\n",
    "# def reloadPackageOwn():\n",
    "#     from importlib import reload  \n",
    "#     import os # we use os.path.join, os.path.basename\n",
    "#     import sys # we use sys.path\n",
    "#     import glob # we use glob.glob\n",
    "#     import importlib # we use importlib.import_module\n",
    "\n",
    "#     import_folder = os.getcwd()\n",
    "#     sys.path.append(import_folder) # this tells python to look in `import_folder` for imports\n",
    "#     for src_file in glob.glob(os.path.join(import_folder, '*.py')):\n",
    "#         name = os.path.basename(src_file)[:-3]\n",
    "#         importlib.import_module(name)\n",
    "#         reload(sys.modules[name])\n",
    "#         importlib.import_module(name)\n",
    "        \n",
    "# reloadPackageOwn()\n",
    "\n",
    "# # clear cache for all modules\n",
    "# import importlib\n",
    "# importlib.invalidate_caches()"
   ]
  },
  {
   "cell_type": "code",
   "execution_count": 36,
   "id": "7bb05149",
   "metadata": {},
   "outputs": [],
   "source": [
    "import requests\n",
    "from tqdm import tqdm\n",
    "import pandas as pd\n",
    "from owlready2 import get_ontology\n",
    "import os\n",
    "\n",
    "from standardization import addTaxonColumn, buat_kolom_taxon_awal\n",
    "from disambiguation_optimized import buat_kamus_kosong, update_kamus_pake_wikidata, update_df_pake_kamus, update_df_pake_path_ujung, removeOtherThanNCBI\n",
    "from preprocess import cleaning, splitInteractionToNodeEdge\n",
    "from filterNodeEdge import removeNodeAndEdgeByFilter,takeNodeAndEdgeByFilter,removeEdgesNotInNodes"
   ]
  },
  {
   "cell_type": "code",
   "execution_count": 37,
   "id": "41da0210",
   "metadata": {},
   "outputs": [],
   "source": [
    "#parameter\n",
    "virus_txt = 'Waikavirus'.replace(' ','%20')\n",
    "nama_file = '+13Poty'\n",
    "tipe_interaksi_virus = 'pathogenOf'\n",
    "tipe_interaksi_tanaman = 'hasPathogen' #hostOf"
   ]
  },
  {
   "cell_type": "code",
   "execution_count": 38,
   "id": "75ab042c",
   "metadata": {},
   "outputs": [],
   "source": [
    "#0 # Ambil NCBI OBO\n",
    "ncbi_link = os.getcwd()+'/../data/ncbitaxon.owl'\n",
    "onto = get_ontology(ncbi_link)\n",
    "onto.load()\n",
    "obo = onto.get_namespace('http://purl.obolibrary.org/obo/')"
   ]
  },
  {
   "cell_type": "code",
   "execution_count": 39,
   "id": "f0af6f21",
   "metadata": {},
   "outputs": [],
   "source": [
    "kolom=[\n",
    "    'source_taxon_external_id',\n",
    "    'source_taxon_name',\n",
    "    'source_taxon_path',\n",
    "    'source_taxon_path_ids',\n",
    "    'source_taxon_path_ranks',\n",
    "    \n",
    "    'interaction_type',\n",
    "    \n",
    "    'target_taxon_external_id',\n",
    "    'target_taxon_name',\n",
    "    'target_taxon_path',\n",
    "    'target_taxon_path_ids',\n",
    "    'target_taxon_path_ranks',\n",
    "]\n",
    "\n",
    "interactionType=tipe_interaksi_virus\n",
    "\n",
    "link=\"https://api.globalbioticinteractions.org/interaction?sourceTaxon=\"+virus_txt+\"&interactionType=\"+interactionType+\"&fields=\"+(','.join(kolom))\n",
    "response = requests.get(link)\n",
    "res=response.json()\n",
    "\n",
    "if not res['data']:\n",
    "    print('kosong')\n",
    "# JSON To Pandas Dataframe\n",
    "df = pd.json_normalize(res, record_path =['data'])\n",
    "df.columns = kolom"
   ]
  },
  {
   "cell_type": "code",
   "execution_count": 40,
   "id": "7ae8bbfd",
   "metadata": {},
   "outputs": [
    {
     "data": {
      "text/html": [
       "<div>\n",
       "<style scoped>\n",
       "    .dataframe tbody tr th:only-of-type {\n",
       "        vertical-align: middle;\n",
       "    }\n",
       "\n",
       "    .dataframe tbody tr th {\n",
       "        vertical-align: top;\n",
       "    }\n",
       "\n",
       "    .dataframe thead th {\n",
       "        text-align: right;\n",
       "    }\n",
       "</style>\n",
       "<table border=\"1\" class=\"dataframe\">\n",
       "  <thead>\n",
       "    <tr style=\"text-align: right;\">\n",
       "      <th></th>\n",
       "      <th>source_taxon_external_id</th>\n",
       "      <th>source_taxon_name</th>\n",
       "      <th>source_taxon_path</th>\n",
       "      <th>source_taxon_path_ids</th>\n",
       "      <th>source_taxon_path_ranks</th>\n",
       "      <th>interaction_type</th>\n",
       "      <th>target_taxon_external_id</th>\n",
       "      <th>target_taxon_name</th>\n",
       "      <th>target_taxon_path</th>\n",
       "      <th>target_taxon_path_ids</th>\n",
       "      <th>target_taxon_path_ranks</th>\n",
       "    </tr>\n",
       "  </thead>\n",
       "  <tbody>\n",
       "    <tr>\n",
       "      <th>0</th>\n",
       "      <td>NCBI:35287</td>\n",
       "      <td>Rice tungro spherical virus</td>\n",
       "      <td>root | Viruses | Riboviria | Orthornavirae | P...</td>\n",
       "      <td>NCBI:1 | NCBI:10239 | NCBI:2559587 | NCBI:2732...</td>\n",
       "      <td>null | superkingdom | null | kingdom | phylum ...</td>\n",
       "      <td>pathogenOf</td>\n",
       "      <td>GBIF:2703459</td>\n",
       "      <td>Oryza sativa</td>\n",
       "      <td>Plantae | Tracheophyta | Liliopsida | Poales |...</td>\n",
       "      <td>GBIF:6 | GBIF:7707728 | GBIF:196 | GBIF:1369 |...</td>\n",
       "      <td>kingdom | phylum | class | order | family | ge...</td>\n",
       "    </tr>\n",
       "    <tr>\n",
       "      <th>1</th>\n",
       "      <td>NCBI:35287</td>\n",
       "      <td>Rice tungro spherical virus</td>\n",
       "      <td>root | Viruses | Riboviria | Orthornavirae | P...</td>\n",
       "      <td>NCBI:1 | NCBI:10239 | NCBI:2559587 | NCBI:2732...</td>\n",
       "      <td>null | superkingdom | null | kingdom | phylum ...</td>\n",
       "      <td>pathogenOf</td>\n",
       "      <td>GBIF:2703459</td>\n",
       "      <td>Oryza sativa</td>\n",
       "      <td>Plantae | Tracheophyta | Liliopsida | Poales |...</td>\n",
       "      <td>GBIF:6 | GBIF:7707728 | GBIF:196 | GBIF:1369 |...</td>\n",
       "      <td>kingdom | phylum | class | order | family | ge...</td>\n",
       "    </tr>\n",
       "    <tr>\n",
       "      <th>2</th>\n",
       "      <td>NCBI:2419797</td>\n",
       "      <td>Brassica napus RNA virus 1</td>\n",
       "      <td>root | Viruses | Riboviria | Orthornavirae | P...</td>\n",
       "      <td>NCBI:1 | NCBI:10239 | NCBI:2559587 | NCBI:2732...</td>\n",
       "      <td>null | superkingdom | null | kingdom | phylum ...</td>\n",
       "      <td>pathogenOf</td>\n",
       "      <td>NCBI:3708</td>\n",
       "      <td>Brassica napus</td>\n",
       "      <td>root | cellular organisms | Eukaryota | Viridi...</td>\n",
       "      <td>NCBI:1 | NCBI:131567 | NCBI:2759 | NCBI:33090 ...</td>\n",
       "      <td>null | null | superkingdom | kingdom | phylum ...</td>\n",
       "    </tr>\n",
       "    <tr>\n",
       "      <th>3</th>\n",
       "      <td>NCBI:2419797</td>\n",
       "      <td>Brassica napus RNA virus 1</td>\n",
       "      <td>root | Viruses | Riboviria | Orthornavirae | P...</td>\n",
       "      <td>NCBI:1 | NCBI:10239 | NCBI:2559587 | NCBI:2732...</td>\n",
       "      <td>null | superkingdom | null | kingdom | phylum ...</td>\n",
       "      <td>pathogenOf</td>\n",
       "      <td>NCBI:3708</td>\n",
       "      <td>Brassica napus</td>\n",
       "      <td>root | cellular organisms | Eukaryota | Viridi...</td>\n",
       "      <td>NCBI:1 | NCBI:131567 | NCBI:2759 | NCBI:33090 ...</td>\n",
       "      <td>null | null | superkingdom | kingdom | phylum ...</td>\n",
       "    </tr>\n",
       "    <tr>\n",
       "      <th>4</th>\n",
       "      <td>NCBI:1720595</td>\n",
       "      <td>Bellflower vein chlorosis virus</td>\n",
       "      <td>root | Viruses | Riboviria | Orthornavirae | P...</td>\n",
       "      <td>NCBI:1 | NCBI:10239 | NCBI:2559587 | NCBI:2732...</td>\n",
       "      <td>null | superkingdom | null | kingdom | phylum ...</td>\n",
       "      <td>pathogenOf</td>\n",
       "      <td>NCBI:989334</td>\n",
       "      <td>Campanula takesimana</td>\n",
       "      <td>root | cellular organisms | Eukaryota | Viridi...</td>\n",
       "      <td>NCBI:1 | NCBI:131567 | NCBI:2759 | NCBI:33090 ...</td>\n",
       "      <td>null | null | superkingdom | kingdom | phylum ...</td>\n",
       "    </tr>\n",
       "    <tr>\n",
       "      <th>5</th>\n",
       "      <td>NCBI:1720595</td>\n",
       "      <td>Bellflower vein chlorosis virus</td>\n",
       "      <td>root | Viruses | Riboviria | Orthornavirae | P...</td>\n",
       "      <td>NCBI:1 | NCBI:10239 | NCBI:2559587 | NCBI:2732...</td>\n",
       "      <td>null | superkingdom | null | kingdom | phylum ...</td>\n",
       "      <td>pathogenOf</td>\n",
       "      <td>NCBI:989334</td>\n",
       "      <td>Campanula takesimana</td>\n",
       "      <td>root | cellular organisms | Eukaryota | Viridi...</td>\n",
       "      <td>NCBI:1 | NCBI:131567 | NCBI:2759 | NCBI:33090 ...</td>\n",
       "      <td>null | null | superkingdom | kingdom | phylum ...</td>\n",
       "    </tr>\n",
       "    <tr>\n",
       "      <th>6</th>\n",
       "      <td>NCBI:51354</td>\n",
       "      <td>Maize chlorotic dwarf virus</td>\n",
       "      <td>root | Viruses | Riboviria | Orthornavirae | P...</td>\n",
       "      <td>NCBI:1 | NCBI:10239 | NCBI:2559587 | NCBI:2732...</td>\n",
       "      <td>null | superkingdom | null | kingdom | phylum ...</td>\n",
       "      <td>pathogenOf</td>\n",
       "      <td>NCBI:4560</td>\n",
       "      <td>Sorghum halepense</td>\n",
       "      <td>root | cellular organisms | Eukaryota | Viridi...</td>\n",
       "      <td>NCBI:1 | NCBI:131567 | NCBI:2759 | NCBI:33090 ...</td>\n",
       "      <td>null | null | superkingdom | kingdom | phylum ...</td>\n",
       "    </tr>\n",
       "    <tr>\n",
       "      <th>7</th>\n",
       "      <td>NCBI:51354</td>\n",
       "      <td>Maize chlorotic dwarf virus</td>\n",
       "      <td>root | Viruses | Riboviria | Orthornavirae | P...</td>\n",
       "      <td>NCBI:1 | NCBI:10239 | NCBI:2559587 | NCBI:2732...</td>\n",
       "      <td>null | superkingdom | null | kingdom | phylum ...</td>\n",
       "      <td>pathogenOf</td>\n",
       "      <td>GBIF:5290052</td>\n",
       "      <td>Zea mays</td>\n",
       "      <td>Plantae | Tracheophyta | Liliopsida | Poales |...</td>\n",
       "      <td>GBIF:6 | GBIF:7707728 | GBIF:196 | GBIF:1369 |...</td>\n",
       "      <td>kingdom | phylum | class | order | family | ge...</td>\n",
       "    </tr>\n",
       "    <tr>\n",
       "      <th>8</th>\n",
       "      <td>NCBI:51354</td>\n",
       "      <td>Maize chlorotic dwarf virus</td>\n",
       "      <td>root | Viruses | Riboviria | Orthornavirae | P...</td>\n",
       "      <td>NCBI:1 | NCBI:10239 | NCBI:2559587 | NCBI:2732...</td>\n",
       "      <td>null | superkingdom | null | kingdom | phylum ...</td>\n",
       "      <td>pathogenOf</td>\n",
       "      <td>NCBI:4560</td>\n",
       "      <td>Sorghum halepense</td>\n",
       "      <td>root | cellular organisms | Eukaryota | Viridi...</td>\n",
       "      <td>NCBI:1 | NCBI:131567 | NCBI:2759 | NCBI:33090 ...</td>\n",
       "      <td>null | null | superkingdom | kingdom | phylum ...</td>\n",
       "    </tr>\n",
       "    <tr>\n",
       "      <th>9</th>\n",
       "      <td>NCBI:51354</td>\n",
       "      <td>Maize chlorotic dwarf virus</td>\n",
       "      <td>root | Viruses | Riboviria | Orthornavirae | P...</td>\n",
       "      <td>NCBI:1 | NCBI:10239 | NCBI:2559587 | NCBI:2732...</td>\n",
       "      <td>null | superkingdom | null | kingdom | phylum ...</td>\n",
       "      <td>pathogenOf</td>\n",
       "      <td>GBIF:5290052</td>\n",
       "      <td>Zea mays</td>\n",
       "      <td>Plantae | Tracheophyta | Liliopsida | Poales |...</td>\n",
       "      <td>GBIF:6 | GBIF:7707728 | GBIF:196 | GBIF:1369 |...</td>\n",
       "      <td>kingdom | phylum | class | order | family | ge...</td>\n",
       "    </tr>\n",
       "    <tr>\n",
       "      <th>10</th>\n",
       "      <td>no:match</td>\n",
       "      <td>Rice tungro spherical virus (RTSV)—genus Waika...</td>\n",
       "      <td>None</td>\n",
       "      <td>None</td>\n",
       "      <td>None</td>\n",
       "      <td>pathogenOf</td>\n",
       "      <td>GBIF:2703455</td>\n",
       "      <td>Oryza</td>\n",
       "      <td>Plantae | Tracheophyta | Liliopsida | Poales |...</td>\n",
       "      <td>GBIF:6 | GBIF:7707728 | GBIF:196 | GBIF:1369 |...</td>\n",
       "      <td>kingdom | phylum | class | order | family | genus</td>\n",
       "    </tr>\n",
       "    <tr>\n",
       "      <th>11</th>\n",
       "      <td>no:match</td>\n",
       "      <td>Rice tungro spherical virus (RTSV)—genus Waika...</td>\n",
       "      <td>None</td>\n",
       "      <td>None</td>\n",
       "      <td>None</td>\n",
       "      <td>pathogenOf</td>\n",
       "      <td>GBIF:2703455</td>\n",
       "      <td>Oryza</td>\n",
       "      <td>Plantae | Tracheophyta | Liliopsida | Poales |...</td>\n",
       "      <td>GBIF:6 | GBIF:7707728 | GBIF:196 | GBIF:1369 |...</td>\n",
       "      <td>kingdom | phylum | class | order | family | genus</td>\n",
       "    </tr>\n",
       "  </tbody>\n",
       "</table>\n",
       "</div>"
      ],
      "text/plain": [
       "   source_taxon_external_id  \\\n",
       "0                NCBI:35287   \n",
       "1                NCBI:35287   \n",
       "2              NCBI:2419797   \n",
       "3              NCBI:2419797   \n",
       "4              NCBI:1720595   \n",
       "5              NCBI:1720595   \n",
       "6                NCBI:51354   \n",
       "7                NCBI:51354   \n",
       "8                NCBI:51354   \n",
       "9                NCBI:51354   \n",
       "10                 no:match   \n",
       "11                 no:match   \n",
       "\n",
       "                                    source_taxon_name  \\\n",
       "0                         Rice tungro spherical virus   \n",
       "1                         Rice tungro spherical virus   \n",
       "2                          Brassica napus RNA virus 1   \n",
       "3                          Brassica napus RNA virus 1   \n",
       "4                     Bellflower vein chlorosis virus   \n",
       "5                     Bellflower vein chlorosis virus   \n",
       "6                         Maize chlorotic dwarf virus   \n",
       "7                         Maize chlorotic dwarf virus   \n",
       "8                         Maize chlorotic dwarf virus   \n",
       "9                         Maize chlorotic dwarf virus   \n",
       "10  Rice tungro spherical virus (RTSV)—genus Waika...   \n",
       "11  Rice tungro spherical virus (RTSV)—genus Waika...   \n",
       "\n",
       "                                    source_taxon_path  \\\n",
       "0   root | Viruses | Riboviria | Orthornavirae | P...   \n",
       "1   root | Viruses | Riboviria | Orthornavirae | P...   \n",
       "2   root | Viruses | Riboviria | Orthornavirae | P...   \n",
       "3   root | Viruses | Riboviria | Orthornavirae | P...   \n",
       "4   root | Viruses | Riboviria | Orthornavirae | P...   \n",
       "5   root | Viruses | Riboviria | Orthornavirae | P...   \n",
       "6   root | Viruses | Riboviria | Orthornavirae | P...   \n",
       "7   root | Viruses | Riboviria | Orthornavirae | P...   \n",
       "8   root | Viruses | Riboviria | Orthornavirae | P...   \n",
       "9   root | Viruses | Riboviria | Orthornavirae | P...   \n",
       "10                                               None   \n",
       "11                                               None   \n",
       "\n",
       "                                source_taxon_path_ids  \\\n",
       "0   NCBI:1 | NCBI:10239 | NCBI:2559587 | NCBI:2732...   \n",
       "1   NCBI:1 | NCBI:10239 | NCBI:2559587 | NCBI:2732...   \n",
       "2   NCBI:1 | NCBI:10239 | NCBI:2559587 | NCBI:2732...   \n",
       "3   NCBI:1 | NCBI:10239 | NCBI:2559587 | NCBI:2732...   \n",
       "4   NCBI:1 | NCBI:10239 | NCBI:2559587 | NCBI:2732...   \n",
       "5   NCBI:1 | NCBI:10239 | NCBI:2559587 | NCBI:2732...   \n",
       "6   NCBI:1 | NCBI:10239 | NCBI:2559587 | NCBI:2732...   \n",
       "7   NCBI:1 | NCBI:10239 | NCBI:2559587 | NCBI:2732...   \n",
       "8   NCBI:1 | NCBI:10239 | NCBI:2559587 | NCBI:2732...   \n",
       "9   NCBI:1 | NCBI:10239 | NCBI:2559587 | NCBI:2732...   \n",
       "10                                               None   \n",
       "11                                               None   \n",
       "\n",
       "                              source_taxon_path_ranks interaction_type  \\\n",
       "0   null | superkingdom | null | kingdom | phylum ...       pathogenOf   \n",
       "1   null | superkingdom | null | kingdom | phylum ...       pathogenOf   \n",
       "2   null | superkingdom | null | kingdom | phylum ...       pathogenOf   \n",
       "3   null | superkingdom | null | kingdom | phylum ...       pathogenOf   \n",
       "4   null | superkingdom | null | kingdom | phylum ...       pathogenOf   \n",
       "5   null | superkingdom | null | kingdom | phylum ...       pathogenOf   \n",
       "6   null | superkingdom | null | kingdom | phylum ...       pathogenOf   \n",
       "7   null | superkingdom | null | kingdom | phylum ...       pathogenOf   \n",
       "8   null | superkingdom | null | kingdom | phylum ...       pathogenOf   \n",
       "9   null | superkingdom | null | kingdom | phylum ...       pathogenOf   \n",
       "10                                               None       pathogenOf   \n",
       "11                                               None       pathogenOf   \n",
       "\n",
       "   target_taxon_external_id     target_taxon_name  \\\n",
       "0              GBIF:2703459          Oryza sativa   \n",
       "1              GBIF:2703459          Oryza sativa   \n",
       "2                 NCBI:3708        Brassica napus   \n",
       "3                 NCBI:3708        Brassica napus   \n",
       "4               NCBI:989334  Campanula takesimana   \n",
       "5               NCBI:989334  Campanula takesimana   \n",
       "6                 NCBI:4560     Sorghum halepense   \n",
       "7              GBIF:5290052              Zea mays   \n",
       "8                 NCBI:4560     Sorghum halepense   \n",
       "9              GBIF:5290052              Zea mays   \n",
       "10             GBIF:2703455                 Oryza   \n",
       "11             GBIF:2703455                 Oryza   \n",
       "\n",
       "                                    target_taxon_path  \\\n",
       "0   Plantae | Tracheophyta | Liliopsida | Poales |...   \n",
       "1   Plantae | Tracheophyta | Liliopsida | Poales |...   \n",
       "2   root | cellular organisms | Eukaryota | Viridi...   \n",
       "3   root | cellular organisms | Eukaryota | Viridi...   \n",
       "4   root | cellular organisms | Eukaryota | Viridi...   \n",
       "5   root | cellular organisms | Eukaryota | Viridi...   \n",
       "6   root | cellular organisms | Eukaryota | Viridi...   \n",
       "7   Plantae | Tracheophyta | Liliopsida | Poales |...   \n",
       "8   root | cellular organisms | Eukaryota | Viridi...   \n",
       "9   Plantae | Tracheophyta | Liliopsida | Poales |...   \n",
       "10  Plantae | Tracheophyta | Liliopsida | Poales |...   \n",
       "11  Plantae | Tracheophyta | Liliopsida | Poales |...   \n",
       "\n",
       "                                target_taxon_path_ids  \\\n",
       "0   GBIF:6 | GBIF:7707728 | GBIF:196 | GBIF:1369 |...   \n",
       "1   GBIF:6 | GBIF:7707728 | GBIF:196 | GBIF:1369 |...   \n",
       "2   NCBI:1 | NCBI:131567 | NCBI:2759 | NCBI:33090 ...   \n",
       "3   NCBI:1 | NCBI:131567 | NCBI:2759 | NCBI:33090 ...   \n",
       "4   NCBI:1 | NCBI:131567 | NCBI:2759 | NCBI:33090 ...   \n",
       "5   NCBI:1 | NCBI:131567 | NCBI:2759 | NCBI:33090 ...   \n",
       "6   NCBI:1 | NCBI:131567 | NCBI:2759 | NCBI:33090 ...   \n",
       "7   GBIF:6 | GBIF:7707728 | GBIF:196 | GBIF:1369 |...   \n",
       "8   NCBI:1 | NCBI:131567 | NCBI:2759 | NCBI:33090 ...   \n",
       "9   GBIF:6 | GBIF:7707728 | GBIF:196 | GBIF:1369 |...   \n",
       "10  GBIF:6 | GBIF:7707728 | GBIF:196 | GBIF:1369 |...   \n",
       "11  GBIF:6 | GBIF:7707728 | GBIF:196 | GBIF:1369 |...   \n",
       "\n",
       "                              target_taxon_path_ranks  \n",
       "0   kingdom | phylum | class | order | family | ge...  \n",
       "1   kingdom | phylum | class | order | family | ge...  \n",
       "2   null | null | superkingdom | kingdom | phylum ...  \n",
       "3   null | null | superkingdom | kingdom | phylum ...  \n",
       "4   null | null | superkingdom | kingdom | phylum ...  \n",
       "5   null | null | superkingdom | kingdom | phylum ...  \n",
       "6   null | null | superkingdom | kingdom | phylum ...  \n",
       "7   kingdom | phylum | class | order | family | ge...  \n",
       "8   null | null | superkingdom | kingdom | phylum ...  \n",
       "9   kingdom | phylum | class | order | family | ge...  \n",
       "10  kingdom | phylum | class | order | family | genus  \n",
       "11  kingdom | phylum | class | order | family | genus  "
      ]
     },
     "execution_count": 40,
     "metadata": {},
     "output_type": "execute_result"
    }
   ],
   "source": [
    "df #.interaction_type.unique()"
   ]
  },
  {
   "cell_type": "code",
   "execution_count": 41,
   "id": "7de0d4f6",
   "metadata": {},
   "outputs": [],
   "source": [
    "#tes2 data salah\n",
    "# df2 = {'Name': 'Amy', 'Maths': 89, 'Science': 93}\n",
    "# df = df.append(df2, ignore_index = True)\n",
    "# df.loc[len(df.index)]=['GBIF:3523201','Asteridiella boerhaviifolii',None,None,None,'pathogenOf','GBIF:3523201','Asteridiella boerhaviifolii',None,None,None]\n",
    "# cek='NCBI:1 | NCBI:10239 | NCBI:2731342 | NCBI:2732092 | NCBI:2732416 | NCBI:2732424 | NCBI:2732539 | NCBI:10811 | NCBI:10814 | NCBI:260378'\n",
    "# df.loc[len(df.index)]=['GBIF:3523201','Asteridiella boerhaviifolii',None,cek,None,'pathogenOf','GBIF:3523201','Asteridiella boerhaviifolii',None,None,None]"
   ]
  },
  {
   "cell_type": "code",
   "execution_count": 42,
   "id": "e059b341",
   "metadata": {},
   "outputs": [
    {
     "data": {
      "image/png": "[encoded data removed]",
      "text/plain": [
       "<Figure size 1500x800 with 1 Axes>"
      ]
     },
     "metadata": {},
     "output_type": "display_data"
    }
   ],
   "source": [
    "from jcopml.plot import plot_missing_value\n",
    "plot_missing_value(df)"
   ]
  },
  {
   "cell_type": "code",
   "execution_count": null,
   "id": "2645bafd",
   "metadata": {},
   "outputs": [],
   "source": []
  },
  {
   "cell_type": "markdown",
   "id": "0c8dc7ad",
   "metadata": {},
   "source": [
    "# Praproses : virus - pathogenOf"
   ]
  },
  {
   "cell_type": "markdown",
   "id": "deeaf91d",
   "metadata": {},
   "source": [
    "### Cleaning\n",
    "\n",
    "drop duplikasi, drop jika tidak mengandung NCBI dan Taxon path null, drop nama sama beda Id"
   ]
  },
  {
   "cell_type": "code",
   "execution_count": 43,
   "id": "76b60205",
   "metadata": {},
   "outputs": [
    {
     "name": "stdout",
     "output_type": "stream",
     "text": [
      "drop duplicate\n",
      "sebelum :  12\n",
      "setelah:  6\n",
      "drop tidak mengandung NCBI dan taxon pathnya null\n",
      "sebelum :  6\n",
      "setelah:  5\n",
      "drop duplicate nama sama beda id\n",
      "sebelum :  5\n",
      "setelah:  5\n"
     ]
    }
   ],
   "source": [
    "df=cleaning(df, dropNonNCBI=False)"
   ]
  },
  {
   "cell_type": "markdown",
   "id": "5191d0b4",
   "metadata": {},
   "source": [
    "### Pemisahan kolom"
   ]
  },
  {
   "cell_type": "code",
   "execution_count": 44,
   "id": "9cb5c8da",
   "metadata": {},
   "outputs": [],
   "source": [
    "df_node, df_edge = splitInteractionToNodeEdge(df)"
   ]
  },
  {
   "cell_type": "code",
   "execution_count": 45,
   "id": "9b8a8823",
   "metadata": {},
   "outputs": [
    {
     "name": "stdout",
     "output_type": "stream",
     "text": [
      "cek data\n",
      "node  (9, 5)\n",
      "edge  (5, 3)\n"
     ]
    },
    {
     "data": {
      "text/html": [
       "<div>\n",
       "<style scoped>\n",
       "    .dataframe tbody tr th:only-of-type {\n",
       "        vertical-align: middle;\n",
       "    }\n",
       "\n",
       "    .dataframe tbody tr th {\n",
       "        vertical-align: top;\n",
       "    }\n",
       "\n",
       "    .dataframe thead th {\n",
       "        text-align: right;\n",
       "    }\n",
       "</style>\n",
       "<table border=\"1\" class=\"dataframe\">\n",
       "  <thead>\n",
       "    <tr style=\"text-align: right;\">\n",
       "      <th></th>\n",
       "      <th>taxon_id</th>\n",
       "      <th>taxon_name</th>\n",
       "      <th>taxon_path</th>\n",
       "      <th>taxon_path_ids</th>\n",
       "      <th>taxon_path_rank</th>\n",
       "    </tr>\n",
       "  </thead>\n",
       "  <tbody>\n",
       "    <tr>\n",
       "      <th>0</th>\n",
       "      <td>GBIF:2703459</td>\n",
       "      <td>Oryza sativa</td>\n",
       "      <td>Plantae | Tracheophyta | Liliopsida | Poales |...</td>\n",
       "      <td>GBIF:6 | GBIF:7707728 | GBIF:196 | GBIF:1369 |...</td>\n",
       "      <td>kingdom | phylum | class | order | family | ge...</td>\n",
       "    </tr>\n",
       "    <tr>\n",
       "      <th>1</th>\n",
       "      <td>NCBI:3708</td>\n",
       "      <td>Brassica napus</td>\n",
       "      <td>root | cellular organisms | Eukaryota | Viridi...</td>\n",
       "      <td>NCBI:1 | NCBI:131567 | NCBI:2759 | NCBI:33090 ...</td>\n",
       "      <td>null | null | superkingdom | kingdom | phylum ...</td>\n",
       "    </tr>\n",
       "    <tr>\n",
       "      <th>2</th>\n",
       "      <td>NCBI:989334</td>\n",
       "      <td>Campanula takesimana</td>\n",
       "      <td>root | cellular organisms | Eukaryota | Viridi...</td>\n",
       "      <td>NCBI:1 | NCBI:131567 | NCBI:2759 | NCBI:33090 ...</td>\n",
       "      <td>null | null | superkingdom | kingdom | phylum ...</td>\n",
       "    </tr>\n",
       "    <tr>\n",
       "      <th>3</th>\n",
       "      <td>NCBI:4560</td>\n",
       "      <td>Sorghum halepense</td>\n",
       "      <td>root | cellular organisms | Eukaryota | Viridi...</td>\n",
       "      <td>NCBI:1 | NCBI:131567 | NCBI:2759 | NCBI:33090 ...</td>\n",
       "      <td>null | null | superkingdom | kingdom | phylum ...</td>\n",
       "    </tr>\n",
       "    <tr>\n",
       "      <th>4</th>\n",
       "      <td>GBIF:5290052</td>\n",
       "      <td>Zea mays</td>\n",
       "      <td>Plantae | Tracheophyta | Liliopsida | Poales |...</td>\n",
       "      <td>GBIF:6 | GBIF:7707728 | GBIF:196 | GBIF:1369 |...</td>\n",
       "      <td>kingdom | phylum | class | order | family | ge...</td>\n",
       "    </tr>\n",
       "    <tr>\n",
       "      <th>5</th>\n",
       "      <td>NCBI:35287</td>\n",
       "      <td>Rice tungro spherical virus</td>\n",
       "      <td>root | Viruses | Riboviria | Orthornavirae | P...</td>\n",
       "      <td>NCBI:1 | NCBI:10239 | NCBI:2559587 | NCBI:2732...</td>\n",
       "      <td>null | superkingdom | null | kingdom | phylum ...</td>\n",
       "    </tr>\n",
       "    <tr>\n",
       "      <th>6</th>\n",
       "      <td>NCBI:2419797</td>\n",
       "      <td>Brassica napus RNA virus 1</td>\n",
       "      <td>root | Viruses | Riboviria | Orthornavirae | P...</td>\n",
       "      <td>NCBI:1 | NCBI:10239 | NCBI:2559587 | NCBI:2732...</td>\n",
       "      <td>null | superkingdom | null | kingdom | phylum ...</td>\n",
       "    </tr>\n",
       "    <tr>\n",
       "      <th>7</th>\n",
       "      <td>NCBI:1720595</td>\n",
       "      <td>Bellflower vein chlorosis virus</td>\n",
       "      <td>root | Viruses | Riboviria | Orthornavirae | P...</td>\n",
       "      <td>NCBI:1 | NCBI:10239 | NCBI:2559587 | NCBI:2732...</td>\n",
       "      <td>null | superkingdom | null | kingdom | phylum ...</td>\n",
       "    </tr>\n",
       "    <tr>\n",
       "      <th>8</th>\n",
       "      <td>NCBI:51354</td>\n",
       "      <td>Maize chlorotic dwarf virus</td>\n",
       "      <td>root | Viruses | Riboviria | Orthornavirae | P...</td>\n",
       "      <td>NCBI:1 | NCBI:10239 | NCBI:2559587 | NCBI:2732...</td>\n",
       "      <td>null | superkingdom | null | kingdom | phylum ...</td>\n",
       "    </tr>\n",
       "  </tbody>\n",
       "</table>\n",
       "</div>"
      ],
      "text/plain": [
       "       taxon_id                       taxon_name  \\\n",
       "0  GBIF:2703459                     Oryza sativa   \n",
       "1     NCBI:3708                   Brassica napus   \n",
       "2   NCBI:989334             Campanula takesimana   \n",
       "3     NCBI:4560                Sorghum halepense   \n",
       "4  GBIF:5290052                         Zea mays   \n",
       "5    NCBI:35287      Rice tungro spherical virus   \n",
       "6  NCBI:2419797       Brassica napus RNA virus 1   \n",
       "7  NCBI:1720595  Bellflower vein chlorosis virus   \n",
       "8    NCBI:51354      Maize chlorotic dwarf virus   \n",
       "\n",
       "                                          taxon_path  \\\n",
       "0  Plantae | Tracheophyta | Liliopsida | Poales |...   \n",
       "1  root | cellular organisms | Eukaryota | Viridi...   \n",
       "2  root | cellular organisms | Eukaryota | Viridi...   \n",
       "3  root | cellular organisms | Eukaryota | Viridi...   \n",
       "4  Plantae | Tracheophyta | Liliopsida | Poales |...   \n",
       "5  root | Viruses | Riboviria | Orthornavirae | P...   \n",
       "6  root | Viruses | Riboviria | Orthornavirae | P...   \n",
       "7  root | Viruses | Riboviria | Orthornavirae | P...   \n",
       "8  root | Viruses | Riboviria | Orthornavirae | P...   \n",
       "\n",
       "                                      taxon_path_ids  \\\n",
       "0  GBIF:6 | GBIF:7707728 | GBIF:196 | GBIF:1369 |...   \n",
       "1  NCBI:1 | NCBI:131567 | NCBI:2759 | NCBI:33090 ...   \n",
       "2  NCBI:1 | NCBI:131567 | NCBI:2759 | NCBI:33090 ...   \n",
       "3  NCBI:1 | NCBI:131567 | NCBI:2759 | NCBI:33090 ...   \n",
       "4  GBIF:6 | GBIF:7707728 | GBIF:196 | GBIF:1369 |...   \n",
       "5  NCBI:1 | NCBI:10239 | NCBI:2559587 | NCBI:2732...   \n",
       "6  NCBI:1 | NCBI:10239 | NCBI:2559587 | NCBI:2732...   \n",
       "7  NCBI:1 | NCBI:10239 | NCBI:2559587 | NCBI:2732...   \n",
       "8  NCBI:1 | NCBI:10239 | NCBI:2559587 | NCBI:2732...   \n",
       "\n",
       "                                     taxon_path_rank  \n",
       "0  kingdom | phylum | class | order | family | ge...  \n",
       "1  null | null | superkingdom | kingdom | phylum ...  \n",
       "2  null | null | superkingdom | kingdom | phylum ...  \n",
       "3  null | null | superkingdom | kingdom | phylum ...  \n",
       "4  kingdom | phylum | class | order | family | ge...  \n",
       "5  null | superkingdom | null | kingdom | phylum ...  \n",
       "6  null | superkingdom | null | kingdom | phylum ...  \n",
       "7  null | superkingdom | null | kingdom | phylum ...  \n",
       "8  null | superkingdom | null | kingdom | phylum ...  "
      ]
     },
     "execution_count": 45,
     "metadata": {},
     "output_type": "execute_result"
    }
   ],
   "source": [
    "print('cek data')\n",
    "print('node ',df_node.shape)\n",
    "print('edge ',df_edge.shape)\n",
    "\n",
    "df_node"
   ]
  },
  {
   "cell_type": "markdown",
   "id": "8b52b0fe",
   "metadata": {},
   "source": [
    "### Disambiguasi \n",
    "Konversi ke NCBI semua Node (kode di Edge juga)"
   ]
  },
  {
   "cell_type": "code",
   "execution_count": 46,
   "id": "a360b7a0",
   "metadata": {},
   "outputs": [],
   "source": [
    "df_node_sebelum_convert_NCBI = df_node.copy()"
   ]
  },
  {
   "cell_type": "code",
   "execution_count": 47,
   "id": "4f727ce7",
   "metadata": {},
   "outputs": [
    {
     "name": "stdout",
     "output_type": "stream",
     "text": [
      "['GBIF'] 1  database,  1  kali perulangan akses NCBI\n",
      "GBIF : jumlah id 9\n"
     ]
    },
    {
     "name": "stderr",
     "output_type": "stream",
     "text": [
      "100%|████████████████████████████████████████████████████████████████████████████████████████████████████████████████████████████████████████████| 9/9 [00:00<00:00, 93669.32it/s]\n"
     ]
    }
   ],
   "source": [
    "kamus_ncbi = buat_kamus_kosong(df_node)\n",
    "kamus_ncbi = update_kamus_pake_wikidata(kamus_ncbi)\n",
    "#update dataframe pake kamus\n",
    "df_node,df_edge = update_df_pake_kamus(kamus_ncbi,df_node,df_edge)\n",
    "df_node,df_edge = update_df_pake_path_ujung(df_node,df_edge)"
   ]
  },
  {
   "cell_type": "code",
   "execution_count": null,
   "id": "3ddcf079",
   "metadata": {},
   "outputs": [],
   "source": []
  },
  {
   "cell_type": "markdown",
   "id": "d9a3249d",
   "metadata": {},
   "source": [
    "### Standardization : Menambah kolom taxon\n",
    "Menambah kolom taxon ke dalam dataframe"
   ]
  },
  {
   "cell_type": "code",
   "execution_count": 48,
   "id": "9f3b8875",
   "metadata": {},
   "outputs": [],
   "source": [
    "#buat kolom taxon, default none\n",
    "df_node = buat_kolom_taxon_awal(df_node)\n",
    "# isi pake ncbi\n",
    "df_node = addTaxonColumn(df_node,obo)"
   ]
  },
  {
   "cell_type": "markdown",
   "id": "b9cc7b63",
   "metadata": {},
   "source": [
    "#### Hapus kalo masih ada selain NCBI"
   ]
  },
  {
   "cell_type": "code",
   "execution_count": 49,
   "id": "8f1a6028",
   "metadata": {},
   "outputs": [
    {
     "name": "stdout",
     "output_type": "stream",
     "text": [
      "set()\n",
      "------------------------------------\n",
      "node\n",
      "sebelum  9\n",
      "sesudah  9\n",
      "edge\n",
      "target: sebelum 5\n",
      "target: sesudah 5\n",
      "source: sebelum 5\n",
      "source: sesudah 5\n"
     ]
    }
   ],
   "source": [
    "df_node, df_edge = removeOtherThanNCBI(df_node,df_edge)"
   ]
  },
  {
   "cell_type": "code",
   "execution_count": 50,
   "id": "17d977d6",
   "metadata": {},
   "outputs": [],
   "source": [
    "# Menghapus kolom yang tidak lagi dibutuhkan\n",
    "# df_node.drop(['taxon_path_ids','taxon_path_rank'], axis=1,inplace=True) #,'taxon_rank'\n",
    "\n",
    "#hapus edge yang tidak ada nodenya\n",
    "df_edge = removeEdgesNotInNodes(df_node, df_edge)\n",
    "\n",
    "# df_edge.drop_duplicates(inplace=True)"
   ]
  },
  {
   "cell_type": "markdown",
   "id": "7b52868a",
   "metadata": {},
   "source": [
    "kingdom apa saja di data awal"
   ]
  },
  {
   "cell_type": "code",
   "execution_count": 51,
   "id": "b5c82412",
   "metadata": {},
   "outputs": [
    {
     "name": "stdout",
     "output_type": "stream",
     "text": [
      "['NCBI:33090_Viridiplantae' 'NCBI:2732396_Orthornavirae']\n"
     ]
    }
   ],
   "source": [
    "print(df_node.kingdom.unique())"
   ]
  },
  {
   "cell_type": "markdown",
   "id": "320e9119",
   "metadata": {},
   "source": [
    "Node Tanaman"
   ]
  },
  {
   "cell_type": "code",
   "execution_count": 52,
   "id": "aca42846",
   "metadata": {},
   "outputs": [
    {
     "data": {
      "text/html": [
       "<div>\n",
       "<style scoped>\n",
       "    .dataframe tbody tr th:only-of-type {\n",
       "        vertical-align: middle;\n",
       "    }\n",
       "\n",
       "    .dataframe tbody tr th {\n",
       "        vertical-align: top;\n",
       "    }\n",
       "\n",
       "    .dataframe thead th {\n",
       "        text-align: right;\n",
       "    }\n",
       "</style>\n",
       "<table border=\"1\" class=\"dataframe\">\n",
       "  <thead>\n",
       "    <tr style=\"text-align: right;\">\n",
       "      <th></th>\n",
       "      <th>taxon_id</th>\n",
       "      <th>taxon_name</th>\n",
       "      <th>taxon_path</th>\n",
       "      <th>taxon_path_ids</th>\n",
       "      <th>taxon_path_rank</th>\n",
       "      <th>superkingdom</th>\n",
       "      <th>kingdom</th>\n",
       "      <th>phylum</th>\n",
       "      <th>class</th>\n",
       "      <th>order</th>\n",
       "      <th>family</th>\n",
       "      <th>genus</th>\n",
       "      <th>species</th>\n",
       "    </tr>\n",
       "  </thead>\n",
       "  <tbody>\n",
       "    <tr>\n",
       "      <th>0</th>\n",
       "      <td>NCBI:4530</td>\n",
       "      <td>Oryza sativa</td>\n",
       "      <td>Plantae | Tracheophyta | Liliopsida | Poales |...</td>\n",
       "      <td>GBIF:6 | NCBI:58023 | NCBI:4447 | NCBI:38820 |...</td>\n",
       "      <td>kingdom | phylum | class | order | family | ge...</td>\n",
       "      <td>NCBI:2759_Eukaryota</td>\n",
       "      <td>NCBI:33090_Viridiplantae</td>\n",
       "      <td>NCBI:35493_Streptophyta</td>\n",
       "      <td>NCBI:3398_Magnoliopsida</td>\n",
       "      <td>NCBI:38820_Poales</td>\n",
       "      <td>NCBI:4479_Poaceae</td>\n",
       "      <td>NCBI:4527_Oryza</td>\n",
       "      <td>NCBI:4530_Oryza sativa</td>\n",
       "    </tr>\n",
       "    <tr>\n",
       "      <th>1</th>\n",
       "      <td>NCBI:3708</td>\n",
       "      <td>Brassica napus</td>\n",
       "      <td>root | cellular organisms | Eukaryota | Viridi...</td>\n",
       "      <td>NCBI:1 | NCBI:131567 | NCBI:2759 | NCBI:33090 ...</td>\n",
       "      <td>null | null | superkingdom | kingdom | phylum ...</td>\n",
       "      <td>NCBI:2759_Eukaryota</td>\n",
       "      <td>NCBI:33090_Viridiplantae</td>\n",
       "      <td>NCBI:35493_Streptophyta</td>\n",
       "      <td>NCBI:3398_Magnoliopsida</td>\n",
       "      <td>NCBI:3699_Brassicales</td>\n",
       "      <td>NCBI:3700_Brassicaceae</td>\n",
       "      <td>NCBI:3705_Brassica</td>\n",
       "      <td>NCBI:3708_Brassica napus</td>\n",
       "    </tr>\n",
       "    <tr>\n",
       "      <th>2</th>\n",
       "      <td>NCBI:989334</td>\n",
       "      <td>Campanula takesimana</td>\n",
       "      <td>root | cellular organisms | Eukaryota | Viridi...</td>\n",
       "      <td>NCBI:1 | NCBI:131567 | NCBI:2759 | NCBI:33090 ...</td>\n",
       "      <td>null | null | superkingdom | kingdom | phylum ...</td>\n",
       "      <td>NCBI:2759_Eukaryota</td>\n",
       "      <td>NCBI:33090_Viridiplantae</td>\n",
       "      <td>NCBI:35493_Streptophyta</td>\n",
       "      <td>NCBI:3398_Magnoliopsida</td>\n",
       "      <td>NCBI:4209_Asterales</td>\n",
       "      <td>NCBI:4381_Campanulaceae</td>\n",
       "      <td>NCBI:40568_Campanula</td>\n",
       "      <td>NCBI:989334_Campanula takesimana</td>\n",
       "    </tr>\n",
       "    <tr>\n",
       "      <th>3</th>\n",
       "      <td>NCBI:4560</td>\n",
       "      <td>Sorghum halepense</td>\n",
       "      <td>root | cellular organisms | Eukaryota | Viridi...</td>\n",
       "      <td>NCBI:1 | NCBI:131567 | NCBI:2759 | NCBI:33090 ...</td>\n",
       "      <td>null | null | superkingdom | kingdom | phylum ...</td>\n",
       "      <td>NCBI:2759_Eukaryota</td>\n",
       "      <td>NCBI:33090_Viridiplantae</td>\n",
       "      <td>NCBI:35493_Streptophyta</td>\n",
       "      <td>NCBI:3398_Magnoliopsida</td>\n",
       "      <td>NCBI:38820_Poales</td>\n",
       "      <td>NCBI:4479_Poaceae</td>\n",
       "      <td>NCBI:4557_Sorghum</td>\n",
       "      <td>NCBI:4560_Sorghum halepense</td>\n",
       "    </tr>\n",
       "    <tr>\n",
       "      <th>4</th>\n",
       "      <td>NCBI:4577</td>\n",
       "      <td>Zea mays</td>\n",
       "      <td>Plantae | Tracheophyta | Liliopsida | Poales |...</td>\n",
       "      <td>GBIF:6 | NCBI:58023 | NCBI:4447 | NCBI:38820 |...</td>\n",
       "      <td>kingdom | phylum | class | order | family | ge...</td>\n",
       "      <td>NCBI:2759_Eukaryota</td>\n",
       "      <td>NCBI:33090_Viridiplantae</td>\n",
       "      <td>NCBI:35493_Streptophyta</td>\n",
       "      <td>NCBI:3398_Magnoliopsida</td>\n",
       "      <td>NCBI:38820_Poales</td>\n",
       "      <td>NCBI:4479_Poaceae</td>\n",
       "      <td>NCBI:4575_Zea</td>\n",
       "      <td>NCBI:4577_Zea mays</td>\n",
       "    </tr>\n",
       "  </tbody>\n",
       "</table>\n",
       "</div>"
      ],
      "text/plain": [
       "      taxon_id            taxon_name  \\\n",
       "0    NCBI:4530          Oryza sativa   \n",
       "1    NCBI:3708        Brassica napus   \n",
       "2  NCBI:989334  Campanula takesimana   \n",
       "3    NCBI:4560     Sorghum halepense   \n",
       "4    NCBI:4577              Zea mays   \n",
       "\n",
       "                                          taxon_path  \\\n",
       "0  Plantae | Tracheophyta | Liliopsida | Poales |...   \n",
       "1  root | cellular organisms | Eukaryota | Viridi...   \n",
       "2  root | cellular organisms | Eukaryota | Viridi...   \n",
       "3  root | cellular organisms | Eukaryota | Viridi...   \n",
       "4  Plantae | Tracheophyta | Liliopsida | Poales |...   \n",
       "\n",
       "                                      taxon_path_ids  \\\n",
       "0  GBIF:6 | NCBI:58023 | NCBI:4447 | NCBI:38820 |...   \n",
       "1  NCBI:1 | NCBI:131567 | NCBI:2759 | NCBI:33090 ...   \n",
       "2  NCBI:1 | NCBI:131567 | NCBI:2759 | NCBI:33090 ...   \n",
       "3  NCBI:1 | NCBI:131567 | NCBI:2759 | NCBI:33090 ...   \n",
       "4  GBIF:6 | NCBI:58023 | NCBI:4447 | NCBI:38820 |...   \n",
       "\n",
       "                                     taxon_path_rank         superkingdom  \\\n",
       "0  kingdom | phylum | class | order | family | ge...  NCBI:2759_Eukaryota   \n",
       "1  null | null | superkingdom | kingdom | phylum ...  NCBI:2759_Eukaryota   \n",
       "2  null | null | superkingdom | kingdom | phylum ...  NCBI:2759_Eukaryota   \n",
       "3  null | null | superkingdom | kingdom | phylum ...  NCBI:2759_Eukaryota   \n",
       "4  kingdom | phylum | class | order | family | ge...  NCBI:2759_Eukaryota   \n",
       "\n",
       "                    kingdom                   phylum                    class  \\\n",
       "0  NCBI:33090_Viridiplantae  NCBI:35493_Streptophyta  NCBI:3398_Magnoliopsida   \n",
       "1  NCBI:33090_Viridiplantae  NCBI:35493_Streptophyta  NCBI:3398_Magnoliopsida   \n",
       "2  NCBI:33090_Viridiplantae  NCBI:35493_Streptophyta  NCBI:3398_Magnoliopsida   \n",
       "3  NCBI:33090_Viridiplantae  NCBI:35493_Streptophyta  NCBI:3398_Magnoliopsida   \n",
       "4  NCBI:33090_Viridiplantae  NCBI:35493_Streptophyta  NCBI:3398_Magnoliopsida   \n",
       "\n",
       "                   order                   family                 genus  \\\n",
       "0      NCBI:38820_Poales        NCBI:4479_Poaceae       NCBI:4527_Oryza   \n",
       "1  NCBI:3699_Brassicales   NCBI:3700_Brassicaceae    NCBI:3705_Brassica   \n",
       "2    NCBI:4209_Asterales  NCBI:4381_Campanulaceae  NCBI:40568_Campanula   \n",
       "3      NCBI:38820_Poales        NCBI:4479_Poaceae     NCBI:4557_Sorghum   \n",
       "4      NCBI:38820_Poales        NCBI:4479_Poaceae         NCBI:4575_Zea   \n",
       "\n",
       "                            species  \n",
       "0            NCBI:4530_Oryza sativa  \n",
       "1          NCBI:3708_Brassica napus  \n",
       "2  NCBI:989334_Campanula takesimana  \n",
       "3       NCBI:4560_Sorghum halepense  \n",
       "4                NCBI:4577_Zea mays  "
      ]
     },
     "execution_count": 52,
     "metadata": {},
     "output_type": "execute_result"
    }
   ],
   "source": [
    "df_node[df_node.kingdom=='NCBI:33090_Viridiplantae']"
   ]
  },
  {
   "cell_type": "code",
   "execution_count": null,
   "id": "2018646a",
   "metadata": {},
   "outputs": [],
   "source": []
  },
  {
   "cell_type": "code",
   "execution_count": null,
   "id": "9c004c5f",
   "metadata": {},
   "outputs": [],
   "source": []
  },
  {
   "cell_type": "code",
   "execution_count": null,
   "id": "5672e1b1",
   "metadata": {},
   "outputs": [],
   "source": []
  },
  {
   "cell_type": "markdown",
   "id": "6f072ae6",
   "metadata": {},
   "source": [
    "# Praproses : Tanaman - has pathogen"
   ]
  },
  {
   "cell_type": "code",
   "execution_count": 53,
   "id": "066d8001",
   "metadata": {},
   "outputs": [
    {
     "data": {
      "text/plain": [
       "Index(['taxon_id', 'taxon_name', 'taxon_path', 'taxon_path_ids',\n",
       "       'taxon_path_rank', 'superkingdom', 'kingdom', 'phylum', 'class',\n",
       "       'order', 'family', 'genus', 'species'],\n",
       "      dtype='object')"
      ]
     },
     "execution_count": 53,
     "metadata": {},
     "output_type": "execute_result"
    }
   ],
   "source": [
    "df_node.columns"
   ]
  },
  {
   "cell_type": "code",
   "execution_count": 54,
   "id": "7a91e5ce",
   "metadata": {},
   "outputs": [
    {
     "name": "stderr",
     "output_type": "stream",
     "text": [
      "100%|███████████████████████████████████████████████████████████████████████████████████████████████████████████████████████████████████████████████| 5/5 [00:05<00:00,  1.02s/it]\n"
     ]
    }
   ],
   "source": [
    "import requests\n",
    "from tqdm import tqdm\n",
    "\n",
    "df_plant=df_node[df_node.kingdom=='NCBI:33090_Viridiplantae']\n",
    "\n",
    "kolom=[\n",
    "    'source_taxon_external_id',\n",
    "    'source_taxon_name',\n",
    "    'source_taxon_path',\n",
    "    'source_taxon_path_ids',\n",
    "    'source_taxon_path_ranks',\n",
    "    \n",
    "    'interaction_type',\n",
    "    \n",
    "    'target_taxon_external_id',\n",
    "    'target_taxon_name',\n",
    "    'target_taxon_path',\n",
    "    'target_taxon_path_ids',\n",
    "    'target_taxon_path_ranks',\n",
    "]\n",
    "interactionType=tipe_interaksi_tanaman\n",
    "node_to_add=pd.DataFrame(columns = [\n",
    "    'taxon_id',\n",
    "    'taxon_name',\n",
    "    'taxon_path',\n",
    "    'taxon_path_ids',\n",
    "    'taxon_path_rank',\n",
    "])\n",
    "edge_to_add=pd.DataFrame(columns = [\n",
    "    'source_taxon_id',\n",
    "    'target_taxon_id',\n",
    "    'interaction_type',\n",
    "])\n",
    "\n",
    "kebalikan={\n",
    "    'hostOf':'hasHost',\n",
    "    'hasPathogen':'pathogenOf', \n",
    "    'pollinatedBy':'pollinates', \n",
    "    'flowersVisitedBy':'visitFlowersOf',\n",
    "    'visitedBy':'visit'\n",
    "}\n",
    "\n",
    "\n",
    "#tanaman\n",
    "for idx,i in tqdm(df_plant.iterrows(), total=df_plant.shape[0]):\n",
    "    \n",
    "    plant=i.taxon_name.replace(' ','%20')\n",
    "    link=\"https://api.globalbioticinteractions.org/interaction?sourceTaxon=\"+plant+\"&interactionType=\"+interactionType+\"&fields=\"+(','.join(kolom))\n",
    "    response = requests.get(link)\n",
    "    res=response.json()\n",
    "    \n",
    "    #list data\n",
    "    taxon_id=[]\n",
    "    taxon_name=[]\n",
    "    taxon_path=[]\n",
    "    taxon_path_ids=[]\n",
    "    taxon_path_rank=[]\n",
    "    interaction_type=[]\n",
    "    \n",
    "    for x in res['data']:\n",
    "        taxon_id.append(x[6])\n",
    "        taxon_name.append(x[7])\n",
    "        taxon_path.append(x[8])\n",
    "        taxon_path_ids.append(x[9])\n",
    "        taxon_path_rank.append(x[10])\n",
    "        \n",
    "        if x[5] in ['hostOf', 'hasPathogen', 'pollinatedBy', 'flowersVisitedBy','visitedBy']:\n",
    "            interaction_type.append(kebalikan[x[5]])\n",
    "        else:\n",
    "            interaction_type.append('patogennya')\n",
    "            \n",
    "    # print(\"Tanaman\", i.taxon_name)\n",
    "    # print('Patogen',taxon_name)\n",
    "    \n",
    "    ## NODE\n",
    "    #concat ke dataframe lama\n",
    "    node_to_add = pd.concat([\n",
    "        node_to_add,\n",
    "        pd.DataFrame({\n",
    "            'taxon_id':taxon_id,\n",
    "            'taxon_name':taxon_name,\n",
    "            'taxon_path':taxon_path,\n",
    "            'taxon_path_ids':taxon_path_ids,\n",
    "            'taxon_path_rank':taxon_path_rank,\n",
    "        })\n",
    "    ], ignore_index = True)\n",
    "    node_to_add.reset_index()\n",
    "    \n",
    "    ## EDGE\n",
    "    #concat ke dataframe lama\n",
    "    edge_to_add = pd.concat([\n",
    "        edge_to_add,\n",
    "        pd.DataFrame({\n",
    "            'source_taxon_id': taxon_id, # patogen\n",
    "            'target_taxon_id': i.taxon_id, # tanaman\n",
    "            'interaction_type': interaction_type})\n",
    "    ], ignore_index = True)\n",
    "    edge_to_add.reset_index()    \n",
    "    \n",
    "    "
   ]
  },
  {
   "cell_type": "markdown",
   "id": "40a3cd27",
   "metadata": {},
   "source": [
    "fyi : meskipun sudah ditentukan hanya relasi 'hostOf' tetap dapat tipe relasi lain. "
   ]
  },
  {
   "cell_type": "code",
   "execution_count": 55,
   "id": "4cdbf14c",
   "metadata": {},
   "outputs": [
    {
     "data": {
      "text/plain": [
       "array(['pathogenOf'], dtype=object)"
      ]
     },
     "execution_count": 55,
     "metadata": {},
     "output_type": "execute_result"
    }
   ],
   "source": [
    "# df_node[df_node['taxon_id']=='NCBI:4072']\n",
    "# edge_to_add[edge_to_add['interaction_type']=='pollinatedBy']\n",
    "edge_to_add.interaction_type.unique()\n",
    "# edge_to_add"
   ]
  },
  {
   "cell_type": "markdown",
   "id": "8254c2e7",
   "metadata": {},
   "source": [
    "### Cleaning proses"
   ]
  },
  {
   "cell_type": "code",
   "execution_count": 56,
   "id": "d3720c54",
   "metadata": {
    "scrolled": false
   },
   "outputs": [
    {
     "name": "stdout",
     "output_type": "stream",
     "text": [
      "node : awal 1166\n",
      "node : setelah drop duplikat 434\n",
      "node : setelah bukan NCBI tapi taxon path id kosong 370\n",
      "edge : awal  370\n",
      "edge : setelah 370\n"
     ]
    }
   ],
   "source": [
    "#ada duplikasi, kemungkinan karena pencarian yang hanya menggunakan nama. abaikan dlu\n",
    "\n",
    "#awal\n",
    "print('node : awal',len(node_to_add))\n",
    "\n",
    "#duplikasi\n",
    "node_to_add.drop_duplicates(inplace=True)\n",
    "print('node : setelah drop duplikat',len(node_to_add))\n",
    "\n",
    "# id bukan NCBI tapi taxon path id kosong\n",
    "hapus=[i for i,d in node_to_add[\n",
    "    (node_to_add.taxon_id.str.contains('NCBI')==False) & (node_to_add.taxon_path_ids.isnull())\n",
    "].iterrows()]\n",
    "node_to_add.drop(hapus, inplace=True)\n",
    "print('node : setelah bukan NCBI tapi taxon path id kosong',len(node_to_add))\n",
    "\n",
    "#edge #boleh ini murni duplikasi, karena sebelum disambiguasi.\n",
    "print('edge : awal ',len(node_to_add))\n",
    "edge_to_add.drop_duplicates(inplace=True)\n",
    "print('edge : setelah',len(node_to_add))"
   ]
  },
  {
   "cell_type": "code",
   "execution_count": 57,
   "id": "0f89a501",
   "metadata": {},
   "outputs": [
    {
     "data": {
      "image/png": "[encoded data removed]",
      "text/plain": [
       "<Figure size 1500x800 with 1 Axes>"
      ]
     },
     "metadata": {},
     "output_type": "display_data"
    }
   ],
   "source": [
    "plot_missing_value(node_to_add)"
   ]
  },
  {
   "cell_type": "markdown",
   "id": "d58adf31",
   "metadata": {},
   "source": [
    "### Disambiguasi"
   ]
  },
  {
   "cell_type": "code",
   "execution_count": 58,
   "id": "beca34be",
   "metadata": {},
   "outputs": [],
   "source": [
    "node_to_add_sebelum_convert_NCBI=node_to_add.copy()\n",
    "edge_to_add_sebelum_convert_NCBI=edge_to_add.copy()"
   ]
  },
  {
   "cell_type": "code",
   "execution_count": 59,
   "id": "de1ff69a",
   "metadata": {},
   "outputs": [
    {
     "name": "stdout",
     "output_type": "stream",
     "text": [
      "['EOL', 'EOL_V2', 'NBN', 'GBIF', 'IF', 'IRMNG', 'WORMS', 'WD'] 8  database,  8  kali perulangan akses NCBI\n",
      "EOL : jumlah id 267\n",
      "EOL : query terlalu panjang, dilakukan chunk\n"
     ]
    },
    {
     "name": "stderr",
     "output_type": "stream",
     "text": [
      "100%|███████████████████████████████████████████████████████████████████████████████████████████████████████████████████████████████████████| 105/105 [00:00<00:00, 317292.45it/s]\n",
      "100%|███████████████████████████████████████████████████████████████████████████████████████████████████████████████████████████████████████| 114/114 [00:00<00:00, 515804.38it/s]\n",
      "100%|████████████████████████████████████████████████████████████████████████████████████████████████████████████████████████████████████████████| 5/5 [00:00<00:00, 64726.91it/s]\n"
     ]
    },
    {
     "name": "stdout",
     "output_type": "stream",
     "text": [
      "EOL_V2 : jumlah id 80\n"
     ]
    },
    {
     "name": "stderr",
     "output_type": "stream",
     "text": [
      "100%|█████████████████████████████████████████████████████████████████████████████████████████████████████████████████████████████████████████| 13/13 [00:00<00:00, 140893.93it/s]\n"
     ]
    },
    {
     "name": "stdout",
     "output_type": "stream",
     "text": [
      "NBN : jumlah id 36\n"
     ]
    },
    {
     "name": "stderr",
     "output_type": "stream",
     "text": [
      "100%|█████████████████████████████████████████████████████████████████████████████████████████████████████████████████████████████████████████| 21/21 [00:00<00:00, 161615.38it/s]\n"
     ]
    },
    {
     "name": "stdout",
     "output_type": "stream",
     "text": [
      "GBIF : jumlah id 324\n",
      "GBIF : query terlalu panjang, dilakukan chunk\n"
     ]
    },
    {
     "name": "stderr",
     "output_type": "stream",
     "text": [
      "100%|███████████████████████████████████████████████████████████████████████████████████████████████████████████████████████████████████████| 121/121 [00:00<00:00, 394336.27it/s]\n",
      "100%|███████████████████████████████████████████████████████████████████████████████████████████████████████████████████████████████████████| 116/116 [00:00<00:00, 458566.70it/s]\n",
      "100%|█████████████████████████████████████████████████████████████████████████████████████████████████████████████████████████████████████████| 62/62 [00:00<00:00, 128863.65it/s]\n"
     ]
    },
    {
     "name": "stdout",
     "output_type": "stream",
     "text": [
      "IF : tidak diketahui predikatnya\n",
      "IRMNG : jumlah id 7\n"
     ]
    },
    {
     "name": "stderr",
     "output_type": "stream",
     "text": [
      "100%|████████████████████████████████████████████████████████████████████████████████████████████████████████████████████████████████████████████| 4/4 [00:00<00:00, 31714.96it/s]\n"
     ]
    },
    {
     "name": "stdout",
     "output_type": "stream",
     "text": [
      "WORMS : tidak diketahui predikatnya\n",
      "WD : jumlah id 2\n"
     ]
    },
    {
     "name": "stderr",
     "output_type": "stream",
     "text": [
      "100%|████████████████████████████████████████████████████████████████████████████████████████████████████████████████████████████████████████████| 2/2 [00:00<00:00, 19239.93it/s]\n"
     ]
    }
   ],
   "source": [
    "kamus_ncbi = buat_kamus_kosong(node_to_add)\n",
    "kamus_ncbi = update_kamus_pake_wikidata(kamus_ncbi)\n",
    "#update dataframe pake kamus\n",
    "node_to_add,edge_to_add = update_df_pake_kamus(kamus_ncbi,node_to_add,edge_to_add)\n",
    "node_to_add,edge_to_add = update_df_pake_path_ujung(node_to_add, edge_to_add)"
   ]
  },
  {
   "cell_type": "markdown",
   "id": "6b0d3c0f",
   "metadata": {},
   "source": [
    "### Tambah kolom taxon"
   ]
  },
  {
   "cell_type": "code",
   "execution_count": 60,
   "id": "ad14ca3a",
   "metadata": {},
   "outputs": [],
   "source": [
    "#buat kolom taxon, isi none dan isi dari path\n",
    "node_to_add = buat_kolom_taxon_awal(node_to_add)\n",
    "\n",
    "#isi kolom taxon, pake NCBI\n",
    "node_to_add = addTaxonColumn(node_to_add, obo)"
   ]
  },
  {
   "cell_type": "markdown",
   "id": "45a2dfc1",
   "metadata": {},
   "source": [
    "### remove another node than NCBI"
   ]
  },
  {
   "cell_type": "code",
   "execution_count": 61,
   "id": "bd2b5f1e",
   "metadata": {},
   "outputs": [
    {
     "name": "stdout",
     "output_type": "stream",
     "text": [
      "{'IF', 'EOL_V2', 'NBN', 'WORMS'}\n",
      "------------------------------------\n",
      "node\n",
      "sebelum  370\n",
      "sesudah  366\n",
      "edge\n",
      "target: sebelum 386\n",
      "target: sesudah 386\n",
      "source: sebelum 386\n",
      "source: sesudah 379\n"
     ]
    }
   ],
   "source": [
    "node_to_add,edge_to_add = removeOtherThanNCBI(node_to_add,edge_to_add)"
   ]
  },
  {
   "cell_type": "markdown",
   "id": "21e65db4",
   "metadata": {},
   "source": [
    "### Concat data_to_add tambahan"
   ]
  },
  {
   "cell_type": "code",
   "execution_count": null,
   "id": "5a4c94ea",
   "metadata": {},
   "outputs": [],
   "source": [
    "df_node=pd.concat([df_node,node_to_add], axis=0)\n",
    "df_edge=pd.concat([df_edge,edge_to_add], axis=0)"
   ]
  },
  {
   "cell_type": "code",
   "execution_count": null,
   "id": "92d54ea2",
   "metadata": {},
   "outputs": [],
   "source": [
    "print('Shape node setelah concat :', df_node.shape)\n",
    "print('Shape edge setelah concat :', df_edge.shape)"
   ]
  },
  {
   "cell_type": "markdown",
   "id": "b56b62e4",
   "metadata": {},
   "source": [
    "#### Filter lagi duplikasi"
   ]
  },
  {
   "cell_type": "code",
   "execution_count": null,
   "id": "6ded1889",
   "metadata": {},
   "outputs": [],
   "source": [
    "print('duplikasi node')\n",
    "print(df_node.shape, 'drop duplikat -->', df_node.drop_duplicates(subset=[\"taxon_id\"]).shape)\n",
    "print('duplikasi edge')\n",
    "print(df_edge.shape, 'drop duplikat -->', df_edge.drop_duplicates().shape)\n",
    "\n",
    "#hapus duplikasi node\n",
    "df_node.drop_duplicates(subset=[\"taxon_id\"], keep='last',inplace=True)\n",
    "#edge menyesuaikan\n",
    "df_edge = removeEdgesNotInNodes(df_node, df_edge)"
   ]
  },
  {
   "cell_type": "code",
   "execution_count": null,
   "id": "ce727a3f",
   "metadata": {},
   "outputs": [],
   "source": [
    "print('duplikasi edge')\n",
    "print(df_edge.shape, 'drop duplikat -->', df_edge.drop_duplicates().shape)\n",
    "#masih ada duplikasi edge, itu pilihan apakah akan dihilangkan atau tidak"
   ]
  },
  {
   "cell_type": "code",
   "execution_count": null,
   "id": "a101aa08",
   "metadata": {},
   "outputs": [],
   "source": [
    "df_node.shape,df_edge.shape\n",
    "\n",
    "# cara hapus edge duplikat\n",
    "# df_edge.drop_duplicates(inplace=True)"
   ]
  },
  {
   "cell_type": "code",
   "execution_count": null,
   "id": "6f57de88",
   "metadata": {},
   "outputs": [],
   "source": [
    "df_node"
   ]
  },
  {
   "cell_type": "code",
   "execution_count": null,
   "id": "2a3b555e",
   "metadata": {},
   "outputs": [],
   "source": [
    "df_edge"
   ]
  },
  {
   "cell_type": "markdown",
   "id": "f1b47cfa",
   "metadata": {},
   "source": [
    "### Fungsi untuk Filter serangga, vektor, virus\n",
    "dipake dibawah setelah concat dengan data to add\n",
    "\n",
    "##### filter serangga dll\n",
    "pake'filum': 'NCBI:6656_Arthropoda'\n",
    "\n",
    "##### filter tanaman\n",
    "kingdom=='NCBI:33090_Viridiplantae'\n",
    "\n",
    "##### filter virus\n",
    "pake superkingdom = 'NCBI:10239_Viruses'"
   ]
  },
  {
   "cell_type": "markdown",
   "id": "36c32f1f",
   "metadata": {},
   "source": [
    "kalau ingin ada data artopoda lain seperti laba2 dsb maka pake filter filum artopoda. nanti tetap di filter lagi di proses, yang bukan insect masuk di no group."
   ]
  },
  {
   "cell_type": "code",
   "execution_count": null,
   "id": "a07a2a50",
   "metadata": {},
   "outputs": [],
   "source": [
    "print('Shape :', df_node.shape)\n",
    "print('Edge :', df_edge.shape)"
   ]
  },
  {
   "cell_type": "code",
   "execution_count": null,
   "id": "f7c4db21",
   "metadata": {},
   "outputs": [],
   "source": [
    "# filter\n",
    "# df_node,df_edge = takeNodeAndEdgeByFilter(\n",
    "#     df_node[ \n",
    "#         (df_node.superkingdom=='NCBI:10239_Viruses') | \n",
    "#         (df_node.kingdom=='NCBI:33090_Viridiplantae') | \n",
    "#         (df_node.phylum=='NCBI:6656_Arthropoda') \n",
    "#         #(df_node['class']!='NCBI:50557_Insecta')\n",
    "#     ], df_node, df_edge\n",
    "# )\n",
    "\n",
    "# hapus kingdom isi null\n",
    "df_node,df_edge = removeNodeAndEdgeByFilter(df_node[df_node.kingdom.isnull()], df_node,df_edge)"
   ]
  },
  {
   "cell_type": "code",
   "execution_count": null,
   "id": "231d0191",
   "metadata": {},
   "outputs": [],
   "source": [
    "print('Shape :', df_node.shape)\n",
    "print('Edge :', df_edge.shape)"
   ]
  },
  {
   "cell_type": "code",
   "execution_count": null,
   "id": "120a11df",
   "metadata": {},
   "outputs": [],
   "source": [
    "#hapus lagi edge kalo masih ada edge tidak ada di node\n",
    "df_edge = removeEdgesNotInNodes(df_node, df_edge)"
   ]
  },
  {
   "cell_type": "code",
   "execution_count": null,
   "id": "56c463f4",
   "metadata": {},
   "outputs": [],
   "source": [
    "print('Shape :', df_node.shape)\n",
    "print('Edge :', df_edge.shape)"
   ]
  },
  {
   "cell_type": "code",
   "execution_count": null,
   "id": "4615bc7f",
   "metadata": {},
   "outputs": [],
   "source": [
    "df_node"
   ]
  },
  {
   "cell_type": "code",
   "execution_count": null,
   "id": "b6f61095",
   "metadata": {},
   "outputs": [],
   "source": [
    "# Menghapus kolom yang tidak lagi dibutuhkan\n",
    "if 'taxon_rank' in node_to_add.columns:\n",
    "    node_to_add.drop(['taxon_rank'], axis=1,inplace=True) #dihapus karena menyesuaikan draft saja. dan karena tidak tahu mbken apa"
   ]
  },
  {
   "cell_type": "markdown",
   "id": "3b70dbe8",
   "metadata": {},
   "source": [
    "# Save sebelum Konversi dataframe ke Graf\n",
    "\n",
    "konversi graf dinotebook lain. jadi save saja dataframenya"
   ]
  },
  {
   "cell_type": "code",
   "execution_count": null,
   "id": "bd1905f9",
   "metadata": {},
   "outputs": [],
   "source": [
    "df_node.to_csv(os.getcwd()+'/dari_praproses/'+nama_file+'_node.csv')\n",
    "df_edge.to_csv(os.getcwd()+'/dari_praproses/'+nama_file+'_edge.csv')"
   ]
  },
  {
   "cell_type": "code",
   "execution_count": null,
   "id": "dc862478",
   "metadata": {},
   "outputs": [],
   "source": []
  }
 ],
 "metadata": {
  "kernelspec": {
   "display_name": "Python [conda env:thesis]",
   "language": "python",
   "name": "conda-env-thesis-py"
  },
  "language_info": {
   "codemirror_mode": {
    "name": "ipython",
    "version": 3
   },
   "file_extension": ".py",
   "mimetype": "text/x-python",
   "name": "python",
   "nbconvert_exporter": "python",
   "pygments_lexer": "ipython3",
   "version": "3.8.16"
  }
 },
 "nbformat": 4,
 "nbformat_minor": 5
}
