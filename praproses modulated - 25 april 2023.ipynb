{
 "cells": [
  {
   "cell_type": "code",
   "execution_count": 25,
   "id": "ce98b8cd",
   "metadata": {},
   "outputs": [],
   "source": [
    "import requests\n",
    "from tqdm import tqdm\n",
    "import pandas as pd\n",
    "# from owlready2 import get_ontology\n",
    "import os\n",
    "\n",
    "from standardization_usingsparql import addTaxonColumn, buat_kolom_taxon_awal\n",
    "from disambiguation_optimized import buat_kamus_kosong, update_kamus_pake_wikidata, update_df_pake_kamus, update_df_pake_path_ujung, removeOtherThanNCBI\n",
    "from preprocess import cleaning, splitInteractionToNodeEdge\n",
    "from filterNodeEdge import removeNodeAndEdgeByFilter,takeNodeAndEdgeByFilter,removeEdgesNotInNodes\n",
    "from handler_umum import contains_string_entire_column\n",
    "from vectorReferenced import get_taxon_vector,cek_ncbi_id_by_wiki_id_via_string"
   ]
  },
  {
   "cell_type": "code",
   "execution_count": 26,
   "id": "25dd7909",
   "metadata": {},
   "outputs": [],
   "source": [
    "#1 inisiasi\n",
    "# Ambil NCBI OBO\n",
    "# ncbi_link = os.getcwd()+'/../data/ncbitaxon.owl'\n",
    "# onto = get_ontology(ncbi_link)\n",
    "# onto.load()\n",
    "# obo = onto.get_namespace('http://purl.obolibrary.org/obo/')\n",
    "#parameter\n",
    "virus_txt = 'Cucumber mosaic virus'.replace(' ','%20')\n",
    "nama_file = '1cucu'\n",
    "tipe_interaksi_virus = 'hasHost' #pathogenOf, pake relasi hasHost lebih dapat banyak relasi dari pada pathogenOf\n",
    "tipe_interaksi_tanaman = 'hostOf' #hasPathogen, pake relasi hostOf lebih dapat banyak relasi dari pada hasPathogen\n",
    "tipe_interaksi_serangga_ke_tanaman = 'hasHost' \n",
    "tipe_interaksi_serangga_ke_virus = 'hostOf' \n",
    "ncbi_server_url = 'http://localhost:3030/mydataset/query'"
   ]
  },
  {
   "cell_type": "code",
   "execution_count": 27,
   "id": "946c7825",
   "metadata": {},
   "outputs": [
    {
     "data": {
      "text/plain": [
       "[('spesies', 'NCBI:12305_Cucumber mosaic virus'),\n",
       " ('genus', 'NCBI:12304_Cucumovirus'),\n",
       " ('famili', 'NCBI:39740_Bromoviridae'),\n",
       " ('ordo', 'NCBI:2732544_Martellivirales'),\n",
       " ('kelas', 'NCBI:2732461_Alsuviricetes'),\n",
       " ('filum', 'NCBI:2732406_Kitrinoviricota'),\n",
       " ('kingdom', 'NCBI:2732396_Orthornavirae'),\n",
       " ('superkingdom', 'NCBI:10239_Viruses')]"
      ]
     },
     "execution_count": 27,
     "metadata": {},
     "output_type": "execute_result"
    }
   ],
   "source": [
    "virus_search = get_taxon_vector(virus_txt,ncbi_server_url)\n",
    "virus_search"
   ]
  },
  {
   "cell_type": "code",
   "execution_count": 28,
   "id": "cc883820",
   "metadata": {},
   "outputs": [
    {
     "data": {
      "text/plain": [
       "[('genus', 'NCBI:13163_Myzus'),\n",
       " ('famili', 'NCBI:27482_Aphididae'),\n",
       " ('ordo', 'NCBI:7524_Hemiptera'),\n",
       " ('kelas', 'NCBI:50557_Insecta'),\n",
       " ('filum', 'NCBI:6656_Arthropoda'),\n",
       " ('kingdom', 'NCBI:33208_Metazoa'),\n",
       " ('superkingdom', 'NCBI:2759_Eukaryota')]"
      ]
     },
     "execution_count": 28,
     "metadata": {},
     "output_type": "execute_result"
    }
   ],
   "source": [
    "get_taxon_vector(\"Myzus\",ncbi_server_url)"
   ]
  },
  {
   "cell_type": "code",
   "execution_count": 29,
   "id": "f412d124",
   "metadata": {},
   "outputs": [
    {
     "data": {
      "text/plain": [
       "['NCBI:12304', 'Cucumovirus']"
      ]
     },
     "execution_count": 29,
     "metadata": {},
     "output_type": "execute_result"
    }
   ],
   "source": [
    "virus_search[1][1].split('_')"
   ]
  },
  {
   "cell_type": "code",
   "execution_count": 30,
   "id": "7f605659",
   "metadata": {},
   "outputs": [],
   "source": [
    "#2 ambil data dari globi\n",
    "kolom=[\n",
    "    'source_taxon_external_id',\n",
    "    'source_taxon_name',\n",
    "    'source_taxon_path',\n",
    "    'source_taxon_path_ids',\n",
    "    'source_taxon_path_ranks',\n",
    "    \n",
    "    'interaction_type',\n",
    "    \n",
    "    'target_taxon_external_id',\n",
    "    'target_taxon_name',\n",
    "    'target_taxon_path',\n",
    "    'target_taxon_path_ids',\n",
    "    'target_taxon_path_ranks',\n",
    "]\n",
    "\n",
    "interactionType=tipe_interaksi_virus\n",
    "link=\"https://api.globalbioticinteractions.org/interaction?sourceTaxon=\"+virus_search[0][1].split('_')[0]+\"&interactionType=\"+interactionType+\"&fields=\"+(','.join(kolom))\n",
    "response = requests.get(link)\n",
    "res=response.json()\n",
    "\n",
    "if not res['data']:\n",
    "    print('kosong')\n",
    "# JSON To Pandas Dataframe\n",
    "df = pd.json_normalize(res, record_path =['data'])\n",
    "\n",
    "link=\"https://api.globalbioticinteractions.org/interaction?sourceTaxon=\"+virus_search[1][1].split('_')[0]+\"&interactionType=\"+interactionType+\"&fields=\"+(','.join(kolom))\n",
    "response = requests.get(link)\n",
    "res=response.json()\n",
    "if not res['data']:\n",
    "    print('kosong')\n",
    "# JSON To Pandas Dataframe\n",
    "df_ = pd.json_normalize(res, record_path =['data'])\n",
    "df=pd.concat([df,df_])\n",
    "\n",
    "df.columns = kolom\n",
    "\n",
    "\n"
   ]
  },
  {
   "cell_type": "code",
   "execution_count": 31,
   "id": "c04b4e8e",
   "metadata": {},
   "outputs": [
    {
     "data": {
      "text/html": [
       "<div>\n",
       "<style scoped>\n",
       "    .dataframe tbody tr th:only-of-type {\n",
       "        vertical-align: middle;\n",
       "    }\n",
       "\n",
       "    .dataframe tbody tr th {\n",
       "        vertical-align: top;\n",
       "    }\n",
       "\n",
       "    .dataframe thead th {\n",
       "        text-align: right;\n",
       "    }\n",
       "</style>\n",
       "<table border=\"1\" class=\"dataframe\">\n",
       "  <thead>\n",
       "    <tr style=\"text-align: right;\">\n",
       "      <th></th>\n",
       "      <th>source_taxon_external_id</th>\n",
       "      <th>source_taxon_name</th>\n",
       "      <th>source_taxon_path</th>\n",
       "      <th>source_taxon_path_ids</th>\n",
       "      <th>source_taxon_path_ranks</th>\n",
       "      <th>interaction_type</th>\n",
       "      <th>target_taxon_external_id</th>\n",
       "      <th>target_taxon_name</th>\n",
       "      <th>target_taxon_path</th>\n",
       "      <th>target_taxon_path_ids</th>\n",
       "      <th>target_taxon_path_ranks</th>\n",
       "    </tr>\n",
       "  </thead>\n",
       "  <tbody>\n",
       "    <tr>\n",
       "      <th>0</th>\n",
       "      <td>INAT_TAXON:973842</td>\n",
       "      <td>Cucumber mosaic virus</td>\n",
       "      <td>Viruses | Kitrinoviricota | Alsuviricetes | Ma...</td>\n",
       "      <td>INAT_TAXON:131236 | INAT_TAXON:1123684 | INAT_...</td>\n",
       "      <td>kingdom | phylum | class | order | family | ge...</td>\n",
       "      <td>hasHost</td>\n",
       "      <td>INAT_TAXON:363481</td>\n",
       "      <td>Scaevola taccada</td>\n",
       "      <td>Plantae | Tracheophyta | Magnoliophyta | Magno...</td>\n",
       "      <td>INAT_TAXON:47126 | INAT_TAXON:211194 | INAT_TA...</td>\n",
       "      <td>kingdom | subkingdom | phylum | class | order ...</td>\n",
       "    </tr>\n",
       "    <tr>\n",
       "      <th>1</th>\n",
       "      <td>INAT_TAXON:973842</td>\n",
       "      <td>Cucumber mosaic virus</td>\n",
       "      <td>Viruses | Kitrinoviricota | Alsuviricetes | Ma...</td>\n",
       "      <td>INAT_TAXON:131236 | INAT_TAXON:1123684 | INAT_...</td>\n",
       "      <td>kingdom | phylum | class | order | family | ge...</td>\n",
       "      <td>hasHost</td>\n",
       "      <td>GBIF:1944973</td>\n",
       "      <td>Viola</td>\n",
       "      <td>Animalia | Arthropoda | Insecta | Lepidoptera ...</td>\n",
       "      <td>GBIF:1 | GBIF:54 | GBIF:216 | GBIF:797 | GBIF:...</td>\n",
       "      <td>kingdom | phylum | class | order | family | genus</td>\n",
       "    </tr>\n",
       "    <tr>\n",
       "      <th>2</th>\n",
       "      <td>INAT_TAXON:973842</td>\n",
       "      <td>Cucumber mosaic virus</td>\n",
       "      <td>Viruses | Kitrinoviricota | Alsuviricetes | Ma...</td>\n",
       "      <td>INAT_TAXON:131236 | INAT_TAXON:1123684 | INAT_...</td>\n",
       "      <td>kingdom | phylum | class | order | family | ge...</td>\n",
       "      <td>hasHost</td>\n",
       "      <td>INAT_TAXON:127010</td>\n",
       "      <td>Nandina domestica</td>\n",
       "      <td>Plantae | Tracheophyta | Magnoliophyta | Magno...</td>\n",
       "      <td>INAT_TAXON:47126 | INAT_TAXON:211194 | INAT_TA...</td>\n",
       "      <td>kingdom | subkingdom | phylum | class | order ...</td>\n",
       "    </tr>\n",
       "    <tr>\n",
       "      <th>3</th>\n",
       "      <td>INAT_TAXON:973842</td>\n",
       "      <td>Cucumber mosaic virus</td>\n",
       "      <td>Viruses | Kitrinoviricota | Alsuviricetes | Ma...</td>\n",
       "      <td>INAT_TAXON:131236 | INAT_TAXON:1123684 | INAT_...</td>\n",
       "      <td>kingdom | phylum | class | order | family | ge...</td>\n",
       "      <td>hasHost</td>\n",
       "      <td>INAT_TAXON:127010</td>\n",
       "      <td>Nandina domestica</td>\n",
       "      <td>Plantae | Tracheophyta | Magnoliophyta | Magno...</td>\n",
       "      <td>INAT_TAXON:47126 | INAT_TAXON:211194 | INAT_TA...</td>\n",
       "      <td>kingdom | subkingdom | phylum | class | order ...</td>\n",
       "    </tr>\n",
       "    <tr>\n",
       "      <th>4</th>\n",
       "      <td>INAT_TAXON:973842</td>\n",
       "      <td>Cucumber mosaic virus</td>\n",
       "      <td>Viruses | Kitrinoviricota | Alsuviricetes | Ma...</td>\n",
       "      <td>INAT_TAXON:131236 | INAT_TAXON:1123684 | INAT_...</td>\n",
       "      <td>kingdom | phylum | class | order | family | ge...</td>\n",
       "      <td>hasHost</td>\n",
       "      <td>INAT_TAXON:363481</td>\n",
       "      <td>Scaevola taccada</td>\n",
       "      <td>Plantae | Tracheophyta | Magnoliophyta | Magno...</td>\n",
       "      <td>INAT_TAXON:47126 | INAT_TAXON:211194 | INAT_TA...</td>\n",
       "      <td>kingdom | subkingdom | phylum | class | order ...</td>\n",
       "    </tr>\n",
       "    <tr>\n",
       "      <th>...</th>\n",
       "      <td>...</td>\n",
       "      <td>...</td>\n",
       "      <td>...</td>\n",
       "      <td>...</td>\n",
       "      <td>...</td>\n",
       "      <td>...</td>\n",
       "      <td>...</td>\n",
       "      <td>...</td>\n",
       "      <td>...</td>\n",
       "      <td>...</td>\n",
       "      <td>...</td>\n",
       "    </tr>\n",
       "    <tr>\n",
       "      <th>89</th>\n",
       "      <td>GBIF:8765348</td>\n",
       "      <td>Cucumovirus</td>\n",
       "      <td>| Bromoviridae | Cucumovirus |</td>\n",
       "      <td>GBIF:8 | GBIF:6226 | GBIF:9155085 | GBIF:8765348</td>\n",
       "      <td>kingdom | family | genus | species</td>\n",
       "      <td>pathogenOf</td>\n",
       "      <td>GBIF:2874172</td>\n",
       "      <td>Passiflora</td>\n",
       "      <td>Plantae | Tracheophyta | Magnoliopsida | Malpi...</td>\n",
       "      <td>GBIF:6 | GBIF:7707728 | GBIF:220 | GBIF:1414 |...</td>\n",
       "      <td>kingdom | phylum | class | order | family | genus</td>\n",
       "    </tr>\n",
       "    <tr>\n",
       "      <th>90</th>\n",
       "      <td>GBIF:8765348</td>\n",
       "      <td>Cucumovirus</td>\n",
       "      <td>| Bromoviridae | Cucumovirus |</td>\n",
       "      <td>GBIF:8 | GBIF:6226 | GBIF:9155085 | GBIF:8765348</td>\n",
       "      <td>kingdom | family | genus | species</td>\n",
       "      <td>pathogenOf</td>\n",
       "      <td>EOL:468029</td>\n",
       "      <td>Helianthus tuberosus</td>\n",
       "      <td>Plantae | Tracheophyta | Magnoliopsida | Aster...</td>\n",
       "      <td>EOL_V2:281 | EOL:4077 | EOL:283 | EOL:4205 | E...</td>\n",
       "      <td>kingdom | phylum | class | order | family | ge...</td>\n",
       "    </tr>\n",
       "    <tr>\n",
       "      <th>91</th>\n",
       "      <td>GBIF:8765348</td>\n",
       "      <td>Cucumovirus</td>\n",
       "      <td>| Bromoviridae | Cucumovirus |</td>\n",
       "      <td>GBIF:8 | GBIF:6226 | GBIF:9155085 | GBIF:8765348</td>\n",
       "      <td>kingdom | family | genus | species</td>\n",
       "      <td>pathogenOf</td>\n",
       "      <td>GBIF:6</td>\n",
       "      <td>Plantae</td>\n",
       "      <td>Plantae</td>\n",
       "      <td>GBIF:6</td>\n",
       "      <td>kingdom</td>\n",
       "    </tr>\n",
       "    <tr>\n",
       "      <th>92</th>\n",
       "      <td>GBIF:8765348</td>\n",
       "      <td>Cucumovirus</td>\n",
       "      <td>| Bromoviridae | Cucumovirus |</td>\n",
       "      <td>GBIF:8 | GBIF:6226 | GBIF:9155085 | GBIF:8765348</td>\n",
       "      <td>kingdom | family | genus | species</td>\n",
       "      <td>pathogenOf</td>\n",
       "      <td>GBIF:5290052</td>\n",
       "      <td>Zea mays</td>\n",
       "      <td>Plantae | Tracheophyta | Liliopsida | Poales |...</td>\n",
       "      <td>GBIF:6 | GBIF:7707728 | GBIF:196 | GBIF:1369 |...</td>\n",
       "      <td>kingdom | phylum | class | order | family | ge...</td>\n",
       "    </tr>\n",
       "    <tr>\n",
       "      <th>93</th>\n",
       "      <td>GBIF:8765348</td>\n",
       "      <td>Cucumovirus</td>\n",
       "      <td>| Bromoviridae | Cucumovirus |</td>\n",
       "      <td>GBIF:8 | GBIF:6226 | GBIF:9155085 | GBIF:8765348</td>\n",
       "      <td>kingdom | family | genus | species</td>\n",
       "      <td>pathogenOf</td>\n",
       "      <td>EOL_V2:29914</td>\n",
       "      <td>Rubus</td>\n",
       "      <td>Plantae | Tracheophyta | Magnoliopsida | Rosal...</td>\n",
       "      <td>EOL_V2:281 | EOL:4077 | EOL:283 | EOL:4385 | E...</td>\n",
       "      <td>kingdom | phylum | class | order | family | ge...</td>\n",
       "    </tr>\n",
       "  </tbody>\n",
       "</table>\n",
       "<p>168 rows × 11 columns</p>\n",
       "</div>"
      ],
      "text/plain": [
       "   source_taxon_external_id      source_taxon_name  \\\n",
       "0         INAT_TAXON:973842  Cucumber mosaic virus   \n",
       "1         INAT_TAXON:973842  Cucumber mosaic virus   \n",
       "2         INAT_TAXON:973842  Cucumber mosaic virus   \n",
       "3         INAT_TAXON:973842  Cucumber mosaic virus   \n",
       "4         INAT_TAXON:973842  Cucumber mosaic virus   \n",
       "..                      ...                    ...   \n",
       "89             GBIF:8765348            Cucumovirus   \n",
       "90             GBIF:8765348            Cucumovirus   \n",
       "91             GBIF:8765348            Cucumovirus   \n",
       "92             GBIF:8765348            Cucumovirus   \n",
       "93             GBIF:8765348            Cucumovirus   \n",
       "\n",
       "                                    source_taxon_path  \\\n",
       "0   Viruses | Kitrinoviricota | Alsuviricetes | Ma...   \n",
       "1   Viruses | Kitrinoviricota | Alsuviricetes | Ma...   \n",
       "2   Viruses | Kitrinoviricota | Alsuviricetes | Ma...   \n",
       "3   Viruses | Kitrinoviricota | Alsuviricetes | Ma...   \n",
       "4   Viruses | Kitrinoviricota | Alsuviricetes | Ma...   \n",
       "..                                                ...   \n",
       "89                     | Bromoviridae | Cucumovirus |   \n",
       "90                     | Bromoviridae | Cucumovirus |   \n",
       "91                     | Bromoviridae | Cucumovirus |   \n",
       "92                     | Bromoviridae | Cucumovirus |   \n",
       "93                     | Bromoviridae | Cucumovirus |   \n",
       "\n",
       "                                source_taxon_path_ids  \\\n",
       "0   INAT_TAXON:131236 | INAT_TAXON:1123684 | INAT_...   \n",
       "1   INAT_TAXON:131236 | INAT_TAXON:1123684 | INAT_...   \n",
       "2   INAT_TAXON:131236 | INAT_TAXON:1123684 | INAT_...   \n",
       "3   INAT_TAXON:131236 | INAT_TAXON:1123684 | INAT_...   \n",
       "4   INAT_TAXON:131236 | INAT_TAXON:1123684 | INAT_...   \n",
       "..                                                ...   \n",
       "89   GBIF:8 | GBIF:6226 | GBIF:9155085 | GBIF:8765348   \n",
       "90   GBIF:8 | GBIF:6226 | GBIF:9155085 | GBIF:8765348   \n",
       "91   GBIF:8 | GBIF:6226 | GBIF:9155085 | GBIF:8765348   \n",
       "92   GBIF:8 | GBIF:6226 | GBIF:9155085 | GBIF:8765348   \n",
       "93   GBIF:8 | GBIF:6226 | GBIF:9155085 | GBIF:8765348   \n",
       "\n",
       "                              source_taxon_path_ranks interaction_type  \\\n",
       "0   kingdom | phylum | class | order | family | ge...          hasHost   \n",
       "1   kingdom | phylum | class | order | family | ge...          hasHost   \n",
       "2   kingdom | phylum | class | order | family | ge...          hasHost   \n",
       "3   kingdom | phylum | class | order | family | ge...          hasHost   \n",
       "4   kingdom | phylum | class | order | family | ge...          hasHost   \n",
       "..                                                ...              ...   \n",
       "89                 kingdom | family | genus | species       pathogenOf   \n",
       "90                 kingdom | family | genus | species       pathogenOf   \n",
       "91                 kingdom | family | genus | species       pathogenOf   \n",
       "92                 kingdom | family | genus | species       pathogenOf   \n",
       "93                 kingdom | family | genus | species       pathogenOf   \n",
       "\n",
       "   target_taxon_external_id     target_taxon_name  \\\n",
       "0         INAT_TAXON:363481      Scaevola taccada   \n",
       "1              GBIF:1944973                 Viola   \n",
       "2         INAT_TAXON:127010     Nandina domestica   \n",
       "3         INAT_TAXON:127010     Nandina domestica   \n",
       "4         INAT_TAXON:363481      Scaevola taccada   \n",
       "..                      ...                   ...   \n",
       "89             GBIF:2874172            Passiflora   \n",
       "90               EOL:468029  Helianthus tuberosus   \n",
       "91                   GBIF:6               Plantae   \n",
       "92             GBIF:5290052              Zea mays   \n",
       "93             EOL_V2:29914                 Rubus   \n",
       "\n",
       "                                    target_taxon_path  \\\n",
       "0   Plantae | Tracheophyta | Magnoliophyta | Magno...   \n",
       "1   Animalia | Arthropoda | Insecta | Lepidoptera ...   \n",
       "2   Plantae | Tracheophyta | Magnoliophyta | Magno...   \n",
       "3   Plantae | Tracheophyta | Magnoliophyta | Magno...   \n",
       "4   Plantae | Tracheophyta | Magnoliophyta | Magno...   \n",
       "..                                                ...   \n",
       "89  Plantae | Tracheophyta | Magnoliopsida | Malpi...   \n",
       "90  Plantae | Tracheophyta | Magnoliopsida | Aster...   \n",
       "91                                            Plantae   \n",
       "92  Plantae | Tracheophyta | Liliopsida | Poales |...   \n",
       "93  Plantae | Tracheophyta | Magnoliopsida | Rosal...   \n",
       "\n",
       "                                target_taxon_path_ids  \\\n",
       "0   INAT_TAXON:47126 | INAT_TAXON:211194 | INAT_TA...   \n",
       "1   GBIF:1 | GBIF:54 | GBIF:216 | GBIF:797 | GBIF:...   \n",
       "2   INAT_TAXON:47126 | INAT_TAXON:211194 | INAT_TA...   \n",
       "3   INAT_TAXON:47126 | INAT_TAXON:211194 | INAT_TA...   \n",
       "4   INAT_TAXON:47126 | INAT_TAXON:211194 | INAT_TA...   \n",
       "..                                                ...   \n",
       "89  GBIF:6 | GBIF:7707728 | GBIF:220 | GBIF:1414 |...   \n",
       "90  EOL_V2:281 | EOL:4077 | EOL:283 | EOL:4205 | E...   \n",
       "91                                             GBIF:6   \n",
       "92  GBIF:6 | GBIF:7707728 | GBIF:196 | GBIF:1369 |...   \n",
       "93  EOL_V2:281 | EOL:4077 | EOL:283 | EOL:4385 | E...   \n",
       "\n",
       "                              target_taxon_path_ranks  \n",
       "0   kingdom | subkingdom | phylum | class | order ...  \n",
       "1   kingdom | phylum | class | order | family | genus  \n",
       "2   kingdom | subkingdom | phylum | class | order ...  \n",
       "3   kingdom | subkingdom | phylum | class | order ...  \n",
       "4   kingdom | subkingdom | phylum | class | order ...  \n",
       "..                                                ...  \n",
       "89  kingdom | phylum | class | order | family | genus  \n",
       "90  kingdom | phylum | class | order | family | ge...  \n",
       "91                                            kingdom  \n",
       "92  kingdom | phylum | class | order | family | ge...  \n",
       "93  kingdom | phylum | class | order | family | ge...  \n",
       "\n",
       "[168 rows x 11 columns]"
      ]
     },
     "execution_count": 31,
     "metadata": {},
     "output_type": "execute_result"
    }
   ],
   "source": [
    "# contains_string_entire_column(df,'Insect')\n",
    "df"
   ]
  },
  {
   "cell_type": "code",
   "execution_count": 32,
   "id": "5fc580fb",
   "metadata": {},
   "outputs": [
    {
     "name": "stdout",
     "output_type": "stream",
     "text": [
      "drop duplicate\n",
      "sebelum :  168\n",
      "setelah:  47\n",
      "drop tidak mengandung NCBI dan taxon pathnya null\n",
      "sebelum :  47\n",
      "setelah:  46\n",
      "drop duplicate nama sama beda id\n",
      "sebelum :  46\n",
      "setelah:  45\n"
     ]
    }
   ],
   "source": [
    "#3 cleaning\n",
    "df=cleaning(df, dropNonNCBI=False)"
   ]
  },
  {
   "cell_type": "code",
   "execution_count": 33,
   "id": "b8986130",
   "metadata": {},
   "outputs": [],
   "source": [
    "# drop duplicate\n",
    "# sebelum :  94\n",
    "# setelah:  47\n",
    "# drop tidak mengandung NCBI dan taxon pathnya null\n",
    "# sebelum :  47\n",
    "# setelah:  46\n",
    "# drop duplicate nama sama beda id\n",
    "# sebelum :  46\n",
    "# setelah:  45"
   ]
  },
  {
   "cell_type": "code",
   "execution_count": 34,
   "id": "74c5975e",
   "metadata": {},
   "outputs": [],
   "source": [
    "#4 splitting layer 1 interaksi virus\n",
    "df_node, df_edge = splitInteractionToNodeEdge(df)"
   ]
  },
  {
   "cell_type": "code",
   "execution_count": 35,
   "id": "103fba5f",
   "metadata": {},
   "outputs": [
    {
     "data": {
      "text/plain": [
       "(48, 45)"
      ]
     },
     "execution_count": 35,
     "metadata": {},
     "output_type": "execute_result"
    }
   ],
   "source": [
    "len(df_node),len(df_edge)"
   ]
  },
  {
   "cell_type": "code",
   "execution_count": 36,
   "id": "14c597fb",
   "metadata": {},
   "outputs": [
    {
     "name": "stdout",
     "output_type": "stream",
     "text": [
      "['INAT_TAXON', 'GBIF', 'EOL_V2', 'EOL'] 4  database,  4  kali perulangan akses NCBI\n",
      "INAT_TAXON : jumlah id 12\n"
     ]
    },
    {
     "name": "stderr",
     "output_type": "stream",
     "text": [
      "100%|██████████| 11/11 [00:00<00:00, 290171.97it/s]\n"
     ]
    },
    {
     "name": "stdout",
     "output_type": "stream",
     "text": [
      "GBIF : jumlah id 73\n"
     ]
    },
    {
     "name": "stderr",
     "output_type": "stream",
     "text": [
      "100%|██████████| 67/67 [00:00<00:00, 449629.39it/s]"
     ]
    },
    {
     "name": "stdout",
     "output_type": "stream",
     "text": [
      "EOL_V2 : jumlah id 2\n"
     ]
    },
    {
     "name": "stderr",
     "output_type": "stream",
     "text": [
      "\n",
      "100%|██████████| 1/1 [00:00<00:00, 32263.88it/s]\n"
     ]
    },
    {
     "name": "stdout",
     "output_type": "stream",
     "text": [
      "EOL : jumlah id 22\n"
     ]
    },
    {
     "name": "stderr",
     "output_type": "stream",
     "text": [
      "100%|██████████| 20/20 [00:00<00:00, 307275.02it/s]\n"
     ]
    }
   ],
   "source": [
    "#5 disambiguasi layer 1 interaksi virus\n",
    "kamus_ncbi = buat_kamus_kosong(df_node)\n",
    "kamus_ncbi = update_kamus_pake_wikidata(kamus_ncbi)\n",
    "#update dataframe pake kamus\n",
    "df_node,df_edge = update_df_pake_kamus(kamus_ncbi,df_node,df_edge)\n",
    "df_node,df_edge = update_df_pake_path_ujung(df_node,df_edge)"
   ]
  },
  {
   "cell_type": "code",
   "execution_count": 37,
   "id": "9213d106",
   "metadata": {},
   "outputs": [
    {
     "name": "stdout",
     "output_type": "stream",
     "text": [
      "dict_keys(['INAT_TAXON', 'GBIF', 'EOL_V2', 'EOL'])\n"
     ]
    },
    {
     "data": {
      "text/plain": [
       "key    94\n",
       "val    94\n",
       "dtype: int64"
      ]
     },
     "execution_count": 37,
     "metadata": {},
     "output_type": "execute_result"
    }
   ],
   "source": [
    "#untuk laporan\n",
    "#kode database\n",
    "print(kamus_ncbi.keys())\n",
    "\n",
    "key=[]\n",
    "val=[]\n",
    "for i in kamus_ncbi:\n",
    "    key.extend(list(kamus_ncbi[i].keys()))\n",
    "    val.extend(list(kamus_ncbi[i].values()))\n",
    "    \n",
    "df_kamus=pd.DataFrame({'key':key,'val':val})\n",
    "\n",
    "# csv\n",
    "# df_kamus.to_csv('output.xlsx', index=False)\n",
    "\n",
    "# semua \n",
    "# df_kamus\n",
    "# yang kosong\n",
    "df_kamus[(df_kamus.val != '')].count()"
   ]
  },
  {
   "cell_type": "code",
   "execution_count": 38,
   "id": "7dccc3bc",
   "metadata": {},
   "outputs": [
    {
     "name": "stdout",
     "output_type": "stream",
     "text": [
      "{'GBIF'}\n",
      "------------------------------------\n",
      "node\n",
      "sebelum  48\n",
      "sesudah  47\n",
      "edge\n",
      "target: sebelum 45\n",
      "target: sesudah 44\n",
      "source: sebelum 45\n",
      "source: sesudah 45\n"
     ]
    }
   ],
   "source": [
    "#6 standarisasi layer 1 interaksi virus\n",
    "df_node = buat_kolom_taxon_awal(df_node) #buat kolom taxon, default none\n",
    "df_node = addTaxonColumn(df_node,'http://localhost:3030/mydataset/query') # isi pake ncbi\n",
    "df_node, df_edge = removeOtherThanNCBI(df_node,df_edge)# Hapus kalo masih ada selain NCBI\n",
    "df_edge = removeEdgesNotInNodes(df_node, df_edge) #hapus edge yang tidak ada nodenya"
   ]
  },
  {
   "cell_type": "code",
   "execution_count": 39,
   "id": "4086029e",
   "metadata": {},
   "outputs": [
    {
     "name": "stderr",
     "output_type": "stream",
     "text": [
      "100%|██████████| 38/38 [00:46<00:00,  1.23s/it]\n"
     ]
    }
   ],
   "source": [
    "#7 praproses interaksi tanaman\n",
    "df_plant=df_node[df_node.kingdom=='NCBI:33090_Viridiplantae']\n",
    "interactionType=tipe_interaksi_tanaman\n",
    "node_to_add=pd.DataFrame(columns = [\n",
    "    'taxon_id',\n",
    "    'taxon_name',\n",
    "    'taxon_path',\n",
    "    'taxon_path_ids',\n",
    "    'taxon_path_rank',\n",
    "])\n",
    "edge_to_add=pd.DataFrame(columns = [\n",
    "    'source_taxon_id',\n",
    "    'target_taxon_id',\n",
    "    'interaction_type',\n",
    "])\n",
    "kebalikan={\n",
    "    'hostOf':'hasHost',\n",
    "    'hasPathogen':'pathogenOf', \n",
    "    'pollinatedBy':'pollinates', \n",
    "    'flowersVisitedBy':'visitFlowersOf',\n",
    "    'visitedBy':'visit'\n",
    "}\n",
    "#tanaman\n",
    "for idx,i in tqdm(df_plant.iterrows(), total=df_plant.shape[0]):\n",
    "    plant=i.taxon_name.replace(' ','%20')\n",
    "    link=\"https://api.globalbioticinteractions.org/interaction?sourceTaxon=\"+plant+\"&interactionType=\"+interactionType+\"&fields=\"+(','.join(kolom))\n",
    "    response = requests.get(link)\n",
    "    res=response.json()\n",
    "    #list data\n",
    "    taxon_id=[]\n",
    "    taxon_name=[]\n",
    "    taxon_path=[]\n",
    "    taxon_path_ids=[]\n",
    "    taxon_path_rank=[]\n",
    "    interaction_type=[]\n",
    "    for x in res['data']:\n",
    "        taxon_id.append(x[6])\n",
    "        taxon_name.append(x[7])\n",
    "        taxon_path.append(x[8])\n",
    "        taxon_path_ids.append(x[9])\n",
    "        taxon_path_rank.append(x[10])\n",
    "        if x[5] in ['hostOf', 'hasPathogen', 'pollinatedBy', 'flowersVisitedBy','visitedBy']:\n",
    "            interaction_type.append(kebalikan[x[5]])\n",
    "        else:\n",
    "            interaction_type.append('patogennya')\n",
    "    ## NODE\n",
    "    #concat ke dataframe lama\n",
    "    node_to_add = pd.concat([\n",
    "        node_to_add,\n",
    "        pd.DataFrame({\n",
    "            'taxon_id':taxon_id,\n",
    "            'taxon_name':taxon_name,\n",
    "            'taxon_path':taxon_path,\n",
    "            'taxon_path_ids':taxon_path_ids,\n",
    "            'taxon_path_rank':taxon_path_rank,\n",
    "        })\n",
    "    ], ignore_index = True)\n",
    "    node_to_add.reset_index()\n",
    "    ## EDGE\n",
    "    #concat ke dataframe lama\n",
    "    edge_to_add = pd.concat([\n",
    "        edge_to_add,\n",
    "        pd.DataFrame({\n",
    "            'source_taxon_id': taxon_id, # patogen\n",
    "            'target_taxon_id': i.taxon_id, # tanaman\n",
    "            'interaction_type': interaction_type})\n",
    "    ], ignore_index = True)\n",
    "    edge_to_add.reset_index()"
   ]
  },
  {
   "cell_type": "code",
   "execution_count": 40,
   "id": "29fd32fc",
   "metadata": {},
   "outputs": [
    {
     "name": "stderr",
     "output_type": "stream",
     "text": [
      "100%|██████████| 2/2 [00:01<00:00,  1.23it/s]\n"
     ]
    }
   ],
   "source": [
    "# 7 praproses interaksi serangga ke tanaman\n",
    "df_insect = df_node[df_node['class']=='NCBI:50557_Insecta']\n",
    "interactionType = tipe_interaksi_serangga_ke_tanaman\n",
    "#serangga\n",
    "for idx,i in tqdm(df_insect.iterrows(), total=df_insect.shape[0]):\n",
    "    insect=i.taxon_name.replace(' ','%20')\n",
    "    link=\"https://api.globalbioticinteractions.org/interaction?sourceTaxon=\"+insect+\"&interactionType=\"+interactionType+\"&fields=\"+(','.join(kolom))\n",
    "    response = requests.get(link)\n",
    "    res=response.json()\n",
    "    #list data\n",
    "    taxon_id=[]\n",
    "    taxon_name=[]\n",
    "    taxon_path=[]\n",
    "    taxon_path_ids=[]\n",
    "    taxon_path_rank=[]\n",
    "    interaction_type=[]\n",
    "    for x in res['data']:\n",
    "        taxon_id.append(x[6])\n",
    "        taxon_name.append(x[7])\n",
    "        taxon_path.append(x[8])\n",
    "        taxon_path_ids.append(x[9])\n",
    "        taxon_path_rank.append(x[10])\n",
    "        interaction_type.append(x[5])\n",
    "    ## NODE\n",
    "    #concat ke dataframe lama\n",
    "    node_to_add = pd.concat([\n",
    "        node_to_add,\n",
    "        pd.DataFrame({\n",
    "            'taxon_id':taxon_id,\n",
    "            'taxon_name':taxon_name,\n",
    "            'taxon_path':taxon_path,\n",
    "            'taxon_path_ids':taxon_path_ids,\n",
    "            'taxon_path_rank':taxon_path_rank,\n",
    "        })\n",
    "    ], ignore_index = True)\n",
    "    node_to_add.reset_index()\n",
    "    ## EDGE\n",
    "    #concat ke dataframe lama\n",
    "    edge_to_add = pd.concat([\n",
    "        edge_to_add,\n",
    "        pd.DataFrame({\n",
    "            'source_taxon_id': i.taxon_id, # serangga\n",
    "            'target_taxon_id': taxon_id, # inagnya\n",
    "            'interaction_type': interaction_type\n",
    "            })\n",
    "    ], ignore_index = True)\n",
    "    edge_to_add.reset_index()"
   ]
  },
  {
   "cell_type": "code",
   "execution_count": 41,
   "id": "74eddaa0",
   "metadata": {},
   "outputs": [],
   "source": [
    "# # 7 praproses interaksi serangga ke virus\n",
    "# df_insect = df_node[df_node['class']=='NCBI:50557_Insecta']\n",
    "# interactionType = tipe_interaksi_serangga_ke_virus\n",
    "# #serangga\n",
    "# for idx,i in tqdm(df_insect.iterrows(), total=df_insect.shape[0]):\n",
    "#     insect=i.taxon_name.replace(' ','%20')\n",
    "#     link=\"https://api.globalbioticinteractions.org/interaction?sourceTaxon=\"+insect+\"&interactionType=\"+interactionType+\"&fields=\"+(','.join(kolom))\n",
    "#     response = requests.get(link)\n",
    "#     res=response.json()\n",
    "#     #list data\n",
    "#     taxon_id=[]\n",
    "#     taxon_name=[]\n",
    "#     taxon_path=[]\n",
    "#     taxon_path_ids=[]\n",
    "#     taxon_path_rank=[]\n",
    "#     interaction_type=[]\n",
    "#     for x in res['data']:\n",
    "#         taxon_id.append(x[6])\n",
    "#         taxon_name.append(x[7])\n",
    "#         taxon_path.append(x[8])\n",
    "#         taxon_path_ids.append(x[9])\n",
    "#         taxon_path_rank.append(x[10])\n",
    "#         interaction_type.append(x[5])\n",
    "#     ## NODE\n",
    "#     #concat ke dataframe lama\n",
    "#     node_to_add = pd.concat([\n",
    "#         node_to_add,\n",
    "#         pd.DataFrame({\n",
    "#             'taxon_id':taxon_id,\n",
    "#             'taxon_name':taxon_name,\n",
    "#             'taxon_path':taxon_path,\n",
    "#             'taxon_path_ids':taxon_path_ids,\n",
    "#             'taxon_path_rank':taxon_path_rank,\n",
    "#         })\n",
    "#     ], ignore_index = True)\n",
    "#     node_to_add.reset_index()\n",
    "#     ## EDGE\n",
    "#     #concat ke dataframe lama\n",
    "#     edge_to_add = pd.concat([\n",
    "#         edge_to_add,\n",
    "#         pd.DataFrame({\n",
    "#             'source_taxon_id': i.taxon_id, # serangga\n",
    "#             'target_taxon_id': taxon_id, # inagnya\n",
    "#             'interaction_type': interaction_type\n",
    "#             })\n",
    "#     ], ignore_index = True)\n",
    "#     edge_to_add.reset_index()"
   ]
  },
  {
   "cell_type": "code",
   "execution_count": 42,
   "id": "f7a6a215",
   "metadata": {},
   "outputs": [
    {
     "name": "stdout",
     "output_type": "stream",
     "text": [
      "19919 19919\n"
     ]
    }
   ],
   "source": [
    "print(len(node_to_add),len(edge_to_add))"
   ]
  },
  {
   "cell_type": "code",
   "execution_count": 43,
   "id": "4bd52bc6",
   "metadata": {},
   "outputs": [],
   "source": [
    "#8 cleaning layer 2 interaksi tanaman dan serangga\n",
    "node_to_add.drop_duplicates(inplace=True)\n",
    "hapus=[i for i,d in node_to_add[\n",
    "    (node_to_add.taxon_id.str.contains('NCBI')==False) & (node_to_add.taxon_path_ids.isnull())\n",
    "].iterrows()]\n",
    "node_to_add.drop(hapus, inplace=True)\n",
    "edge_to_add.drop_duplicates(inplace=True)"
   ]
  },
  {
   "cell_type": "code",
   "execution_count": 377,
   "id": "ac898527",
   "metadata": {},
   "outputs": [
    {
     "name": "stdout",
     "output_type": "stream",
     "text": [
      "1863 3282\n",
      "1908 3326\n"
     ]
    }
   ],
   "source": [
    "#untuk laporan\n",
    "print(len(node_to_add),len(edge_to_add))\n",
    "print(len(df_node)+len(node_to_add),len(df_edge)+len(edge_to_add))"
   ]
  },
  {
   "cell_type": "code",
   "execution_count": 378,
   "id": "a0c3cb54",
   "metadata": {},
   "outputs": [
    {
     "name": "stdout",
     "output_type": "stream",
     "text": [
      "['GBIF', 'EOL', 'EOL_V2', 'IRMNG', 'WD', 'IF', 'NBN', 'WORMS', 'INAT_TAXON', 'ALATaxon'] 10  database,  10  kali perulangan akses NCBI\n",
      "GBIF : jumlah id 952\n",
      "GBIF : query terlalu panjang, dilakukan chunk\n"
     ]
    },
    {
     "name": "stderr",
     "output_type": "stream",
     "text": [
      "100%|██████████| 116/116 [00:00<00:00, 524853.57it/s]\n",
      "100%|██████████| 103/103 [00:00<00:00, 340973.41it/s]\n",
      "100%|██████████| 109/109 [00:00<00:00, 345040.86it/s]\n",
      "100%|██████████| 114/114 [00:00<00:00, 384056.75it/s]\n",
      "100%|██████████| 104/104 [00:00<00:00, 492889.96it/s]\n",
      "100%|██████████| 113/113 [00:00<00:00, 423175.31it/s]\n",
      "100%|██████████| 115/115 [00:00<00:00, 387114.74it/s]\n",
      "100%|██████████| 37/37 [00:00<00:00, 233016.89it/s]\n"
     ]
    },
    {
     "name": "stdout",
     "output_type": "stream",
     "text": [
      "EOL : jumlah id 738\n",
      "EOL : query terlalu panjang, dilakukan chunk\n"
     ]
    },
    {
     "name": "stderr",
     "output_type": "stream",
     "text": [
      "100%|██████████| 115/115 [00:00<00:00, 361577.93it/s]\n",
      "100%|██████████| 112/112 [00:00<00:00, 448246.23it/s]\n",
      "100%|██████████| 108/108 [00:00<00:00, 441075.79it/s]\n",
      "100%|██████████| 108/108 [00:00<00:00, 377487.36it/s]\n",
      "100%|██████████| 103/103 [00:00<00:00, 317890.59it/s]\n",
      "100%|██████████| 75/75 [00:00<00:00, 459901.75it/s]\n"
     ]
    },
    {
     "name": "stdout",
     "output_type": "stream",
     "text": [
      "EOL_V2 : jumlah id 200\n",
      "EOL_V2 : query terlalu panjang, dilakukan chunk\n"
     ]
    },
    {
     "name": "stderr",
     "output_type": "stream",
     "text": [
      "100%|██████████| 25/25 [00:00<00:00, 206819.72it/s]\n",
      "100%|██████████| 8/8 [00:00<00:00, 117323.19it/s]\n"
     ]
    },
    {
     "name": "stdout",
     "output_type": "stream",
     "text": [
      "IRMNG : jumlah id 26\n"
     ]
    },
    {
     "name": "stderr",
     "output_type": "stream",
     "text": [
      "100%|██████████| 21/21 [00:00<00:00, 183883.89it/s]\n"
     ]
    },
    {
     "name": "stdout",
     "output_type": "stream",
     "text": [
      "WD : jumlah id 2\n"
     ]
    },
    {
     "name": "stderr",
     "output_type": "stream",
     "text": [
      "100%|██████████| 2/2 [00:00<00:00, 16946.68it/s]\n"
     ]
    },
    {
     "name": "stdout",
     "output_type": "stream",
     "text": [
      "IF : tidak diketahui predikatnya\n",
      "NBN : jumlah id 108\n"
     ]
    },
    {
     "name": "stderr",
     "output_type": "stream",
     "text": [
      "100%|██████████| 79/79 [00:00<00:00, 424263.78it/s]\n"
     ]
    },
    {
     "name": "stdout",
     "output_type": "stream",
     "text": [
      "WORMS : tidak diketahui predikatnya\n",
      "INAT_TAXON : jumlah id 7\n"
     ]
    },
    {
     "name": "stderr",
     "output_type": "stream",
     "text": [
      "100%|██████████| 7/7 [00:00<00:00, 73584.28it/s]\n"
     ]
    },
    {
     "name": "stdout",
     "output_type": "stream",
     "text": [
      "ALATaxon : tidak diketahui predikatnya\n"
     ]
    }
   ],
   "source": [
    "# 9 disambiguasi dan standarisasi interaksi tanaman\n",
    "kamus_ncbi = buat_kamus_kosong(node_to_add)\n",
    "kamus_ncbi = update_kamus_pake_wikidata(kamus_ncbi)\n",
    "#update dataframe pake kamus\n",
    "node_to_add,edge_to_add = update_df_pake_kamus(kamus_ncbi,node_to_add,edge_to_add)\n",
    "node_to_add,edge_to_add = update_df_pake_path_ujung(node_to_add, edge_to_add)\n",
    "\n",
    "# 17+219+48+205+2"
   ]
  },
  {
   "cell_type": "code",
   "execution_count": 379,
   "id": "1b8c754d",
   "metadata": {},
   "outputs": [
    {
     "name": "stdout",
     "output_type": "stream",
     "text": [
      "dict_keys(['GBIF', 'EOL', 'EOL_V2', 'IRMNG', 'WD', 'IF', 'NBN', 'WORMS', 'INAT_TAXON', 'ALATaxon'])\n",
      "key    2110\n",
      "val    2110\n",
      "dtype: int64\n",
      "key    1366\n",
      "val    1366\n",
      "dtype: int64\n"
     ]
    }
   ],
   "source": [
    "#untuk laporan\n",
    "#kode database\n",
    "print(kamus_ncbi.keys())\n",
    "\n",
    "key=[]\n",
    "val=[]\n",
    "for i in kamus_ncbi:\n",
    "    key.extend(list(kamus_ncbi[i].keys()))\n",
    "    val.extend(list(kamus_ncbi[i].values()))\n",
    "    \n",
    "df_kamus=pd.DataFrame({'key':key,'val':val})\n",
    "\n",
    "# csv\n",
    "# df_kamus.to_csv('output.xlsx', index=False)\n",
    "\n",
    "# semua \n",
    "print(df_kamus.count())\n",
    "# yang kosong\n",
    "# df_kamus[(df_kamus.val != '') & (df_kamus.key.str.contains(\"NBN\"))]\n",
    "print(df_kamus[(df_kamus.val != '')].count())"
   ]
  },
  {
   "cell_type": "code",
   "execution_count": 380,
   "id": "2bdf820f",
   "metadata": {},
   "outputs": [],
   "source": [
    "# node_to_add[node_to_add[\"taxon_id\"].str.contains(\"NCBI\") == False]"
   ]
  },
  {
   "cell_type": "code",
   "execution_count": 381,
   "id": "fe629f64",
   "metadata": {},
   "outputs": [
    {
     "name": "stdout",
     "output_type": "stream",
     "text": [
      "{'WORMS', 'IF', 'EOL_V2', 'NBN', 'EOL', 'ALATaxon'}\n",
      "------------------------------------\n",
      "node\n",
      "sebelum  1863\n",
      "sesudah  1837\n",
      "edge\n",
      "target: sebelum 3282\n",
      "target: sesudah 3282\n",
      "source: sebelum 3282\n",
      "source: sesudah 3178\n",
      "1837 3178\n"
     ]
    }
   ],
   "source": [
    "#10 praproses terakhir\n",
    "node_to_add = buat_kolom_taxon_awal(node_to_add) #buat kolom taxon, isi none dan isi dari path\n",
    "node_to_add = addTaxonColumn(node_to_add,'http://localhost:3030/mydataset/query') #isi kolom taxon, pake NCBI\n",
    "node_to_add,edge_to_add = removeOtherThanNCBI(node_to_add,edge_to_add) #hapus selain NCBI\n",
    "print(len(node_to_add),len(edge_to_add))#untuk laporan\n",
    "# concat dengan data lama\n",
    "df_node=pd.concat([df_node,node_to_add], axis=0)\n",
    "df_edge=pd.concat([df_edge,edge_to_add], axis=0)\n",
    "df_node.drop_duplicates(subset=[\"taxon_id\"], keep='last',inplace=True)#hapus duplikasi node\n",
    "df_edge = removeEdgesNotInNodes(df_node, df_edge)#edge menyesuaikan\n",
    "df_node,df_edge = removeNodeAndEdgeByFilter(df_node[df_node.kingdom.isnull()], df_node,df_edge) # hapus kingdom isi null\n",
    "df_edge = removeEdgesNotInNodes(df_node, df_edge) #hapus lagi edge kalo masih ada edge tidak ada di node\n",
    "# Menghapus kolom yang tidak lagi dibutuhkan\n",
    "if 'taxon_rank' in node_to_add.columns:\n",
    "    node_to_add.drop(['taxon_rank'], axis=1,inplace=True) #dihapus karena menyesuaikan draft saja. dan karena tidak tahu mbken apa"
   ]
  },
  {
   "cell_type": "code",
   "execution_count": 382,
   "id": "baceb550",
   "metadata": {},
   "outputs": [
    {
     "data": {
      "text/plain": [
       "(1383, 2789)"
      ]
     },
     "execution_count": 382,
     "metadata": {},
     "output_type": "execute_result"
    }
   ],
   "source": [
    "#untuk laporan\n",
    "len(df_node),len(df_edge)"
   ]
  },
  {
   "cell_type": "code",
   "execution_count": 383,
   "id": "1d809e17",
   "metadata": {},
   "outputs": [],
   "source": [
    "# reset index\n",
    "df_node.reset_index(drop=True,inplace=True)\n",
    "df_edge.reset_index(drop=True,inplace=True)"
   ]
  },
  {
   "cell_type": "code",
   "execution_count": null,
   "id": "8b8b5d2c",
   "metadata": {},
   "outputs": [],
   "source": [
    "#11 praproses tambahan\n",
    "#isi data kosong. mengisi takson kosong, dengan takson sebelumnya, untuk tambalan\n",
    "takson=[\n",
    "    'superkingdom','kingdom','phylum','class','order','family','genus','species'\n",
    "]\n",
    "\n",
    "for x,i in enumerate(takson):\n",
    "    if (i!='superkingdom'): #selain superkingdom update dengan data sebelumnya\n",
    "        for idx, row in df_node[pd.isnull(df_node[i])].iterrows():\n",
    "            df_node.loc[idx,[i]] = row[takson[x-1]]+'^'+i\n",
    "    else: \n",
    "        for idx, row in df_node[pd.isnull(df_node[i])].iterrows():\n",
    "            df_node.loc[idx,[i]] = row[takson[x+1]]+'^'+i"
   ]
  },
  {
   "cell_type": "code",
   "execution_count": null,
   "id": "50c6511e",
   "metadata": {},
   "outputs": [],
   "source": [
    "#12 praproses tambahan\n",
    "# pengelompokan\n",
    "# Binning of the data based on serangga, virus, tanaman, nogroup\n",
    "filter_tanaman = df_node['kingdom']=='NCBI:33090_Viridiplantae' \n",
    "filter_virus = (\n",
    "    (df_node['superkingdom']=='NCBI:10239_Viruses')\n",
    "    | (df_node.taxon_name.str.contains(r'\\b(virus\\w*|\\w*virus)\\b',case=False))\n",
    "    | (df_node.taxon_path.str.contains(r'\\b(virus\\w*|\\w*virus)\\b', case=False)) \n",
    "    #jika berawalan atau berakhiran kata virus\n",
    ")\n",
    "filter_serangga = ((df_node['class']=='NCBI:50557_Insecta') )#& (df_node['order']!='NCBI:7399_Hymenoptera')) #dan bukan lebah hymenoptera\n",
    "# df_node['kingdom']=='NCBI:33208_Metazoa' and (df_node['phylum']=='NCBI:6656_Arthropoda' and \n",
    "#ini jadi dilema, ada kalau ingin memasukan artropoda lain misal, laba2 maka pake or. untuk saat ini fokus ke insect\n",
    "\n",
    "df_node.loc[filter_tanaman, ['group','color']] = [\"tanaman\",'#1f922b'] #hijau\n",
    "df_node.loc[filter_virus, ['group','color']] = ['virus','#671f92'] #ungu\n",
    "df_node.loc[filter_serangga, ['group','color']] = ['serangga','#b22222'] #merah\n",
    "df_node.loc[(\n",
    "    (filter_tanaman==False) & \n",
    "    (filter_virus==False) &\n",
    "    (filter_serangga==False) \n",
    "    ),['group','color']] = ['nogroup','#EADDCA'] #abu-abu"
   ]
  },
  {
   "cell_type": "code",
   "execution_count": 384,
   "id": "369ec9a0",
   "metadata": {},
   "outputs": [],
   "source": [
    "# akhir pra proses\n",
    "# save file\n",
    "# df_node.to_csv(os.getcwd()+'/dari_praproses/'+nama_file+'_node.csv')\n",
    "# df_edge.to_csv(os.getcwd()+'/dari_praproses/'+nama_file+'_edge.csv')"
   ]
  },
  {
   "attachments": {},
   "cell_type": "markdown",
   "id": "dc6c3f49",
   "metadata": {},
   "source": [
    "Dibawah ini tidak masuk pra proses"
   ]
  },
  {
   "cell_type": "code",
   "execution_count": null,
   "id": "0192acbf",
   "metadata": {},
   "outputs": [],
   "source": []
  }
 ],
 "metadata": {
  "kernelspec": {
   "display_name": "thesis",
   "language": "python",
   "name": "python3"
  },
  "language_info": {
   "codemirror_mode": {
    "name": "ipython",
    "version": 3
   },
   "file_extension": ".py",
   "mimetype": "text/x-python",
   "name": "python",
   "nbconvert_exporter": "python",
   "pygments_lexer": "ipython3",
   "version": "3.8.16"
  }
 },
 "nbformat": 4,
 "nbformat_minor": 5
}
